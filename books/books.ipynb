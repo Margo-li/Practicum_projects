{
 "cells": [
  {
   "cell_type": "markdown",
   "id": "e06910dd",
   "metadata": {
    "id": "e06910dd"
   },
   "source": [
    "#  Сравнительный анализ активности пользователей сервиса Яндекс Книги из Москвы и Санкт-Петербурга.\n"
   ]
  },
  {
   "cell_type": "markdown",
   "id": "4149134c",
   "metadata": {
    "id": "4149134c"
   },
   "source": [
    "### Цели и задачи проекта\n",
    "\n",
    "<b>Цель</b>: Провести исследовательский анализ сервиса Яндекс Книги с проверкой гипотез.\n",
    "\n",
    "<b>Задачи</b>:\n",
    "1. Загрузить данные и познакомиться с их содержимым.\n",
    "2. Провести предобработку данных.\n",
    "3. Провести исследовательский анализ данных и проверить гипотезу;\n",
    "4. Сформулировать выводы по проведённому анализу."
   ]
  },
  {
   "cell_type": "markdown",
   "id": "728986ea",
   "metadata": {
    "id": "728986ea"
   },
   "source": [
    "### Описание данных\n",
    "\n",
    "Для анализа используем датасет с данными о чтении и прослушивании контента в сервисе Яндекс Книги. Данные представлены за период с 1 сентября по 11 декабря 2024 года. Данные состоят из датасета:\n",
    "- `yandex_knigi_data.csv` — содержит данные пользователей из Москвы и Санкт-Петербурга c суммой часов их активности;"
   ]
  },
  {
   "cell_type": "markdown",
   "id": "4fecaf95",
   "metadata": {
    "id": "4fecaf95"
   },
   "source": [
    "## Содержимое проекта\n",
    "1. Загрузка данных и знакомство с ними.\n",
    "2. Проверка гипотезы в Python.\n",
    "3. Аналитическая записка.\n",
    "---"
   ]
  },
  {
   "cell_type": "markdown",
   "id": "6f7d21d6",
   "metadata": {
    "id": "6f7d21d6"
   },
   "source": [
    "## 1. Загрузка данных и знакомство с ними\n",
    "\n",
    "Импортируем все необходимы библиотеки и загрузим данные пользователей из Москвы и Санкт-Петербурга c их активностью (суммой часов чтения и прослушивания) из файла `/datasets/yandex_knigi_data.csv`. Данные датасета сохраним переменной df."
   ]
  },
  {
   "cell_type": "code",
   "execution_count": 1,
   "id": "05faf34b",
   "metadata": {
    "id": "05faf34b"
   },
   "outputs": [],
   "source": [
    "# Импортируем библиотеки\n",
    "import pandas as pd\n",
    "import matplotlib.pyplot as plt\n",
    "import seaborn as sns\n",
    "from scipy import stats"
   ]
  },
  {
   "cell_type": "code",
   "execution_count": 2,
   "id": "ce87c1db",
   "metadata": {
    "id": "ce87c1db"
   },
   "outputs": [],
   "source": [
    "# Выгружаем данные в переменную df\n",
    "df = pd.read_csv('https://code.s3.yandex.net/datasets/yandex_knigi_data.csv')"
   ]
  },
  {
   "cell_type": "markdown",
   "id": "101c02ca",
   "metadata": {
    "id": "f68a7419"
   },
   "source": [
    "Познакомимся с данными — выведем первые строки методом head(), а информацию о датафрейме методом info():"
   ]
  },
  {
   "cell_type": "code",
   "execution_count": 3,
   "id": "4a610b47",
   "metadata": {},
   "outputs": [
    {
     "data": {
      "text/html": [
       "<div>\n",
       "<style scoped>\n",
       "    .dataframe tbody tr th:only-of-type {\n",
       "        vertical-align: middle;\n",
       "    }\n",
       "\n",
       "    .dataframe tbody tr th {\n",
       "        vertical-align: top;\n",
       "    }\n",
       "\n",
       "    .dataframe thead th {\n",
       "        text-align: right;\n",
       "    }\n",
       "</style>\n",
       "<table border=\"1\" class=\"dataframe\">\n",
       "  <thead>\n",
       "    <tr style=\"text-align: right;\">\n",
       "      <th></th>\n",
       "      <th>Unnamed: 0</th>\n",
       "      <th>city</th>\n",
       "      <th>puid</th>\n",
       "      <th>hours</th>\n",
       "    </tr>\n",
       "  </thead>\n",
       "  <tbody>\n",
       "    <tr>\n",
       "      <th>0</th>\n",
       "      <td>0</td>\n",
       "      <td>Москва</td>\n",
       "      <td>9668</td>\n",
       "      <td>26.167776</td>\n",
       "    </tr>\n",
       "    <tr>\n",
       "      <th>1</th>\n",
       "      <td>1</td>\n",
       "      <td>Москва</td>\n",
       "      <td>16598</td>\n",
       "      <td>82.111217</td>\n",
       "    </tr>\n",
       "    <tr>\n",
       "      <th>2</th>\n",
       "      <td>2</td>\n",
       "      <td>Москва</td>\n",
       "      <td>80401</td>\n",
       "      <td>4.656906</td>\n",
       "    </tr>\n",
       "    <tr>\n",
       "      <th>3</th>\n",
       "      <td>3</td>\n",
       "      <td>Москва</td>\n",
       "      <td>140205</td>\n",
       "      <td>1.840556</td>\n",
       "    </tr>\n",
       "    <tr>\n",
       "      <th>4</th>\n",
       "      <td>4</td>\n",
       "      <td>Москва</td>\n",
       "      <td>248755</td>\n",
       "      <td>151.326434</td>\n",
       "    </tr>\n",
       "  </tbody>\n",
       "</table>\n",
       "</div>"
      ],
      "text/plain": [
       "   Unnamed: 0    city    puid       hours\n",
       "0           0  Москва    9668   26.167776\n",
       "1           1  Москва   16598   82.111217\n",
       "2           2  Москва   80401    4.656906\n",
       "3           3  Москва  140205    1.840556\n",
       "4           4  Москва  248755  151.326434"
      ]
     },
     "execution_count": 3,
     "metadata": {},
     "output_type": "execute_result"
    }
   ],
   "source": [
    "# Выводим первые строки датафрейма на экран\n",
    "df.head()"
   ]
  },
  {
   "cell_type": "code",
   "execution_count": 4,
   "id": "94f0885d",
   "metadata": {},
   "outputs": [
    {
     "name": "stdout",
     "output_type": "stream",
     "text": [
      "<class 'pandas.core.frame.DataFrame'>\n",
      "RangeIndex: 8784 entries, 0 to 8783\n",
      "Data columns (total 4 columns):\n",
      " #   Column      Non-Null Count  Dtype  \n",
      "---  ------      --------------  -----  \n",
      " 0   Unnamed: 0  8784 non-null   int64  \n",
      " 1   city        8784 non-null   object \n",
      " 2   puid        8784 non-null   int64  \n",
      " 3   hours       8784 non-null   float64\n",
      "dtypes: float64(1), int64(2), object(1)\n",
      "memory usage: 274.6+ KB\n"
     ]
    }
   ],
   "source": [
    "# Выводим информацию о датафрейме\n",
    "df.info()"
   ]
  },
  {
   "cell_type": "markdown",
   "id": "08f30eb3",
   "metadata": {},
   "source": [
    "Датасет содержит 8784 записи. Пропуски отсутствуют во всех столбцах. Типы данных выбраны корректно. "
   ]
  },
  {
   "cell_type": "markdown",
   "id": "d8238598",
   "metadata": {},
   "source": [
    "Проверим данные на наличие явных и неявных дубликатов."
   ]
  },
  {
   "cell_type": "code",
   "execution_count": 5,
   "id": "3b9a3a3a",
   "metadata": {},
   "outputs": [
    {
     "name": "stdout",
     "output_type": "stream",
     "text": [
      "Явные дубликаты:\n",
      "0\n"
     ]
    }
   ],
   "source": [
    "# Проверка на явные дубликаты\n",
    "ex_duplicates = df.duplicated().sum()\n",
    "# Вывод результатов\n",
    "print(\"Явные дубликаты:\")\n",
    "print(ex_duplicates)"
   ]
  },
  {
   "cell_type": "markdown",
   "id": "94cd12ce",
   "metadata": {},
   "source": [
    "Явных дубликатов нет.  Поскольку тесты независимые, то пользователи не должны пересекаться между группами. Сделаем проверку на наличие неявных дубликатов в столбце `puid`"
   ]
  },
  {
   "cell_type": "code",
   "execution_count": 6,
   "id": "a5c2dce8",
   "metadata": {},
   "outputs": [
    {
     "name": "stdout",
     "output_type": "stream",
     "text": [
      "Число явных дубликатов в puid: 244\n"
     ]
    }
   ],
   "source": [
    "# Количество дубликатов\n",
    "duplicates_count = df['puid'].duplicated().sum()\n",
    "print(f\"Число явных дубликатов в puid: {duplicates_count}\")"
   ]
  },
  {
   "cell_type": "code",
   "execution_count": 7,
   "id": "8ecd04c4",
   "metadata": {},
   "outputs": [],
   "source": [
    "temp = df.copy()"
   ]
  },
  {
   "cell_type": "code",
   "execution_count": 8,
   "id": "e9372622",
   "metadata": {},
   "outputs": [],
   "source": [
    "# Удалим неявные дубликаты\n",
    "df = df.drop_duplicates(subset=['puid'])"
   ]
  },
  {
   "cell_type": "code",
   "execution_count": 9,
   "id": "385259c7",
   "metadata": {},
   "outputs": [
    {
     "name": "stdout",
     "output_type": "stream",
     "text": [
      " Было строк в исходном датасете 8784 \n",
      " Осталось строк в датасете после обработки 8540 \n",
      " Удалено строк в датасете после обработки 244 \n",
      " Процент потерь 2.78\n"
     ]
    }
   ],
   "source": [
    "# Проверим сколько удалено строк датасета\n",
    "a, b = len(temp), len(df)\n",
    "print(\" Было строк в исходном датасете\", a,\n",
    "      '\\n', \"Осталось строк в датасете после обработки\", b,\n",
    "      '\\n', \"Удалено строк в датасете после обработки\", a-b,\n",
    "      '\\n', \"Процент потерь\", round((a-b)/a*100, 2))"
   ]
  },
  {
   "cell_type": "markdown",
   "id": "84812609",
   "metadata": {},
   "source": [
    "Сравним размеры групп, их статистики и распределение."
   ]
  },
  {
   "cell_type": "code",
   "execution_count": 10,
   "id": "e3968a8b",
   "metadata": {},
   "outputs": [
    {
     "name": "stdout",
     "output_type": "stream",
     "text": [
      "Размеры групп:\n",
      "Москва             6234\n",
      "Санкт-Петербург    2306\n",
      "Name: city, dtype: int64\n"
     ]
    }
   ],
   "source": [
    "# Размеры групп по городам\n",
    "group_sizes = df['city'].value_counts()\n",
    "print(\"Размеры групп:\")\n",
    "print(group_sizes)"
   ]
  },
  {
   "cell_type": "code",
   "execution_count": 11,
   "id": "40bc0215",
   "metadata": {},
   "outputs": [
    {
     "name": "stdout",
     "output_type": "stream",
     "text": [
      "Описательная статистика по часам активности:\n",
      " city        Москва  Санкт-Петербург\n",
      "count  6234.000000      2306.000000\n",
      "mean     10.881092        11.264433\n",
      "std      36.851683        39.831755\n",
      "min       0.000018         0.000025\n",
      "25%       0.059903         0.060173\n",
      "50%       0.924498         0.875355\n",
      "75%       5.939972         6.138424\n",
      "max     857.209373       978.764775\n"
     ]
    }
   ],
   "source": [
    "# Статистика по каждому городу\n",
    "city_stats = df.groupby('city')['hours'].describe().T\n",
    "print(\"Описательная статистика по часам активности:\\n\", city_stats)"
   ]
  },
  {
   "cell_type": "markdown",
   "id": "02f761ec",
   "metadata": {},
   "source": [
    "Размер выборки:\n",
    "- Москва: 6234 пользователей\n",
    "- Санкт-Петербург: 2306 пользователей\n",
    "\n",
    "Среднее время на платформе:\n",
    "- Москва: 10.88 часов\n",
    "- Санкт-Петербург: 11.26 часов\n",
    "\n",
    "Медианное время (более устойчиво к выбросам):\n",
    "- Москва: 0.92 часа\n",
    "- Санкт-Петербург: 0.87 часа\n",
    "\n",
    "Разброс данных (стандартное отклонение):\n",
    "- Москва: 36.85\n",
    "- Санкт-Петербург: 39.83 (разброс больше)\n",
    "\n",
    "Максимальные значения (самые активные пользователи):\n",
    "- Москва: 857.2 часа\n",
    "- Санкт-Петербург: 978.8 часа\n",
    "\n",
    "Распределение пользователей по часам активности похоже, но в Санкт-Петербурге среднее значение немного выше, а разброс данных больше. Посмотрим на визуализацию распределения активности"
   ]
  },
  {
   "cell_type": "code",
   "execution_count": 12,
   "id": "85d1392e",
   "metadata": {},
   "outputs": [],
   "source": [
    "# Отфильтруем пользователей из Москвы и Санкт-Петербурга\n",
    "df_moscow = df[df[\"city\"] == \"Москва\"]\n",
    "df_spb = df[df[\"city\"] == \"Санкт-Петербург\"]"
   ]
  },
  {
   "cell_type": "code",
   "execution_count": 13,
   "id": "7bf02865",
   "metadata": {},
   "outputs": [
    {
     "data": {
      "image/png": "[encoded data removed]",
      "text/plain": [
       "<Figure size 1008x360 with 2 Axes>"
      ]
     },
     "metadata": {},
     "output_type": "display_data"
    }
   ],
   "source": [
    "# Установка стиля\n",
    "sns.set(style=\"whitegrid\")\n",
    "\n",
    "# Создание графиков\n",
    "fig, axes = plt.subplots(1, 2, figsize=(14, 5))\n",
    "\n",
    "# Гистограммы распределения часов\n",
    "sns.histplot(df_moscow[\"hours\"], bins=50, kde=True, color=\"blue\", ax=axes[0])\n",
    "axes[0].set_title(\"Распределение часов (Москва)\")\n",
    "axes[0].set_xlabel(\"Часы\")\n",
    "axes[0].set_ylabel(\"Число пользователей\")\n",
    "\n",
    "sns.histplot(df_spb[\"hours\"], bins=50, kde=True, color=\"red\", ax=axes[1])\n",
    "axes[1].set_title(\"Распределение часов (Санкт-Петербург)\")\n",
    "axes[1].set_xlabel(\"Часы\")\n",
    "axes[1].set_ylabel(\"Число пользователей\")\n",
    "\n",
    "plt.tight_layout()\n",
    "plt.show()"
   ]
  },
  {
   "cell_type": "markdown",
   "id": "47f71b73",
   "metadata": {},
   "source": [
    "Визуально на гистограммах видно, что большинство пользователей проводят мало времени на платформе, но есть небольшая группа супер-активных пользователей. Сильная асимметрия и длинный хвост вправо. В целом это нормально для подобных данных. Всегда будут пользователи или клиенты, кто больше смотрит, читает, покупает и тп."
   ]
  },
  {
   "cell_type": "code",
   "execution_count": 14,
   "id": "4884e7dd",
   "metadata": {},
   "outputs": [
    {
     "data": {
      "image/png": "[encoded data removed]",
      "text/plain": [
       "<Figure size 720x432 with 1 Axes>"
      ]
     },
     "metadata": {},
     "output_type": "display_data"
    }
   ],
   "source": [
    "# Создание боксплота\n",
    "plt.figure(figsize=(10, 6))\n",
    "sns.boxplot(data=df, x='city', y='hours', palette=[\"blue\", \"red\"])\n",
    "plt.title('Ящик с усами по городам')\n",
    "plt.xlabel('Город')\n",
    "plt.ylabel('Часы активности')\n",
    "plt.ylim(0, 200)\n",
    "plt.show()"
   ]
  },
  {
   "cell_type": "markdown",
   "id": "1f0e35ff",
   "metadata": {},
   "source": [
    "На боксплоте есть значительные выбросы. Очистим данные от выбросов. Используем метод межквартильного размаха (IQR)"
   ]
  },
  {
   "cell_type": "code",
   "execution_count": 15,
   "id": "d96b4576",
   "metadata": {},
   "outputs": [],
   "source": [
    "# Функция для очистки данных от выбросов по IQR\n",
    "def remove_outliers(df, column):\n",
    "    Q1 = df[column].quantile(0.25)\n",
    "    Q3 = df[column].quantile(0.75)\n",
    "    IQR = Q3 - Q1\n",
    "    lower_bound = Q1 - 1.5 * IQR\n",
    "    upper_bound = Q3 + 1.5 * IQR\n",
    "    return df[(df[column] >= lower_bound) & (df[column] <= upper_bound)]\n",
    "\n",
    "# Очистка данных\n",
    "df_moscow_clean = remove_outliers(df_moscow, \"hours\")\n",
    "df_spb_clean = remove_outliers(df_spb, \"hours\")"
   ]
  },
  {
   "cell_type": "code",
   "execution_count": 16,
   "id": "e46ee9ff",
   "metadata": {},
   "outputs": [
    {
     "data": {
      "image/png": "[encoded data removed]",
      "text/plain": [
       "<Figure size 576x360 with 1 Axes>"
      ]
     },
     "metadata": {},
     "output_type": "display_data"
    }
   ],
   "source": [
    "# Создание боксплота без выбросов\n",
    "plt.figure(figsize=(8, 5))\n",
    "sns.boxplot(data=[df_moscow_clean[\"hours\"], df_spb_clean[\"hours\"]], palette=[\"blue\", \"red\"])\n",
    "plt.xticks([0, 1], [\"Москва\", \"Санкт-Петербург\"])\n",
    "plt.title(\"Ящик с усами по городам без выбросов\")\n",
    "plt.ylabel(\"Часы\")\n",
    "plt.show()"
   ]
  },
  {
   "cell_type": "markdown",
   "id": "6b53a6fb",
   "metadata": {},
   "source": [
    "Проведем проверку нормальности распределения на очищенных данных"
   ]
  },
  {
   "cell_type": "code",
   "execution_count": 17,
   "id": "7b295cd5",
   "metadata": {},
   "outputs": [
    {
     "data": {
      "text/plain": [
       "(ShapiroResult(statistic=0.6866006851196289, pvalue=1.837079865954406e-39),\n",
       " ShapiroResult(statistic=0.6677765846252441, pvalue=2.7139648007810895e-40))"
      ]
     },
     "execution_count": 17,
     "metadata": {},
     "output_type": "execute_result"
    }
   ],
   "source": [
    "from scipy.stats import shapiro\n",
    "\n",
    "# Проверка нормальности распределения на очищенных данных (тест Шапиро-Уилка)\n",
    "shapiro_moscow_clean = shapiro(df_moscow_clean[\"hours\"].sample(1000, random_state=1))\n",
    "shapiro_spb_clean = shapiro(df_spb_clean[\"hours\"].sample(1000, random_state=1))\n",
    "\n",
    "shapiro_moscow_clean, shapiro_spb_clean"
   ]
  },
  {
   "cell_type": "markdown",
   "id": "e55e7eea",
   "metadata": {},
   "source": [
    "Оба значения крайне малы, что говорит о сильном отклонении от нормальности. Тест Шапиро-Уилка подтвердил, что распределение пользователей по количеству часов на платформе не является нормальным. "
   ]
  },
  {
   "cell_type": "markdown",
   "id": "956e82e2",
   "metadata": {
    "id": "956e82e2"
   },
   "source": [
    "## 2. Проверка гипотезы в Python\n",
    "\n",
    "Гипотеза звучит так: пользователи из Санкт-Петербурга проводят в среднем больше времени за чтением и прослушиванием книг в приложении, чем пользователи из Москвы. Попробуем статистически это доказать, используя одностороннюю проверку гипотезы с двумя выборками:\n",
    "\n",
    "- Нулевая гипотеза H₀: Средняя активность пользователей в Санкт-Петербурге не выше, чем средняя активность пользователей в Москве\n",
    "\n",
    "- Альтернативная гипотеза H₁: Средняя активность пользователей в Санкт-Петербурге выше, чем средняя активность пользователей в Москве"
   ]
  },
  {
   "cell_type": "code",
   "execution_count": 18,
   "id": "67956690",
   "metadata": {
    "id": "67956690"
   },
   "outputs": [
    {
     "name": "stdout",
     "output_type": "stream",
     "text": [
      "pvalue=0.8323458940489117 > 0.05\n",
      "Нулевая гипотеза находит подтверждение: Средняя активность пользователей в Санкт-Петербурге не выше, чем средняя активность пользователей в Москве\n"
     ]
    }
   ],
   "source": [
    "from scipy.stats import mannwhitneyu\n",
    "\n",
    "alpha = 0.05\n",
    "# Односторонний тест Манна-Уитни (непараметрический тест для двух независимых выборок)\n",
    "test = mannwhitneyu( df_spb_clean[\"hours\"], df_moscow_clean[\"hours\"], alternative=\"greater\")\n",
    "\n",
    "if test.pvalue > alpha:\n",
    "    print(f'pvalue={test.pvalue} > {alpha}')\n",
    "    print('Нулевая гипотеза находит подтверждение: Средняя активность пользователей в Санкт-Петербурге не выше, чем средняя активность пользователей в Москве')\n",
    "else:\n",
    "    print(f'pvalue={test.pvalue} > {alpha}')\n",
    "    print('Нулевая гипотеза не находит подтверждение: Средняя активность пользователей в Санкт-Петербурге больше, и это различие статистически значимо.')"
   ]
  },
  {
   "cell_type": "markdown",
   "id": "b8878c32",
   "metadata": {},
   "source": [
    "Результаты теста Манна-Уитни:\n",
    "\n",
    "Так как p>0.05, мы не можем отвергнуть нулевую гипотезу.\n",
    "То есть, нет статистически значимого доказательства, что пользователи из Санкт-Петербурга проводят за книгами больше времени, чем пользователи из Москвы."
   ]
  },
  {
   "cell_type": "markdown",
   "id": "6953e84c",
   "metadata": {
    "id": "6953e84c"
   },
   "source": [
    "## 3. Аналитическая записка\n",
    "\n"
   ]
  },
  {
   "cell_type": "markdown",
   "id": "tDwMKFNGsClr",
   "metadata": {
    "id": "tDwMKFNGsClr"
   },
   "source": [
    "Для проверки гипотезы о том, что пользователи из Санкт-Петербурга проводят в среднем больше времени за чтением и прослушиванием книг, чем пользователи из Москвы, был выбран U-тест Манна-Уитни. Этот тест используется для сравнения двух независимых выборок, когда данные не подчиняются нормальному распределению.\n",
    "\n",
    "Уровень статистической значимости был установлен на 5% (0.05), что является стандартным значением в статистических исследованиях.\n",
    "\n",
    "После удаления выбросов из данных тест Манна-Уитни дал следующие результаты: p-value: 0.832. Так как p-value превышает установленный уровень значимости (0.832 > 0.05), мы не можем отвергнуть нулевую гипотезу. Это означает, что нет статистически значимого подтверждения тому, что пользователи из Санкт-Петербурга проводят больше времени за чтением и прослушиванием книг, чем пользователи из Москвы.\n",
    "\n",
    "Возможные причины полученных результатов\n",
    "\n",
    "Похожие привычки пользователей. Несмотря на возможные различия между городами, пользователи могут демонстрировать схожее поведение в плане потребления контента. Это может быть связано с общей популярностью платформы и схожими паттернами использования.\n",
    "\n",
    "Высокая вариативность данных. В обеих выборках присутствуют пользователи с очень разными уровнями активности (от нескольких часов до сотен), что делает разницу между средними значениями менее выраженной и затрудняет получение статистически значимого результата.\n"
   ]
  }
 ],
 "metadata": {
  "ExecuteTimeLog": [
   {
    "duration": 88,
    "start_time": "2025-03-11T18:47:18.359Z"
   },
   {
    "duration": 92,
    "start_time": "2025-03-11T18:48:23.535Z"
   },
   {
    "duration": 374,
    "start_time": "2025-03-11T19:03:01.340Z"
   },
   {
    "duration": 61,
    "start_time": "2025-03-11T19:03:52.181Z"
   },
   {
    "duration": 14,
    "start_time": "2025-03-11T19:05:22.566Z"
   },
   {
    "duration": 61,
    "start_time": "2025-03-11T19:05:36.159Z"
   },
   {
    "duration": 11,
    "start_time": "2025-03-11T19:05:40.563Z"
   },
   {
    "duration": 6,
    "start_time": "2025-03-11T19:06:11.881Z"
   },
   {
    "duration": 12,
    "start_time": "2025-03-11T19:10:05.602Z"
   },
   {
    "duration": 8,
    "start_time": "2025-03-11T19:10:18.945Z"
   },
   {
    "duration": 6,
    "start_time": "2025-03-11T19:33:35.809Z"
   },
   {
    "duration": 6,
    "start_time": "2025-03-11T19:35:20.410Z"
   },
   {
    "duration": 4,
    "start_time": "2025-03-11T19:37:46.579Z"
   },
   {
    "duration": 6,
    "start_time": "2025-03-11T19:38:01.164Z"
   },
   {
    "duration": 3,
    "start_time": "2025-03-11T19:38:57.734Z"
   },
   {
    "duration": 5,
    "start_time": "2025-03-11T19:39:36.420Z"
   },
   {
    "duration": 5,
    "start_time": "2025-03-11T19:40:02.274Z"
   },
   {
    "duration": 930,
    "start_time": "2025-03-11T19:46:58.787Z"
   },
   {
    "duration": 9,
    "start_time": "2025-03-11T19:47:41.268Z"
   },
   {
    "duration": 42,
    "start_time": "2025-03-11T19:48:25.054Z"
   },
   {
    "duration": 6,
    "start_time": "2025-03-11T19:48:32.431Z"
   },
   {
    "duration": 6,
    "start_time": "2025-03-11T19:49:04.941Z"
   },
   {
    "duration": 15,
    "start_time": "2025-03-11T19:49:42.386Z"
   },
   {
    "duration": 9,
    "start_time": "2025-03-11T19:50:25.746Z"
   },
   {
    "duration": 13,
    "start_time": "2025-03-11T19:50:46.568Z"
   },
   {
    "duration": 328,
    "start_time": "2025-03-11T19:51:22.600Z"
   },
   {
    "duration": 510,
    "start_time": "2025-03-11T19:52:19.749Z"
   },
   {
    "duration": 13,
    "start_time": "2025-03-11T19:53:58.163Z"
   },
   {
    "duration": 322,
    "start_time": "2025-03-11T19:54:25.643Z"
   },
   {
    "duration": 313,
    "start_time": "2025-03-11T19:55:24.415Z"
   },
   {
    "duration": 13,
    "start_time": "2025-03-11T20:05:14.993Z"
   },
   {
    "duration": 5,
    "start_time": "2025-03-11T20:05:57.872Z"
   },
   {
    "duration": 108,
    "start_time": "2025-03-11T20:05:58.682Z"
   },
   {
    "duration": 128,
    "start_time": "2025-03-11T20:07:24.497Z"
   },
   {
    "duration": 732,
    "start_time": "2025-03-11T20:07:58.065Z"
   },
   {
    "duration": 149,
    "start_time": "2025-03-11T20:09:55.938Z"
   },
   {
    "duration": 153,
    "start_time": "2025-03-11T20:11:15.370Z"
   },
   {
    "duration": 7,
    "start_time": "2025-03-11T20:12:45.385Z"
   },
   {
    "duration": 7,
    "start_time": "2025-03-11T20:14:50.061Z"
   },
   {
    "duration": 7,
    "start_time": "2025-03-11T20:16:41.494Z"
   },
   {
    "duration": 6,
    "start_time": "2025-03-11T20:16:55.219Z"
   },
   {
    "duration": 7,
    "start_time": "2025-03-11T20:18:04.515Z"
   },
   {
    "duration": 11,
    "start_time": "2025-03-11T20:23:06.394Z"
   },
   {
    "duration": 10,
    "start_time": "2025-03-11T20:26:21.012Z"
   },
   {
    "duration": 115,
    "start_time": "2025-03-11T20:28:00.088Z"
   },
   {
    "duration": 133,
    "start_time": "2025-03-11T20:28:08.018Z"
   },
   {
    "duration": 133,
    "start_time": "2025-03-11T20:29:10.400Z"
   },
   {
    "duration": 7,
    "start_time": "2025-03-11T20:29:53.136Z"
   },
   {
    "duration": 6,
    "start_time": "2025-03-11T20:31:15.286Z"
   },
   {
    "duration": 10,
    "start_time": "2025-03-11T20:42:47.917Z"
   },
   {
    "duration": 10,
    "start_time": "2025-03-11T20:44:54.327Z"
   },
   {
    "duration": 6,
    "start_time": "2025-03-11T20:45:18.211Z"
   },
   {
    "duration": 11,
    "start_time": "2025-03-11T20:45:57.042Z"
   },
   {
    "duration": 1132,
    "start_time": "2025-03-11T20:51:54.378Z"
   },
   {
    "duration": 220,
    "start_time": "2025-03-11T20:51:55.512Z"
   },
   {
    "duration": 12,
    "start_time": "2025-03-11T20:51:55.733Z"
   },
   {
    "duration": 14,
    "start_time": "2025-03-11T20:51:55.747Z"
   },
   {
    "duration": 7,
    "start_time": "2025-03-11T20:51:55.763Z"
   },
   {
    "duration": 4,
    "start_time": "2025-03-11T20:51:55.771Z"
   },
   {
    "duration": 3,
    "start_time": "2025-03-11T20:51:55.777Z"
   },
   {
    "duration": 9,
    "start_time": "2025-03-11T20:51:55.781Z"
   },
   {
    "duration": 12,
    "start_time": "2025-03-11T20:51:55.791Z"
   },
   {
    "duration": 7,
    "start_time": "2025-03-11T20:51:55.805Z"
   },
   {
    "duration": 13,
    "start_time": "2025-03-11T20:51:55.814Z"
   },
   {
    "duration": 6,
    "start_time": "2025-03-11T20:51:55.828Z"
   },
   {
    "duration": 654,
    "start_time": "2025-03-11T20:51:55.835Z"
   },
   {
    "duration": 151,
    "start_time": "2025-03-11T20:51:56.492Z"
   },
   {
    "duration": 9,
    "start_time": "2025-03-11T20:51:56.645Z"
   },
   {
    "duration": 137,
    "start_time": "2025-03-11T20:51:56.655Z"
   },
   {
    "duration": 12,
    "start_time": "2025-03-11T20:51:56.794Z"
   },
   {
    "duration": 18,
    "start_time": "2025-03-11T20:51:56.807Z"
   },
   {
    "duration": 7,
    "start_time": "2025-03-11T20:52:57.123Z"
   },
   {
    "duration": 11,
    "start_time": "2025-03-11T20:53:31.203Z"
   },
   {
    "duration": 10,
    "start_time": "2025-03-11T20:55:07.202Z"
   },
   {
    "duration": 10,
    "start_time": "2025-03-11T20:55:18.579Z"
   },
   {
    "duration": 11,
    "start_time": "2025-03-11T20:56:36.212Z"
   },
   {
    "duration": 10,
    "start_time": "2025-03-11T21:01:37.124Z"
   },
   {
    "duration": 1150,
    "start_time": "2025-03-11T21:06:46.835Z"
   },
   {
    "duration": 64,
    "start_time": "2025-03-11T21:06:47.987Z"
   },
   {
    "duration": 11,
    "start_time": "2025-03-11T21:06:48.053Z"
   },
   {
    "duration": 11,
    "start_time": "2025-03-11T21:06:48.065Z"
   },
   {
    "duration": 6,
    "start_time": "2025-03-11T21:06:48.078Z"
   },
   {
    "duration": 3,
    "start_time": "2025-03-11T21:06:48.086Z"
   },
   {
    "duration": 11,
    "start_time": "2025-03-11T21:06:48.090Z"
   },
   {
    "duration": 7,
    "start_time": "2025-03-11T21:06:48.102Z"
   },
   {
    "duration": 4,
    "start_time": "2025-03-11T21:06:48.110Z"
   },
   {
    "duration": 7,
    "start_time": "2025-03-11T21:06:48.115Z"
   },
   {
    "duration": 13,
    "start_time": "2025-03-11T21:06:48.123Z"
   },
   {
    "duration": 5,
    "start_time": "2025-03-11T21:06:48.138Z"
   },
   {
    "duration": 622,
    "start_time": "2025-03-11T21:06:48.144Z"
   },
   {
    "duration": 154,
    "start_time": "2025-03-11T21:06:48.768Z"
   },
   {
    "duration": 9,
    "start_time": "2025-03-11T21:06:48.924Z"
   },
   {
    "duration": 141,
    "start_time": "2025-03-11T21:06:48.934Z"
   },
   {
    "duration": 6,
    "start_time": "2025-03-11T21:06:49.077Z"
   },
   {
    "duration": 44,
    "start_time": "2025-03-11T21:06:49.085Z"
   },
   {
    "duration": 6,
    "start_time": "2025-03-11T21:07:40.254Z"
   },
   {
    "duration": 7,
    "start_time": "2025-03-11T21:07:47.568Z"
   },
   {
    "duration": 7,
    "start_time": "2025-03-11T21:08:00.143Z"
   },
   {
    "duration": 1137,
    "start_time": "2025-03-11T21:09:59.870Z"
   },
   {
    "duration": 68,
    "start_time": "2025-03-11T21:10:01.009Z"
   },
   {
    "duration": 10,
    "start_time": "2025-03-11T21:10:01.079Z"
   },
   {
    "duration": 93,
    "start_time": "2025-03-11T21:10:01.091Z"
   },
   {
    "duration": 31,
    "start_time": "2025-03-11T21:10:01.186Z"
   },
   {
    "duration": 21,
    "start_time": "2025-03-11T21:10:01.219Z"
   },
   {
    "duration": 6,
    "start_time": "2025-03-11T21:10:01.241Z"
   },
   {
    "duration": 6,
    "start_time": "2025-03-11T21:10:01.249Z"
   },
   {
    "duration": 5,
    "start_time": "2025-03-11T21:10:01.256Z"
   },
   {
    "duration": 28,
    "start_time": "2025-03-11T21:10:01.263Z"
   },
   {
    "duration": 47,
    "start_time": "2025-03-11T21:10:01.292Z"
   },
   {
    "duration": 5,
    "start_time": "2025-03-11T21:10:01.340Z"
   },
   {
    "duration": 636,
    "start_time": "2025-03-11T21:10:01.346Z"
   },
   {
    "duration": 162,
    "start_time": "2025-03-11T21:10:01.985Z"
   },
   {
    "duration": 10,
    "start_time": "2025-03-11T21:10:02.148Z"
   },
   {
    "duration": 146,
    "start_time": "2025-03-11T21:10:02.159Z"
   },
   {
    "duration": 8,
    "start_time": "2025-03-11T21:10:02.307Z"
   },
   {
    "duration": 108,
    "start_time": "2025-03-11T21:10:02.317Z"
   },
   {
    "duration": 1149,
    "start_time": "2025-03-11T21:10:17.574Z"
   },
   {
    "duration": 115,
    "start_time": "2025-03-11T21:10:18.725Z"
   },
   {
    "duration": 12,
    "start_time": "2025-03-11T21:10:18.842Z"
   },
   {
    "duration": 11,
    "start_time": "2025-03-11T21:10:18.856Z"
   },
   {
    "duration": 9,
    "start_time": "2025-03-11T21:10:18.869Z"
   },
   {
    "duration": 4,
    "start_time": "2025-03-11T21:10:18.879Z"
   },
   {
    "duration": 4,
    "start_time": "2025-03-11T21:10:18.885Z"
   },
   {
    "duration": 20,
    "start_time": "2025-03-11T21:10:18.891Z"
   },
   {
    "duration": 8,
    "start_time": "2025-03-11T21:10:18.912Z"
   },
   {
    "duration": 12,
    "start_time": "2025-03-11T21:10:18.922Z"
   },
   {
    "duration": 25,
    "start_time": "2025-03-11T21:10:18.936Z"
   },
   {
    "duration": 5,
    "start_time": "2025-03-11T21:10:18.962Z"
   },
   {
    "duration": 625,
    "start_time": "2025-03-11T21:10:18.969Z"
   },
   {
    "duration": 170,
    "start_time": "2025-03-11T21:10:19.596Z"
   },
   {
    "duration": 10,
    "start_time": "2025-03-11T21:10:19.767Z"
   },
   {
    "duration": 146,
    "start_time": "2025-03-11T21:10:19.779Z"
   },
   {
    "duration": 7,
    "start_time": "2025-03-11T21:10:19.927Z"
   },
   {
    "duration": 22,
    "start_time": "2025-03-11T21:10:19.935Z"
   },
   {
    "duration": 1130,
    "start_time": "2025-03-12T06:44:29.588Z"
   },
   {
    "duration": 71,
    "start_time": "2025-03-12T06:44:30.720Z"
   },
   {
    "duration": 11,
    "start_time": "2025-03-12T06:44:30.793Z"
   },
   {
    "duration": 59,
    "start_time": "2025-03-12T06:44:30.806Z"
   },
   {
    "duration": 18,
    "start_time": "2025-03-12T06:44:30.866Z"
   },
   {
    "duration": 17,
    "start_time": "2025-03-12T06:44:30.886Z"
   },
   {
    "duration": 51,
    "start_time": "2025-03-12T06:44:30.905Z"
   },
   {
    "duration": 20,
    "start_time": "2025-03-12T06:44:30.958Z"
   },
   {
    "duration": 5,
    "start_time": "2025-03-12T06:44:30.980Z"
   },
   {
    "duration": 29,
    "start_time": "2025-03-12T06:44:30.987Z"
   },
   {
    "duration": 31,
    "start_time": "2025-03-12T06:44:31.018Z"
   },
   {
    "duration": 13,
    "start_time": "2025-03-12T06:44:31.050Z"
   },
   {
    "duration": 675,
    "start_time": "2025-03-12T06:44:31.065Z"
   },
   {
    "duration": 164,
    "start_time": "2025-03-12T06:44:31.741Z"
   },
   {
    "duration": 9,
    "start_time": "2025-03-12T06:44:31.906Z"
   },
   {
    "duration": 153,
    "start_time": "2025-03-12T06:44:31.916Z"
   },
   {
    "duration": 13,
    "start_time": "2025-03-12T06:44:32.071Z"
   },
   {
    "duration": 11,
    "start_time": "2025-03-12T06:44:32.085Z"
   },
   {
    "duration": 1210,
    "start_time": "2025-03-12T07:50:08.371Z"
   },
   {
    "duration": 83,
    "start_time": "2025-03-12T07:50:09.583Z"
   },
   {
    "duration": 10,
    "start_time": "2025-03-12T07:50:09.668Z"
   },
   {
    "duration": 25,
    "start_time": "2025-03-12T07:50:09.680Z"
   },
   {
    "duration": 21,
    "start_time": "2025-03-12T07:50:09.706Z"
   },
   {
    "duration": 11,
    "start_time": "2025-03-12T07:50:09.728Z"
   },
   {
    "duration": 27,
    "start_time": "2025-03-12T07:50:09.740Z"
   },
   {
    "duration": 18,
    "start_time": "2025-03-12T07:50:09.769Z"
   },
   {
    "duration": 11,
    "start_time": "2025-03-12T07:50:09.789Z"
   },
   {
    "duration": 12,
    "start_time": "2025-03-12T07:50:09.802Z"
   },
   {
    "duration": 13,
    "start_time": "2025-03-12T07:50:09.816Z"
   },
   {
    "duration": 6,
    "start_time": "2025-03-12T07:50:09.830Z"
   },
   {
    "duration": 635,
    "start_time": "2025-03-12T07:50:09.838Z"
   },
   {
    "duration": 158,
    "start_time": "2025-03-12T07:50:10.475Z"
   },
   {
    "duration": 10,
    "start_time": "2025-03-12T07:50:10.635Z"
   },
   {
    "duration": 144,
    "start_time": "2025-03-12T07:50:10.647Z"
   },
   {
    "duration": 8,
    "start_time": "2025-03-12T07:50:10.792Z"
   },
   {
    "duration": 12,
    "start_time": "2025-03-12T07:50:10.801Z"
   },
   {
    "duration": 3,
    "start_time": "2025-03-12T07:53:00.741Z"
   },
   {
    "duration": 1184,
    "start_time": "2025-03-12T08:00:53.608Z"
   },
   {
    "duration": 88,
    "start_time": "2025-03-12T08:00:54.794Z"
   },
   {
    "duration": 13,
    "start_time": "2025-03-12T08:00:54.883Z"
   },
   {
    "duration": 16,
    "start_time": "2025-03-12T08:00:54.898Z"
   },
   {
    "duration": 15,
    "start_time": "2025-03-12T08:00:54.916Z"
   },
   {
    "duration": 5,
    "start_time": "2025-03-12T08:00:54.933Z"
   },
   {
    "duration": 6,
    "start_time": "2025-03-12T08:00:54.939Z"
   },
   {
    "duration": 8,
    "start_time": "2025-03-12T08:00:54.946Z"
   },
   {
    "duration": 15,
    "start_time": "2025-03-12T08:00:54.955Z"
   },
   {
    "duration": 11,
    "start_time": "2025-03-12T08:00:54.972Z"
   },
   {
    "duration": 19,
    "start_time": "2025-03-12T08:00:54.984Z"
   },
   {
    "duration": 9,
    "start_time": "2025-03-12T08:00:55.005Z"
   },
   {
    "duration": 657,
    "start_time": "2025-03-12T08:00:55.015Z"
   },
   {
    "duration": 159,
    "start_time": "2025-03-12T08:00:55.674Z"
   },
   {
    "duration": 10,
    "start_time": "2025-03-12T08:00:55.834Z"
   },
   {
    "duration": 149,
    "start_time": "2025-03-12T08:00:55.845Z"
   },
   {
    "duration": 7,
    "start_time": "2025-03-12T08:00:55.996Z"
   },
   {
    "duration": 11,
    "start_time": "2025-03-12T08:00:56.004Z"
   },
   {
    "duration": 48,
    "start_time": "2025-04-01T12:44:56.000Z"
   },
   {
    "duration": 44,
    "start_time": "2025-04-29T12:56:11.828Z"
   },
   {
    "duration": 1313,
    "start_time": "2025-04-29T12:56:17.064Z"
   },
   {
    "duration": 179,
    "start_time": "2025-04-29T12:56:18.379Z"
   },
   {
    "duration": 11,
    "start_time": "2025-04-29T12:56:18.560Z"
   },
   {
    "duration": 40,
    "start_time": "2025-04-29T12:56:18.573Z"
   },
   {
    "duration": 10,
    "start_time": "2025-04-29T12:56:18.615Z"
   },
   {
    "duration": 6,
    "start_time": "2025-04-29T12:56:18.626Z"
   },
   {
    "duration": 5,
    "start_time": "2025-04-29T12:56:18.634Z"
   },
   {
    "duration": 7,
    "start_time": "2025-04-29T12:56:18.640Z"
   },
   {
    "duration": 14,
    "start_time": "2025-04-29T12:56:18.649Z"
   },
   {
    "duration": 11,
    "start_time": "2025-04-29T12:56:18.665Z"
   },
   {
    "duration": 23,
    "start_time": "2025-04-29T12:56:18.677Z"
   },
   {
    "duration": 23,
    "start_time": "2025-04-29T12:56:18.701Z"
   },
   {
    "duration": 622,
    "start_time": "2025-04-29T12:56:18.726Z"
   },
   {
    "duration": 146,
    "start_time": "2025-04-29T12:56:19.350Z"
   },
   {
    "duration": 9,
    "start_time": "2025-04-29T12:56:19.498Z"
   },
   {
    "duration": 136,
    "start_time": "2025-04-29T12:56:19.508Z"
   },
   {
    "duration": 98,
    "start_time": "2025-04-29T12:56:19.646Z"
   },
   {
    "duration": 0,
    "start_time": "2025-04-29T12:56:19.745Z"
   },
   {
    "duration": 0,
    "start_time": "2025-04-29T12:56:19.746Z"
   },
   {
    "duration": 122,
    "start_time": "2025-04-29T12:56:31.312Z"
   },
   {
    "duration": 131,
    "start_time": "2025-04-29T12:56:44.342Z"
   },
   {
    "duration": 144,
    "start_time": "2025-04-29T12:56:50.729Z"
   },
   {
    "duration": 1137,
    "start_time": "2025-04-29T13:00:29.240Z"
   },
   {
    "duration": 113,
    "start_time": "2025-04-29T13:00:30.379Z"
   },
   {
    "duration": 11,
    "start_time": "2025-04-29T13:00:30.494Z"
   },
   {
    "duration": 54,
    "start_time": "2025-04-29T13:00:30.506Z"
   },
   {
    "duration": 30,
    "start_time": "2025-04-29T13:00:30.562Z"
   },
   {
    "duration": 25,
    "start_time": "2025-04-29T13:00:30.593Z"
   },
   {
    "duration": 4,
    "start_time": "2025-04-29T13:00:30.619Z"
   },
   {
    "duration": 30,
    "start_time": "2025-04-29T13:00:30.624Z"
   },
   {
    "duration": 36,
    "start_time": "2025-04-29T13:00:30.656Z"
   },
   {
    "duration": 16,
    "start_time": "2025-04-29T13:00:30.694Z"
   },
   {
    "duration": 37,
    "start_time": "2025-04-29T13:00:30.712Z"
   },
   {
    "duration": 12,
    "start_time": "2025-04-29T13:00:30.750Z"
   },
   {
    "duration": 624,
    "start_time": "2025-04-29T13:00:30.764Z"
   },
   {
    "duration": 142,
    "start_time": "2025-04-29T13:00:31.390Z"
   },
   {
    "duration": 8,
    "start_time": "2025-04-29T13:00:31.533Z"
   },
   {
    "duration": 143,
    "start_time": "2025-04-29T13:00:31.543Z"
   },
   {
    "duration": 8,
    "start_time": "2025-04-29T13:00:31.689Z"
   },
   {
    "duration": 12,
    "start_time": "2025-04-29T13:00:31.699Z"
   }
  ],
  "colab": {
   "provenance": []
  },
  "kernelspec": {
   "display_name": "Python 3 (ipykernel)",
   "language": "python",
   "name": "python3"
  },
  "language_info": {
   "codemirror_mode": {
    "name": "ipython",
    "version": 3
   },
   "file_extension": ".py",
   "mimetype": "text/x-python",
   "name": "python",
   "nbconvert_exporter": "python",
   "pygments_lexer": "ipython3",
   "version": "3.12.4"
  },
  "toc": {
   "base_numbering": 1,
   "nav_menu": {},
   "number_sections": true,
   "sideBar": true,
   "skip_h1_title": true,
   "title_cell": "Table of Contents",
   "title_sidebar": "Contents",
   "toc_cell": false,
   "toc_position": {},
   "toc_section_display": true,
   "toc_window_display": false
  }
 },
 "nbformat": 4,
 "nbformat_minor": 5
}
