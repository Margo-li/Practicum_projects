{
 "cells": [
  {
   "cell_type": "markdown",
   "metadata": {
    "id": "4mJbK1knrJgz"
   },
   "source": [
    "# Проект: Исследование стартапов\n",
    "<a id=\"start\"></a>"
   ]
  },
  {
   "cell_type": "markdown",
   "metadata": {
    "id": "P6j0r3worJg0"
   },
   "source": [
    "## Введение"
   ]
  },
  {
   "cell_type": "markdown",
   "metadata": {
    "id": "8lQtbsIUyFG6"
   },
   "source": [
    "### Цели и задачи проекта\n",
    "\n",
    "<b>Цель</b>: Подготовить датасет и проверить, что данные в нём корректны, а также ответить на вопросы заказчика как о предобработке, так и о значении данных для бизнеса\n",
    "\n",
    "<b>Задачи</b>:\n",
    "1. Выяснить по каким столбцам можно объединять данные из разных таблиц;\n",
    "2. Решить можно ли доверять данным о сотрудниках стартапов и их образовании;\n",
    "3. Узнать что значат покупки за 0 или за 1 доллар;\n",
    "4. Посчитать какая цена в зависимости от категории стартапов и количества раундов финансирования перед его покупкой;\n",
    "5. Рассчитать и отобразить численные показатели и динамику."
   ]
  },
  {
   "cell_type": "markdown",
   "metadata": {},
   "source": [
    "## Шаг 1. Знакомство с данными: загрузка и первичная предобработка"
   ]
  },
  {
   "cell_type": "markdown",
   "metadata": {},
   "source": [
    "Загрузим необходимые для работы библиотеки и все данные"
   ]
  },
  {
   "cell_type": "code",
   "execution_count": 1,
   "metadata": {},
   "outputs": [
    {
     "name": "stdout",
     "output_type": "stream",
     "text": [
      "Requirement already satisfied: numpy in c:\\users\\79788\\anaconda3\\lib\\site-packages (1.26.4)\n",
      "Requirement already satisfied: phik in c:\\users\\79788\\anaconda3\\lib\\site-packages (0.12.4)\n",
      "Requirement already satisfied: scipy>=1.5.2 in c:\\users\\79788\\appdata\\roaming\\python\\python312\\site-packages (from phik) (1.14.1)\n",
      "Requirement already satisfied: pandas>=0.25.1 in c:\\users\\79788\\anaconda3\\lib\\site-packages (from phik) (2.2.2)\n",
      "Requirement already satisfied: matplotlib>=2.2.3 in c:\\users\\79788\\anaconda3\\lib\\site-packages (from phik) (3.8.4)\n",
      "Requirement already satisfied: joblib>=0.14.1 in c:\\users\\79788\\anaconda3\\lib\\site-packages (from phik) (1.4.2)\n",
      "Requirement already satisfied: contourpy>=1.0.1 in c:\\users\\79788\\anaconda3\\lib\\site-packages (from matplotlib>=2.2.3->phik) (1.2.0)\n",
      "Requirement already satisfied: cycler>=0.10 in c:\\users\\79788\\anaconda3\\lib\\site-packages (from matplotlib>=2.2.3->phik) (0.11.0)\n",
      "Requirement already satisfied: fonttools>=4.22.0 in c:\\users\\79788\\anaconda3\\lib\\site-packages (from matplotlib>=2.2.3->phik) (4.51.0)\n",
      "Requirement already satisfied: kiwisolver>=1.3.1 in c:\\users\\79788\\anaconda3\\lib\\site-packages (from matplotlib>=2.2.3->phik) (1.4.4)\n",
      "Requirement already satisfied: packaging>=20.0 in c:\\users\\79788\\anaconda3\\lib\\site-packages (from matplotlib>=2.2.3->phik) (23.2)\n",
      "Requirement already satisfied: pillow>=8 in c:\\users\\79788\\anaconda3\\lib\\site-packages (from matplotlib>=2.2.3->phik) (10.3.0)\n",
      "Requirement already satisfied: pyparsing>=2.3.1 in c:\\users\\79788\\anaconda3\\lib\\site-packages (from matplotlib>=2.2.3->phik) (3.0.9)\n",
      "Requirement already satisfied: python-dateutil>=2.7 in c:\\users\\79788\\anaconda3\\lib\\site-packages (from matplotlib>=2.2.3->phik) (2.9.0.post0)\n",
      "Requirement already satisfied: pytz>=2020.1 in c:\\users\\79788\\anaconda3\\lib\\site-packages (from pandas>=0.25.1->phik) (2024.1)\n",
      "Requirement already satisfied: tzdata>=2022.7 in c:\\users\\79788\\anaconda3\\lib\\site-packages (from pandas>=0.25.1->phik) (2023.3)\n",
      "Requirement already satisfied: six>=1.5 in c:\\users\\79788\\anaconda3\\lib\\site-packages (from python-dateutil>=2.7->matplotlib>=2.2.3->phik) (1.16.0)\n"
     ]
    }
   ],
   "source": [
    "# Установка библиотеки\n",
    "!pip install numpy phik "
   ]
  },
  {
   "cell_type": "code",
   "execution_count": 2,
   "metadata": {},
   "outputs": [],
   "source": [
    "# Импортируем библиотеки\n",
    "import pandas as pd\n",
    "\n",
    "# Загружаем библиотеки для визуализации данных\n",
    "import matplotlib.pyplot as plt\n",
    "import seaborn as sns\n",
    "\n",
    "# Загружаем библиотеку для расчёта коэффициента корреляции phi_k\n",
    "from phik import phik_matrix\n",
    "\n",
    "import numpy as np"
   ]
  },
  {
   "cell_type": "code",
   "execution_count": 3,
   "metadata": {},
   "outputs": [],
   "source": [
    "# Выгружаем данные в переменные\n",
    "acquisition_df = pd.read_csv('https://code.s3.yandex.net/datasets/acquisition.csv')\n",
    "company_and_rounds_df = pd.read_csv('https://code.s3.yandex.net/datasets/company_and_rounds.csv')\n",
    "degrees_df = pd.read_csv('https://code.s3.yandex.net/datasets/degrees.csv')\n",
    "education_df = pd.read_csv('https://code.s3.yandex.net/datasets/education.csv')\n",
    "fund_df = pd.read_csv('https://code.s3.yandex.net/datasets/fund.csv')\n",
    "investment_df = pd.read_csv('https://code.s3.yandex.net/datasets/investment.csv')\n",
    "people_df = pd.read_csv('https://code.s3.yandex.net/datasets/people.csv')"
   ]
  },
  {
   "cell_type": "markdown",
   "metadata": {},
   "source": [
    "\n",
    "* Проверим названия столбцов."
   ]
  },
  {
   "cell_type": "code",
   "execution_count": 4,
   "metadata": {},
   "outputs": [],
   "source": [
    "# Создаем словарь для хранения датасетов \n",
    "dataframes = {\n",
    "    \"acquisition\": acquisition_df,\n",
    "    \"company_and_rounds\": company_and_rounds_df,\n",
    "    \"degrees\": degrees_df,\n",
    "    \"education\": education_df,\n",
    "    \"fund\": fund_df,\n",
    "    \"investment\": investment_df,\n",
    "    \"people\": people_df\n",
    "}"
   ]
  },
  {
   "cell_type": "code",
   "execution_count": 5,
   "metadata": {
    "scrolled": true
   },
   "outputs": [
    {
     "data": {
      "text/plain": [
       "\"Столбцы в acquisition:\\n['id', 'acquiring_company_id', 'acquired_company_id', 'term_code', 'price_amount', 'acquired_at']\\n\""
      ]
     },
     "metadata": {},
     "output_type": "display_data"
    },
    {
     "data": {
      "text/plain": [
       "\"Столбцы в company_and_rounds:\\n['company  ID', 'name', 'category  code', 'status', 'founded  at', 'closed  at', 'domain', 'network  username', 'country  code', 'investment  rounds', 'funding  rounds', 'funding  total', 'milestones', 'funding  round  id', 'company  id', 'funded  at', 'funding  round  type', 'raised  amount', 'pre  money  valuation', 'participants', 'is  first  round', 'is  last  round']\\n\""
      ]
     },
     "metadata": {},
     "output_type": "display_data"
    },
    {
     "data": {
      "text/plain": [
       "\"Столбцы в degrees:\\n['id', 'object_id', 'degree_type', 'subject']\\n\""
      ]
     },
     "metadata": {},
     "output_type": "display_data"
    },
    {
     "data": {
      "text/plain": [
       "\"Столбцы в education:\\n['id', 'person_id', 'instituition', 'graduated_at']\\n\""
      ]
     },
     "metadata": {},
     "output_type": "display_data"
    },
    {
     "data": {
      "text/plain": [
       "\"Столбцы в fund:\\n['id', 'name', 'founded_at', 'domain', 'network_username', 'country_code', 'investment_rounds', 'invested_companies', 'milestones']\\n\""
      ]
     },
     "metadata": {},
     "output_type": "display_data"
    },
    {
     "data": {
      "text/plain": [
       "\"Столбцы в investment:\\n['id', 'funding_round_id', 'company_id', 'fund_id']\\n\""
      ]
     },
     "metadata": {},
     "output_type": "display_data"
    },
    {
     "data": {
      "text/plain": [
       "\"Столбцы в people:\\n['id', 'first_name', 'last_name', 'company_id', 'network_username']\\n\""
      ]
     },
     "metadata": {},
     "output_type": "display_data"
    }
   ],
   "source": [
    "# Проверка названий столбцов\n",
    "for name, df in dataframes.items():\n",
    "    display(f\"Столбцы в {name}:\\n{df.columns.tolist()}\\n\")"
   ]
  },
  {
   "cell_type": "markdown",
   "metadata": {},
   "source": [
    "После первичного анализа данных можно сделать следующие выводы:\n",
    "- Названия столбцов в датафрейме `company_and_rounds` лучше привести к виду snake case, предварительно убрав лишние пробелы;\n",
    "- Стоит переименовать столбцы с одинаковыми названиями, для избежания ошибк при анализе.\n",
    "\n",
    "Для переименования используем метод rename(), также создадим функцию для преобразования названий столбцов"
   ]
  },
  {
   "cell_type": "code",
   "execution_count": 6,
   "metadata": {},
   "outputs": [],
   "source": [
    "# Функция для удаления лишних пробелов в названиях столбцов\n",
    "def clean_column_names(df):\n",
    "    # Убираем пробелы в начале и в конце названий\n",
    "    df.columns = df.columns.str.strip()\n",
    "    df.columns = df.columns.str.replace(' +', ' ', regex=True)  # Убираем лишние пробелы между словами\n",
    "    df.columns = df.columns.str.replace(' ', '_')\n",
    "    # Переводим названия в нижний регистр\n",
    "    \n",
    "    \n",
    "    return df"
   ]
  },
  {
   "cell_type": "code",
   "execution_count": 7,
   "metadata": {},
   "outputs": [
    {
     "data": {
      "text/plain": [
       "Index(['company_ID', 'name', 'category_code', 'status', 'founded_at',\n",
       "       'closed_at', 'domain', 'network_username', 'country_code',\n",
       "       'investment_rounds', 'funding_rounds', 'funding_total', 'milestones',\n",
       "       'funding_round_id', 'company_id', 'funded_at', 'funding_round_type',\n",
       "       'raised_amount', 'pre_money_valuation', 'participants',\n",
       "       'is_first_round', 'is_last_round'],\n",
       "      dtype='object')"
      ]
     },
     "metadata": {},
     "output_type": "display_data"
    }
   ],
   "source": [
    "# Применяем функцию к датафрейму\n",
    "company_and_rounds_df = clean_column_names(company_and_rounds_df)\n",
    "\n",
    "# Выводим очищенные названия столбцов\n",
    "display(company_and_rounds_df.columns)"
   ]
  },
  {
   "cell_type": "markdown",
   "metadata": {},
   "source": [
    "При анализе было выявлено несколько столбцов с одинаковым названием. \n",
    "Переименуем столбец в датафрейме `fund`, что бы не возникало ошибок в дальнейшей работе"
   ]
  },
  {
   "cell_type": "code",
   "execution_count": 8,
   "metadata": {},
   "outputs": [
    {
     "data": {
      "text/plain": [
       "Index(['id', 'name', 'fund_founded_at', 'domain', 'network_username',\n",
       "       'country_code', 'investment_rounds', 'invested_companies',\n",
       "       'milestones'],\n",
       "      dtype='object')"
      ]
     },
     "metadata": {},
     "output_type": "display_data"
    },
    {
     "data": {
      "text/plain": [
       "Index(['company_id', 'name', 'category_code', 'status', 'founded_at',\n",
       "       'closed_at', 'domain', 'network_username', 'country_code',\n",
       "       'investment_rounds', 'funding_rounds', 'funding_total', 'milestones',\n",
       "       'funding_round_id', 'company_id_round', 'funded_at',\n",
       "       'funding_round_type', 'raised_amount', 'pre_money_valuation',\n",
       "       'participants', 'is_first_round', 'is_last_round'],\n",
       "      dtype='object')"
      ]
     },
     "metadata": {},
     "output_type": "display_data"
    }
   ],
   "source": [
    "# Передаём методу rename() словарь с названиями столбцов\n",
    "fund_df = fund_df.rename(columns={'founded_at': 'fund_founded_at'})\n",
    "company_and_rounds_df = company_and_rounds_df.rename(columns={'company_ID': 'company_id',\n",
    "                                                             'company_id': 'company_id_round'})\n",
    "display(fund_df.columns)\n",
    "display(company_and_rounds_df.columns)"
   ]
  },
  {
   "cell_type": "markdown",
   "metadata": {},
   "source": [
    "\n",
    "* Выведите информацию, которая необходима вам для принятия решений о предобработке, для каждого из датасетов."
   ]
  },
  {
   "cell_type": "markdown",
   "metadata": {},
   "source": [
    "Для принятия решений о предобработке данных в каждом из семи датафреймов, необходимо проанализировать их структуру, типы данных, наличие пропусков и дубликатов."
   ]
  },
  {
   "cell_type": "code",
   "execution_count": 9,
   "metadata": {
    "scrolled": true
   },
   "outputs": [
    {
     "name": "stdout",
     "output_type": "stream",
     "text": [
      "DataFrame 'acquisition':\n",
      "   id  acquiring_company_id  acquired_company_id term_code  price_amount  \\\n",
      "0   1                    11                   10       NaN      20000000   \n",
      "1   7                    59                   72      cash      60000000   \n",
      "2   8                    24                  132      cash     280000000   \n",
      "3   9                    59                  155      cash     100000000   \n",
      "4  10                   212                  215      cash      25000000   \n",
      "\n",
      "  acquired_at  \n",
      "0  2007-05-30  \n",
      "1  2007-07-01  \n",
      "2  2007-05-01  \n",
      "3  2007-06-01  \n",
      "4  2007-07-01  \n",
      "\n",
      "\n",
      "DataFrame 'company_and_rounds':\n",
      "   company_ID      name category_code     status  founded_at closed_at  \\\n",
      "0         1.0  Wetpaint           web  operating  2005-10-17       NaN   \n",
      "1         1.0  Wetpaint           web  operating  2005-10-17       NaN   \n",
      "2         1.0  Wetpaint           web  operating  2005-10-17       NaN   \n",
      "3        10.0   Flektor   games_video   acquired         NaN       NaN   \n",
      "4       100.0     There   games_video   acquired         NaN       NaN   \n",
      "\n",
      "             domain network_username country_code  investment_rounds  ...  \\\n",
      "0  wetpaint-inc.com  BachelrWetpaint          USA                0.0  ...   \n",
      "1  wetpaint-inc.com  BachelrWetpaint          USA                0.0  ...   \n",
      "2  wetpaint-inc.com  BachelrWetpaint          USA                0.0  ...   \n",
      "3       flektor.com              NaN          USA                0.0  ...   \n",
      "4         there.com              NaN          USA                0.0  ...   \n",
      "\n",
      "   milestones  funding_round_id  company_id   funded_at  funding_round_type  \\\n",
      "0         5.0             888.0         1.0  2005-10-01            series-a   \n",
      "1         5.0             889.0         1.0  2007-01-01            series-b   \n",
      "2         5.0            2312.0         1.0  2008-05-19           series-c+   \n",
      "3         0.0               NaN         NaN         NaN                 NaN   \n",
      "4         4.0               NaN         NaN         NaN                 NaN   \n",
      "\n",
      "  raised_amount pre_money_valuation  participants  is_first_round  \\\n",
      "0     5250000.0                 0.0           2.0             0.0   \n",
      "1     9500000.0                 0.0           3.0             0.0   \n",
      "2    25000000.0                 0.0           4.0             1.0   \n",
      "3           NaN                 NaN           NaN             NaN   \n",
      "4           NaN                 NaN           NaN             NaN   \n",
      "\n",
      "   is_last_round  \n",
      "0            1.0  \n",
      "1            0.0  \n",
      "2            0.0  \n",
      "3            NaN  \n",
      "4            NaN  \n",
      "\n",
      "[5 rows x 22 columns]\n",
      "\n",
      "\n",
      "DataFrame 'degrees':\n",
      "   id object_id degree_type                       subject\n",
      "0   1    p:6117         MBA                           NaN\n",
      "1   2    p:6136          BA               English, French\n",
      "2   3    p:6136          MS            Mass Communication\n",
      "3   4    p:6005          MS           Internet Technology\n",
      "4   5    p:5832         BCS  Computer Science, Psychology\n",
      "\n",
      "\n",
      "DataFrame 'education':\n",
      "   id  person_id                      instituition graduated_at\n",
      "0   1       6117                               NaN          NaN\n",
      "1   2       6136  Washington University, St. Louis   1990-01-01\n",
      "2   3       6136                 Boston University   1992-01-01\n",
      "3   4       6005           University of Greenwich   2006-01-01\n",
      "4   5       5832                   Rice University          NaN\n",
      "\n",
      "\n",
      "DataFrame 'fund':\n",
      "      id                     name  founded_at               domain  \\\n",
      "0  13131                      NaN         NaN                  NaN   \n",
      "1      1        Greylock Partners  1965-01-01         greylock.com   \n",
      "2     10         Mission Ventures  1996-01-01  missionventures.com   \n",
      "3    100  Kapor Enterprises, Inc.         NaN              kei.com   \n",
      "4   1000           Speed Ventures         NaN                  NaN   \n",
      "\n",
      "  network_username country_code  investment_rounds  invested_companies  \\\n",
      "0              NaN          NaN                  0                   0   \n",
      "1       greylockvc          USA                307                 196   \n",
      "2              NaN          USA                 58                  33   \n",
      "3              NaN          USA                  2                   1   \n",
      "4              NaN          NaN                  0                   0   \n",
      "\n",
      "   milestones  \n",
      "0           0  \n",
      "1           0  \n",
      "2           0  \n",
      "3           0  \n",
      "4           1  \n",
      "\n",
      "\n",
      "DataFrame 'investment':\n",
      "   id  funding_round_id  company_id  fund_id\n",
      "0   1                 1           4        1\n",
      "1   2                 1           4        2\n",
      "2   3                 3           5        4\n",
      "3   4                 4           5        1\n",
      "4   5                 4           5        5\n",
      "\n",
      "\n",
      "DataFrame 'people':\n",
      "       id  first_name    last_name  company_id network_username\n",
      "0      10        Mark   Zuckerberg         5.0              NaN\n",
      "1     100       Peter       Lester        27.0              NaN\n",
      "2    1000  Dr. Steven  E. Saunders       292.0              NaN\n",
      "3   10000        Neil        Capel      2526.0              NaN\n",
      "4  100000         Sue       Pilsch         NaN              NaN\n",
      "\n",
      "\n"
     ]
    }
   ],
   "source": [
    "#Проверим структуру данных\n",
    "for name, df in dataframes.items():\n",
    "    print(f\"DataFrame '{name}':\")\n",
    "    print(f\"{df.head()}\\n\\n\")"
   ]
  },
  {
   "cell_type": "code",
   "execution_count": 10,
   "metadata": {
    "id": "4u9np9gSnyqT",
    "scrolled": true
   },
   "outputs": [
    {
     "data": {
      "text/plain": [
       "\"DataFrame 'acquisition':\""
      ]
     },
     "metadata": {},
     "output_type": "display_data"
    },
    {
     "name": "stdout",
     "output_type": "stream",
     "text": [
      "<class 'pandas.core.frame.DataFrame'>\n",
      "RangeIndex: 9407 entries, 0 to 9406\n",
      "Data columns (total 6 columns):\n",
      " #   Column                Non-Null Count  Dtype \n",
      "---  ------                --------------  ----- \n",
      " 0   id                    9407 non-null   int64 \n",
      " 1   acquiring_company_id  9407 non-null   int64 \n",
      " 2   acquired_company_id   9407 non-null   int64 \n",
      " 3   term_code             1831 non-null   object\n",
      " 4   price_amount          9407 non-null   int64 \n",
      " 5   acquired_at           9378 non-null   object\n",
      "dtypes: int64(4), object(2)\n",
      "memory usage: 441.1+ KB\n"
     ]
    },
    {
     "data": {
      "text/plain": [
       "'Info:None'"
      ]
     },
     "metadata": {},
     "output_type": "display_data"
    },
    {
     "data": {
      "text/plain": [
       "\"DataFrame 'company_and_rounds':\""
      ]
     },
     "metadata": {},
     "output_type": "display_data"
    },
    {
     "name": "stdout",
     "output_type": "stream",
     "text": [
      "<class 'pandas.core.frame.DataFrame'>\n",
      "RangeIndex: 217774 entries, 0 to 217773\n",
      "Data columns (total 22 columns):\n",
      " #   Column               Non-Null Count   Dtype  \n",
      "---  ------               --------------   -----  \n",
      " 0   company_ID           217472 non-null  float64\n",
      " 1   name                 217471 non-null  object \n",
      " 2   category_code        143886 non-null  object \n",
      " 3   status               217472 non-null  object \n",
      " 4   founded_at           109956 non-null  object \n",
      " 5   closed_at            3449 non-null    object \n",
      " 6   domain               147159 non-null  object \n",
      " 7   network_username     95534 non-null   object \n",
      " 8   country_code         108607 non-null  object \n",
      " 9   investment_rounds    217472 non-null  float64\n",
      " 10  funding_rounds       217472 non-null  float64\n",
      " 11  funding_total        217472 non-null  float64\n",
      " 12  milestones           217472 non-null  float64\n",
      " 13  funding_round_id     52928 non-null   float64\n",
      " 14  company_id           52928 non-null   float64\n",
      " 15  funded_at            52680 non-null   object \n",
      " 16  funding_round_type   52928 non-null   object \n",
      " 17  raised_amount        52928 non-null   float64\n",
      " 18  pre_money_valuation  52928 non-null   float64\n",
      " 19  participants         52928 non-null   float64\n",
      " 20  is_first_round       52928 non-null   float64\n",
      " 21  is_last_round        52928 non-null   float64\n",
      "dtypes: float64(12), object(10)\n",
      "memory usage: 36.6+ MB\n"
     ]
    },
    {
     "data": {
      "text/plain": [
       "'Info:None'"
      ]
     },
     "metadata": {},
     "output_type": "display_data"
    },
    {
     "data": {
      "text/plain": [
       "\"DataFrame 'degrees':\""
      ]
     },
     "metadata": {},
     "output_type": "display_data"
    },
    {
     "name": "stdout",
     "output_type": "stream",
     "text": [
      "<class 'pandas.core.frame.DataFrame'>\n",
      "RangeIndex: 109610 entries, 0 to 109609\n",
      "Data columns (total 4 columns):\n",
      " #   Column       Non-Null Count   Dtype \n",
      "---  ------       --------------   ----- \n",
      " 0   id           109610 non-null  int64 \n",
      " 1   object_id    109610 non-null  object\n",
      " 2   degree_type  98389 non-null   object\n",
      " 3   subject      81298 non-null   object\n",
      "dtypes: int64(1), object(3)\n",
      "memory usage: 3.3+ MB\n"
     ]
    },
    {
     "data": {
      "text/plain": [
       "'Info:None'"
      ]
     },
     "metadata": {},
     "output_type": "display_data"
    },
    {
     "data": {
      "text/plain": [
       "\"DataFrame 'education':\""
      ]
     },
     "metadata": {},
     "output_type": "display_data"
    },
    {
     "name": "stdout",
     "output_type": "stream",
     "text": [
      "<class 'pandas.core.frame.DataFrame'>\n",
      "RangeIndex: 109610 entries, 0 to 109609\n",
      "Data columns (total 4 columns):\n",
      " #   Column        Non-Null Count   Dtype \n",
      "---  ------        --------------   ----- \n",
      " 0   id            109610 non-null  int64 \n",
      " 1   person_id     109610 non-null  int64 \n",
      " 2   instituition  109555 non-null  object\n",
      " 3   graduated_at  58054 non-null   object\n",
      "dtypes: int64(2), object(2)\n",
      "memory usage: 3.3+ MB\n"
     ]
    },
    {
     "data": {
      "text/plain": [
       "'Info:None'"
      ]
     },
     "metadata": {},
     "output_type": "display_data"
    },
    {
     "data": {
      "text/plain": [
       "\"DataFrame 'fund':\""
      ]
     },
     "metadata": {},
     "output_type": "display_data"
    },
    {
     "name": "stdout",
     "output_type": "stream",
     "text": [
      "<class 'pandas.core.frame.DataFrame'>\n",
      "RangeIndex: 11652 entries, 0 to 11651\n",
      "Data columns (total 9 columns):\n",
      " #   Column              Non-Null Count  Dtype \n",
      "---  ------              --------------  ----- \n",
      " 0   id                  11652 non-null  int64 \n",
      " 1   name                11649 non-null  object\n",
      " 2   founded_at          4605 non-null   object\n",
      " 3   domain              7362 non-null   object\n",
      " 4   network_username    2149 non-null   object\n",
      " 5   country_code        7053 non-null   object\n",
      " 6   investment_rounds   11652 non-null  int64 \n",
      " 7   invested_companies  11652 non-null  int64 \n",
      " 8   milestones          11652 non-null  int64 \n",
      "dtypes: int64(4), object(5)\n",
      "memory usage: 819.4+ KB\n"
     ]
    },
    {
     "data": {
      "text/plain": [
       "'Info:None'"
      ]
     },
     "metadata": {},
     "output_type": "display_data"
    },
    {
     "data": {
      "text/plain": [
       "\"DataFrame 'investment':\""
      ]
     },
     "metadata": {},
     "output_type": "display_data"
    },
    {
     "name": "stdout",
     "output_type": "stream",
     "text": [
      "<class 'pandas.core.frame.DataFrame'>\n",
      "RangeIndex: 61403 entries, 0 to 61402\n",
      "Data columns (total 4 columns):\n",
      " #   Column            Non-Null Count  Dtype\n",
      "---  ------            --------------  -----\n",
      " 0   id                61403 non-null  int64\n",
      " 1   funding_round_id  61403 non-null  int64\n",
      " 2   company_id        61403 non-null  int64\n",
      " 3   fund_id           61403 non-null  int64\n",
      "dtypes: int64(4)\n",
      "memory usage: 1.9 MB\n"
     ]
    },
    {
     "data": {
      "text/plain": [
       "'Info:None'"
      ]
     },
     "metadata": {},
     "output_type": "display_data"
    },
    {
     "data": {
      "text/plain": [
       "\"DataFrame 'people':\""
      ]
     },
     "metadata": {},
     "output_type": "display_data"
    },
    {
     "name": "stdout",
     "output_type": "stream",
     "text": [
      "<class 'pandas.core.frame.DataFrame'>\n",
      "RangeIndex: 226709 entries, 0 to 226708\n",
      "Data columns (total 5 columns):\n",
      " #   Column            Non-Null Count   Dtype  \n",
      "---  ------            --------------   -----  \n",
      " 0   id                226709 non-null  int64  \n",
      " 1   first_name        226700 non-null  object \n",
      " 2   last_name         226705 non-null  object \n",
      " 3   company_id        34615 non-null   float64\n",
      " 4   network_username  38867 non-null   object \n",
      "dtypes: float64(1), int64(1), object(3)\n",
      "memory usage: 8.6+ MB\n"
     ]
    },
    {
     "data": {
      "text/plain": [
       "'Info:None'"
      ]
     },
     "metadata": {},
     "output_type": "display_data"
    }
   ],
   "source": [
    "#Вывод информации\n",
    "for name, df in dataframes.items():\n",
    "    display(f\"DataFrame '{name}':\")\n",
    "    display(f\"Info:{df.info()}\")"
   ]
  },
  {
   "cell_type": "code",
   "execution_count": 11,
   "metadata": {
    "scrolled": true
   },
   "outputs": [
    {
     "name": "stdout",
     "output_type": "stream",
     "text": [
      "DataFrame 'acquisition':\n",
      "Absolute_missing:\n",
      "id                         0\n",
      "acquiring_company_id       0\n",
      "acquired_company_id        0\n",
      "term_code               7576\n",
      "price_amount               0\n",
      "acquired_at               29\n",
      "dtype: int64\n",
      "Relative_missing(%):\n",
      "id                       0.000000\n",
      "acquiring_company_id     0.000000\n",
      "acquired_company_id      0.000000\n",
      "term_code               80.535771\n",
      "price_amount             0.000000\n",
      "acquired_at              0.308281\n",
      "dtype: float64\n",
      "Duplicate Rows:0\n",
      "\n",
      "\n",
      "\n",
      "DataFrame 'company_and_rounds':\n",
      "Absolute_missing:\n",
      "company_ID                302\n",
      "name                      303\n",
      "category_code           73888\n",
      "status                    302\n",
      "founded_at             107818\n",
      "closed_at              214325\n",
      "domain                  70615\n",
      "network_username       122240\n",
      "country_code           109167\n",
      "investment_rounds         302\n",
      "funding_rounds            302\n",
      "funding_total             302\n",
      "milestones                302\n",
      "funding_round_id       164846\n",
      "company_id             164846\n",
      "funded_at              165094\n",
      "funding_round_type     164846\n",
      "raised_amount          164846\n",
      "pre_money_valuation    164846\n",
      "participants           164846\n",
      "is_first_round         164846\n",
      "is_last_round          164846\n",
      "dtype: int64\n",
      "Relative_missing(%):\n",
      "company_ID              0.138676\n",
      "name                    0.139135\n",
      "category_code          33.928752\n",
      "status                  0.138676\n",
      "founded_at             49.509124\n",
      "closed_at              98.416248\n",
      "domain                 32.425818\n",
      "network_username       56.131586\n",
      "country_code           50.128574\n",
      "investment_rounds       0.138676\n",
      "funding_rounds          0.138676\n",
      "funding_total           0.138676\n",
      "milestones              0.138676\n",
      "funding_round_id       75.695905\n",
      "company_id             75.695905\n",
      "funded_at              75.809784\n",
      "funding_round_type     75.695905\n",
      "raised_amount          75.695905\n",
      "pre_money_valuation    75.695905\n",
      "participants           75.695905\n",
      "is_first_round         75.695905\n",
      "is_last_round          75.695905\n",
      "dtype: float64\n",
      "Duplicate Rows:0\n",
      "\n",
      "\n",
      "\n",
      "DataFrame 'degrees':\n",
      "Absolute_missing:\n",
      "id                 0\n",
      "object_id          0\n",
      "degree_type    11221\n",
      "subject        28312\n",
      "dtype: int64\n",
      "Relative_missing(%):\n",
      "id              0.000000\n",
      "object_id       0.000000\n",
      "degree_type    10.237205\n",
      "subject        25.829760\n",
      "dtype: float64\n",
      "Duplicate Rows:0\n",
      "\n",
      "\n",
      "\n",
      "DataFrame 'education':\n",
      "Absolute_missing:\n",
      "id                  0\n",
      "person_id           0\n",
      "instituition       55\n",
      "graduated_at    51556\n",
      "dtype: int64\n",
      "Relative_missing(%):\n",
      "id               0.000000\n",
      "person_id        0.000000\n",
      "instituition     0.050178\n",
      "graduated_at    47.035854\n",
      "dtype: float64\n",
      "Duplicate Rows:0\n",
      "\n",
      "\n",
      "\n",
      "DataFrame 'fund':\n",
      "Absolute_missing:\n",
      "id                       0\n",
      "name                     3\n",
      "founded_at            7047\n",
      "domain                4290\n",
      "network_username      9503\n",
      "country_code          4599\n",
      "investment_rounds        0\n",
      "invested_companies       0\n",
      "milestones               0\n",
      "dtype: int64\n",
      "Relative_missing(%):\n",
      "id                     0.000000\n",
      "name                   0.025747\n",
      "founded_at            60.478888\n",
      "domain                36.817714\n",
      "network_username      81.556814\n",
      "country_code          39.469619\n",
      "investment_rounds      0.000000\n",
      "invested_companies     0.000000\n",
      "milestones             0.000000\n",
      "dtype: float64\n",
      "Duplicate Rows:0\n",
      "\n",
      "\n",
      "\n",
      "DataFrame 'investment':\n",
      "Absolute_missing:\n",
      "id                  0\n",
      "funding_round_id    0\n",
      "company_id          0\n",
      "fund_id             0\n",
      "dtype: int64\n",
      "Relative_missing(%):\n",
      "id                  0.0\n",
      "funding_round_id    0.0\n",
      "company_id          0.0\n",
      "fund_id             0.0\n",
      "dtype: float64\n",
      "Duplicate Rows:0\n",
      "\n",
      "\n",
      "\n",
      "DataFrame 'people':\n",
      "Absolute_missing:\n",
      "id                       0\n",
      "first_name               9\n",
      "last_name                4\n",
      "company_id          192094\n",
      "network_username    187842\n",
      "dtype: int64\n",
      "Relative_missing(%):\n",
      "id                   0.000000\n",
      "first_name           0.003970\n",
      "last_name            0.001764\n",
      "company_id          84.731528\n",
      "network_username    82.855996\n",
      "dtype: float64\n",
      "Duplicate Rows:0\n",
      "\n",
      "\n",
      "\n"
     ]
    }
   ],
   "source": [
    "#Проверка на пропуски и явные дубликаты\n",
    "for name, df in dataframes.items():   \n",
    "    print(f\"DataFrame '{name}':\")\n",
    "    print(f\"Absolute_missing:\\n{df.isnull().sum()}\") \n",
    "    print(f\"Relative_missing(%):\\n{df.isna().mean() * 100}\")\n",
    "    print(f\"Duplicate Rows:{df.duplicated().sum()}\\n\\n\\n\")"
   ]
  },
  {
   "cell_type": "markdown",
   "metadata": {},
   "source": [
    "В результате работы мы пришли к пониманию, что:\n",
    "- столбцы, которые хранят значения даты и времени, необходимо преобразовать в верный тип данных(datetime)\n",
    "- Судя по первому знакомству с данными, значения в столбцах соответствуют своему описанию."
   ]
  },
  {
   "cell_type": "markdown",
   "metadata": {
    "id": "mg2gEwh0rJg0"
   },
   "source": [
    "### 1.2. Смена типов и анализ пропусков\n"
   ]
  },
  {
   "cell_type": "markdown",
   "metadata": {},
   "source": [
    "Список столбцов с датами, которые необходимо обработать: \n",
    "- DataFrame `acquisition`: acquired_at (object) — дата сделки;\n",
    "- DataFrame `company_and_rounds`: founded_at (object) — дата инвестирования, closed_at(object)— дата закрытия компании, funded_at(object) — дата финансирования.;\n",
    "- DataFrame `education`: graduated_at(object)  — дата получения образования; "
   ]
  },
  {
   "cell_type": "code",
   "execution_count": 12,
   "metadata": {},
   "outputs": [],
   "source": [
    "# Список столбцов для преобразования\n",
    "date_columns = ['acquired_at','founded_at', 'closed_at', \n",
    "                'funded_at', 'graduated_at', 'founded_at']\n",
    "# Преобразование столбцов в формат даты\n",
    "for name, df in dataframes.items():\n",
    "    for column in date_columns:\n",
    "        if column in df.columns:\n",
    "            df[column] = pd.to_datetime(df[column], errors='coerce')  # Преобразование с обработкой ошибок"
   ]
  },
  {
   "cell_type": "code",
   "execution_count": 13,
   "metadata": {},
   "outputs": [
    {
     "name": "stdout",
     "output_type": "stream",
     "text": [
      "DataFrame 'acquisition':\n",
      "Type:\n",
      "id                               int64\n",
      "acquiring_company_id             int64\n",
      "acquired_company_id              int64\n",
      "term_code                       object\n",
      "price_amount                     int64\n",
      "acquired_at             datetime64[ns]\n",
      "dtype: object\n",
      "\n",
      "DataFrame 'company_and_rounds':\n",
      "Type:\n",
      "company_ID                    float64\n",
      "name                           object\n",
      "category_code                  object\n",
      "status                         object\n",
      "founded_at             datetime64[ns]\n",
      "closed_at              datetime64[ns]\n",
      "domain                         object\n",
      "network_username               object\n",
      "country_code                   object\n",
      "investment_rounds             float64\n",
      "funding_rounds                float64\n",
      "funding_total                 float64\n",
      "milestones                    float64\n",
      "funding_round_id              float64\n",
      "company_id                    float64\n",
      "funded_at              datetime64[ns]\n",
      "funding_round_type             object\n",
      "raised_amount                 float64\n",
      "pre_money_valuation           float64\n",
      "participants                  float64\n",
      "is_first_round                float64\n",
      "is_last_round                 float64\n",
      "dtype: object\n",
      "\n",
      "DataFrame 'degrees':\n",
      "Type:\n",
      "id              int64\n",
      "object_id      object\n",
      "degree_type    object\n",
      "subject        object\n",
      "dtype: object\n",
      "\n",
      "DataFrame 'education':\n",
      "Type:\n",
      "id                       int64\n",
      "person_id                int64\n",
      "instituition            object\n",
      "graduated_at    datetime64[ns]\n",
      "dtype: object\n",
      "\n",
      "DataFrame 'fund':\n",
      "Type:\n",
      "id                             int64\n",
      "name                          object\n",
      "founded_at            datetime64[ns]\n",
      "domain                        object\n",
      "network_username              object\n",
      "country_code                  object\n",
      "investment_rounds              int64\n",
      "invested_companies             int64\n",
      "milestones                     int64\n",
      "dtype: object\n",
      "\n",
      "DataFrame 'investment':\n",
      "Type:\n",
      "id                  int64\n",
      "funding_round_id    int64\n",
      "company_id          int64\n",
      "fund_id             int64\n",
      "dtype: object\n",
      "\n",
      "DataFrame 'people':\n",
      "Type:\n",
      "id                    int64\n",
      "first_name           object\n",
      "last_name            object\n",
      "company_id          float64\n",
      "network_username     object\n",
      "dtype: object\n",
      "\n"
     ]
    }
   ],
   "source": [
    "#Проверка преобразований\n",
    "for name, df in dataframes.items():   \n",
    "    print(f\"DataFrame '{name}':\")\n",
    "    print(f\"Type:\\n{df.dtypes}\\n\") "
   ]
  },
  {
   "cell_type": "markdown",
   "metadata": {},
   "source": [
    "<b>Оценка пропущенных значений </b> в таблицах показала следующее:\n",
    "- `acquisition`: Пропуски в столбце ``term_code` (80.5%), но остальные данные практически полные.\n",
    "- `company_and_rounds`: Значительные пропуски в большинстве столбцах, в особенности связанных с датами (founded_at, closed_at) и финансированием (например: funding_round_id, pre_money_valuation) — до 75%.\n",
    "- `degrees`: Пропуски в degree_type (10.2%) и subject (25.8%).\n",
    "- `education`: Пропуски в graduated_at (47%).\n",
    "- `fund`: Пропуски в founded_at (60.5%) и network_username (81.6%), domain (36.8%) и country_code (39.5%).\n",
    "- `people`: Пропуски в company_id (84.7%) и network_username (82.9%).\n",
    "- `investment`: Данные полные.\n",
    "\n",
    "Количество пропусков достаточно большое, чтобы их просто удалить и могут зависеть от разных факторов, о которых у нас нет информации. Правильнее будет принять решения оставить пропуски как есть\n",
    "\n",
    "<b>Достаточность данных:</b>\n",
    "Данные не являются полностью заполненными, но для большинства задач проекта их можно считать достаточными:\n",
    "- Таблицы `acquisition`, `investment`, `degrees`, `education`, `people` содержат ключевые данные без критических пропусков.\n",
    "- Таблица `company_and_rounds` имеет значительные пропуски, что может ограничить анализ, связанный с финансированием.\n",
    "- Таблица `fund` содержит много пропусков, что может затруднить анализ фондов."
   ]
  },
  {
   "cell_type": "markdown",
   "metadata": {
    "id": "u60cHsn6rJg1"
   },
   "source": [
    "## Шаг 2. Предобработка данных, предварительное исследование"
   ]
  },
  {
   "cell_type": "markdown",
   "metadata": {
    "id": "g2bHIIjcrJg1"
   },
   "source": [
    "\n",
    "### 2.1. Раунды финансирования по годам\n",
    "\n",
    "* Составим сводную таблицу по годам, в которой на основании столбца `raised_amount` для каждого года указан:\n",
    "  * типичный размер средств, выделяемый в рамках одного раунда;\n",
    "  * общее количество раундов финансирования за этот год.\n",
    "\n",
    "* Оставим в таблице информацию только для тех лет, для которых есть информация о более чем 50 раундах финансирования."
   ]
  },
  {
   "cell_type": "code",
   "execution_count": 14,
   "metadata": {},
   "outputs": [
    {
     "name": "stdout",
     "output_type": "stream",
     "text": [
      "<class 'pandas.core.frame.DataFrame'>\n",
      "RangeIndex: 217774 entries, 0 to 217773\n",
      "Data columns (total 22 columns):\n",
      " #   Column               Non-Null Count   Dtype  \n",
      "---  ------               --------------   -----  \n",
      " 0   company_id           217472 non-null  float64\n",
      " 1   name                 217471 non-null  object \n",
      " 2   category_code        143886 non-null  object \n",
      " 3   status               217472 non-null  object \n",
      " 4   founded_at           109956 non-null  object \n",
      " 5   closed_at            3449 non-null    object \n",
      " 6   domain               147159 non-null  object \n",
      " 7   network_username     95534 non-null   object \n",
      " 8   country_code         108607 non-null  object \n",
      " 9   investment_rounds    217472 non-null  float64\n",
      " 10  funding_rounds       217472 non-null  float64\n",
      " 11  funding_total        217472 non-null  float64\n",
      " 12  milestones           217472 non-null  float64\n",
      " 13  funding_round_id     52928 non-null   float64\n",
      " 14  company_id_round     52928 non-null   float64\n",
      " 15  funded_at            52680 non-null   object \n",
      " 16  funding_round_type   52928 non-null   object \n",
      " 17  raised_amount        52928 non-null   float64\n",
      " 18  pre_money_valuation  52928 non-null   float64\n",
      " 19  participants         52928 non-null   float64\n",
      " 20  is_first_round       52928 non-null   float64\n",
      " 21  is_last_round        52928 non-null   float64\n",
      "dtypes: float64(12), object(10)\n",
      "memory usage: 36.6+ MB\n"
     ]
    }
   ],
   "source": [
    "company_and_rounds_df.info()"
   ]
  },
  {
   "cell_type": "markdown",
   "metadata": {},
   "source": [
    "Составим сводную таблицу размера средств, выделяемый в рамках одного раунда по годам "
   ]
  },
  {
   "cell_type": "code",
   "execution_count": 15,
   "metadata": {},
   "outputs": [],
   "source": [
    "company_and_rounds_df['funded_at'] = pd.to_datetime(\n",
    "         company_and_rounds_df['funded_at'], errors='coerce')"
   ]
  },
  {
   "cell_type": "code",
   "execution_count": 16,
   "metadata": {
    "id": "ovyDibxNrJg1"
   },
   "outputs": [
    {
     "data": {
      "text/plain": [
       "array([2005., 2007., 2008.,   nan, 2010., 2012., 2013., 2011., 2003.,\n",
       "       2006., 2009., 2004., 2001., 1997., 2002., 2000., 1999., 1998.,\n",
       "       1995., 1996., 1960., 1990., 1992., 1994., 1987., 1974., 1973.,\n",
       "       1985., 1984., 1993., 1989.])"
      ]
     },
     "execution_count": 16,
     "metadata": {},
     "output_type": "execute_result"
    }
   ],
   "source": [
    "# Извлечение года из даты\n",
    "company_and_rounds_df['year'] = company_and_rounds_df['funded_at'].dt.year\n",
    " \n",
    "# Получение уникальных годов\n",
    "company_and_rounds_df['year'] = company_and_rounds_df['year'].dropna()\n",
    "company_and_rounds_df['year'].unique()"
   ]
  },
  {
   "cell_type": "code",
   "execution_count": 17,
   "metadata": {
    "id": "HB81GTA9n04M"
   },
   "outputs": [
    {
     "data": {
      "text/html": [
       "<div>\n",
       "<style scoped>\n",
       "    .dataframe tbody tr th:only-of-type {\n",
       "        vertical-align: middle;\n",
       "    }\n",
       "\n",
       "    .dataframe tbody tr th {\n",
       "        vertical-align: top;\n",
       "    }\n",
       "\n",
       "    .dataframe thead th {\n",
       "        text-align: right;\n",
       "    }\n",
       "</style>\n",
       "<table border=\"1\" class=\"dataframe\">\n",
       "  <thead>\n",
       "    <tr style=\"text-align: right;\">\n",
       "      <th></th>\n",
       "      <th>year</th>\n",
       "      <th>typical_amount</th>\n",
       "      <th>total_rounds</th>\n",
       "    </tr>\n",
       "  </thead>\n",
       "  <tbody>\n",
       "    <tr>\n",
       "      <th>0</th>\n",
       "      <td>1960.0</td>\n",
       "      <td>0.0</td>\n",
       "      <td>9</td>\n",
       "    </tr>\n",
       "    <tr>\n",
       "      <th>1</th>\n",
       "      <td>1973.0</td>\n",
       "      <td>0.0</td>\n",
       "      <td>1</td>\n",
       "    </tr>\n",
       "    <tr>\n",
       "      <th>2</th>\n",
       "      <td>1974.0</td>\n",
       "      <td>0.0</td>\n",
       "      <td>2</td>\n",
       "    </tr>\n",
       "    <tr>\n",
       "      <th>3</th>\n",
       "      <td>1984.0</td>\n",
       "      <td>41000.0</td>\n",
       "      <td>3</td>\n",
       "    </tr>\n",
       "    <tr>\n",
       "      <th>4</th>\n",
       "      <td>1985.0</td>\n",
       "      <td>0.0</td>\n",
       "      <td>1</td>\n",
       "    </tr>\n",
       "    <tr>\n",
       "      <th>5</th>\n",
       "      <td>1987.0</td>\n",
       "      <td>1250000.0</td>\n",
       "      <td>2</td>\n",
       "    </tr>\n",
       "    <tr>\n",
       "      <th>6</th>\n",
       "      <td>1989.0</td>\n",
       "      <td>15000.0</td>\n",
       "      <td>1</td>\n",
       "    </tr>\n",
       "    <tr>\n",
       "      <th>7</th>\n",
       "      <td>1990.0</td>\n",
       "      <td>1000000.0</td>\n",
       "      <td>1</td>\n",
       "    </tr>\n",
       "    <tr>\n",
       "      <th>8</th>\n",
       "      <td>1992.0</td>\n",
       "      <td>2000000.0</td>\n",
       "      <td>1</td>\n",
       "    </tr>\n",
       "    <tr>\n",
       "      <th>9</th>\n",
       "      <td>1993.0</td>\n",
       "      <td>62500.0</td>\n",
       "      <td>2</td>\n",
       "    </tr>\n",
       "    <tr>\n",
       "      <th>10</th>\n",
       "      <td>1994.0</td>\n",
       "      <td>6700000.0</td>\n",
       "      <td>2</td>\n",
       "    </tr>\n",
       "    <tr>\n",
       "      <th>11</th>\n",
       "      <td>1995.0</td>\n",
       "      <td>2000000.0</td>\n",
       "      <td>7</td>\n",
       "    </tr>\n",
       "    <tr>\n",
       "      <th>12</th>\n",
       "      <td>1996.0</td>\n",
       "      <td>12500.0</td>\n",
       "      <td>7</td>\n",
       "    </tr>\n",
       "    <tr>\n",
       "      <th>13</th>\n",
       "      <td>1997.0</td>\n",
       "      <td>3300000.0</td>\n",
       "      <td>9</td>\n",
       "    </tr>\n",
       "    <tr>\n",
       "      <th>14</th>\n",
       "      <td>1998.0</td>\n",
       "      <td>100000.0</td>\n",
       "      <td>29</td>\n",
       "    </tr>\n",
       "    <tr>\n",
       "      <th>15</th>\n",
       "      <td>1999.0</td>\n",
       "      <td>2000000.0</td>\n",
       "      <td>76</td>\n",
       "    </tr>\n",
       "    <tr>\n",
       "      <th>16</th>\n",
       "      <td>2000.0</td>\n",
       "      <td>4200000.0</td>\n",
       "      <td>125</td>\n",
       "    </tr>\n",
       "    <tr>\n",
       "      <th>17</th>\n",
       "      <td>2001.0</td>\n",
       "      <td>3000000.0</td>\n",
       "      <td>95</td>\n",
       "    </tr>\n",
       "    <tr>\n",
       "      <th>18</th>\n",
       "      <td>2002.0</td>\n",
       "      <td>4200000.0</td>\n",
       "      <td>115</td>\n",
       "    </tr>\n",
       "    <tr>\n",
       "      <th>19</th>\n",
       "      <td>2003.0</td>\n",
       "      <td>3000000.0</td>\n",
       "      <td>154</td>\n",
       "    </tr>\n",
       "    <tr>\n",
       "      <th>20</th>\n",
       "      <td>2004.0</td>\n",
       "      <td>5000000.0</td>\n",
       "      <td>286</td>\n",
       "    </tr>\n",
       "    <tr>\n",
       "      <th>21</th>\n",
       "      <td>2005.0</td>\n",
       "      <td>5500000.0</td>\n",
       "      <td>1624</td>\n",
       "    </tr>\n",
       "    <tr>\n",
       "      <th>22</th>\n",
       "      <td>2006.0</td>\n",
       "      <td>5000000.0</td>\n",
       "      <td>2409</td>\n",
       "    </tr>\n",
       "    <tr>\n",
       "      <th>23</th>\n",
       "      <td>2007.0</td>\n",
       "      <td>3973320.0</td>\n",
       "      <td>3220</td>\n",
       "    </tr>\n",
       "    <tr>\n",
       "      <th>24</th>\n",
       "      <td>2008.0</td>\n",
       "      <td>3110000.0</td>\n",
       "      <td>3735</td>\n",
       "    </tr>\n",
       "    <tr>\n",
       "      <th>25</th>\n",
       "      <td>2009.0</td>\n",
       "      <td>2000000.0</td>\n",
       "      <td>4112</td>\n",
       "    </tr>\n",
       "    <tr>\n",
       "      <th>26</th>\n",
       "      <td>2010.0</td>\n",
       "      <td>1602500.0</td>\n",
       "      <td>6194</td>\n",
       "    </tr>\n",
       "    <tr>\n",
       "      <th>27</th>\n",
       "      <td>2011.0</td>\n",
       "      <td>1200000.0</td>\n",
       "      <td>9162</td>\n",
       "    </tr>\n",
       "    <tr>\n",
       "      <th>28</th>\n",
       "      <td>2012.0</td>\n",
       "      <td>1000000.0</td>\n",
       "      <td>9956</td>\n",
       "    </tr>\n",
       "    <tr>\n",
       "      <th>29</th>\n",
       "      <td>2013.0</td>\n",
       "      <td>1200000.0</td>\n",
       "      <td>11042</td>\n",
       "    </tr>\n",
       "  </tbody>\n",
       "</table>\n",
       "</div>"
      ],
      "text/plain": [
       "      year  typical_amount  total_rounds\n",
       "0   1960.0             0.0             9\n",
       "1   1973.0             0.0             1\n",
       "2   1974.0             0.0             2\n",
       "3   1984.0         41000.0             3\n",
       "4   1985.0             0.0             1\n",
       "5   1987.0       1250000.0             2\n",
       "6   1989.0         15000.0             1\n",
       "7   1990.0       1000000.0             1\n",
       "8   1992.0       2000000.0             1\n",
       "9   1993.0         62500.0             2\n",
       "10  1994.0       6700000.0             2\n",
       "11  1995.0       2000000.0             7\n",
       "12  1996.0         12500.0             7\n",
       "13  1997.0       3300000.0             9\n",
       "14  1998.0        100000.0            29\n",
       "15  1999.0       2000000.0            76\n",
       "16  2000.0       4200000.0           125\n",
       "17  2001.0       3000000.0            95\n",
       "18  2002.0       4200000.0           115\n",
       "19  2003.0       3000000.0           154\n",
       "20  2004.0       5000000.0           286\n",
       "21  2005.0       5500000.0          1624\n",
       "22  2006.0       5000000.0          2409\n",
       "23  2007.0       3973320.0          3220\n",
       "24  2008.0       3110000.0          3735\n",
       "25  2009.0       2000000.0          4112\n",
       "26  2010.0       1602500.0          6194\n",
       "27  2011.0       1200000.0          9162\n",
       "28  2012.0       1000000.0          9956\n",
       "29  2013.0       1200000.0         11042"
      ]
     },
     "metadata": {},
     "output_type": "display_data"
    }
   ],
   "source": [
    "# Группировка данных по годам\n",
    "summary_table = company_and_rounds_df.groupby('year').agg(\n",
    "    typical_amount=('raised_amount', 'median'),\n",
    "    total_rounds=('funding_rounds', 'count')\n",
    ").reset_index()\n",
    "display(summary_table)"
   ]
  },
  {
   "cell_type": "markdown",
   "metadata": {},
   "source": [
    "Оставим в таблице информацию только для тех лет, для которых есть информация о более чем 50 раундах финансирования."
   ]
  },
  {
   "cell_type": "code",
   "execution_count": 18,
   "metadata": {},
   "outputs": [
    {
     "data": {
      "text/html": [
       "<div>\n",
       "<style scoped>\n",
       "    .dataframe tbody tr th:only-of-type {\n",
       "        vertical-align: middle;\n",
       "    }\n",
       "\n",
       "    .dataframe tbody tr th {\n",
       "        vertical-align: top;\n",
       "    }\n",
       "\n",
       "    .dataframe thead th {\n",
       "        text-align: right;\n",
       "    }\n",
       "</style>\n",
       "<table border=\"1\" class=\"dataframe\">\n",
       "  <thead>\n",
       "    <tr style=\"text-align: right;\">\n",
       "      <th></th>\n",
       "      <th>year</th>\n",
       "      <th>typical_amount</th>\n",
       "      <th>total_rounds</th>\n",
       "    </tr>\n",
       "  </thead>\n",
       "  <tbody>\n",
       "    <tr>\n",
       "      <th>15</th>\n",
       "      <td>1999.0</td>\n",
       "      <td>2000000.0</td>\n",
       "      <td>76</td>\n",
       "    </tr>\n",
       "    <tr>\n",
       "      <th>16</th>\n",
       "      <td>2000.0</td>\n",
       "      <td>4200000.0</td>\n",
       "      <td>125</td>\n",
       "    </tr>\n",
       "    <tr>\n",
       "      <th>17</th>\n",
       "      <td>2001.0</td>\n",
       "      <td>3000000.0</td>\n",
       "      <td>95</td>\n",
       "    </tr>\n",
       "    <tr>\n",
       "      <th>18</th>\n",
       "      <td>2002.0</td>\n",
       "      <td>4200000.0</td>\n",
       "      <td>115</td>\n",
       "    </tr>\n",
       "    <tr>\n",
       "      <th>19</th>\n",
       "      <td>2003.0</td>\n",
       "      <td>3000000.0</td>\n",
       "      <td>154</td>\n",
       "    </tr>\n",
       "    <tr>\n",
       "      <th>20</th>\n",
       "      <td>2004.0</td>\n",
       "      <td>5000000.0</td>\n",
       "      <td>286</td>\n",
       "    </tr>\n",
       "    <tr>\n",
       "      <th>21</th>\n",
       "      <td>2005.0</td>\n",
       "      <td>5500000.0</td>\n",
       "      <td>1624</td>\n",
       "    </tr>\n",
       "    <tr>\n",
       "      <th>22</th>\n",
       "      <td>2006.0</td>\n",
       "      <td>5000000.0</td>\n",
       "      <td>2409</td>\n",
       "    </tr>\n",
       "    <tr>\n",
       "      <th>23</th>\n",
       "      <td>2007.0</td>\n",
       "      <td>3973320.0</td>\n",
       "      <td>3220</td>\n",
       "    </tr>\n",
       "    <tr>\n",
       "      <th>24</th>\n",
       "      <td>2008.0</td>\n",
       "      <td>3110000.0</td>\n",
       "      <td>3735</td>\n",
       "    </tr>\n",
       "    <tr>\n",
       "      <th>25</th>\n",
       "      <td>2009.0</td>\n",
       "      <td>2000000.0</td>\n",
       "      <td>4112</td>\n",
       "    </tr>\n",
       "    <tr>\n",
       "      <th>26</th>\n",
       "      <td>2010.0</td>\n",
       "      <td>1602500.0</td>\n",
       "      <td>6194</td>\n",
       "    </tr>\n",
       "    <tr>\n",
       "      <th>27</th>\n",
       "      <td>2011.0</td>\n",
       "      <td>1200000.0</td>\n",
       "      <td>9162</td>\n",
       "    </tr>\n",
       "    <tr>\n",
       "      <th>28</th>\n",
       "      <td>2012.0</td>\n",
       "      <td>1000000.0</td>\n",
       "      <td>9956</td>\n",
       "    </tr>\n",
       "    <tr>\n",
       "      <th>29</th>\n",
       "      <td>2013.0</td>\n",
       "      <td>1200000.0</td>\n",
       "      <td>11042</td>\n",
       "    </tr>\n",
       "  </tbody>\n",
       "</table>\n",
       "</div>"
      ],
      "text/plain": [
       "      year  typical_amount  total_rounds\n",
       "15  1999.0       2000000.0            76\n",
       "16  2000.0       4200000.0           125\n",
       "17  2001.0       3000000.0            95\n",
       "18  2002.0       4200000.0           115\n",
       "19  2003.0       3000000.0           154\n",
       "20  2004.0       5000000.0           286\n",
       "21  2005.0       5500000.0          1624\n",
       "22  2006.0       5000000.0          2409\n",
       "23  2007.0       3973320.0          3220\n",
       "24  2008.0       3110000.0          3735\n",
       "25  2009.0       2000000.0          4112\n",
       "26  2010.0       1602500.0          6194\n",
       "27  2011.0       1200000.0          9162\n",
       "28  2012.0       1000000.0          9956\n",
       "29  2013.0       1200000.0         11042"
      ]
     },
     "metadata": {},
     "output_type": "display_data"
    }
   ],
   "source": [
    "# Фильтрация по количеству раундов\n",
    "summary_table = summary_table[summary_table['total_rounds'] > 50]\n",
    "display(summary_table)"
   ]
  },
  {
   "cell_type": "markdown",
   "metadata": {},
   "source": [
    "На основе получившейся таблицы построим график, который будет отражать динамику типичного размера средств, которые стартапы получали в рамках одного раунда финансирования.\n"
   ]
  },
  {
   "cell_type": "code",
   "execution_count": 19,
   "metadata": {},
   "outputs": [
    {
     "data": {
      "image/png": "[encoded data removed]",
      "text/plain": [
       "<Figure size 600x400 with 1 Axes>"
      ]
     },
     "metadata": {},
     "output_type": "display_data"
    }
   ],
   "source": [
    "# Построение графика\n",
    "plt.figure(figsize=(6, 4))\n",
    "plt.plot(summary_table['year'], summary_table['typical_amount'], marker='o')\n",
    "plt.title('Динамика типичного размера средств по годам')\n",
    "plt.xlabel('Год')\n",
    "plt.ylabel('Типичный размер средств (млн)')\n",
    "plt.grid()\n",
    "plt.xticks(summary_table['year'], rotation=45)\n",
    "plt.tight_layout()\n",
    "plt.show()"
   ]
  },
  {
   "cell_type": "markdown",
   "metadata": {},
   "source": [
    "- Максимальный типичный размер собранных средств в рамках одного раунда был в 2005 году и составил 5.5 млн долларов.\n",
    "\n",
    "В 2013 году:\n",
    "- Количество раундов финансирования достигло максимума (11,072 раунда).\n",
    "- Типичный размер средств, выделяемых в рамках одного раунда, увеличился по сравнению с 2012 годом (с 1 млн долларов до 1.2 млн долларов), что указывает на небольшое восстановление после предыдущего снижения.\n",
    "\n",
    "Анализ графика:\n",
    "- С 1999 по 2005 год наблюдался рост типичного размера средств, выделяемых на один раунд.\n",
    "- После 2005 года началось постепенное снижение, которое достигло минимума в 2012 году.\n",
    "- В 2013 году произошло небольшое увеличение типичного размера финансирования.\n",
    "\n",
    "Общая тенденция:\n",
    "- С 1999 года количество раундов финансирования значительно увеличилось, начиная с 76 в 1999 году и достигая 11,042 в 2013 году. Это указывает на растущий интерес к инвестициям и активность на рынке.\n",
    "- Типичные суммы финансирования колебались в течение рассматриваемого периода. Например, в 2005 году наблюдается пик с суммой 5,500,000, после чего суммы начинают снижаться до уровня ниже 2,000,000 в 2012-2013 годах.\n",
    "\n",
    "Связь между раундами финансирования и суммами:\n",
    "- В начале периода (1999-2005) наблюдается рост как типичных сумм, так и количества раундов. Однако после 2005 года, несмотря на продолжение роста количества раундов, типичные суммы начали снижаться.\n",
    "- С увеличением числа раундов финансирования можно предположить, что рынок стал более насыщенным, что могло привести к снижению типичных сумм. Более высокий объем раундов может означать большее количество малых инвестиций, что в свою очередь снижает среднюю сумму.\n",
    "\n",
    "Таким образом, рынок финансирования стал более активным с ростом числа раундов. Увеличение количества раундов не всегда связано с ростом типичных сумм финансирования. Несмотря на рост активности на рынке (количество раундов), типичные суммы финансирования не только не росли, но и снижались в последние годы анализа."
   ]
  },
  {
   "cell_type": "markdown",
   "metadata": {
    "id": "45if1en1rJg2"
   },
   "source": [
    "\n",
    "### 2.2. Люди и их образование\n",
    "\n",
    "Заказчик хочет понять, зависит ли полнота сведений о сотрудниках (например, об их образовании) от размера компаний. Оценим, насколько информация об образовании сотрудников полна. "
   ]
  },
  {
   "cell_type": "markdown",
   "metadata": {},
   "source": [
    "Для анализа зависимости полноты сведений об образовании сотрудников от размера компаний, необходимо выполнить несколько шагов с использованием предоставленных датасетов: `people.csv`, `education.csv` и `degrees.csv`. \n",
    "\n",
    "Проведем предварительный анализ загруженных данных, чтобы понять структуру таблиц. Необходимо обратить внимание на столбцы, которые могут быть использованы для объединения"
   ]
  },
  {
   "cell_type": "code",
   "execution_count": 20,
   "metadata": {},
   "outputs": [],
   "source": [
    "# Словарь для хранения загруженных датафреймов\n",
    "\n",
    "dataframes_educ = {\n",
    "    \"degrees\": degrees_df,\n",
    "    \"education\": education_df,\n",
    "    \"people\": people_df\n",
    "}"
   ]
  },
  {
   "cell_type": "code",
   "execution_count": 21,
   "metadata": {
    "scrolled": true
   },
   "outputs": [
    {
     "name": "stdout",
     "output_type": "stream",
     "text": [
      "DataFrame 'degrees':\n",
      "Type:\n",
      "   id object_id degree_type                       subject\n",
      "0   1    p:6117         MBA                           NaN\n",
      "1   2    p:6136          BA               English, French\n",
      "2   3    p:6136          MS            Mass Communication\n",
      "3   4    p:6005          MS           Internet Technology\n",
      "4   5    p:5832         BCS  Computer Science, Psychology\n",
      "\n",
      "<class 'pandas.core.frame.DataFrame'>\n",
      "RangeIndex: 109610 entries, 0 to 109609\n",
      "Data columns (total 4 columns):\n",
      " #   Column       Non-Null Count   Dtype \n",
      "---  ------       --------------   ----- \n",
      " 0   id           109610 non-null  int64 \n",
      " 1   object_id    109610 non-null  object\n",
      " 2   degree_type  98389 non-null   object\n",
      " 3   subject      81298 non-null   object\n",
      "dtypes: int64(1), object(3)\n",
      "memory usage: 3.3+ MB\n"
     ]
    },
    {
     "data": {
      "text/plain": [
       "'None\\n\\n'"
      ]
     },
     "metadata": {},
     "output_type": "display_data"
    },
    {
     "name": "stdout",
     "output_type": "stream",
     "text": [
      "DataFrame 'education':\n",
      "Type:\n",
      "   id  person_id                      instituition graduated_at\n",
      "0   1       6117                               NaN          NaT\n",
      "1   2       6136  Washington University, St. Louis   1990-01-01\n",
      "2   3       6136                 Boston University   1992-01-01\n",
      "3   4       6005           University of Greenwich   2006-01-01\n",
      "4   5       5832                   Rice University          NaT\n",
      "\n",
      "<class 'pandas.core.frame.DataFrame'>\n",
      "RangeIndex: 109610 entries, 0 to 109609\n",
      "Data columns (total 4 columns):\n",
      " #   Column        Non-Null Count   Dtype         \n",
      "---  ------        --------------   -----         \n",
      " 0   id            109610 non-null  int64         \n",
      " 1   person_id     109610 non-null  int64         \n",
      " 2   instituition  109555 non-null  object        \n",
      " 3   graduated_at  58054 non-null   datetime64[ns]\n",
      "dtypes: datetime64[ns](1), int64(2), object(1)\n",
      "memory usage: 3.3+ MB\n"
     ]
    },
    {
     "data": {
      "text/plain": [
       "'None\\n\\n'"
      ]
     },
     "metadata": {},
     "output_type": "display_data"
    },
    {
     "name": "stdout",
     "output_type": "stream",
     "text": [
      "DataFrame 'people':\n",
      "Type:\n",
      "       id  first_name    last_name  company_id network_username\n",
      "0      10        Mark   Zuckerberg         5.0              NaN\n",
      "1     100       Peter       Lester        27.0              NaN\n",
      "2    1000  Dr. Steven  E. Saunders       292.0              NaN\n",
      "3   10000        Neil        Capel      2526.0              NaN\n",
      "4  100000         Sue       Pilsch         NaN              NaN\n",
      "\n",
      "<class 'pandas.core.frame.DataFrame'>\n",
      "RangeIndex: 226709 entries, 0 to 226708\n",
      "Data columns (total 5 columns):\n",
      " #   Column            Non-Null Count   Dtype  \n",
      "---  ------            --------------   -----  \n",
      " 0   id                226709 non-null  int64  \n",
      " 1   first_name        226700 non-null  object \n",
      " 2   last_name         226705 non-null  object \n",
      " 3   company_id        34615 non-null   float64\n",
      " 4   network_username  38867 non-null   object \n",
      "dtypes: float64(1), int64(1), object(3)\n",
      "memory usage: 8.6+ MB\n"
     ]
    },
    {
     "data": {
      "text/plain": [
       "'None\\n\\n'"
      ]
     },
     "metadata": {},
     "output_type": "display_data"
    }
   ],
   "source": [
    "# Просмотр первых строк каждого датафрейма\n",
    "for name, df in dataframes_educ.items():   \n",
    "    print(f\"DataFrame '{name}':\")\n",
    "    print(f\"Type:\\n{df.head()}\\n\")\n",
    "    display(f\"{df.info()}\\n\\n\")"
   ]
  },
  {
   "cell_type": "markdown",
   "metadata": {},
   "source": [
    "Прежде необходимо выполнить преобразование столбца `object_id`, привести идентификаторы к общему виду."
   ]
  },
  {
   "cell_type": "code",
   "execution_count": 22,
   "metadata": {},
   "outputs": [],
   "source": [
    "# Преобразование object_id в целые числа\n",
    "degrees_df['object_id'] = degrees_df[\n",
    "            'object_id'].str.replace('p:', '').astype(int)"
   ]
  },
  {
   "cell_type": "markdown",
   "metadata": {},
   "source": [
    "Сначала объединим таблицы people_df и education_df и рассмотрим процент заполненности данных в объединенной таблице."
   ]
  },
  {
   "cell_type": "code",
   "execution_count": 23,
   "metadata": {},
   "outputs": [
    {
     "data": {
      "text/plain": [
       "id_people           100.0\n",
       "first_name          100.0\n",
       "last_name           100.0\n",
       "company_id           17.0\n",
       "network_username     19.0\n",
       "id_education         41.0\n",
       "person_id            41.0\n",
       "instituition         41.0\n",
       "graduated_at         22.0\n",
       "dtype: float64"
      ]
     },
     "execution_count": 23,
     "metadata": {},
     "output_type": "execute_result"
    }
   ],
   "source": [
    "# Объединение таблиц education_df и people_df\n",
    "merged_df = pd.merge(\n",
    "     people_df, education_df, left_on='id', right_on='person_id', how='left', suffixes=(\n",
    "         '_people', '_education'))\n",
    "\n",
    "# Процент заполненности информации\n",
    "merged_fill_rate = round((1 - merged_df.isnull().sum() / len(merged_df)) * 100)\n",
    "merged_fill_rate"
   ]
  },
  {
   "cell_type": "markdown",
   "metadata": {},
   "source": [
    "Присоединим таблицу degrees_df и посмотрим, что получим от добавления таблицы, насколько больше станет информации."
   ]
  },
  {
   "cell_type": "code",
   "execution_count": 24,
   "metadata": {
    "scrolled": true
   },
   "outputs": [
    {
     "data": {
      "text/plain": [
       "id_people           100.0\n",
       "first_name          100.0\n",
       "last_name           100.0\n",
       "company_id           19.0\n",
       "network_username     22.0\n",
       "id_education         57.0\n",
       "person_id            57.0\n",
       "instituition         57.0\n",
       "graduated_at         31.0\n",
       "id                   57.0\n",
       "object_id            57.0\n",
       "degree_type          51.0\n",
       "subject              42.0\n",
       "dtype: float64"
      ]
     },
     "execution_count": 24,
     "metadata": {},
     "output_type": "execute_result"
    }
   ],
   "source": [
    "# Объединение education с таблицей degrees\n",
    "merged_df = pd.merge(merged_df, degrees_df, left_on='id_people', right_on='object_id', how='left')\n",
    "\n",
    "# Процент заполненности информации\n",
    "merged_fill_rate = round((1 - merged_df.isnull().sum() / len(merged_df)) * 100)\n",
    "merged_fill_rate"
   ]
  },
  {
   "cell_type": "markdown",
   "metadata": {},
   "source": [
    "Для получения информации по образованию мы можем использовать столбцы `instituition`, `graduated_at`, `degree_type`. Так как, просле присоединения таблицы `degrees` информативность этих столбцов возрастает, можно сделать вывод что присоединение целесообразно. "
   ]
  },
  {
   "cell_type": "markdown",
   "metadata": {},
   "source": [
    "Добавим новый столбец с необходимой информацией о наличии образования. '1' указывает на наличие значения (то есть образование есть), а '0' — на его отсутствие (пропуск). Используем столбец `instituition`."
   ]
  },
  {
   "cell_type": "code",
   "execution_count": 25,
   "metadata": {},
   "outputs": [
    {
     "data": {
      "text/html": [
       "<div>\n",
       "<style scoped>\n",
       "    .dataframe tbody tr th:only-of-type {\n",
       "        vertical-align: middle;\n",
       "    }\n",
       "\n",
       "    .dataframe tbody tr th {\n",
       "        vertical-align: top;\n",
       "    }\n",
       "\n",
       "    .dataframe thead th {\n",
       "        text-align: right;\n",
       "    }\n",
       "</style>\n",
       "<table border=\"1\" class=\"dataframe\">\n",
       "  <thead>\n",
       "    <tr style=\"text-align: right;\">\n",
       "      <th></th>\n",
       "      <th>id_people</th>\n",
       "      <th>first_name</th>\n",
       "      <th>last_name</th>\n",
       "      <th>company_id</th>\n",
       "      <th>network_username</th>\n",
       "      <th>id_education</th>\n",
       "      <th>person_id</th>\n",
       "      <th>instituition</th>\n",
       "      <th>graduated_at</th>\n",
       "      <th>id</th>\n",
       "      <th>object_id</th>\n",
       "      <th>degree_type</th>\n",
       "      <th>subject</th>\n",
       "      <th>education</th>\n",
       "    </tr>\n",
       "  </thead>\n",
       "  <tbody>\n",
       "    <tr>\n",
       "      <th>0</th>\n",
       "      <td>10</td>\n",
       "      <td>Mark</td>\n",
       "      <td>Zuckerberg</td>\n",
       "      <td>5.0</td>\n",
       "      <td>NaN</td>\n",
       "      <td>2415.0</td>\n",
       "      <td>10.0</td>\n",
       "      <td>Harvard University</td>\n",
       "      <td>NaT</td>\n",
       "      <td>2415.0</td>\n",
       "      <td>10.0</td>\n",
       "      <td>NaN</td>\n",
       "      <td>Computer Science</td>\n",
       "      <td>1</td>\n",
       "    </tr>\n",
       "    <tr>\n",
       "      <th>1</th>\n",
       "      <td>100</td>\n",
       "      <td>Peter</td>\n",
       "      <td>Lester</td>\n",
       "      <td>27.0</td>\n",
       "      <td>NaN</td>\n",
       "      <td>NaN</td>\n",
       "      <td>NaN</td>\n",
       "      <td>NaN</td>\n",
       "      <td>NaT</td>\n",
       "      <td>NaN</td>\n",
       "      <td>NaN</td>\n",
       "      <td>NaN</td>\n",
       "      <td>NaN</td>\n",
       "      <td>0</td>\n",
       "    </tr>\n",
       "    <tr>\n",
       "      <th>2</th>\n",
       "      <td>1000</td>\n",
       "      <td>Dr. Steven</td>\n",
       "      <td>E. Saunders</td>\n",
       "      <td>292.0</td>\n",
       "      <td>NaN</td>\n",
       "      <td>NaN</td>\n",
       "      <td>NaN</td>\n",
       "      <td>NaN</td>\n",
       "      <td>NaT</td>\n",
       "      <td>NaN</td>\n",
       "      <td>NaN</td>\n",
       "      <td>NaN</td>\n",
       "      <td>NaN</td>\n",
       "      <td>0</td>\n",
       "    </tr>\n",
       "    <tr>\n",
       "      <th>3</th>\n",
       "      <td>10000</td>\n",
       "      <td>Neil</td>\n",
       "      <td>Capel</td>\n",
       "      <td>2526.0</td>\n",
       "      <td>NaN</td>\n",
       "      <td>NaN</td>\n",
       "      <td>NaN</td>\n",
       "      <td>NaN</td>\n",
       "      <td>NaT</td>\n",
       "      <td>NaN</td>\n",
       "      <td>NaN</td>\n",
       "      <td>NaN</td>\n",
       "      <td>NaN</td>\n",
       "      <td>0</td>\n",
       "    </tr>\n",
       "    <tr>\n",
       "      <th>4</th>\n",
       "      <td>100000</td>\n",
       "      <td>Sue</td>\n",
       "      <td>Pilsch</td>\n",
       "      <td>NaN</td>\n",
       "      <td>NaN</td>\n",
       "      <td>NaN</td>\n",
       "      <td>NaN</td>\n",
       "      <td>NaN</td>\n",
       "      <td>NaT</td>\n",
       "      <td>NaN</td>\n",
       "      <td>NaN</td>\n",
       "      <td>NaN</td>\n",
       "      <td>NaN</td>\n",
       "      <td>0</td>\n",
       "    </tr>\n",
       "  </tbody>\n",
       "</table>\n",
       "</div>"
      ],
      "text/plain": [
       "   id_people  first_name    last_name  company_id network_username  \\\n",
       "0         10        Mark   Zuckerberg         5.0              NaN   \n",
       "1        100       Peter       Lester        27.0              NaN   \n",
       "2       1000  Dr. Steven  E. Saunders       292.0              NaN   \n",
       "3      10000        Neil        Capel      2526.0              NaN   \n",
       "4     100000         Sue       Pilsch         NaN              NaN   \n",
       "\n",
       "   id_education  person_id        instituition graduated_at      id  \\\n",
       "0        2415.0       10.0  Harvard University          NaT  2415.0   \n",
       "1           NaN        NaN                 NaN          NaT     NaN   \n",
       "2           NaN        NaN                 NaN          NaT     NaN   \n",
       "3           NaN        NaN                 NaN          NaT     NaN   \n",
       "4           NaN        NaN                 NaN          NaT     NaN   \n",
       "\n",
       "   object_id degree_type           subject  education  \n",
       "0       10.0         NaN  Computer Science          1  \n",
       "1        NaN         NaN               NaN          0  \n",
       "2        NaN         NaN               NaN          0  \n",
       "3        NaN         NaN               NaN          0  \n",
       "4        NaN         NaN               NaN          0  "
      ]
     },
     "execution_count": 25,
     "metadata": {},
     "output_type": "execute_result"
    }
   ],
   "source": [
    "# Добавляем новый столбец 'education' с использованием .loc\n",
    "merged_df['education'] = merged_df['instituition'].notnull().astype(int)\n",
    "merged_df.head()"
   ]
  },
  {
   "cell_type": "markdown",
   "metadata": {},
   "source": [
    "Посчитаем для каждой компании:\n",
    "- общее количество сотрудников;\n",
    "- количество сотрудников без образования;\n",
    "- долю сотрудников без образования."
   ]
  },
  {
   "cell_type": "code",
   "execution_count": 26,
   "metadata": {},
   "outputs": [
    {
     "data": {
      "text/html": [
       "<div>\n",
       "<style scoped>\n",
       "    .dataframe tbody tr th:only-of-type {\n",
       "        vertical-align: middle;\n",
       "    }\n",
       "\n",
       "    .dataframe tbody tr th {\n",
       "        vertical-align: top;\n",
       "    }\n",
       "\n",
       "    .dataframe thead th {\n",
       "        text-align: right;\n",
       "    }\n",
       "</style>\n",
       "<table border=\"1\" class=\"dataframe\">\n",
       "  <thead>\n",
       "    <tr style=\"text-align: right;\">\n",
       "      <th></th>\n",
       "      <th>company_id</th>\n",
       "      <th>employee_count</th>\n",
       "      <th>no_education_count</th>\n",
       "      <th>no_education_ratio</th>\n",
       "    </tr>\n",
       "  </thead>\n",
       "  <tbody>\n",
       "    <tr>\n",
       "      <th>0</th>\n",
       "      <td>1.0</td>\n",
       "      <td>5</td>\n",
       "      <td>1</td>\n",
       "      <td>0.200000</td>\n",
       "    </tr>\n",
       "    <tr>\n",
       "      <th>1</th>\n",
       "      <td>2.0</td>\n",
       "      <td>1</td>\n",
       "      <td>0</td>\n",
       "      <td>0.000000</td>\n",
       "    </tr>\n",
       "    <tr>\n",
       "      <th>2</th>\n",
       "      <td>3.0</td>\n",
       "      <td>9</td>\n",
       "      <td>1</td>\n",
       "      <td>0.111111</td>\n",
       "    </tr>\n",
       "    <tr>\n",
       "      <th>3</th>\n",
       "      <td>4.0</td>\n",
       "      <td>28</td>\n",
       "      <td>1</td>\n",
       "      <td>0.035714</td>\n",
       "    </tr>\n",
       "    <tr>\n",
       "      <th>4</th>\n",
       "      <td>5.0</td>\n",
       "      <td>138</td>\n",
       "      <td>16</td>\n",
       "      <td>0.115942</td>\n",
       "    </tr>\n",
       "    <tr>\n",
       "      <th>...</th>\n",
       "      <td>...</td>\n",
       "      <td>...</td>\n",
       "      <td>...</td>\n",
       "      <td>...</td>\n",
       "    </tr>\n",
       "    <tr>\n",
       "      <th>22917</th>\n",
       "      <td>285897.0</td>\n",
       "      <td>2</td>\n",
       "      <td>0</td>\n",
       "      <td>0.000000</td>\n",
       "    </tr>\n",
       "    <tr>\n",
       "      <th>22918</th>\n",
       "      <td>285953.0</td>\n",
       "      <td>1</td>\n",
       "      <td>1</td>\n",
       "      <td>1.000000</td>\n",
       "    </tr>\n",
       "    <tr>\n",
       "      <th>22919</th>\n",
       "      <td>285972.0</td>\n",
       "      <td>2</td>\n",
       "      <td>1</td>\n",
       "      <td>0.500000</td>\n",
       "    </tr>\n",
       "    <tr>\n",
       "      <th>22920</th>\n",
       "      <td>285996.0</td>\n",
       "      <td>1</td>\n",
       "      <td>0</td>\n",
       "      <td>0.000000</td>\n",
       "    </tr>\n",
       "    <tr>\n",
       "      <th>22921</th>\n",
       "      <td>286091.0</td>\n",
       "      <td>9</td>\n",
       "      <td>2</td>\n",
       "      <td>0.222222</td>\n",
       "    </tr>\n",
       "  </tbody>\n",
       "</table>\n",
       "<p>22922 rows × 4 columns</p>\n",
       "</div>"
      ],
      "text/plain": [
       "       company_id  employee_count  no_education_count  no_education_ratio\n",
       "0             1.0               5                   1            0.200000\n",
       "1             2.0               1                   0            0.000000\n",
       "2             3.0               9                   1            0.111111\n",
       "3             4.0              28                   1            0.035714\n",
       "4             5.0             138                  16            0.115942\n",
       "...           ...             ...                 ...                 ...\n",
       "22917    285897.0               2                   0            0.000000\n",
       "22918    285953.0               1                   1            1.000000\n",
       "22919    285972.0               2                   1            0.500000\n",
       "22920    285996.0               1                   0            0.000000\n",
       "22921    286091.0               9                   2            0.222222\n",
       "\n",
       "[22922 rows x 4 columns]"
      ]
     },
     "metadata": {},
     "output_type": "display_data"
    }
   ],
   "source": [
    "# Создание сводной таблицы\n",
    "summary_table = merged_df.groupby('company_id').agg(\n",
    "    employee_count=('id_people', 'count'),  # Подсчет количества сотрудников\n",
    "    no_education_count=('education', lambda x: (x == 0).sum()),  # Подсчет сотрудников без образования\n",
    ").reset_index()\n",
    "\n",
    "# Добавление доли сотрудников без образования\n",
    "summary_table['no_education_ratio'] = summary_table['no_education_count'] / summary_table['employee_count']\n",
    "\n",
    "# Вывод сводной таблицы\n",
    "display(summary_table)\n"
   ]
  },
  {
   "cell_type": "markdown",
   "metadata": {},
   "source": [
    "Посмотрим на распределение людей по компаниям, чтобы оценить , на какие группы разделять компании."
   ]
  },
  {
   "cell_type": "code",
   "execution_count": 27,
   "metadata": {},
   "outputs": [
    {
     "data": {
      "text/plain": [
       "employee_count\n",
       "1      14150\n",
       "4       3198\n",
       "2       1738\n",
       "9        909\n",
       "5        703\n",
       "       ...  \n",
       "320        1\n",
       "112        1\n",
       "83         1\n",
       "40         1\n",
       "58         1\n",
       "Name: count, Length: 82, dtype: int64"
      ]
     },
     "execution_count": 27,
     "metadata": {},
     "output_type": "execute_result"
    }
   ],
   "source": [
    "# Посмотрим на распределение людей по компаниям\n",
    "company_distribution = summary_table['employee_count'].value_counts()\n",
    "company_distribution\n"
   ]
  },
  {
   "cell_type": "code",
   "execution_count": 28,
   "metadata": {},
   "outputs": [
    {
     "data": {
      "text/html": [
       "<div>\n",
       "<style scoped>\n",
       "    .dataframe tbody tr th:only-of-type {\n",
       "        vertical-align: middle;\n",
       "    }\n",
       "\n",
       "    .dataframe tbody tr th {\n",
       "        vertical-align: top;\n",
       "    }\n",
       "\n",
       "    .dataframe thead th {\n",
       "        text-align: right;\n",
       "    }\n",
       "</style>\n",
       "<table border=\"1\" class=\"dataframe\">\n",
       "  <thead>\n",
       "    <tr style=\"text-align: right;\">\n",
       "      <th></th>\n",
       "      <th>company_id</th>\n",
       "      <th>employee_count</th>\n",
       "      <th>no_education_count</th>\n",
       "      <th>no_education_ratio</th>\n",
       "    </tr>\n",
       "  </thead>\n",
       "  <tbody>\n",
       "    <tr>\n",
       "      <th>count</th>\n",
       "      <td>22922.000000</td>\n",
       "      <td>22922.000000</td>\n",
       "      <td>22922.000000</td>\n",
       "      <td>22922.000000</td>\n",
       "    </tr>\n",
       "    <tr>\n",
       "      <th>mean</th>\n",
       "      <td>102688.472646</td>\n",
       "      <td>3.091746</td>\n",
       "      <td>0.706701</td>\n",
       "      <td>0.452306</td>\n",
       "    </tr>\n",
       "    <tr>\n",
       "      <th>std</th>\n",
       "      <td>84842.926930</td>\n",
       "      <td>7.948286</td>\n",
       "      <td>1.227940</td>\n",
       "      <td>0.477889</td>\n",
       "    </tr>\n",
       "    <tr>\n",
       "      <th>min</th>\n",
       "      <td>1.000000</td>\n",
       "      <td>1.000000</td>\n",
       "      <td>0.000000</td>\n",
       "      <td>0.000000</td>\n",
       "    </tr>\n",
       "    <tr>\n",
       "      <th>25%</th>\n",
       "      <td>28844.500000</td>\n",
       "      <td>1.000000</td>\n",
       "      <td>0.000000</td>\n",
       "      <td>0.000000</td>\n",
       "    </tr>\n",
       "    <tr>\n",
       "      <th>50%</th>\n",
       "      <td>70878.500000</td>\n",
       "      <td>1.000000</td>\n",
       "      <td>1.000000</td>\n",
       "      <td>0.142857</td>\n",
       "    </tr>\n",
       "    <tr>\n",
       "      <th>75%</th>\n",
       "      <td>174083.500000</td>\n",
       "      <td>4.000000</td>\n",
       "      <td>1.000000</td>\n",
       "      <td>1.000000</td>\n",
       "    </tr>\n",
       "    <tr>\n",
       "      <th>max</th>\n",
       "      <td>286091.000000</td>\n",
       "      <td>722.000000</td>\n",
       "      <td>76.000000</td>\n",
       "      <td>1.000000</td>\n",
       "    </tr>\n",
       "  </tbody>\n",
       "</table>\n",
       "</div>"
      ],
      "text/plain": [
       "          company_id  employee_count  no_education_count  no_education_ratio\n",
       "count   22922.000000    22922.000000        22922.000000        22922.000000\n",
       "mean   102688.472646        3.091746            0.706701            0.452306\n",
       "std     84842.926930        7.948286            1.227940            0.477889\n",
       "min         1.000000        1.000000            0.000000            0.000000\n",
       "25%     28844.500000        1.000000            0.000000            0.000000\n",
       "50%     70878.500000        1.000000            1.000000            0.142857\n",
       "75%    174083.500000        4.000000            1.000000            1.000000\n",
       "max    286091.000000      722.000000           76.000000            1.000000"
      ]
     },
     "execution_count": 28,
     "metadata": {},
     "output_type": "execute_result"
    }
   ],
   "source": [
    "# Посмотрим на распределение людей по компаниям\n",
    "summary_table.describe()"
   ]
  },
  {
   "cell_type": "markdown",
   "metadata": {},
   "source": [
    "Сгруппируем таблицу по количеству сотрудников в одной компании. Границы групп выбраны следующим образом:\n",
    "- 1-5 сотрудников\n",
    "- 5-10 сотрудников\n",
    "- 10-20 сотрудников\n",
    "- 20-50 сотрудников\n",
    "- 50-100 сотрудников\n",
    "- Более 100 сотрудников\n",
    "\n",
    "Эти границы выбраны для более детального анализа малых и крупных компаний. Также оценим среднюю долю сотрудников без информации об образовании в каждой группе. "
   ]
  },
  {
   "cell_type": "code",
   "execution_count": 29,
   "metadata": {},
   "outputs": [
    {
     "name": "stdout",
     "output_type": "stream",
     "text": [
      "       group  total_employees  total_companies  avg_no_education_ratio\n",
      "0        1-5            35340            20258                    50.0\n",
      "1       6-10            14412             1722                    12.0\n",
      "2      11-20             9884              673                    11.0\n",
      "3      21-50             6630              229                     8.0\n",
      "4     51-100             1821               27                     7.0\n",
      "5  Более 100             2782               13                     9.0\n"
     ]
    }
   ],
   "source": [
    "# Определение границ групп\n",
    "bins = [0, 5, 10, 20, 50, 100, float('inf')]\n",
    "labels = ['1-5', '6-10', '11-20', '21-50', '51-100', 'Более 100']\n",
    "\n",
    "# Создание новой колонки с группами\n",
    "summary_table['group'] = pd.cut(summary_table['employee_count'], bins=bins, labels=labels)\n",
    "\n",
    "# Группировка по новым категориям и расчет необходимых метрик\n",
    "grouped = summary_table.groupby('group', observed=False).agg(\n",
    "    total_employees=('employee_count', 'sum'),\n",
    "    total_companies=('company_id', 'count'),\n",
    "    avg_no_education_ratio=('no_education_ratio', lambda x: (x.mean() * 100).round(0))\n",
    ").reset_index()\n",
    "\n",
    "# Вывод результата\n",
    "print(grouped)"
   ]
  },
  {
   "cell_type": "code",
   "execution_count": 30,
   "metadata": {},
   "outputs": [
    {
     "data": {
      "image/png": "[encoded data removed]",
      "text/plain": [
       "<Figure size 600x400 with 1 Axes>"
      ]
     },
     "metadata": {},
     "output_type": "display_data"
    }
   ],
   "source": [
    "# Построение гистограммы\n",
    "plt.figure(figsize=(6, 4))\n",
    "plt.bar(grouped['group'], grouped['avg_no_education_ratio'], color='skyblue')\n",
    "plt.title('Доля сотрудников без информации об образовании')\n",
    "plt.xlabel('Размер компании (чел)')\n",
    "plt.ylabel('Доля сотрудников без образования (%)')\n",
    "plt.xticks(rotation=45)\n",
    "    \n",
    "plt.show()"
   ]
  },
  {
   "cell_type": "markdown",
   "metadata": {},
   "source": [
    "В результате можно заключить, что в малых компаниях (с численностью от 1 до 5 сотрудников) доля работников без данных об образовании значительно выше, чем в средних и крупных организациях. \n",
    "\n",
    "Это свидетельствует о том, что полнота сведений о сотрудниках зависит от размера компании, по крайней мере, в контексте уровня образования. Чем больше компания, тем большее количество сотрудников имеет информацию об их образовании."
   ]
  },
  {
   "cell_type": "markdown",
   "metadata": {},
   "source": [
    "### 2.3. Объединять или не объединять — вот в чём вопрос\n",
    "\n",
    "* Установим, подходит ли для объединения данных столбец `network_username`, который встречается в нескольких датасетах. Нам необходимо понимать, дублируется ли для разных датасетов информация в столбцах с таким названием, и если да — то насколько часто.\n",
    "\n",
    "* Оценим, можно ли использовать столбцы с именем `network_username` для объединения данных."
   ]
  },
  {
   "cell_type": "markdown",
   "metadata": {
    "id": "Cf5IjfOQrJg1"
   },
   "source": [
    "Для оценки возможности использования столбца network_username для объединения данных из различных датасетов, необходимо проанализировать его сожержание, присутствие и частоту значений в каждом из датасетов. Используем созданый ранее словарь"
   ]
  },
  {
   "cell_type": "code",
   "execution_count": 31,
   "metadata": {},
   "outputs": [
    {
     "name": "stdout",
     "output_type": "stream",
     "text": [
      "acquisition: None\n",
      "company_and_rounds: ['BachelrWetpaint' nan 'Hostnine' ... 'networkzend' 'pPhotonet' 'Photonet']\n",
      "degrees: None\n",
      "education: None\n",
      "fund: [nan 'greylockvc' 'imi_vc' ... 'CalSTRS' 'haystack_fund' 'fbFund']\n",
      "investment: None\n",
      "people: [nan 'jobsbostontech' 'fbroulette' ... 'itechsocialnet' 'socialnethubs'\n",
      " 'esocialnetlike']\n"
     ]
    }
   ],
   "source": [
    "# Функция для получения уникальных значений в столбце network_username\n",
    "def unique_network_usernames(dataframes):\n",
    "    unique_usernames = {}\n",
    "    \n",
    "    for name, df in dataframes.items():\n",
    "        if 'network_username' in df.columns:\n",
    "            unique_usernames[name] = df['network_username'].unique()\n",
    "        else:\n",
    "            unique_usernames[name] = None\n",
    "            \n",
    "    return unique_usernames\n",
    "\n",
    "# Получаем уникальные значения\n",
    "unique_usernames_result = unique_network_usernames(dataframes)\n",
    "\n",
    "# Выводим результат\n",
    "for dataset, usernames in unique_usernames_result.items():\n",
    "    print(f\"{dataset}: {usernames}\")"
   ]
  },
  {
   "cell_type": "code",
   "execution_count": 32,
   "metadata": {},
   "outputs": [
    {
     "data": {
      "text/plain": [
       "{'acquisition': None,\n",
       " 'company_and_rounds': network_username\n",
       " Goodman_UK      20\n",
       " IndiaMART       17\n",
       " mobivery        15\n",
       " tyropayments    15\n",
       " AviirLabs       14\n",
       "                 ..\n",
       " GnRTech          1\n",
       " appcamelot       1\n",
       " furnillion       1\n",
       " pixelhose        1\n",
       " treebetty        1\n",
       " Name: count, Length: 79571, dtype: int64,\n",
       " 'degrees': None,\n",
       " 'education': None,\n",
       " 'fund': network_username\n",
       " SVB_Financial      4\n",
       " GrowthWorks        4\n",
       " OsageVC            3\n",
       " rwe_ag             3\n",
       " upfrontvc          3\n",
       "                   ..\n",
       " seraphimcapital    1\n",
       " VolvoVC            1\n",
       " eedwards           1\n",
       " dshen              1\n",
       " fbFund             1\n",
       " Name: count, Length: 2098, dtype: int64,\n",
       " 'investment': None,\n",
       " 'people': network_username\n",
       " iWatchLife         6\n",
       " chrislogan         5\n",
       " ConnectAndSell     4\n",
       " firstscribe        4\n",
       " bubblehubdotcom    3\n",
       "                   ..\n",
       " jasonkneen         1\n",
       " billymauro         1\n",
       " manju_s7           1\n",
       " bioveiga           1\n",
       " esocialnetlike     1\n",
       " Name: count, Length: 38421, dtype: int64}"
      ]
     },
     "execution_count": 32,
     "metadata": {},
     "output_type": "execute_result"
    }
   ],
   "source": [
    "# Словарь для хранения частоты значений\n",
    "network_username_counts = {}\n",
    "\n",
    "# Подсчет значений в столбце network_username для каждого датасета\n",
    "for name, df in dataframes.items():\n",
    "    if 'network_username' in df.columns:\n",
    "        counts = df['network_username'].value_counts()\n",
    "        network_username_counts[name] = counts\n",
    "    else:\n",
    "        network_username_counts[name] = None\n",
    "\n",
    "network_username_counts"
   ]
  },
  {
   "cell_type": "markdown",
   "metadata": {},
   "source": [
    "Для оценки возможности использования столбца network_username для объединения данных из трех таблиц (`company_and_rounds_df`, `people_df`, `fund_df`), необходимо проанализировать количество пересечений значений в этом столбце. \n",
    "\n",
    "Найдем уникальные имена пользователей из таблиц и посмотрим на их пересечение"
   ]
  },
  {
   "cell_type": "code",
   "execution_count": 33,
   "metadata": {},
   "outputs": [],
   "source": [
    "# Получение уникальных значений из столбца network_username\n",
    "company_usernames = set(company_and_rounds_df['network_username'].dropna())\n",
    "people_usernames = set(people_df['network_username'].dropna())\n",
    "fund_usernames = set(fund_df['network_username'].dropna())"
   ]
  },
  {
   "cell_type": "code",
   "execution_count": 34,
   "metadata": {},
   "outputs": [],
   "source": [
    "# Нахождение пересечений\n",
    "intersection_company_people = company_usernames.intersection(people_usernames)\n",
    "intersection_people_fund = people_usernames.intersection(fund_usernames)\n",
    "intersection_company_fund = company_usernames.intersection(fund_usernames)"
   ]
  },
  {
   "cell_type": "code",
   "execution_count": 35,
   "metadata": {},
   "outputs": [
    {
     "name": "stdout",
     "output_type": "stream",
     "text": [
      "Пересечения между company_and_rounds и people: 2199\n",
      "Пересечения между people и fund: 79\n",
      "Пересечения между company_and_rounds и fund: 70\n",
      "Общее пересечение всех трех таблиц: 7\n"
     ]
    }
   ],
   "source": [
    "# Общее пересечение всех трех таблиц\n",
    "intersection_all = company_usernames.intersection(people_usernames).intersection(fund_usernames)\n",
    "\n",
    "# Вывод результатов\n",
    "print(f'Пересечения между company_and_rounds и people: {len(intersection_company_people)}')\n",
    "print(f'Пересечения между people и fund: {len(intersection_people_fund)}')\n",
    "print(f'Пересечения между company_and_rounds и fund: {len(intersection_company_fund)}')\n",
    "print(f'Общее пересечение всех трех таблиц: {len(intersection_all)}')"
   ]
  },
  {
   "cell_type": "markdown",
   "metadata": {},
   "source": [
    "Столбец `network_username` присутствует в следующих датасетах: \n",
    "- `fund`: содержит 2098 уникальных значений. \n",
    "- `people`: содержит 38421 уникальное значение. \n",
    "- `company_and_rounds`: содержит 79571 уникальное значение.\n",
    "В остальных датасетах (`acquisition`, `degrees`, `education`, `investment`) столбец network_username отсутствует.\n",
    "\n",
    "На основании проведенного анализа были получены следующие результаты по пересечениям:\n",
    "- Пересечения между company_and_rounds и people: 2199\n",
    "- Пересечения между people и fund: 79\n",
    "- Пересечения между company_and_rounds и fund: 70\n",
    "- Общее пересечение всех трех таблиц: 7\n",
    "\n",
    "С учетом того, что столбец `network_username` присутствует только в трёх из семи датасетов и имеет разное количество уникальных значений, его использование для объединения данных будет ограничено. \n",
    "\n",
    "Объединение возможно только между датасетами `company_and_rounds` и `people`: значительное количество совпадений (2199) указывает на то, что данные в этих двух таблицах имеют много общих значений в столбце `network_username`. Это может свидетельствовать о том, что обе таблицы содержат информацию о схожих участниках или компаниях, что делает их хорошими кандидатами для объединения.\n",
    "\n",
    "Однако, учитывая, что количество пересечений  значений в остальных датасетах значительно различается это может привести к неэффективному объединению. "
   ]
  },
  {
   "cell_type": "markdown",
   "metadata": {
    "id": "EHcODomVrJg1"
   },
   "source": [
    "\n",
    "### 2.4. Проблемный датасет и причина возникновения пропусков\n",
    "\n",
    "Во время собственного анализа данных у заказчика больше всего вопросов возникло к датасету `company_and_rounds.csv`. В нём много пропусков как раз в информации о раундах, которая заказчику важна. Хотя информация об общем объёме финансирования по раундам присутствует в других датасетах, заказчик считает данные `company_and_rounds.csv` о размере средств наиболее верными.\n",
    "\n",
    "* Приведем данные в вид, который позволяет проводить анализ в разрезе отдельных компаний. По гипотезе заказчика данные по компаниям из этой таблицы раньше хранились иначе, более удобным для исследования образом.\n",
    "\n",
    "* Максимальным образом сохраняя данные, сохранив их связность и исключив возможные возникающие при этом ошибки, подготовим данные так, чтобы удобно было отобрать компании по параметрам и рассчитать показатели из расчёта на одну компанию."
   ]
  },
  {
   "cell_type": "markdown",
   "metadata": {
    "id": "tJ6Sl6MKrJg1"
   },
   "source": [
    "Для анализа датасета `company_and_rounds.csv` и устранения проблем с пропусками, необходимо выполнить несколько шагов по подготовке данных. Основная цель — привести данные в удобный формат для анализа по отдельным компаниям, сохраняя при этом их связность и минимизируя ошибки."
   ]
  },
  {
   "cell_type": "code",
   "execution_count": 36,
   "metadata": {
    "id": "SFfUmzron0Tc"
   },
   "outputs": [
    {
     "name": "stdout",
     "output_type": "stream",
     "text": [
      "<class 'pandas.core.frame.DataFrame'>\n",
      "RangeIndex: 217774 entries, 0 to 217773\n",
      "Data columns (total 23 columns):\n",
      " #   Column               Non-Null Count   Dtype         \n",
      "---  ------               --------------   -----         \n",
      " 0   company_id           217472 non-null  float64       \n",
      " 1   name                 217471 non-null  object        \n",
      " 2   category_code        143886 non-null  object        \n",
      " 3   status               217472 non-null  object        \n",
      " 4   founded_at           109956 non-null  object        \n",
      " 5   closed_at            3449 non-null    object        \n",
      " 6   domain               147159 non-null  object        \n",
      " 7   network_username     95534 non-null   object        \n",
      " 8   country_code         108607 non-null  object        \n",
      " 9   investment_rounds    217472 non-null  float64       \n",
      " 10  funding_rounds       217472 non-null  float64       \n",
      " 11  funding_total        217472 non-null  float64       \n",
      " 12  milestones           217472 non-null  float64       \n",
      " 13  funding_round_id     52928 non-null   float64       \n",
      " 14  company_id_round     52928 non-null   float64       \n",
      " 15  funded_at            52680 non-null   datetime64[ns]\n",
      " 16  funding_round_type   52928 non-null   object        \n",
      " 17  raised_amount        52928 non-null   float64       \n",
      " 18  pre_money_valuation  52928 non-null   float64       \n",
      " 19  participants         52928 non-null   float64       \n",
      " 20  is_first_round       52928 non-null   float64       \n",
      " 21  is_last_round        52928 non-null   float64       \n",
      " 22  year                 52680 non-null   float64       \n",
      "dtypes: datetime64[ns](1), float64(13), object(9)\n",
      "memory usage: 38.2+ MB\n"
     ]
    },
    {
     "data": {
      "text/plain": [
       "(None,\n",
       "    company_id      name category_code     status  founded_at closed_at  \\\n",
       " 0         1.0  Wetpaint           web  operating  2005-10-17       NaN   \n",
       " 1         1.0  Wetpaint           web  operating  2005-10-17       NaN   \n",
       " 2         1.0  Wetpaint           web  operating  2005-10-17       NaN   \n",
       " 3        10.0   Flektor   games_video   acquired         NaN       NaN   \n",
       " 4       100.0     There   games_video   acquired         NaN       NaN   \n",
       " \n",
       "              domain network_username country_code  investment_rounds  ...  \\\n",
       " 0  wetpaint-inc.com  BachelrWetpaint          USA                0.0  ...   \n",
       " 1  wetpaint-inc.com  BachelrWetpaint          USA                0.0  ...   \n",
       " 2  wetpaint-inc.com  BachelrWetpaint          USA                0.0  ...   \n",
       " 3       flektor.com              NaN          USA                0.0  ...   \n",
       " 4         there.com              NaN          USA                0.0  ...   \n",
       " \n",
       "    funding_round_id  company_id_round  funded_at  funding_round_type  \\\n",
       " 0             888.0               1.0 2005-10-01            series-a   \n",
       " 1             889.0               1.0 2007-01-01            series-b   \n",
       " 2            2312.0               1.0 2008-05-19           series-c+   \n",
       " 3               NaN               NaN        NaT                 NaN   \n",
       " 4               NaN               NaN        NaT                 NaN   \n",
       " \n",
       "    raised_amount pre_money_valuation participants  is_first_round  \\\n",
       " 0      5250000.0                 0.0          2.0             0.0   \n",
       " 1      9500000.0                 0.0          3.0             0.0   \n",
       " 2     25000000.0                 0.0          4.0             1.0   \n",
       " 3            NaN                 NaN          NaN             NaN   \n",
       " 4            NaN                 NaN          NaN             NaN   \n",
       " \n",
       "    is_last_round    year  \n",
       " 0            1.0  2005.0  \n",
       " 1            0.0  2007.0  \n",
       " 2            0.0  2008.0  \n",
       " 3            NaN     NaN  \n",
       " 4            NaN     NaN  \n",
       " \n",
       " [5 rows x 23 columns])"
      ]
     },
     "execution_count": 36,
     "metadata": {},
     "output_type": "execute_result"
    }
   ],
   "source": [
    "# Анализируем структуру и содержимое датасета\n",
    "structure = company_and_rounds_df.info()\n",
    "head = company_and_rounds_df.head()\n",
    "\n",
    "structure, head"
   ]
  },
  {
   "cell_type": "markdown",
   "metadata": {},
   "source": [
    "Датасет содержит 23 столбца, среди которых есть информация о компании, раундах финансирования и других параметрах. Важно отметить, что в датасете пропусков, особенно в информации о раундах финансирования. Возможно, датасет состоит из двух разных таблиц - `Информация о компании` и `Информация о раундах финансирования`."
   ]
  },
  {
   "cell_type": "markdown",
   "metadata": {},
   "source": [
    "Для анализа в разрезе отдельных компаний  разделим имеющуюся таблицу на две: с информацией по компаниям, с информацией по раундам, выделим нудные нам столбцы. Первая таблица `company`\n",
    "- `company_id` — идентификатор компании.\n",
    "- `name` — название компании.\n",
    "- `category code` — категория области деятельности компании.\n",
    "- `status` — статус компании.\n",
    "- `founded at` — дата инвестирования.\n",
    "- `closed at` — дата закрытия компании.\n",
    "- `domain` — официальный сайт компании.\n",
    "- `network username` — ник компании в сети.\n",
    "- `country code` — код страны компании.\n",
    "- `investment rounds` — число инвестиционных раундов.\n",
    "- `funding rounds` — число раундов финансирования.\n",
    "- `funding total` — сумма финансирования.\n",
    "- `milestones` — вехи финансирования.\n",
    "- `raised amount` — сумма финансирования\n",
    "\n",
    "Вторая таблица `rounds`\n",
    "- `funding round id` — идентификатор этапа финансирования.\n",
    "- `company id` — идентификатор компании.\n",
    "- `funded at` — дата финансирования.\n",
    "- `funding round type` — тип финансирования.\n",
    "- `raised amoun`t — сумма финансирования.\n",
    "- `pre money valuation` — предварительная денежная оценка.\n",
    "- `participants` — число участников.\n",
    "- `is first round` — является ли раунд первым.\n",
    "- `is last round` — является раунд последним."
   ]
  },
  {
   "cell_type": "markdown",
   "metadata": {},
   "source": [
    "Создадим необходимые таблицы, удалив все дубликаты "
   ]
  },
  {
   "cell_type": "code",
   "execution_count": 37,
   "metadata": {
    "scrolled": true
   },
   "outputs": [
    {
     "data": {
      "text/html": [
       "<div>\n",
       "<style scoped>\n",
       "    .dataframe tbody tr th:only-of-type {\n",
       "        vertical-align: middle;\n",
       "    }\n",
       "\n",
       "    .dataframe tbody tr th {\n",
       "        vertical-align: top;\n",
       "    }\n",
       "\n",
       "    .dataframe thead th {\n",
       "        text-align: right;\n",
       "    }\n",
       "</style>\n",
       "<table border=\"1\" class=\"dataframe\">\n",
       "  <thead>\n",
       "    <tr style=\"text-align: right;\">\n",
       "      <th></th>\n",
       "      <th>company_id</th>\n",
       "      <th>name</th>\n",
       "      <th>category_code</th>\n",
       "      <th>status</th>\n",
       "      <th>founded_at</th>\n",
       "      <th>closed_at</th>\n",
       "      <th>domain</th>\n",
       "      <th>network_username</th>\n",
       "      <th>country_code</th>\n",
       "      <th>investment_rounds</th>\n",
       "      <th>funding_rounds</th>\n",
       "      <th>funding_total</th>\n",
       "      <th>milestones</th>\n",
       "      <th>raised_amount</th>\n",
       "    </tr>\n",
       "  </thead>\n",
       "  <tbody>\n",
       "    <tr>\n",
       "      <th>0</th>\n",
       "      <td>1.0</td>\n",
       "      <td>Wetpaint</td>\n",
       "      <td>web</td>\n",
       "      <td>operating</td>\n",
       "      <td>2005-10-17</td>\n",
       "      <td>NaN</td>\n",
       "      <td>wetpaint-inc.com</td>\n",
       "      <td>BachelrWetpaint</td>\n",
       "      <td>USA</td>\n",
       "      <td>0.0</td>\n",
       "      <td>3.0</td>\n",
       "      <td>39750000.0</td>\n",
       "      <td>5.0</td>\n",
       "      <td>5250000.0</td>\n",
       "    </tr>\n",
       "    <tr>\n",
       "      <th>1</th>\n",
       "      <td>1.0</td>\n",
       "      <td>Wetpaint</td>\n",
       "      <td>web</td>\n",
       "      <td>operating</td>\n",
       "      <td>2005-10-17</td>\n",
       "      <td>NaN</td>\n",
       "      <td>wetpaint-inc.com</td>\n",
       "      <td>BachelrWetpaint</td>\n",
       "      <td>USA</td>\n",
       "      <td>0.0</td>\n",
       "      <td>3.0</td>\n",
       "      <td>39750000.0</td>\n",
       "      <td>5.0</td>\n",
       "      <td>9500000.0</td>\n",
       "    </tr>\n",
       "    <tr>\n",
       "      <th>2</th>\n",
       "      <td>1.0</td>\n",
       "      <td>Wetpaint</td>\n",
       "      <td>web</td>\n",
       "      <td>operating</td>\n",
       "      <td>2005-10-17</td>\n",
       "      <td>NaN</td>\n",
       "      <td>wetpaint-inc.com</td>\n",
       "      <td>BachelrWetpaint</td>\n",
       "      <td>USA</td>\n",
       "      <td>0.0</td>\n",
       "      <td>3.0</td>\n",
       "      <td>39750000.0</td>\n",
       "      <td>5.0</td>\n",
       "      <td>25000000.0</td>\n",
       "    </tr>\n",
       "    <tr>\n",
       "      <th>3</th>\n",
       "      <td>10.0</td>\n",
       "      <td>Flektor</td>\n",
       "      <td>games_video</td>\n",
       "      <td>acquired</td>\n",
       "      <td>NaN</td>\n",
       "      <td>NaN</td>\n",
       "      <td>flektor.com</td>\n",
       "      <td>NaN</td>\n",
       "      <td>USA</td>\n",
       "      <td>0.0</td>\n",
       "      <td>0.0</td>\n",
       "      <td>0.0</td>\n",
       "      <td>0.0</td>\n",
       "      <td>NaN</td>\n",
       "    </tr>\n",
       "    <tr>\n",
       "      <th>4</th>\n",
       "      <td>100.0</td>\n",
       "      <td>There</td>\n",
       "      <td>games_video</td>\n",
       "      <td>acquired</td>\n",
       "      <td>NaN</td>\n",
       "      <td>NaN</td>\n",
       "      <td>there.com</td>\n",
       "      <td>NaN</td>\n",
       "      <td>USA</td>\n",
       "      <td>0.0</td>\n",
       "      <td>0.0</td>\n",
       "      <td>0.0</td>\n",
       "      <td>4.0</td>\n",
       "      <td>NaN</td>\n",
       "    </tr>\n",
       "  </tbody>\n",
       "</table>\n",
       "</div>"
      ],
      "text/plain": [
       "   company_id      name category_code     status  founded_at closed_at  \\\n",
       "0         1.0  Wetpaint           web  operating  2005-10-17       NaN   \n",
       "1         1.0  Wetpaint           web  operating  2005-10-17       NaN   \n",
       "2         1.0  Wetpaint           web  operating  2005-10-17       NaN   \n",
       "3        10.0   Flektor   games_video   acquired         NaN       NaN   \n",
       "4       100.0     There   games_video   acquired         NaN       NaN   \n",
       "\n",
       "             domain network_username country_code  investment_rounds  \\\n",
       "0  wetpaint-inc.com  BachelrWetpaint          USA                0.0   \n",
       "1  wetpaint-inc.com  BachelrWetpaint          USA                0.0   \n",
       "2  wetpaint-inc.com  BachelrWetpaint          USA                0.0   \n",
       "3       flektor.com              NaN          USA                0.0   \n",
       "4         there.com              NaN          USA                0.0   \n",
       "\n",
       "   funding_rounds  funding_total  milestones  raised_amount  \n",
       "0             3.0     39750000.0         5.0      5250000.0  \n",
       "1             3.0     39750000.0         5.0      9500000.0  \n",
       "2             3.0     39750000.0         5.0     25000000.0  \n",
       "3             0.0            0.0         0.0            NaN  \n",
       "4             0.0            0.0         4.0            NaN  "
      ]
     },
     "execution_count": 37,
     "metadata": {},
     "output_type": "execute_result"
    }
   ],
   "source": [
    "# Создаем таблицу company с нужными столбцами\n",
    "company_columns = [\n",
    "    'company_id',\n",
    "    'name',\n",
    "    'category_code',\n",
    "    'status',\n",
    "    'founded_at',\n",
    "    'closed_at',\n",
    "    'domain',\n",
    "    'network_username',\n",
    "    'country_code',\n",
    "    'investment_rounds',\n",
    "    'funding_rounds',\n",
    "    'funding_total',\n",
    "    'milestones',\n",
    "    'raised_amount'\n",
    "]\n",
    "\n",
    "company_df = company_and_rounds_df[company_columns].drop_duplicates()\n",
    "company_df.head()"
   ]
  },
  {
   "cell_type": "code",
   "execution_count": 38,
   "metadata": {},
   "outputs": [
    {
     "data": {
      "text/html": [
       "<div>\n",
       "<style scoped>\n",
       "    .dataframe tbody tr th:only-of-type {\n",
       "        vertical-align: middle;\n",
       "    }\n",
       "\n",
       "    .dataframe tbody tr th {\n",
       "        vertical-align: top;\n",
       "    }\n",
       "\n",
       "    .dataframe thead th {\n",
       "        text-align: right;\n",
       "    }\n",
       "</style>\n",
       "<table border=\"1\" class=\"dataframe\">\n",
       "  <thead>\n",
       "    <tr style=\"text-align: right;\">\n",
       "      <th></th>\n",
       "      <th>funding_round_id</th>\n",
       "      <th>company_id_round</th>\n",
       "      <th>funded_at</th>\n",
       "      <th>funding_round_type</th>\n",
       "      <th>raised_amount</th>\n",
       "      <th>pre_money_valuation</th>\n",
       "      <th>participants</th>\n",
       "      <th>is_first_round</th>\n",
       "      <th>is_last_round</th>\n",
       "    </tr>\n",
       "  </thead>\n",
       "  <tbody>\n",
       "    <tr>\n",
       "      <th>0</th>\n",
       "      <td>888.0</td>\n",
       "      <td>1.0</td>\n",
       "      <td>2005-10-01</td>\n",
       "      <td>series-a</td>\n",
       "      <td>5250000.0</td>\n",
       "      <td>0.0</td>\n",
       "      <td>2.0</td>\n",
       "      <td>0.0</td>\n",
       "      <td>1.0</td>\n",
       "    </tr>\n",
       "    <tr>\n",
       "      <th>1</th>\n",
       "      <td>889.0</td>\n",
       "      <td>1.0</td>\n",
       "      <td>2007-01-01</td>\n",
       "      <td>series-b</td>\n",
       "      <td>9500000.0</td>\n",
       "      <td>0.0</td>\n",
       "      <td>3.0</td>\n",
       "      <td>0.0</td>\n",
       "      <td>0.0</td>\n",
       "    </tr>\n",
       "    <tr>\n",
       "      <th>2</th>\n",
       "      <td>2312.0</td>\n",
       "      <td>1.0</td>\n",
       "      <td>2008-05-19</td>\n",
       "      <td>series-c+</td>\n",
       "      <td>25000000.0</td>\n",
       "      <td>0.0</td>\n",
       "      <td>4.0</td>\n",
       "      <td>1.0</td>\n",
       "      <td>0.0</td>\n",
       "    </tr>\n",
       "    <tr>\n",
       "      <th>3</th>\n",
       "      <td>NaN</td>\n",
       "      <td>NaN</td>\n",
       "      <td>NaT</td>\n",
       "      <td>NaN</td>\n",
       "      <td>NaN</td>\n",
       "      <td>NaN</td>\n",
       "      <td>NaN</td>\n",
       "      <td>NaN</td>\n",
       "      <td>NaN</td>\n",
       "    </tr>\n",
       "    <tr>\n",
       "      <th>15</th>\n",
       "      <td>1644.0</td>\n",
       "      <td>1001.0</td>\n",
       "      <td>2008-02-26</td>\n",
       "      <td>series-a</td>\n",
       "      <td>5000000.0</td>\n",
       "      <td>0.0</td>\n",
       "      <td>3.0</td>\n",
       "      <td>1.0</td>\n",
       "      <td>1.0</td>\n",
       "    </tr>\n",
       "    <tr>\n",
       "      <th>...</th>\n",
       "      <td>...</td>\n",
       "      <td>...</td>\n",
       "      <td>...</td>\n",
       "      <td>...</td>\n",
       "      <td>...</td>\n",
       "      <td>...</td>\n",
       "      <td>...</td>\n",
       "      <td>...</td>\n",
       "      <td>...</td>\n",
       "    </tr>\n",
       "    <tr>\n",
       "      <th>217769</th>\n",
       "      <td>56454.0</td>\n",
       "      <td>282847.0</td>\n",
       "      <td>2011-01-31</td>\n",
       "      <td>other</td>\n",
       "      <td>5500000.0</td>\n",
       "      <td>0.0</td>\n",
       "      <td>0.0</td>\n",
       "      <td>1.0</td>\n",
       "      <td>1.0</td>\n",
       "    </tr>\n",
       "    <tr>\n",
       "      <th>217770</th>\n",
       "      <td>56542.0</td>\n",
       "      <td>55477.0</td>\n",
       "      <td>2011-01-13</td>\n",
       "      <td>venture</td>\n",
       "      <td>10633300.0</td>\n",
       "      <td>0.0</td>\n",
       "      <td>0.0</td>\n",
       "      <td>0.0</td>\n",
       "      <td>1.0</td>\n",
       "    </tr>\n",
       "    <tr>\n",
       "      <th>217771</th>\n",
       "      <td>56543.0</td>\n",
       "      <td>55477.0</td>\n",
       "      <td>2012-05-31</td>\n",
       "      <td>venture</td>\n",
       "      <td>2125720.0</td>\n",
       "      <td>0.0</td>\n",
       "      <td>0.0</td>\n",
       "      <td>1.0</td>\n",
       "      <td>0.0</td>\n",
       "    </tr>\n",
       "    <tr>\n",
       "      <th>217772</th>\n",
       "      <td>56928.0</td>\n",
       "      <td>283492.0</td>\n",
       "      <td>2013-12-03</td>\n",
       "      <td>venture</td>\n",
       "      <td>3602480.0</td>\n",
       "      <td>0.0</td>\n",
       "      <td>5.0</td>\n",
       "      <td>1.0</td>\n",
       "      <td>1.0</td>\n",
       "    </tr>\n",
       "    <tr>\n",
       "      <th>217773</th>\n",
       "      <td>57063.0</td>\n",
       "      <td>284191.0</td>\n",
       "      <td>2013-12-04</td>\n",
       "      <td>venture</td>\n",
       "      <td>7000000.0</td>\n",
       "      <td>0.0</td>\n",
       "      <td>4.0</td>\n",
       "      <td>1.0</td>\n",
       "      <td>1.0</td>\n",
       "    </tr>\n",
       "  </tbody>\n",
       "</table>\n",
       "<p>52929 rows × 9 columns</p>\n",
       "</div>"
      ],
      "text/plain": [
       "        funding_round_id  company_id_round  funded_at funding_round_type  \\\n",
       "0                  888.0               1.0 2005-10-01           series-a   \n",
       "1                  889.0               1.0 2007-01-01           series-b   \n",
       "2                 2312.0               1.0 2008-05-19          series-c+   \n",
       "3                    NaN               NaN        NaT                NaN   \n",
       "15                1644.0            1001.0 2008-02-26           series-a   \n",
       "...                  ...               ...        ...                ...   \n",
       "217769           56454.0          282847.0 2011-01-31              other   \n",
       "217770           56542.0           55477.0 2011-01-13            venture   \n",
       "217771           56543.0           55477.0 2012-05-31            venture   \n",
       "217772           56928.0          283492.0 2013-12-03            venture   \n",
       "217773           57063.0          284191.0 2013-12-04            venture   \n",
       "\n",
       "        raised_amount  pre_money_valuation  participants  is_first_round  \\\n",
       "0           5250000.0                  0.0           2.0             0.0   \n",
       "1           9500000.0                  0.0           3.0             0.0   \n",
       "2          25000000.0                  0.0           4.0             1.0   \n",
       "3                 NaN                  NaN           NaN             NaN   \n",
       "15          5000000.0                  0.0           3.0             1.0   \n",
       "...               ...                  ...           ...             ...   \n",
       "217769      5500000.0                  0.0           0.0             1.0   \n",
       "217770     10633300.0                  0.0           0.0             0.0   \n",
       "217771      2125720.0                  0.0           0.0             1.0   \n",
       "217772      3602480.0                  0.0           5.0             1.0   \n",
       "217773      7000000.0                  0.0           4.0             1.0   \n",
       "\n",
       "        is_last_round  \n",
       "0                 1.0  \n",
       "1                 0.0  \n",
       "2                 0.0  \n",
       "3                 NaN  \n",
       "15                1.0  \n",
       "...               ...  \n",
       "217769            1.0  \n",
       "217770            1.0  \n",
       "217771            0.0  \n",
       "217772            1.0  \n",
       "217773            1.0  \n",
       "\n",
       "[52929 rows x 9 columns]"
      ]
     },
     "execution_count": 38,
     "metadata": {},
     "output_type": "execute_result"
    }
   ],
   "source": [
    "# Создаем таблицу rounds с нужными столбцами\n",
    "rounds_columns = [\n",
    "    'funding_round_id',\n",
    "    'company_id_round',\n",
    "    'funded_at',\n",
    "    'funding_round_type',\n",
    "    'raised_amount',\n",
    "    'pre_money_valuation',\n",
    "    'participants',\n",
    "    'is_first_round',\n",
    "    'is_last_round'\n",
    "]\n",
    "\n",
    "rounds_df = company_and_rounds_df[rounds_columns].drop_duplicates()\n",
    "rounds_df"
   ]
  },
  {
   "cell_type": "markdown",
   "metadata": {},
   "source": [
    "В результате обработки данных из файла company_and_rounds.csv были созданы две таблицы: company_df и rounds_df. Проведем анализ таблиц на наличие пропусков в данных "
   ]
  },
  {
   "cell_type": "code",
   "execution_count": 39,
   "metadata": {},
   "outputs": [
    {
     "data": {
      "text/plain": [
       "'Пропуски в company_df:'"
      ]
     },
     "metadata": {},
     "output_type": "display_data"
    },
    {
     "data": {
      "text/plain": [
       "company_id              144\n",
       "name                    145\n",
       "category_code         73711\n",
       "status                  144\n",
       "founded_at           107536\n",
       "closed_at            212802\n",
       "domain                70437\n",
       "network_username     121758\n",
       "country_code         108973\n",
       "investment_rounds       144\n",
       "funding_rounds          144\n",
       "funding_total           144\n",
       "milestones              144\n",
       "raised_amount        164846\n",
       "dtype: int64"
      ]
     },
     "metadata": {},
     "output_type": "display_data"
    },
    {
     "data": {
      "text/plain": [
       "'Доля пропусков в company_df (%):'"
      ]
     },
     "metadata": {},
     "output_type": "display_data"
    },
    {
     "data": {
      "text/plain": [
       "company_id            0.066611\n",
       "name                  0.067073\n",
       "category_code        34.096733\n",
       "status                0.066611\n",
       "founded_at           49.743272\n",
       "closed_at            98.436503\n",
       "domain               32.582269\n",
       "network_username     56.321988\n",
       "country_code         50.407990\n",
       "investment_rounds     0.066611\n",
       "funding_rounds        0.066611\n",
       "funding_total         0.066611\n",
       "milestones            0.066611\n",
       "raised_amount        76.253342\n",
       "dtype: float64"
      ]
     },
     "metadata": {},
     "output_type": "display_data"
    }
   ],
   "source": [
    "# Проверка на пропуски\n",
    "missing_values_company = company_df.isnull().sum()\n",
    "# Вычисление доли пропусков в процентах\n",
    "missing_percentage_company = (missing_values_company / len(company_df)) * 100\n",
    "\n",
    "display(\"Пропуски в company_df:\")\n",
    "display(missing_values_company[missing_values_company > 0])\n",
    "display(\"Доля пропусков в company_df (%):\")\n",
    "display(missing_percentage_company[missing_values_company > 0])"
   ]
  },
  {
   "cell_type": "markdown",
   "metadata": {},
   "source": [
    "Общая информация о пропусках\n",
    "В таблице присутствуют следующие пропуски:\n",
    "category_code: 36.68%\n",
    "founded_at: 52.66%\n",
    "closed_at: 96.97%\n",
    "domain: 35.00%\n",
    "network_username:57.98%\n",
    "country_code: 54.28%\n",
    "\n",
    "Пропуски в других столбцах минимальны, всего по одному. Их можно удалить \n",
    "Для столбцов с высокой степенью неопределенности можно использовать значения по умолчанию (например, \"не указано\" для category_code).\n",
    "\n",
    "Возможные причины пропусков\n",
    "- category_code: Высокая степень неопределенности в классификации компаний может приводить к отсутствию данных.\n",
    "- founded_at: Некоторые компании могут быть новыми или не зарегистрированными, что затрудняет указание даты основания.\n",
    "- closed_at: Высокий процент отсутствующих данных может указывать на то, что многие компании все еще активны и не имеют даты закрытия.\n",
    "- domain: Некоторые компании могут не иметь веб-сайта или он может быть недоступен.\n",
    "- network_username: Отсутствие представительства в социальных сетях также может объяснять высокий уровень пропусков.\n",
    "- country_code: Некоторые компании могут быть международными или не иметь четкой привязки к стране."
   ]
  },
  {
   "cell_type": "code",
   "execution_count": 40,
   "metadata": {},
   "outputs": [
    {
     "data": {
      "text/plain": [
       "'Пропуски в rounds_df:'"
      ]
     },
     "metadata": {},
     "output_type": "display_data"
    },
    {
     "data": {
      "text/plain": [
       "funding_round_id         1\n",
       "company_id_round         1\n",
       "funded_at              249\n",
       "funding_round_type       1\n",
       "raised_amount            1\n",
       "pre_money_valuation      1\n",
       "participants             1\n",
       "is_first_round           1\n",
       "is_last_round            1\n",
       "dtype: int64"
      ]
     },
     "metadata": {},
     "output_type": "display_data"
    },
    {
     "data": {
      "text/plain": [
       "'Доля пропусков в rounds_df (%):'"
      ]
     },
     "metadata": {},
     "output_type": "display_data"
    },
    {
     "data": {
      "text/plain": [
       "funding_round_id       0.001889\n",
       "company_id_round       0.001889\n",
       "funded_at              0.470442\n",
       "funding_round_type     0.001889\n",
       "raised_amount          0.001889\n",
       "pre_money_valuation    0.001889\n",
       "participants           0.001889\n",
       "is_first_round         0.001889\n",
       "is_last_round          0.001889\n",
       "dtype: float64"
      ]
     },
     "metadata": {},
     "output_type": "display_data"
    }
   ],
   "source": [
    "# Проверка на пропуски\n",
    "missing_values_rounds = rounds_df.isnull().sum()\n",
    "# Вычисление доли пропусков в процентах\n",
    "missing_percentage_rounds = (missing_values_rounds / len(rounds_df)) * 100\n",
    "\n",
    "display(\"Пропуски в rounds_df:\")\n",
    "display(missing_values_rounds[missing_values_rounds > 0])\n",
    "display(\"Доля пропусков в rounds_df (%):\")\n",
    "display(missing_percentage_rounds[missing_values_rounds > 0])"
   ]
  },
  {
   "cell_type": "markdown",
   "metadata": {},
   "source": [
    "Доля пропусков менее 1%, их можно удалить"
   ]
  },
  {
   "cell_type": "markdown",
   "metadata": {},
   "source": [
    "Датасет приведен в вид, который позволяет проводить анализ в разрезе отдельных компаний."
   ]
  },
  {
   "cell_type": "markdown",
   "metadata": {
    "id": "bmVYhphNrJg2"
   },
   "source": [
    "\n",
    "## Шаг 3. Исследовательский анализ объединённых таблиц\n"
   ]
  },
  {
   "cell_type": "markdown",
   "metadata": {
    "id": "3Di6tCT3rJg2"
   },
   "source": [
    "\n",
    "### 3.1. Объединение данных\n",
    "\n",
    "Объединим данные для ответа на вопросы заказчика, которые касаются интересующих его компаний.\n",
    "\n",
    "В качестве основы для объединённой таблицы возьмем данные из обработанного датасета `company_and_rounds.csv` — выберем только те компании, у которых указаны значения `funding_rounds` или `investment_rounds` больше нуля, и те, у которых в колонке `status` указано `acquired`.\n"
   ]
  },
  {
   "cell_type": "markdown",
   "metadata": {},
   "source": [
    "Создадим новый датасет `company_df` для дальнейшей работы."
   ]
  },
  {
   "cell_type": "code",
   "execution_count": 41,
   "metadata": {
    "id": "mGYqoHS7rJg2",
    "scrolled": true
   },
   "outputs": [
    {
     "data": {
      "text/html": [
       "<div>\n",
       "<style scoped>\n",
       "    .dataframe tbody tr th:only-of-type {\n",
       "        vertical-align: middle;\n",
       "    }\n",
       "\n",
       "    .dataframe tbody tr th {\n",
       "        vertical-align: top;\n",
       "    }\n",
       "\n",
       "    .dataframe thead th {\n",
       "        text-align: right;\n",
       "    }\n",
       "</style>\n",
       "<table border=\"1\" class=\"dataframe\">\n",
       "  <thead>\n",
       "    <tr style=\"text-align: right;\">\n",
       "      <th></th>\n",
       "      <th>company_id</th>\n",
       "      <th>name</th>\n",
       "      <th>category_code</th>\n",
       "      <th>status</th>\n",
       "      <th>founded_at</th>\n",
       "      <th>closed_at</th>\n",
       "      <th>domain</th>\n",
       "      <th>network_username</th>\n",
       "      <th>country_code</th>\n",
       "      <th>investment_rounds</th>\n",
       "      <th>funding_rounds</th>\n",
       "      <th>funding_total</th>\n",
       "      <th>milestones</th>\n",
       "      <th>raised_amount</th>\n",
       "    </tr>\n",
       "  </thead>\n",
       "  <tbody>\n",
       "    <tr>\n",
       "      <th>0</th>\n",
       "      <td>1.0</td>\n",
       "      <td>Wetpaint</td>\n",
       "      <td>web</td>\n",
       "      <td>operating</td>\n",
       "      <td>2005-10-17</td>\n",
       "      <td>NaN</td>\n",
       "      <td>wetpaint-inc.com</td>\n",
       "      <td>BachelrWetpaint</td>\n",
       "      <td>USA</td>\n",
       "      <td>0.0</td>\n",
       "      <td>3.0</td>\n",
       "      <td>39750000.0</td>\n",
       "      <td>5.0</td>\n",
       "      <td>5250000.0</td>\n",
       "    </tr>\n",
       "    <tr>\n",
       "      <th>1</th>\n",
       "      <td>1.0</td>\n",
       "      <td>Wetpaint</td>\n",
       "      <td>web</td>\n",
       "      <td>operating</td>\n",
       "      <td>2005-10-17</td>\n",
       "      <td>NaN</td>\n",
       "      <td>wetpaint-inc.com</td>\n",
       "      <td>BachelrWetpaint</td>\n",
       "      <td>USA</td>\n",
       "      <td>0.0</td>\n",
       "      <td>3.0</td>\n",
       "      <td>39750000.0</td>\n",
       "      <td>5.0</td>\n",
       "      <td>9500000.0</td>\n",
       "    </tr>\n",
       "    <tr>\n",
       "      <th>2</th>\n",
       "      <td>1.0</td>\n",
       "      <td>Wetpaint</td>\n",
       "      <td>web</td>\n",
       "      <td>operating</td>\n",
       "      <td>2005-10-17</td>\n",
       "      <td>NaN</td>\n",
       "      <td>wetpaint-inc.com</td>\n",
       "      <td>BachelrWetpaint</td>\n",
       "      <td>USA</td>\n",
       "      <td>0.0</td>\n",
       "      <td>3.0</td>\n",
       "      <td>39750000.0</td>\n",
       "      <td>5.0</td>\n",
       "      <td>25000000.0</td>\n",
       "    </tr>\n",
       "    <tr>\n",
       "      <th>3</th>\n",
       "      <td>10.0</td>\n",
       "      <td>Flektor</td>\n",
       "      <td>games_video</td>\n",
       "      <td>acquired</td>\n",
       "      <td>NaN</td>\n",
       "      <td>NaN</td>\n",
       "      <td>flektor.com</td>\n",
       "      <td>NaN</td>\n",
       "      <td>USA</td>\n",
       "      <td>0.0</td>\n",
       "      <td>0.0</td>\n",
       "      <td>0.0</td>\n",
       "      <td>0.0</td>\n",
       "      <td>NaN</td>\n",
       "    </tr>\n",
       "    <tr>\n",
       "      <th>4</th>\n",
       "      <td>100.0</td>\n",
       "      <td>There</td>\n",
       "      <td>games_video</td>\n",
       "      <td>acquired</td>\n",
       "      <td>NaN</td>\n",
       "      <td>NaN</td>\n",
       "      <td>there.com</td>\n",
       "      <td>NaN</td>\n",
       "      <td>USA</td>\n",
       "      <td>0.0</td>\n",
       "      <td>0.0</td>\n",
       "      <td>0.0</td>\n",
       "      <td>4.0</td>\n",
       "      <td>NaN</td>\n",
       "    </tr>\n",
       "  </tbody>\n",
       "</table>\n",
       "</div>"
      ],
      "text/plain": [
       "   company_id      name category_code     status  founded_at closed_at  \\\n",
       "0         1.0  Wetpaint           web  operating  2005-10-17       NaN   \n",
       "1         1.0  Wetpaint           web  operating  2005-10-17       NaN   \n",
       "2         1.0  Wetpaint           web  operating  2005-10-17       NaN   \n",
       "3        10.0   Flektor   games_video   acquired         NaN       NaN   \n",
       "4       100.0     There   games_video   acquired         NaN       NaN   \n",
       "\n",
       "             domain network_username country_code  investment_rounds  \\\n",
       "0  wetpaint-inc.com  BachelrWetpaint          USA                0.0   \n",
       "1  wetpaint-inc.com  BachelrWetpaint          USA                0.0   \n",
       "2  wetpaint-inc.com  BachelrWetpaint          USA                0.0   \n",
       "3       flektor.com              NaN          USA                0.0   \n",
       "4         there.com              NaN          USA                0.0   \n",
       "\n",
       "   funding_rounds  funding_total  milestones  raised_amount  \n",
       "0             3.0     39750000.0         5.0      5250000.0  \n",
       "1             3.0     39750000.0         5.0      9500000.0  \n",
       "2             3.0     39750000.0         5.0     25000000.0  \n",
       "3             0.0            0.0         0.0            NaN  \n",
       "4             0.0            0.0         4.0            NaN  "
      ]
     },
     "execution_count": 41,
     "metadata": {},
     "output_type": "execute_result"
    }
   ],
   "source": [
    "company_df = company_df[\n",
    "    ( (company_df['funding_rounds'] > 0) | (company_df['investment_rounds'] > 0) ) | \n",
    "    (company_df['status'] == 'acquired')]\n",
    "company_df.head()"
   ]
  },
  {
   "cell_type": "code",
   "execution_count": 42,
   "metadata": {},
   "outputs": [
    {
     "data": {
      "text/plain": [
       "['company_id',\n",
       " 'name',\n",
       " 'category_code',\n",
       " 'status',\n",
       " 'founded_at',\n",
       " 'closed_at',\n",
       " 'domain',\n",
       " 'network_username',\n",
       " 'country_code',\n",
       " 'investment_rounds',\n",
       " 'funding_rounds',\n",
       " 'funding_total',\n",
       " 'milestones',\n",
       " 'raised_amount']"
      ]
     },
     "execution_count": 42,
     "metadata": {},
     "output_type": "execute_result"
    }
   ],
   "source": [
    "company_df.columns.tolist()"
   ]
  },
  {
   "cell_type": "markdown",
   "metadata": {
    "id": "DFHINkV3rJg2"
   },
   "source": [
    "\n",
    "### 3.2. Анализ выбросов\n",
    "\n",
    "Заказчика интересует обычный для рассматриваемого периода размер средств, который предоставлялся компаниям. По предобработанному столбцу `funding_total` оценим, какой размер общего финансирования для одной компании будет типичным, а какой — выбивающимся.\n"
   ]
  },
  {
   "cell_type": "code",
   "execution_count": 43,
   "metadata": {},
   "outputs": [
    {
     "data": {
      "text/plain": [
       "(47359, 14)"
      ]
     },
     "execution_count": 43,
     "metadata": {},
     "output_type": "execute_result"
    }
   ],
   "source": [
    "company_df = company_df[company_df['funding_total'] != 0]\n",
    "company_df.shape"
   ]
  },
  {
   "cell_type": "markdown",
   "metadata": {},
   "source": [
    "Проведем вычисления для нахождения обычного для рассматриваемого периода размера средств, предоставляемого компаниям. Получим статистические показатели и вычислим выбивающиеся значения"
   ]
  },
  {
   "cell_type": "markdown",
   "metadata": {},
   "source": [
    "Для начала, визуализируем не отфильтрованные данные, посмотрим на распредение"
   ]
  },
  {
   "cell_type": "code",
   "execution_count": 44,
   "metadata": {},
   "outputs": [
    {
     "data": {
      "image/png": "[encoded data removed]",
      "text/plain": [
       "<Figure size 1000x400 with 2 Axes>"
      ]
     },
     "metadata": {},
     "output_type": "display_data"
    }
   ],
   "source": [
    "#Настройка визуализации\n",
    "sns.set(style='whitegrid')\n",
    "fig, axes = plt.subplots(1, 2, figsize=(10, 4))\n",
    "\n",
    "#Гистограмма\n",
    "sns.histplot(company_df['funding_total'], bins=30, kde=True, ax=axes[0])\n",
    "axes[0].set_title('Гистограмма общего финансирования')\n",
    "axes[0].set_xlabel('Общее финансирование')\n",
    "axes[0].set_ylabel('Частота')\n",
    "\n",
    "#Ящик с усами\n",
    "sns.boxplot(x=company_df['funding_total'], ax=axes[1])\n",
    "axes[1].set_title('Ящик с усами для общего финансирования')\n",
    "axes[1].set_xlabel('Общее финансирование')\n",
    "\n",
    "plt.tight_layout()\n",
    "plt.show()"
   ]
  },
  {
   "cell_type": "markdown",
   "metadata": {},
   "source": [
    "На гистограмме распределение данных сильно смещено влево, что говорит о наличии большого количества компаний с низким уровнем общего финансирования.\n",
    "Видно, что большинство значений сосредоточено в диапазоне близком к нулю, а хвост распределения тянется далеко вправо, указывая на редкие, но очень высокие значения.\n",
    "\n",
    "У ящика с усами большая часть данных находится в нижней части диапазона значений, что подтверждает выводы из гистограммы.\n",
    "Наблюдается множество выбросов, которые значительно превышают верхнюю границу усов. Эти выбросы представляют компании с крайне высоким уровнем финансирования."
   ]
  },
  {
   "cell_type": "code",
   "execution_count": 45,
   "metadata": {},
   "outputs": [
    {
     "data": {
      "text/plain": [
       "(5146, 14)"
      ]
     },
     "execution_count": 45,
     "metadata": {},
     "output_type": "execute_result"
    }
   ],
   "source": [
    "#Вычисление квартилей\n",
    "Q1 = company_df['funding_total'].quantile(0.25)\n",
    "Q3 = company_df['funding_total'].quantile(0.75)\n",
    "#Вычисление межквартильного размаха\n",
    "IQR = Q3 - Q1\n",
    "#Определение границ для выбросов\n",
    "lower_bound = Q1 - 1.5 * IQR\n",
    "upper_bound = Q3 + 1.5 * IQR\n",
    "# Выявление выбросов\n",
    "outliers = company_df[(company_df[\n",
    "          'funding_total'] < lower_bound) | (company_df[\n",
    "                     'funding_total'] > upper_bound)]\n",
    "outliers.shape"
   ]
  },
  {
   "cell_type": "markdown",
   "metadata": {},
   "source": [
    "Приведем наиболее типичный размер общего финансирования для одной компании после удаления выбросов"
   ]
  },
  {
   "cell_type": "code",
   "execution_count": 46,
   "metadata": {},
   "outputs": [
    {
     "data": {
      "text/plain": [
       "(42213, 14)"
      ]
     },
     "execution_count": 46,
     "metadata": {},
     "output_type": "execute_result"
    }
   ],
   "source": [
    "# Удаление выбросов из основного DataFrame\n",
    "filtered_df = company_df[(\n",
    "          company_df['funding_total'] >= lower_bound) & (company_df[\n",
    "                'funding_total'] <= upper_bound)]\n",
    "filtered_df.shape"
   ]
  },
  {
   "cell_type": "markdown",
   "metadata": {},
   "source": [
    "Сделаем визуализацию распределение данных в столбце funding_total"
   ]
  },
  {
   "cell_type": "code",
   "execution_count": 47,
   "metadata": {},
   "outputs": [
    {
     "data": {
      "image/png": "[encoded data removed]",
      "text/plain": [
       "<Figure size 640x480 with 1 Axes>"
      ]
     },
     "metadata": {},
     "output_type": "display_data"
    }
   ],
   "source": [
    "# Построим распределение данных для столбца `score`\n",
    "sns.histplot(data=filtered_df, x='funding_total', bins=15, kde=True)\n",
    "\n",
    "# Подписываем и отображаем график\n",
    "plt.title('Распределение данных в столбце funding_total')\n",
    "plt.ylabel('Количество')\n",
    "plt.show()"
   ]
  },
  {
   "cell_type": "markdown",
   "metadata": {},
   "source": [
    "Посмотрим на статистические показатели размера общего финансирования"
   ]
  },
  {
   "cell_type": "code",
   "execution_count": 48,
   "metadata": {},
   "outputs": [
    {
     "data": {
      "text/plain": [
       "count    8.000000e+00\n",
       "mean     1.250199e+07\n",
       "std      1.882163e+07\n",
       "min      2.910000e+02\n",
       "25%      6.855532e+05\n",
       "50%      7.199296e+06\n",
       "75%      1.360611e+07\n",
       "max      5.670000e+07\n",
       "Name: funding_total, dtype: float64"
      ]
     },
     "execution_count": 48,
     "metadata": {},
     "output_type": "execute_result"
    }
   ],
   "source": [
    "#Метод describe\n",
    "statistics = filtered_df['funding_total'].describe()\n",
    "\n",
    "# Округляем результаты до 2 знаков после запятой\n",
    "rounded_statistics = statistics.round(2)\n",
    "\n",
    "statistics.describe()"
   ]
  },
  {
   "cell_type": "markdown",
   "metadata": {},
   "source": [
    "Основные статистические показатели:\n",
    "- Среднее значение общего финансирования составляет порядка 4.59 млн.\n",
    "- Стандартное отклонение указывает на разброс значений вокруг среднего. В данном случае, большое стандартное отклонение (более 6 миллионов) говорит о том, что размеры финансирования сильно варьируются между компаниями.\n",
    "- Минимальное значение финансирования. Это означает, что некоторые компании получили очень небольшие суммы, близкие к нулю.\n",
    "- 25% (1-й квартиль): 0.417 млн. Значение, ниже которого находится 25% наблюдений. Это говорит о том, что 25% компаний получили финансирование менее 0.417 млн.\n",
    "- Медианное значение показывает, что половина компаний получила финансирование менее 1.8 миллиона и более половины — больше этой суммы.\n",
    "- 75% (3-й квартиль): 6.4 млн Значение, ниже которого находится 75% наблюдений. Это указывает на то, что 75% компаний получили финансирование менее 6.4 миллиона.\n",
    "- Максимальное значение финансирования 26.75млн, которое получала компания. Это значение указывает на наличие компаний, которые получили значительно больше средств по сравнению с остальными."
   ]
  },
  {
   "cell_type": "markdown",
   "metadata": {
    "id": "JqkRAQrIrJg2"
   },
   "source": [
    "\n",
    "### 3.3. Куплены забесплатно?\n",
    "\n",
    "* Исследуем компании, которые были проданы за ноль или за один доллар, и при этом известно, что у них был ненулевой общий объём финансирования."
   ]
  },
  {
   "cell_type": "code",
   "execution_count": 49,
   "metadata": {},
   "outputs": [
    {
     "data": {
      "text/html": [
       "<div>\n",
       "<style scoped>\n",
       "    .dataframe tbody tr th:only-of-type {\n",
       "        vertical-align: middle;\n",
       "    }\n",
       "\n",
       "    .dataframe tbody tr th {\n",
       "        vertical-align: top;\n",
       "    }\n",
       "\n",
       "    .dataframe thead th {\n",
       "        text-align: right;\n",
       "    }\n",
       "</style>\n",
       "<table border=\"1\" class=\"dataframe\">\n",
       "  <thead>\n",
       "    <tr style=\"text-align: right;\">\n",
       "      <th></th>\n",
       "      <th>company_id</th>\n",
       "      <th>name</th>\n",
       "      <th>category_code</th>\n",
       "      <th>status</th>\n",
       "      <th>founded_at</th>\n",
       "      <th>closed_at</th>\n",
       "      <th>domain</th>\n",
       "      <th>network_username</th>\n",
       "      <th>country_code</th>\n",
       "      <th>investment_rounds</th>\n",
       "      <th>funding_rounds</th>\n",
       "      <th>funding_total</th>\n",
       "      <th>milestones</th>\n",
       "      <th>raised_amount</th>\n",
       "    </tr>\n",
       "  </thead>\n",
       "  <tbody>\n",
       "    <tr>\n",
       "      <th>0</th>\n",
       "      <td>1.0</td>\n",
       "      <td>Wetpaint</td>\n",
       "      <td>web</td>\n",
       "      <td>operating</td>\n",
       "      <td>2005-10-17</td>\n",
       "      <td>NaN</td>\n",
       "      <td>wetpaint-inc.com</td>\n",
       "      <td>BachelrWetpaint</td>\n",
       "      <td>USA</td>\n",
       "      <td>0.0</td>\n",
       "      <td>3.0</td>\n",
       "      <td>39750000.0</td>\n",
       "      <td>5.0</td>\n",
       "      <td>5250000.0</td>\n",
       "    </tr>\n",
       "    <tr>\n",
       "      <th>1</th>\n",
       "      <td>1.0</td>\n",
       "      <td>Wetpaint</td>\n",
       "      <td>web</td>\n",
       "      <td>operating</td>\n",
       "      <td>2005-10-17</td>\n",
       "      <td>NaN</td>\n",
       "      <td>wetpaint-inc.com</td>\n",
       "      <td>BachelrWetpaint</td>\n",
       "      <td>USA</td>\n",
       "      <td>0.0</td>\n",
       "      <td>3.0</td>\n",
       "      <td>39750000.0</td>\n",
       "      <td>5.0</td>\n",
       "      <td>9500000.0</td>\n",
       "    </tr>\n",
       "    <tr>\n",
       "      <th>2</th>\n",
       "      <td>1.0</td>\n",
       "      <td>Wetpaint</td>\n",
       "      <td>web</td>\n",
       "      <td>operating</td>\n",
       "      <td>2005-10-17</td>\n",
       "      <td>NaN</td>\n",
       "      <td>wetpaint-inc.com</td>\n",
       "      <td>BachelrWetpaint</td>\n",
       "      <td>USA</td>\n",
       "      <td>0.0</td>\n",
       "      <td>3.0</td>\n",
       "      <td>39750000.0</td>\n",
       "      <td>5.0</td>\n",
       "      <td>25000000.0</td>\n",
       "    </tr>\n",
       "    <tr>\n",
       "      <th>15</th>\n",
       "      <td>1001.0</td>\n",
       "      <td>FriendFeed</td>\n",
       "      <td>web</td>\n",
       "      <td>acquired</td>\n",
       "      <td>2007-10-01</td>\n",
       "      <td>NaN</td>\n",
       "      <td>friendfeed.com</td>\n",
       "      <td>friendfeed</td>\n",
       "      <td>USA</td>\n",
       "      <td>0.0</td>\n",
       "      <td>1.0</td>\n",
       "      <td>5000000.0</td>\n",
       "      <td>3.0</td>\n",
       "      <td>5000000.0</td>\n",
       "    </tr>\n",
       "    <tr>\n",
       "      <th>21</th>\n",
       "      <td>10015.0</td>\n",
       "      <td>Fitbit</td>\n",
       "      <td>health</td>\n",
       "      <td>operating</td>\n",
       "      <td>2007-10-01</td>\n",
       "      <td>NaN</td>\n",
       "      <td>fitbit.com</td>\n",
       "      <td>fitbit</td>\n",
       "      <td>USA</td>\n",
       "      <td>0.0</td>\n",
       "      <td>5.0</td>\n",
       "      <td>68069200.0</td>\n",
       "      <td>0.0</td>\n",
       "      <td>2000000.0</td>\n",
       "    </tr>\n",
       "  </tbody>\n",
       "</table>\n",
       "</div>"
      ],
      "text/plain": [
       "    company_id        name category_code     status  founded_at closed_at  \\\n",
       "0          1.0    Wetpaint           web  operating  2005-10-17       NaN   \n",
       "1          1.0    Wetpaint           web  operating  2005-10-17       NaN   \n",
       "2          1.0    Wetpaint           web  operating  2005-10-17       NaN   \n",
       "15      1001.0  FriendFeed           web   acquired  2007-10-01       NaN   \n",
       "21     10015.0      Fitbit        health  operating  2007-10-01       NaN   \n",
       "\n",
       "              domain network_username country_code  investment_rounds  \\\n",
       "0   wetpaint-inc.com  BachelrWetpaint          USA                0.0   \n",
       "1   wetpaint-inc.com  BachelrWetpaint          USA                0.0   \n",
       "2   wetpaint-inc.com  BachelrWetpaint          USA                0.0   \n",
       "15    friendfeed.com       friendfeed          USA                0.0   \n",
       "21        fitbit.com           fitbit          USA                0.0   \n",
       "\n",
       "    funding_rounds  funding_total  milestones  raised_amount  \n",
       "0              3.0     39750000.0         5.0      5250000.0  \n",
       "1              3.0     39750000.0         5.0      9500000.0  \n",
       "2              3.0     39750000.0         5.0     25000000.0  \n",
       "15             1.0      5000000.0         3.0      5000000.0  \n",
       "21             5.0     68069200.0         0.0      2000000.0  "
      ]
     },
     "execution_count": 49,
     "metadata": {},
     "output_type": "execute_result"
    }
   ],
   "source": [
    "company_df.head()"
   ]
  },
  {
   "cell_type": "markdown",
   "metadata": {},
   "source": [
    "Выберем компании, которые были проданы за ноль или за один доллар, и при этом известно, что у них был ненулевой общий объём финансирования. (Объем финансирования по столбцу `funding_total` очистили от нулей ранее ) "
   ]
  },
  {
   "cell_type": "code",
   "execution_count": 50,
   "metadata": {
    "id": "wJHXCBwwrJg2",
    "scrolled": true
   },
   "outputs": [
    {
     "data": {
      "text/plain": [
       "(1508, 14)"
      ]
     },
     "execution_count": 50,
     "metadata": {},
     "output_type": "execute_result"
    }
   ],
   "source": [
    "# Применение фильтра\n",
    "filtered_amount_df = company_df[company_df['raised_amount'] <= 1]\n",
    "\n",
    "filtered_amount_df.shape"
   ]
  },
  {
   "cell_type": "markdown",
   "metadata": {},
   "source": [
    "Посмотрим на границы выбросов и вычислим какому перцентилю они будут соответствовать."
   ]
  },
  {
   "cell_type": "code",
   "execution_count": 51,
   "metadata": {},
   "outputs": [],
   "source": [
    "#Вычисление квартилей\n",
    "Q1 = filtered_amount_df['funding_total'].quantile(0.25)\n",
    "Q3 = filtered_amount_df['funding_total'].quantile(0.75)\n",
    "#Вычисление межквартильного размаха\n",
    "IQR = Q3 - Q1\n",
    "#Определение границ для выбросов\n",
    "lower_bound = Q1 - 1.5 * IQR\n",
    "upper_bound = Q3 + 1.5 * IQR"
   ]
  },
  {
   "cell_type": "code",
   "execution_count": 52,
   "metadata": {},
   "outputs": [
    {
     "data": {
      "text/plain": [
       "'Нижняя граница -19674575.0, процентиль: 0.0'"
      ]
     },
     "metadata": {},
     "output_type": "display_data"
    },
    {
     "data": {
      "text/plain": [
       "'Верхняя граница 35457625.0, процентиль: 11'"
      ]
     },
     "metadata": {},
     "output_type": "display_data"
    }
   ],
   "source": [
    "# Рассчет процентилей для границ\n",
    "lower_percentile = (filtered_amount_df['funding_total'] < lower_bound).mean() * 100\n",
    "upper_percentile = round((filtered_amount_df['funding_total'] > upper_bound).mean() * 100)\n",
    "#Выведем результат\n",
    "display(f\"Нижняя граница {lower_bound}, процентиль: {lower_percentile}\")\n",
    "display(f\"Верхняя граница {upper_bound}, процентиль: {upper_percentile}\")\n"
   ]
  },
  {
   "cell_type": "markdown",
   "metadata": {},
   "source": [
    "Замена границ выбросов на значения, рассчитанные по процентилям, может быть оправдана в следующих случаях:\n",
    "- Снижение влияния аномалий: Использование процентилей может помочь избежать искажений, связанных с экстремальными значениями.\n",
    "- Устойчивость к выбросам: Процентильные методы менее чувствительны к выбросам по сравнению с традиционными методами.\n",
    "Однако следует учитывать, что устранение значений может привести к потере важных инсайтов о финансировании компаний.\n",
    "\n",
    "На основе полученных данных можно сделать следующие выводы: Замена нижней и верхней границы выбросов на значения, рассчитанные по процентилям, является обоснованной. Это позволит исключить аномально высокие или низкие значения, которые могут искажать анализ."
   ]
  },
  {
   "cell_type": "markdown",
   "metadata": {
    "id": "mEiWpROjrJg2"
   },
   "source": [
    "\n",
    "### 3.4. Цены стартапов по категориям\n",
    "\n",
    "Категории стартапов с наибольшими ценами и значительным разбросом цен могут быть наиболее привлекательными для крупных инвесторов, которые готовы к высоким рискам ради потенциально больших доходов. Среди категорий стартапов выделим категории стартапов, характеризующиеся:\n",
    "\n",
    "* наибольшими ценами;\n",
    "* и наибольшим разбросом цен за стартап."
   ]
  },
  {
   "cell_type": "markdown",
   "metadata": {},
   "source": [
    "Для анализа категорий стартапов с наибольшими ценами и значительным разбросом цен, рассмотрим данные о стартапах, используя столбец `raised_amount`. Это позволяет выявить наиболее привлекательные для инвесторов категории, готовых к высоким рискам ради потенциально больших доходов."
   ]
  },
  {
   "cell_type": "markdown",
   "metadata": {},
   "source": [
    "Перед анализом необходимо убедиться, что данные корректны и не содержат выбросов. Для этого можно использовать метод межквартильного размаха (IQR) для фильтрации выбросов в столбце raised_amount."
   ]
  },
  {
   "cell_type": "code",
   "execution_count": 53,
   "metadata": {},
   "outputs": [
    {
     "data": {
      "text/plain": [
       "(42556, 14)"
      ]
     },
     "execution_count": 53,
     "metadata": {},
     "output_type": "execute_result"
    }
   ],
   "source": [
    "# Фильтрация выбросов\n",
    "Q1 = company_df['raised_amount'].quantile(0.25)\n",
    "Q3 = company_df['raised_amount'].quantile(0.75)\n",
    "IQR = Q3 - Q1\n",
    "filtered_df = company_df[(\n",
    "              company_df['raised_amount'] >= (\n",
    "                       Q1 - 1.5 * IQR)) & (company_df[\n",
    "                           'raised_amount'] <= (Q3 + 1.5 * IQR))]\n",
    "filtered_df.shape"
   ]
  },
  {
   "cell_type": "markdown",
   "metadata": {},
   "source": [
    "Для нахождения категорий с наибольшими ценами можно использовать медиану. Медиана является более устойчивой к выбросам, чем среднее значение, что позволяет лучше отражать \"типичную\" цену стартапов в каждой категории.\n",
    "\n",
    "Разброс цен можно оценить с помощью стандартного отклонения (std). Стандартное отклонение показывает, насколько сильно цены варьируются в пределах категории, что помогает выявить категории с высоким риском и высокой потенциальной доходностью\n",
    "\n",
    "Метод var() вычислит дисперсию для каждой группы. Дисперсия является мерой разброса значений относительно их среднего. В данном контексте это даст представление о том, насколько сильно различаются суммы, собранные в каждой категории, что может быть полезно для анализа финансовых данных или оценки рисков."
   ]
  },
  {
   "cell_type": "code",
   "execution_count": 54,
   "metadata": {},
   "outputs": [
    {
     "data": {
      "text/html": [
       "<div>\n",
       "<style scoped>\n",
       "    .dataframe tbody tr th:only-of-type {\n",
       "        vertical-align: middle;\n",
       "    }\n",
       "\n",
       "    .dataframe tbody tr th {\n",
       "        vertical-align: top;\n",
       "    }\n",
       "\n",
       "    .dataframe thead th {\n",
       "        text-align: right;\n",
       "    }\n",
       "</style>\n",
       "<table border=\"1\" class=\"dataframe\">\n",
       "  <thead>\n",
       "    <tr style=\"text-align: right;\">\n",
       "      <th></th>\n",
       "      <th>median</th>\n",
       "      <th>std</th>\n",
       "      <th>var</th>\n",
       "    </tr>\n",
       "    <tr>\n",
       "      <th>category_code</th>\n",
       "      <th></th>\n",
       "      <th></th>\n",
       "      <th></th>\n",
       "    </tr>\n",
       "  </thead>\n",
       "  <tbody>\n",
       "    <tr>\n",
       "      <th>advertising</th>\n",
       "      <td>2000000.0</td>\n",
       "      <td>4.096707e+06</td>\n",
       "      <td>1.678301e+13</td>\n",
       "    </tr>\n",
       "    <tr>\n",
       "      <th>analytics</th>\n",
       "      <td>1500000.0</td>\n",
       "      <td>3.891924e+06</td>\n",
       "      <td>1.514707e+13</td>\n",
       "    </tr>\n",
       "    <tr>\n",
       "      <th>automotive</th>\n",
       "      <td>1121450.0</td>\n",
       "      <td>3.870294e+06</td>\n",
       "      <td>1.497917e+13</td>\n",
       "    </tr>\n",
       "    <tr>\n",
       "      <th>biotech</th>\n",
       "      <td>2500000.0</td>\n",
       "      <td>4.564104e+06</td>\n",
       "      <td>2.083104e+13</td>\n",
       "    </tr>\n",
       "    <tr>\n",
       "      <th>cleantech</th>\n",
       "      <td>3487465.0</td>\n",
       "      <td>4.896013e+06</td>\n",
       "      <td>2.397094e+13</td>\n",
       "    </tr>\n",
       "  </tbody>\n",
       "</table>\n",
       "</div>"
      ],
      "text/plain": [
       "                  median           std           var\n",
       "category_code                                       \n",
       "advertising    2000000.0  4.096707e+06  1.678301e+13\n",
       "analytics      1500000.0  3.891924e+06  1.514707e+13\n",
       "automotive     1121450.0  3.870294e+06  1.497917e+13\n",
       "biotech        2500000.0  4.564104e+06  2.083104e+13\n",
       "cleantech      3487465.0  4.896013e+06  2.397094e+13"
      ]
     },
     "execution_count": 54,
     "metadata": {},
     "output_type": "execute_result"
    }
   ],
   "source": [
    "# Группировка данных\n",
    "grouped = filtered_df.groupby(\n",
    "             'category_code')['raised_amount'].agg(['median', 'std', 'var'])\n",
    "grouped.head()"
   ]
  },
  {
   "cell_type": "markdown",
   "metadata": {},
   "source": [
    "Теперь можем составить топ по категориям"
   ]
  },
  {
   "cell_type": "code",
   "execution_count": 55,
   "metadata": {},
   "outputs": [
    {
     "data": {
      "text/html": [
       "<div>\n",
       "<style scoped>\n",
       "    .dataframe tbody tr th:only-of-type {\n",
       "        vertical-align: middle;\n",
       "    }\n",
       "\n",
       "    .dataframe tbody tr th {\n",
       "        vertical-align: top;\n",
       "    }\n",
       "\n",
       "    .dataframe thead th {\n",
       "        text-align: right;\n",
       "    }\n",
       "</style>\n",
       "<table border=\"1\" class=\"dataframe\">\n",
       "  <thead>\n",
       "    <tr style=\"text-align: right;\">\n",
       "      <th></th>\n",
       "      <th>median</th>\n",
       "      <th>std</th>\n",
       "      <th>var</th>\n",
       "    </tr>\n",
       "    <tr>\n",
       "      <th>category_code</th>\n",
       "      <th></th>\n",
       "      <th></th>\n",
       "      <th></th>\n",
       "    </tr>\n",
       "  </thead>\n",
       "  <tbody>\n",
       "    <tr>\n",
       "      <th>semiconductor</th>\n",
       "      <td>6000000.0</td>\n",
       "      <td>5.108332e+06</td>\n",
       "      <td>2.609505e+13</td>\n",
       "    </tr>\n",
       "    <tr>\n",
       "      <th>nanotech</th>\n",
       "      <td>3639120.0</td>\n",
       "      <td>4.358313e+06</td>\n",
       "      <td>1.899489e+13</td>\n",
       "    </tr>\n",
       "    <tr>\n",
       "      <th>cleantech</th>\n",
       "      <td>3487465.0</td>\n",
       "      <td>4.896013e+06</td>\n",
       "      <td>2.397094e+13</td>\n",
       "    </tr>\n",
       "    <tr>\n",
       "      <th>medical</th>\n",
       "      <td>3000000.0</td>\n",
       "      <td>4.542094e+06</td>\n",
       "      <td>2.063062e+13</td>\n",
       "    </tr>\n",
       "    <tr>\n",
       "      <th>network_hosting</th>\n",
       "      <td>3000000.0</td>\n",
       "      <td>4.861377e+06</td>\n",
       "      <td>2.363299e+13</td>\n",
       "    </tr>\n",
       "  </tbody>\n",
       "</table>\n",
       "</div>"
      ],
      "text/plain": [
       "                    median           std           var\n",
       "category_code                                         \n",
       "semiconductor    6000000.0  5.108332e+06  2.609505e+13\n",
       "nanotech         3639120.0  4.358313e+06  1.899489e+13\n",
       "cleantech        3487465.0  4.896013e+06  2.397094e+13\n",
       "medical          3000000.0  4.542094e+06  2.063062e+13\n",
       "network_hosting  3000000.0  4.861377e+06  2.363299e+13"
      ]
     },
     "execution_count": 55,
     "metadata": {},
     "output_type": "execute_result"
    }
   ],
   "source": [
    "# Получение топовых категорий по средней цене\n",
    "top_mean = grouped.nlargest(5, 'median')\n",
    "top_mean"
   ]
  },
  {
   "cell_type": "code",
   "execution_count": 56,
   "metadata": {},
   "outputs": [
    {
     "data": {
      "text/html": [
       "<div>\n",
       "<style scoped>\n",
       "    .dataframe tbody tr th:only-of-type {\n",
       "        vertical-align: middle;\n",
       "    }\n",
       "\n",
       "    .dataframe tbody tr th {\n",
       "        vertical-align: top;\n",
       "    }\n",
       "\n",
       "    .dataframe thead th {\n",
       "        text-align: right;\n",
       "    }\n",
       "</style>\n",
       "<table border=\"1\" class=\"dataframe\">\n",
       "  <thead>\n",
       "    <tr style=\"text-align: right;\">\n",
       "      <th></th>\n",
       "      <th>median</th>\n",
       "      <th>std</th>\n",
       "      <th>var</th>\n",
       "    </tr>\n",
       "    <tr>\n",
       "      <th>category_code</th>\n",
       "      <th></th>\n",
       "      <th></th>\n",
       "      <th></th>\n",
       "    </tr>\n",
       "  </thead>\n",
       "  <tbody>\n",
       "    <tr>\n",
       "      <th>semiconductor</th>\n",
       "      <td>6000000.0</td>\n",
       "      <td>5.108332e+06</td>\n",
       "      <td>2.609505e+13</td>\n",
       "    </tr>\n",
       "    <tr>\n",
       "      <th>pets</th>\n",
       "      <td>881250.0</td>\n",
       "      <td>5.091414e+06</td>\n",
       "      <td>2.592250e+13</td>\n",
       "    </tr>\n",
       "    <tr>\n",
       "      <th>cleantech</th>\n",
       "      <td>3487465.0</td>\n",
       "      <td>4.896013e+06</td>\n",
       "      <td>2.397094e+13</td>\n",
       "    </tr>\n",
       "    <tr>\n",
       "      <th>network_hosting</th>\n",
       "      <td>3000000.0</td>\n",
       "      <td>4.861377e+06</td>\n",
       "      <td>2.363299e+13</td>\n",
       "    </tr>\n",
       "    <tr>\n",
       "      <th>public_relations</th>\n",
       "      <td>2080000.0</td>\n",
       "      <td>4.567725e+06</td>\n",
       "      <td>2.086411e+13</td>\n",
       "    </tr>\n",
       "  </tbody>\n",
       "</table>\n",
       "</div>"
      ],
      "text/plain": [
       "                     median           std           var\n",
       "category_code                                          \n",
       "semiconductor     6000000.0  5.108332e+06  2.609505e+13\n",
       "pets               881250.0  5.091414e+06  2.592250e+13\n",
       "cleantech         3487465.0  4.896013e+06  2.397094e+13\n",
       "network_hosting   3000000.0  4.861377e+06  2.363299e+13\n",
       "public_relations  2080000.0  4.567725e+06  2.086411e+13"
      ]
     },
     "execution_count": 56,
     "metadata": {},
     "output_type": "execute_result"
    }
   ],
   "source": [
    "# Получение топовых категорий по разбросу цен\n",
    "top_std = grouped.nlargest(5, 'std')\n",
    "top_std"
   ]
  },
  {
   "cell_type": "code",
   "execution_count": 57,
   "metadata": {},
   "outputs": [
    {
     "data": {
      "image/png": "[encoded data removed]",
      "text/plain": [
       "<Figure size 600x600 with 2 Axes>"
      ]
     },
     "metadata": {},
     "output_type": "display_data"
    }
   ],
   "source": [
    "# Визуализация\n",
    "fig, ax = plt.subplots(2, 1, figsize=(6, 6))\n",
    "\n",
    "# График для средней цены\n",
    "top_mean['median'].plot(kind='barh', ax=ax[0], color='skyblue')  \n",
    "ax[0].set_title('Топ категории по типичной цене продажи')\n",
    "ax[0].set_xlabel('Средняя цена')  \n",
    "ax[0].set_ylabel('Категория')\n",
    "\n",
    "# График для разброса цен\n",
    "top_std['std'].plot(kind='barh', ax=ax[1], color='salmon')  \n",
    "ax[1].set_title('Топ категории по разбросу цен')\n",
    "ax[1].set_xlabel('Стандартное отклонение') \n",
    "ax[1].set_ylabel('Категория')\n",
    "\n",
    "\n",
    "plt.tight_layout()\n",
    "plt.show()"
   ]
  },
  {
   "cell_type": "markdown",
   "metadata": {},
   "source": [
    "На основе предоставленных данных, топовые категории по средней цене выглядят следующим образом:\n",
    "- Полупроводники 6 млн.\n",
    "- Нанотехнологии 3.6 млн.\n",
    "- Чистые технологии\t3.5 млн.\n",
    "- Медицина\t3 млн.\n",
    "- Хостинг сетей\t3 млн.\n",
    "\n",
    "Топовые категории по стандартному отклонению выглядят следующим образом:\n",
    "- Полупроводники 5.1млн.\t\n",
    "- Домашние животные\t5,1 млн.\n",
    "- Чистые технологии\t4,9 млн.\n",
    "- Хостинг сетей 4,9 млн.\n",
    "- Связи с общественностью\t4,6 млн.\n",
    "\n",
    "Наиболее высокие типичные цены наблюдаются в категории полупроводников, что может свидетельствовать о высоких затратах на исследования и разработки в этой области. Наибольший разброс наблюдается также в категории полупроводников, что может указывать на значительные колебания в ценах на компоненты или технологии в этой области.\n",
    "\n",
    " \n",
    "Таким образом, анализ категорий стартапов по критериям максимальной суммы привлеченных средств и разброса цен позволяет выделить наиболее перспективные направления для инвестиций."
   ]
  },
  {
   "cell_type": "markdown",
   "metadata": {
    "id": "ADOfyVY_rJg3"
   },
   "source": [
    "\n",
    "### 3.5. Сколько раундов продержится стартап перед покупкой\n",
    "\n",
    "* Необходимо проанализировать столбец `funding_rounds`. Исследуем значения столбца. Заказчика интересует типичное значение количества раундов для каждого возможного статуса стартапа."
   ]
  },
  {
   "cell_type": "code",
   "execution_count": 58,
   "metadata": {
    "id": "hgXMPC4WrJg3"
   },
   "outputs": [
    {
     "data": {
      "text/plain": [
       "(count    47359.000000\n",
       " mean         2.601998\n",
       " std          1.903801\n",
       " min          1.000000\n",
       " 25%          1.000000\n",
       " 50%          2.000000\n",
       " 75%          3.000000\n",
       " max         15.000000\n",
       " Name: funding_rounds, dtype: float64,\n",
       " array(['operating', 'acquired', 'ipo', 'closed'], dtype=object))"
      ]
     },
     "execution_count": 58,
     "metadata": {},
     "output_type": "execute_result"
    }
   ],
   "source": [
    "# Анализ значений столбца funding_rounds\n",
    "funding_rounds_analysis = company_df['funding_rounds'].describe()\n",
    " # Получение уникальных статусов стартапов\n",
    "unique_statuses = company_df['status'].unique()\n",
    "\n",
    "funding_rounds_analysis, unique_statuses"
   ]
  },
  {
   "cell_type": "markdown",
   "metadata": {},
   "source": [
    "Удалим дубликаты по набору компания - количество раундов. И отфильтруем компании, у которых был хотя бы один раунд финансирования."
   ]
  },
  {
   "cell_type": "code",
   "execution_count": 59,
   "metadata": {},
   "outputs": [
    {
     "data": {
      "text/plain": [
       "(47359, 14)"
      ]
     },
     "execution_count": 59,
     "metadata": {},
     "output_type": "execute_result"
    }
   ],
   "source": [
    "# Фильтрация компаний с хотя бы одним раундом финансирования\n",
    "filtered_rounds_df = company_df[company_df['funding_rounds'] > 0]\n",
    "filtered_rounds_df.shape"
   ]
  },
  {
   "cell_type": "code",
   "execution_count": 60,
   "metadata": {},
   "outputs": [
    {
     "data": {
      "text/plain": [
       "(26320, 14)"
      ]
     },
     "execution_count": 60,
     "metadata": {},
     "output_type": "execute_result"
    }
   ],
   "source": [
    "# Удаление дубликатов по 'company  ID' и 'funding  rounds'\n",
    "deduplicated_df_df = filtered_df.drop_duplicates(subset=['company_id', 'funding_rounds'])\n",
    "\n",
    "deduplicated_df_df.shape"
   ]
  },
  {
   "cell_type": "markdown",
   "metadata": {},
   "source": [
    "Вычисляем среднее значение для каждой группы (каждого статуса). Это даст нам среднее количество раундов финансирования для каждой категории статуса."
   ]
  },
  {
   "cell_type": "code",
   "execution_count": 61,
   "metadata": {},
   "outputs": [
    {
     "data": {
      "text/html": [
       "<div>\n",
       "<style scoped>\n",
       "    .dataframe tbody tr th:only-of-type {\n",
       "        vertical-align: middle;\n",
       "    }\n",
       "\n",
       "    .dataframe tbody tr th {\n",
       "        vertical-align: top;\n",
       "    }\n",
       "\n",
       "    .dataframe thead th {\n",
       "        text-align: right;\n",
       "    }\n",
       "</style>\n",
       "<table border=\"1\" class=\"dataframe\">\n",
       "  <thead>\n",
       "    <tr style=\"text-align: right;\">\n",
       "      <th></th>\n",
       "      <th>status</th>\n",
       "      <th>funding_rounds</th>\n",
       "    </tr>\n",
       "  </thead>\n",
       "  <tbody>\n",
       "    <tr>\n",
       "      <th>2</th>\n",
       "      <td>ipo</td>\n",
       "      <td>3.0</td>\n",
       "    </tr>\n",
       "    <tr>\n",
       "      <th>0</th>\n",
       "      <td>acquired</td>\n",
       "      <td>2.0</td>\n",
       "    </tr>\n",
       "    <tr>\n",
       "      <th>3</th>\n",
       "      <td>operating</td>\n",
       "      <td>2.0</td>\n",
       "    </tr>\n",
       "    <tr>\n",
       "      <th>1</th>\n",
       "      <td>closed</td>\n",
       "      <td>1.0</td>\n",
       "    </tr>\n",
       "  </tbody>\n",
       "</table>\n",
       "</div>"
      ],
      "text/plain": [
       "      status  funding_rounds\n",
       "2        ipo             3.0\n",
       "0   acquired             2.0\n",
       "3  operating             2.0\n",
       "1     closed             1.0"
      ]
     },
     "execution_count": 61,
     "metadata": {},
     "output_type": "execute_result"
    }
   ],
   "source": [
    "# Группировка по статусу и вычисление среднего значения\n",
    "typical_funding_rounds = deduplicated_df_df.groupby(\n",
    "                 'status')['funding_rounds'].mean().reset_index()\n",
    "# Округление значений в столбце funding_rounds\n",
    "typical_funding_rounds['funding_rounds'] = typical_funding_rounds['funding_rounds'].round()\n",
    "# Сортировка по возрастанию\n",
    "typical_funding_rounds = typical_funding_rounds.sort_values(\n",
    "                 by='funding_rounds', ascending=False)\n",
    "\n",
    "typical_funding_rounds"
   ]
  },
  {
   "cell_type": "code",
   "execution_count": 62,
   "metadata": {},
   "outputs": [
    {
     "data": {
      "image/png": "[encoded data removed]",
      "text/plain": [
       "<Figure size 600x400 with 1 Axes>"
      ]
     },
     "metadata": {},
     "output_type": "display_data"
    }
   ],
   "source": [
    "# Построение графика\n",
    "plt.figure(figsize=(6, 4))\n",
    "plt.bar(typical_funding_rounds['status'], typical_funding_rounds['funding_rounds'], color='skyblue')\n",
    "plt.title('Среднее кол-во раундов финансирования по статусам стартапов')\n",
    "plt.xlabel('Статус стартапа')\n",
    "plt.ylabel('Среднее кол-во раундов')\n",
    "plt.xticks(rotation=45)\n",
    "plt.grid(axis='y')\n",
    "plt.tight_layout()\n",
    "plt.show()"
   ]
  },
  {
   "cell_type": "markdown",
   "metadata": {},
   "source": [
    "- Стартапы, достигшие стадии IPO, имеют наибольшее среднее количество раундов финансирования.\n",
    "- Поглощенные стартапы были приобретены на ранних стадиях развития, до прохождения большого количества раундов, это объясняет их меньшее количество раундов.\n",
    "- У действующих стартапов в среднем ниже количество раундов, что может быть связано с их текущим этапом развития. Многие из них находятся на начальной стадии развития и ещё не успели пройти много раундов финансирования.\n",
    "- Закрытые стартапы чаще всего проходят меньшее количество раундов финансирования. Это может указывать на то, что такие стартапы не смогли привлечь достаточно инвестиций для дальнейшего развития \n",
    "- Поглощенные были приобретены на ранних стадиях развития, до прохождения большого количества раундов."
   ]
  },
  {
   "cell_type": "markdown",
   "metadata": {
    "id": "VAFEZ2HBrJg3"
   },
   "source": [
    "\n",
    "## Шаг 4. Итоговый вывод и рекомендации\n",
    "\n",
    "Опишите, что было сделано в проекте, какие были сделаны выводы, подкрепляют ли они друг друга или заставляют сомневаться в полученных результатах.\n",
    "\n",
    "Так как, датасет был проблемный, включал в себя большое количество дубликатов и пропусков, было принято решение разделить главную таблицу и отформатировали ее. Мы подготовили и проверили датасет данных на соответствие здравого смысла, а также ответили на вопросы заказчика как о предобработке, так и о значении данных для бизнеса:\n",
    "- Максимальный типичный размер собранных средств в рамках одного раунда был в 2005 году и составил 5.5 млн долларов.\n",
    "- С увеличением числа раундов финансирования можно предположить, что рынок стал более насыщенным, что могло привести к снижению типичных сумм. Более высокий объем раундов может означать большее количество малых инвестиций, что в свою очередь снижает среднюю сумму.\n",
    "- Несмотря на рост активности на рынке (количество раундов), типичные суммы финансирования не только не росли, но и снижались в последние годы анализа.\n",
    "- В ходе работы выявили, что в малых компаниях (с численностью от 1 до 5 сотрудников) доля работников без данных об образовании значительно выше, чем в средних и крупных организациях.\n",
    "- Среднее значение общего финансирования составляет порядка 4.59 млн.\n",
    "- На основании анализа данных, выявлили что наиболее высокие типичные цены наблюдаются в категории полупроводников, что может свидетельствовать о высоких затратах на исследования и разработки в этой области. Наибольший разброс наблюдается также в категории полупроводников, что может указывать на значительные колебания в ценах на компоненты или технологии в этой области. \n",
    "Выбор категорий из выявленного в ходе анализа топа обусловлен их высокими значениями как типичной суммы привлеченных средств, так и разбросом цен. Инвесторы могут получить значительную прибыль от успешных стартапов в этих категориях.\n"
   ]
  },
  {
   "cell_type": "markdown",
   "metadata": {},
   "source": [
    "<a id=\"results\"></a>\n",
    "\n",
    "[В начало](#start)"
   ]
  },
  {
   "cell_type": "code",
   "execution_count": null,
   "metadata": {},
   "outputs": [],
   "source": []
  }
 ],
 "metadata": {
  "ExecuteTimeLog": [
   {
    "duration": 1358,
    "start_time": "2024-12-25T07:57:44.672Z"
   },
   {
    "duration": 3584,
    "start_time": "2024-12-25T07:58:11.607Z"
   },
   {
    "duration": 53,
    "start_time": "2024-12-25T07:58:18.551Z"
   },
   {
    "duration": 131,
    "start_time": "2024-12-25T08:00:49.029Z"
   },
   {
    "duration": 46,
    "start_time": "2024-12-25T08:01:24.334Z"
   },
   {
    "duration": 2601,
    "start_time": "2024-12-25T08:38:07.319Z"
   },
   {
    "duration": 1145,
    "start_time": "2024-12-25T08:38:09.922Z"
   },
   {
    "duration": 47,
    "start_time": "2024-12-25T08:38:11.068Z"
   },
   {
    "duration": 2566,
    "start_time": "2024-12-25T08:42:45.294Z"
   },
   {
    "duration": 5,
    "start_time": "2024-12-25T08:44:49.630Z"
   },
   {
    "duration": 1555,
    "start_time": "2024-12-25T08:47:13.266Z"
   },
   {
    "duration": 638,
    "start_time": "2024-12-25T08:53:04.051Z"
   },
   {
    "duration": 68,
    "start_time": "2024-12-25T08:53:32.407Z"
   },
   {
    "duration": 621,
    "start_time": "2024-12-25T08:53:51.214Z"
   },
   {
    "duration": 658,
    "start_time": "2024-12-25T08:55:17.865Z"
   },
   {
    "duration": 633,
    "start_time": "2024-12-25T08:55:35.549Z"
   },
   {
    "duration": 111,
    "start_time": "2024-12-25T08:56:49.696Z"
   },
   {
    "duration": 816,
    "start_time": "2024-12-25T08:57:04.696Z"
   },
   {
    "duration": 946,
    "start_time": "2024-12-25T08:57:59.977Z"
   },
   {
    "duration": 961,
    "start_time": "2024-12-25T08:58:42.031Z"
   },
   {
    "duration": 759,
    "start_time": "2024-12-25T08:59:28.991Z"
   },
   {
    "duration": 20,
    "start_time": "2024-12-25T09:00:28.548Z"
   },
   {
    "duration": 755,
    "start_time": "2024-12-25T09:00:41.237Z"
   },
   {
    "duration": 70,
    "start_time": "2024-12-25T09:02:05.183Z"
   },
   {
    "duration": 68,
    "start_time": "2024-12-25T09:02:10.449Z"
   },
   {
    "duration": 22,
    "start_time": "2024-12-25T09:02:27.719Z"
   },
   {
    "duration": 25,
    "start_time": "2024-12-25T09:02:52.056Z"
   },
   {
    "duration": 771,
    "start_time": "2024-12-25T09:03:26.961Z"
   },
   {
    "duration": 764,
    "start_time": "2024-12-25T09:03:42.955Z"
   },
   {
    "duration": 24,
    "start_time": "2024-12-25T09:04:19.365Z"
   },
   {
    "duration": 3,
    "start_time": "2024-12-25T09:54:29.630Z"
   },
   {
    "duration": 6,
    "start_time": "2024-12-25T09:54:43.047Z"
   },
   {
    "duration": 32,
    "start_time": "2024-12-25T10:00:31.040Z"
   },
   {
    "duration": 28,
    "start_time": "2024-12-25T10:00:54.831Z"
   },
   {
    "duration": 29,
    "start_time": "2024-12-25T10:01:05.462Z"
   },
   {
    "duration": 82,
    "start_time": "2024-12-25T10:02:08.772Z"
   },
   {
    "duration": 35,
    "start_time": "2024-12-25T10:02:30.220Z"
   },
   {
    "duration": 32,
    "start_time": "2024-12-25T10:05:24.378Z"
   },
   {
    "duration": 31,
    "start_time": "2024-12-25T10:06:17.571Z"
   },
   {
    "duration": 77,
    "start_time": "2024-12-25T10:06:47.795Z"
   },
   {
    "duration": 7,
    "start_time": "2024-12-25T10:09:37.860Z"
   },
   {
    "duration": 3,
    "start_time": "2024-12-25T10:10:38.945Z"
   },
   {
    "duration": 6,
    "start_time": "2024-12-25T10:11:07.364Z"
   },
   {
    "duration": 22,
    "start_time": "2024-12-25T10:11:58.932Z"
   },
   {
    "duration": 3,
    "start_time": "2024-12-25T10:12:29.302Z"
   },
   {
    "duration": 4,
    "start_time": "2024-12-25T10:12:32.555Z"
   },
   {
    "duration": 2595,
    "start_time": "2024-12-25T10:17:26.100Z"
   },
   {
    "duration": 1079,
    "start_time": "2024-12-25T10:17:28.697Z"
   },
   {
    "duration": 3048,
    "start_time": "2024-12-25T10:17:29.778Z"
   },
   {
    "duration": 3,
    "start_time": "2024-12-25T10:17:32.828Z"
   },
   {
    "duration": 43,
    "start_time": "2024-12-25T10:17:32.832Z"
   },
   {
    "duration": 37,
    "start_time": "2024-12-25T10:17:32.877Z"
   },
   {
    "duration": 156,
    "start_time": "2024-12-25T10:17:32.916Z"
   },
   {
    "duration": 679,
    "start_time": "2024-12-25T10:17:33.074Z"
   },
   {
    "duration": 35,
    "start_time": "2024-12-25T10:17:33.755Z"
   },
   {
    "duration": 163,
    "start_time": "2024-12-25T10:17:33.793Z"
   },
   {
    "duration": 125,
    "start_time": "2024-12-25T10:34:13.679Z"
   },
   {
    "duration": 118,
    "start_time": "2024-12-25T10:34:45.891Z"
   },
   {
    "duration": 119,
    "start_time": "2024-12-25T10:34:50.116Z"
   },
   {
    "duration": 35,
    "start_time": "2024-12-25T10:38:28.364Z"
   },
   {
    "duration": 717,
    "start_time": "2024-12-25T10:41:32.701Z"
   },
   {
    "duration": 123,
    "start_time": "2024-12-25T10:43:45.014Z"
   },
   {
    "duration": 1132,
    "start_time": "2024-12-25T11:04:04.788Z"
   },
   {
    "duration": 1358,
    "start_time": "2024-12-25T11:17:28.224Z"
   },
   {
    "duration": 1149,
    "start_time": "2024-12-25T11:18:20.621Z"
   },
   {
    "duration": 9,
    "start_time": "2024-12-25T11:18:54.873Z"
   },
   {
    "duration": 79,
    "start_time": "2024-12-25T11:19:08.098Z"
   },
   {
    "duration": 104,
    "start_time": "2024-12-25T11:21:04.682Z"
   },
   {
    "duration": 2579,
    "start_time": "2024-12-25T11:21:25.318Z"
   },
   {
    "duration": 1068,
    "start_time": "2024-12-25T11:21:27.900Z"
   },
   {
    "duration": 2113,
    "start_time": "2024-12-25T11:21:28.970Z"
   },
   {
    "duration": 2,
    "start_time": "2024-12-25T11:21:31.085Z"
   },
   {
    "duration": 16,
    "start_time": "2024-12-25T11:21:31.090Z"
   },
   {
    "duration": 23,
    "start_time": "2024-12-25T11:21:31.108Z"
   },
   {
    "duration": 161,
    "start_time": "2024-12-25T11:21:31.132Z"
   },
   {
    "duration": 783,
    "start_time": "2024-12-25T11:21:31.295Z"
   },
   {
    "duration": 108,
    "start_time": "2024-12-25T11:21:32.079Z"
   },
   {
    "duration": 89,
    "start_time": "2024-12-25T11:21:32.188Z"
   },
   {
    "duration": 1297,
    "start_time": "2024-12-25T11:21:32.279Z"
   },
   {
    "duration": 105,
    "start_time": "2024-12-25T11:23:04.924Z"
   },
   {
    "duration": 103,
    "start_time": "2024-12-25T11:26:02.591Z"
   },
   {
    "duration": 86,
    "start_time": "2024-12-25T11:26:43.557Z"
   },
   {
    "duration": 19,
    "start_time": "2024-12-25T11:28:33.244Z"
   },
   {
    "duration": 19,
    "start_time": "2024-12-25T11:29:26.300Z"
   },
   {
    "duration": 13,
    "start_time": "2024-12-25T11:30:26.365Z"
   },
   {
    "duration": 5,
    "start_time": "2024-12-25T11:30:55.193Z"
   },
   {
    "duration": 7,
    "start_time": "2024-12-25T11:31:58.489Z"
   },
   {
    "duration": 157,
    "start_time": "2024-12-25T11:34:10.383Z"
   },
   {
    "duration": 6,
    "start_time": "2024-12-25T11:37:46.319Z"
   },
   {
    "duration": 91,
    "start_time": "2024-12-25T11:44:38.612Z"
   },
   {
    "duration": 3,
    "start_time": "2024-12-25T11:47:38.487Z"
   },
   {
    "duration": 15,
    "start_time": "2024-12-25T11:47:46.456Z"
   },
   {
    "duration": 103,
    "start_time": "2024-12-25T11:49:11.576Z"
   },
   {
    "duration": 99,
    "start_time": "2024-12-25T11:49:35.058Z"
   },
   {
    "duration": 82,
    "start_time": "2024-12-25T11:50:32.197Z"
   },
   {
    "duration": 112,
    "start_time": "2024-12-25T11:52:42.927Z"
   },
   {
    "duration": 17,
    "start_time": "2024-12-25T11:53:00.485Z"
   },
   {
    "duration": 19,
    "start_time": "2024-12-25T11:54:32.966Z"
   },
   {
    "duration": 18,
    "start_time": "2024-12-25T11:54:41.868Z"
   },
   {
    "duration": 10,
    "start_time": "2024-12-25T11:55:38.707Z"
   },
   {
    "duration": 1186,
    "start_time": "2024-12-25T11:56:06.872Z"
   },
   {
    "duration": 1095,
    "start_time": "2024-12-25T11:57:13.187Z"
   },
   {
    "duration": 1113,
    "start_time": "2024-12-25T11:58:40.932Z"
   },
   {
    "duration": 1357,
    "start_time": "2024-12-25T12:00:44.267Z"
   },
   {
    "duration": 1133,
    "start_time": "2024-12-25T12:01:24.760Z"
   },
   {
    "duration": 1278,
    "start_time": "2024-12-25T12:01:38.869Z"
   },
   {
    "duration": 82,
    "start_time": "2024-12-25T12:01:46.907Z"
   },
   {
    "duration": 12,
    "start_time": "2024-12-25T12:02:44.224Z"
   },
   {
    "duration": 11,
    "start_time": "2024-12-25T12:03:35.030Z"
   },
   {
    "duration": 9,
    "start_time": "2024-12-25T12:04:42.455Z"
   },
   {
    "duration": 2691,
    "start_time": "2024-12-25T12:08:29.543Z"
   },
   {
    "duration": 1225,
    "start_time": "2024-12-25T12:08:32.236Z"
   },
   {
    "duration": 1865,
    "start_time": "2024-12-25T12:08:33.462Z"
   },
   {
    "duration": 3,
    "start_time": "2024-12-25T12:08:35.329Z"
   },
   {
    "duration": 40,
    "start_time": "2024-12-25T12:08:35.333Z"
   },
   {
    "duration": 102,
    "start_time": "2024-12-25T12:08:35.375Z"
   },
   {
    "duration": 155,
    "start_time": "2024-12-25T12:08:35.478Z"
   },
   {
    "duration": 815,
    "start_time": "2024-12-25T12:08:35.635Z"
   },
   {
    "duration": 146,
    "start_time": "2024-12-25T12:08:36.451Z"
   },
   {
    "duration": 12,
    "start_time": "2024-12-25T12:08:36.600Z"
   },
   {
    "duration": 43,
    "start_time": "2024-12-25T12:08:36.614Z"
   },
   {
    "duration": 17,
    "start_time": "2024-12-25T12:08:36.659Z"
   },
   {
    "duration": 8,
    "start_time": "2024-12-25T12:08:36.678Z"
   },
   {
    "duration": 86,
    "start_time": "2024-12-25T12:08:36.688Z"
   },
   {
    "duration": 1214,
    "start_time": "2024-12-25T12:08:36.776Z"
   },
   {
    "duration": 70,
    "start_time": "2024-12-25T12:10:50.717Z"
   },
   {
    "duration": 63,
    "start_time": "2024-12-25T12:11:03.920Z"
   },
   {
    "duration": 44,
    "start_time": "2024-12-25T12:11:14.857Z"
   },
   {
    "duration": 90,
    "start_time": "2024-12-25T12:11:47.212Z"
   },
   {
    "duration": 53,
    "start_time": "2024-12-25T12:12:35.938Z"
   },
   {
    "duration": 1860,
    "start_time": "2024-12-25T12:13:04.517Z"
   },
   {
    "duration": 1238,
    "start_time": "2024-12-25T12:13:27.136Z"
   },
   {
    "duration": 47,
    "start_time": "2024-12-25T12:14:05.837Z"
   },
   {
    "duration": 11,
    "start_time": "2024-12-25T12:15:16.144Z"
   },
   {
    "duration": 10,
    "start_time": "2024-12-25T12:16:01.222Z"
   },
   {
    "duration": 65,
    "start_time": "2024-12-25T12:17:19.649Z"
   },
   {
    "duration": 5,
    "start_time": "2024-12-25T12:19:04.821Z"
   },
   {
    "duration": 8,
    "start_time": "2024-12-25T12:26:19.739Z"
   },
   {
    "duration": 14,
    "start_time": "2024-12-25T12:28:26.189Z"
   },
   {
    "duration": 10,
    "start_time": "2024-12-25T12:29:50.539Z"
   },
   {
    "duration": 10,
    "start_time": "2024-12-25T12:30:36.035Z"
   },
   {
    "duration": 11,
    "start_time": "2024-12-25T12:32:05.283Z"
   },
   {
    "duration": 2618,
    "start_time": "2024-12-25T12:32:31.218Z"
   },
   {
    "duration": 1128,
    "start_time": "2024-12-25T12:32:33.838Z"
   },
   {
    "duration": 2424,
    "start_time": "2024-12-25T12:32:34.968Z"
   },
   {
    "duration": 3,
    "start_time": "2024-12-25T12:32:37.394Z"
   },
   {
    "duration": 11,
    "start_time": "2024-12-25T12:32:37.398Z"
   },
   {
    "duration": 27,
    "start_time": "2024-12-25T12:32:37.411Z"
   },
   {
    "duration": 161,
    "start_time": "2024-12-25T12:32:37.446Z"
   },
   {
    "duration": 791,
    "start_time": "2024-12-25T12:32:37.608Z"
   },
   {
    "duration": 157,
    "start_time": "2024-12-25T12:32:38.400Z"
   },
   {
    "duration": 9,
    "start_time": "2024-12-25T12:32:38.559Z"
   },
   {
    "duration": 81,
    "start_time": "2024-12-25T12:32:38.570Z"
   },
   {
    "duration": 7,
    "start_time": "2024-12-25T12:32:38.653Z"
   },
   {
    "duration": 110,
    "start_time": "2024-12-25T12:32:38.662Z"
   },
   {
    "duration": 12,
    "start_time": "2024-12-25T12:33:30.670Z"
   },
   {
    "duration": 10,
    "start_time": "2024-12-25T12:34:44.389Z"
   },
   {
    "duration": 13,
    "start_time": "2024-12-25T12:34:56.812Z"
   },
   {
    "duration": 2600,
    "start_time": "2024-12-25T12:35:42.321Z"
   },
   {
    "duration": 1162,
    "start_time": "2024-12-25T12:35:44.923Z"
   },
   {
    "duration": 2338,
    "start_time": "2024-12-25T12:35:46.087Z"
   },
   {
    "duration": 3,
    "start_time": "2024-12-25T12:35:48.427Z"
   },
   {
    "duration": 8,
    "start_time": "2024-12-25T12:35:48.432Z"
   },
   {
    "duration": 27,
    "start_time": "2024-12-25T12:35:48.441Z"
   },
   {
    "duration": 169,
    "start_time": "2024-12-25T12:35:48.469Z"
   },
   {
    "duration": 779,
    "start_time": "2024-12-25T12:35:48.639Z"
   },
   {
    "duration": 144,
    "start_time": "2024-12-25T12:35:49.419Z"
   },
   {
    "duration": 8,
    "start_time": "2024-12-25T12:35:49.564Z"
   },
   {
    "duration": 105,
    "start_time": "2024-12-25T12:35:49.574Z"
   },
   {
    "duration": 8,
    "start_time": "2024-12-25T12:35:49.681Z"
   },
   {
    "duration": 118,
    "start_time": "2024-12-25T12:35:49.690Z"
   },
   {
    "duration": 10,
    "start_time": "2024-12-25T12:37:34.590Z"
   },
   {
    "duration": 8,
    "start_time": "2024-12-25T12:37:35.940Z"
   },
   {
    "duration": 2621,
    "start_time": "2024-12-25T12:37:49.674Z"
   },
   {
    "duration": 1075,
    "start_time": "2024-12-25T12:37:52.297Z"
   },
   {
    "duration": 2677,
    "start_time": "2024-12-25T12:37:53.374Z"
   },
   {
    "duration": 3,
    "start_time": "2024-12-25T12:37:56.053Z"
   },
   {
    "duration": 10,
    "start_time": "2024-12-25T12:37:56.058Z"
   },
   {
    "duration": 43,
    "start_time": "2024-12-25T12:37:56.069Z"
   },
   {
    "duration": 182,
    "start_time": "2024-12-25T12:37:56.114Z"
   },
   {
    "duration": 779,
    "start_time": "2024-12-25T12:37:56.297Z"
   },
   {
    "duration": 144,
    "start_time": "2024-12-25T12:37:57.078Z"
   },
   {
    "duration": 9,
    "start_time": "2024-12-25T12:37:57.223Z"
   },
   {
    "duration": 67,
    "start_time": "2024-12-25T12:37:57.234Z"
   },
   {
    "duration": 10,
    "start_time": "2024-12-25T12:37:57.302Z"
   },
   {
    "duration": 7,
    "start_time": "2024-12-25T12:37:57.314Z"
   },
   {
    "duration": 124,
    "start_time": "2024-12-25T12:37:57.323Z"
   },
   {
    "duration": 8,
    "start_time": "2024-12-25T12:38:26.180Z"
   },
   {
    "duration": 15,
    "start_time": "2024-12-25T12:38:29.548Z"
   },
   {
    "duration": 12,
    "start_time": "2024-12-25T12:38:47.595Z"
   },
   {
    "duration": 2632,
    "start_time": "2024-12-25T12:39:01.609Z"
   },
   {
    "duration": 1148,
    "start_time": "2024-12-25T12:39:04.243Z"
   },
   {
    "duration": 1825,
    "start_time": "2024-12-25T12:39:05.392Z"
   },
   {
    "duration": 3,
    "start_time": "2024-12-25T12:39:07.219Z"
   },
   {
    "duration": 37,
    "start_time": "2024-12-25T12:39:07.225Z"
   },
   {
    "duration": 37,
    "start_time": "2024-12-25T12:39:07.265Z"
   },
   {
    "duration": 158,
    "start_time": "2024-12-25T12:39:07.304Z"
   },
   {
    "duration": 835,
    "start_time": "2024-12-25T12:39:07.464Z"
   },
   {
    "duration": 145,
    "start_time": "2024-12-25T12:39:08.301Z"
   },
   {
    "duration": 10,
    "start_time": "2024-12-25T12:39:08.447Z"
   },
   {
    "duration": 66,
    "start_time": "2024-12-25T12:39:08.458Z"
   },
   {
    "duration": 27,
    "start_time": "2024-12-25T12:39:08.526Z"
   },
   {
    "duration": 137,
    "start_time": "2024-12-25T12:39:08.555Z"
   },
   {
    "duration": 291,
    "start_time": "2024-12-25T12:39:38.399Z"
   },
   {
    "duration": 17,
    "start_time": "2024-12-25T12:40:08.048Z"
   },
   {
    "duration": 14,
    "start_time": "2024-12-25T12:40:59.263Z"
   },
   {
    "duration": 16,
    "start_time": "2024-12-25T12:41:26.242Z"
   },
   {
    "duration": 2660,
    "start_time": "2024-12-25T12:41:39.610Z"
   },
   {
    "duration": 1109,
    "start_time": "2024-12-25T12:41:42.273Z"
   },
   {
    "duration": 3037,
    "start_time": "2024-12-25T12:41:43.384Z"
   },
   {
    "duration": 4,
    "start_time": "2024-12-25T12:41:46.423Z"
   },
   {
    "duration": 10,
    "start_time": "2024-12-25T12:41:46.429Z"
   },
   {
    "duration": 26,
    "start_time": "2024-12-25T12:41:46.440Z"
   },
   {
    "duration": 163,
    "start_time": "2024-12-25T12:41:46.467Z"
   },
   {
    "duration": 786,
    "start_time": "2024-12-25T12:41:46.631Z"
   },
   {
    "duration": 144,
    "start_time": "2024-12-25T12:41:47.418Z"
   },
   {
    "duration": 9,
    "start_time": "2024-12-25T12:41:47.563Z"
   },
   {
    "duration": 77,
    "start_time": "2024-12-25T12:41:47.573Z"
   },
   {
    "duration": 10,
    "start_time": "2024-12-25T12:41:47.651Z"
   },
   {
    "duration": 116,
    "start_time": "2024-12-25T12:41:47.663Z"
   },
   {
    "duration": 17,
    "start_time": "2024-12-25T12:42:26.234Z"
   },
   {
    "duration": 27,
    "start_time": "2024-12-25T12:42:41.917Z"
   },
   {
    "duration": 15,
    "start_time": "2024-12-25T12:43:18.219Z"
   },
   {
    "duration": 16,
    "start_time": "2024-12-25T12:44:13.061Z"
   },
   {
    "duration": 26,
    "start_time": "2024-12-25T12:44:28.986Z"
   },
   {
    "duration": 30,
    "start_time": "2024-12-25T12:44:41.119Z"
   },
   {
    "duration": 27,
    "start_time": "2024-12-25T12:59:02.199Z"
   },
   {
    "duration": 72,
    "start_time": "2024-12-25T12:59:15.794Z"
   },
   {
    "duration": 61,
    "start_time": "2024-12-25T12:59:27.585Z"
   },
   {
    "duration": 54,
    "start_time": "2024-12-25T12:59:50.143Z"
   },
   {
    "duration": 61,
    "start_time": "2024-12-25T13:00:12.670Z"
   },
   {
    "duration": 10,
    "start_time": "2024-12-25T13:00:18.891Z"
   },
   {
    "duration": 25,
    "start_time": "2024-12-25T13:00:49.485Z"
   },
   {
    "duration": 5,
    "start_time": "2024-12-25T13:08:17.379Z"
   },
   {
    "duration": 3,
    "start_time": "2024-12-25T13:09:43.216Z"
   },
   {
    "duration": 14,
    "start_time": "2024-12-25T13:12:42.692Z"
   },
   {
    "duration": 25,
    "start_time": "2024-12-25T13:13:00.211Z"
   },
   {
    "duration": 4,
    "start_time": "2024-12-25T13:21:08.174Z"
   },
   {
    "duration": 8,
    "start_time": "2024-12-25T13:22:03.127Z"
   },
   {
    "duration": 18,
    "start_time": "2024-12-25T13:25:13.876Z"
   },
   {
    "duration": 13,
    "start_time": "2024-12-25T13:29:21.649Z"
   },
   {
    "duration": 14,
    "start_time": "2024-12-25T13:29:41.567Z"
   },
   {
    "duration": 19,
    "start_time": "2024-12-25T13:30:02.619Z"
   },
   {
    "duration": 19,
    "start_time": "2024-12-25T13:30:19.279Z"
   },
   {
    "duration": 26,
    "start_time": "2024-12-25T13:30:59.199Z"
   },
   {
    "duration": 19,
    "start_time": "2024-12-25T13:31:06.440Z"
   },
   {
    "duration": 23,
    "start_time": "2024-12-25T13:31:44.906Z"
   },
   {
    "duration": 14,
    "start_time": "2024-12-25T13:32:21.406Z"
   },
   {
    "duration": 6,
    "start_time": "2024-12-25T13:33:16.540Z"
   },
   {
    "duration": 4,
    "start_time": "2024-12-25T13:34:14.808Z"
   },
   {
    "duration": 52,
    "start_time": "2024-12-25T13:34:58.308Z"
   },
   {
    "duration": 13,
    "start_time": "2024-12-25T13:36:03.075Z"
   },
   {
    "duration": 6,
    "start_time": "2024-12-25T13:37:23.030Z"
   },
   {
    "duration": 2675,
    "start_time": "2024-12-25T13:38:41.129Z"
   },
   {
    "duration": 1171,
    "start_time": "2024-12-25T13:38:43.807Z"
   },
   {
    "duration": 2590,
    "start_time": "2024-12-25T13:38:44.980Z"
   },
   {
    "duration": 4,
    "start_time": "2024-12-25T13:38:47.572Z"
   },
   {
    "duration": 12,
    "start_time": "2024-12-25T13:38:47.578Z"
   },
   {
    "duration": 27,
    "start_time": "2024-12-25T13:38:47.591Z"
   },
   {
    "duration": 174,
    "start_time": "2024-12-25T13:38:47.619Z"
   },
   {
    "duration": 1169,
    "start_time": "2024-12-25T13:38:47.794Z"
   },
   {
    "duration": 5,
    "start_time": "2024-12-25T13:38:48.964Z"
   },
   {
    "duration": 4,
    "start_time": "2024-12-25T13:38:48.971Z"
   },
   {
    "duration": 205,
    "start_time": "2024-12-25T13:38:48.976Z"
   },
   {
    "duration": 0,
    "start_time": "2024-12-25T13:38:49.182Z"
   },
   {
    "duration": 0,
    "start_time": "2024-12-25T13:38:49.184Z"
   },
   {
    "duration": 0,
    "start_time": "2024-12-25T13:38:49.185Z"
   },
   {
    "duration": 0,
    "start_time": "2024-12-25T13:38:49.186Z"
   },
   {
    "duration": 0,
    "start_time": "2024-12-25T13:38:49.187Z"
   },
   {
    "duration": 0,
    "start_time": "2024-12-25T13:38:49.187Z"
   },
   {
    "duration": 5,
    "start_time": "2024-12-25T13:49:56.461Z"
   },
   {
    "duration": 6,
    "start_time": "2024-12-25T13:51:06.665Z"
   },
   {
    "duration": 304,
    "start_time": "2024-12-25T13:52:21.841Z"
   },
   {
    "duration": 6,
    "start_time": "2024-12-25T13:52:39.398Z"
   },
   {
    "duration": 6,
    "start_time": "2024-12-25T13:54:43.788Z"
   },
   {
    "duration": 318,
    "start_time": "2024-12-25T13:55:46.112Z"
   },
   {
    "duration": 6,
    "start_time": "2024-12-25T13:56:57.905Z"
   },
   {
    "duration": 6,
    "start_time": "2024-12-25T13:58:37.721Z"
   },
   {
    "duration": 3,
    "start_time": "2024-12-25T13:58:48.458Z"
   },
   {
    "duration": 4,
    "start_time": "2024-12-25T13:59:01.369Z"
   },
   {
    "duration": 4,
    "start_time": "2024-12-25T14:02:38.979Z"
   },
   {
    "duration": 5,
    "start_time": "2024-12-25T14:03:35.878Z"
   },
   {
    "duration": 4,
    "start_time": "2024-12-25T14:03:57.338Z"
   },
   {
    "duration": 5,
    "start_time": "2024-12-25T14:04:14.596Z"
   },
   {
    "duration": 2644,
    "start_time": "2024-12-25T14:04:35.775Z"
   },
   {
    "duration": 1154,
    "start_time": "2024-12-25T14:04:38.421Z"
   },
   {
    "duration": 2228,
    "start_time": "2024-12-25T14:04:39.576Z"
   },
   {
    "duration": 2,
    "start_time": "2024-12-25T14:04:41.807Z"
   },
   {
    "duration": 18,
    "start_time": "2024-12-25T14:04:41.810Z"
   },
   {
    "duration": 12,
    "start_time": "2024-12-25T14:04:41.829Z"
   },
   {
    "duration": 47,
    "start_time": "2024-12-25T14:04:41.843Z"
   },
   {
    "duration": 19,
    "start_time": "2024-12-25T14:04:41.891Z"
   },
   {
    "duration": 40,
    "start_time": "2024-12-25T14:04:41.912Z"
   },
   {
    "duration": 167,
    "start_time": "2024-12-25T14:04:41.954Z"
   },
   {
    "duration": 805,
    "start_time": "2024-12-25T14:04:42.122Z"
   },
   {
    "duration": 4,
    "start_time": "2024-12-25T14:04:42.929Z"
   },
   {
    "duration": 14,
    "start_time": "2024-12-25T14:04:42.934Z"
   },
   {
    "duration": 143,
    "start_time": "2024-12-25T14:04:42.950Z"
   },
   {
    "duration": 0,
    "start_time": "2024-12-25T14:04:43.094Z"
   },
   {
    "duration": 0,
    "start_time": "2024-12-25T14:04:43.096Z"
   },
   {
    "duration": 0,
    "start_time": "2024-12-25T14:04:43.096Z"
   },
   {
    "duration": 0,
    "start_time": "2024-12-25T14:04:43.098Z"
   },
   {
    "duration": 0,
    "start_time": "2024-12-25T14:04:43.099Z"
   },
   {
    "duration": 0,
    "start_time": "2024-12-25T14:04:43.100Z"
   },
   {
    "duration": 2652,
    "start_time": "2024-12-25T19:01:24.038Z"
   },
   {
    "duration": 1191,
    "start_time": "2024-12-25T19:01:26.693Z"
   },
   {
    "duration": 1866,
    "start_time": "2024-12-25T19:01:27.886Z"
   },
   {
    "duration": 3,
    "start_time": "2024-12-25T19:01:29.754Z"
   },
   {
    "duration": 10,
    "start_time": "2024-12-25T19:01:29.758Z"
   },
   {
    "duration": 6,
    "start_time": "2024-12-25T19:01:29.769Z"
   },
   {
    "duration": 9,
    "start_time": "2024-12-25T19:01:29.776Z"
   },
   {
    "duration": 11,
    "start_time": "2024-12-25T19:01:29.787Z"
   },
   {
    "duration": 29,
    "start_time": "2024-12-25T19:01:29.799Z"
   },
   {
    "duration": 230,
    "start_time": "2024-12-25T19:01:29.830Z"
   },
   {
    "duration": 1465,
    "start_time": "2024-12-25T19:01:30.061Z"
   },
   {
    "duration": 4,
    "start_time": "2024-12-25T19:01:31.527Z"
   },
   {
    "duration": 14,
    "start_time": "2024-12-25T19:01:31.532Z"
   },
   {
    "duration": 111,
    "start_time": "2024-12-25T19:01:31.548Z"
   },
   {
    "duration": 0,
    "start_time": "2024-12-25T19:01:31.660Z"
   },
   {
    "duration": 0,
    "start_time": "2024-12-25T19:01:31.661Z"
   },
   {
    "duration": 0,
    "start_time": "2024-12-25T19:01:31.662Z"
   },
   {
    "duration": 0,
    "start_time": "2024-12-25T19:01:31.663Z"
   },
   {
    "duration": 0,
    "start_time": "2024-12-25T19:01:31.664Z"
   },
   {
    "duration": 0,
    "start_time": "2024-12-25T19:01:31.665Z"
   },
   {
    "duration": 25,
    "start_time": "2024-12-25T19:05:07.859Z"
   },
   {
    "duration": 68,
    "start_time": "2024-12-25T19:07:21.463Z"
   },
   {
    "duration": 732,
    "start_time": "2024-12-25T19:07:30.428Z"
   },
   {
    "duration": 716,
    "start_time": "2024-12-25T19:08:01.398Z"
   },
   {
    "duration": 69,
    "start_time": "2024-12-25T19:09:01.107Z"
   },
   {
    "duration": 85,
    "start_time": "2024-12-25T19:09:26.054Z"
   },
   {
    "duration": 738,
    "start_time": "2024-12-25T19:09:40.052Z"
   },
   {
    "duration": 168,
    "start_time": "2024-12-25T19:15:44.178Z"
   },
   {
    "duration": 9,
    "start_time": "2024-12-25T19:15:49.799Z"
   },
   {
    "duration": 64,
    "start_time": "2024-12-25T19:21:38.460Z"
   },
   {
    "duration": 27,
    "start_time": "2024-12-25T19:21:54.589Z"
   },
   {
    "duration": 30,
    "start_time": "2024-12-25T19:22:15.114Z"
   },
   {
    "duration": 78,
    "start_time": "2024-12-25T19:26:04.964Z"
   },
   {
    "duration": 66,
    "start_time": "2024-12-25T19:26:19.176Z"
   },
   {
    "duration": 66,
    "start_time": "2024-12-25T19:26:28.954Z"
   },
   {
    "duration": 11,
    "start_time": "2024-12-25T19:27:27.166Z"
   },
   {
    "duration": 329,
    "start_time": "2024-12-25T19:28:59.270Z"
   },
   {
    "duration": 321,
    "start_time": "2024-12-25T19:33:46.578Z"
   },
   {
    "duration": 296,
    "start_time": "2024-12-25T19:35:40.432Z"
   },
   {
    "duration": 286,
    "start_time": "2024-12-25T19:49:22.958Z"
   },
   {
    "duration": 12,
    "start_time": "2024-12-25T19:50:42.673Z"
   },
   {
    "duration": 8,
    "start_time": "2024-12-25T19:51:04.881Z"
   },
   {
    "duration": 11,
    "start_time": "2024-12-25T19:59:16.965Z"
   },
   {
    "duration": 9,
    "start_time": "2024-12-25T19:59:41.616Z"
   },
   {
    "duration": 9,
    "start_time": "2024-12-25T20:00:23.115Z"
   },
   {
    "duration": 9,
    "start_time": "2024-12-25T20:00:38.285Z"
   },
   {
    "duration": 2603,
    "start_time": "2024-12-25T20:00:51.359Z"
   },
   {
    "duration": 1172,
    "start_time": "2024-12-25T20:00:53.964Z"
   },
   {
    "duration": 2203,
    "start_time": "2024-12-25T20:00:55.138Z"
   },
   {
    "duration": 4,
    "start_time": "2024-12-25T20:00:57.342Z"
   },
   {
    "duration": 106,
    "start_time": "2024-12-25T20:00:57.348Z"
   },
   {
    "duration": 3,
    "start_time": "2024-12-25T20:00:57.456Z"
   },
   {
    "duration": 9,
    "start_time": "2024-12-25T20:00:57.461Z"
   },
   {
    "duration": 6,
    "start_time": "2024-12-25T20:00:57.472Z"
   },
   {
    "duration": 24,
    "start_time": "2024-12-25T20:00:57.479Z"
   },
   {
    "duration": 186,
    "start_time": "2024-12-25T20:00:57.504Z"
   },
   {
    "duration": 798,
    "start_time": "2024-12-25T20:00:57.691Z"
   },
   {
    "duration": 181,
    "start_time": "2024-12-25T20:00:58.490Z"
   },
   {
    "duration": 9,
    "start_time": "2024-12-25T20:00:58.673Z"
   },
   {
    "duration": 82,
    "start_time": "2024-12-25T20:00:58.684Z"
   },
   {
    "duration": 25,
    "start_time": "2024-12-25T20:00:58.767Z"
   },
   {
    "duration": 78,
    "start_time": "2024-12-25T20:00:58.793Z"
   },
   {
    "duration": 11,
    "start_time": "2024-12-25T20:00:58.873Z"
   },
   {
    "duration": 337,
    "start_time": "2024-12-25T20:00:58.885Z"
   },
   {
    "duration": 113,
    "start_time": "2024-12-25T20:00:59.224Z"
   },
   {
    "duration": 4,
    "start_time": "2024-12-25T20:01:14.370Z"
   },
   {
    "duration": 9,
    "start_time": "2024-12-25T20:01:19.785Z"
   },
   {
    "duration": 3,
    "start_time": "2024-12-25T20:01:54.503Z"
   },
   {
    "duration": 9,
    "start_time": "2024-12-25T20:03:20.592Z"
   },
   {
    "duration": 9,
    "start_time": "2024-12-25T20:03:36.156Z"
   },
   {
    "duration": 8,
    "start_time": "2024-12-25T20:04:25.374Z"
   },
   {
    "duration": 70,
    "start_time": "2024-12-25T20:05:28.734Z"
   },
   {
    "duration": 95,
    "start_time": "2024-12-25T20:05:52.543Z"
   },
   {
    "duration": 72,
    "start_time": "2024-12-25T20:06:52.209Z"
   },
   {
    "duration": 14,
    "start_time": "2024-12-25T20:07:00.086Z"
   },
   {
    "duration": 8,
    "start_time": "2024-12-25T20:07:11.112Z"
   },
   {
    "duration": 10,
    "start_time": "2024-12-25T20:07:57.930Z"
   },
   {
    "duration": 8,
    "start_time": "2024-12-25T20:10:46.176Z"
   },
   {
    "duration": 3327,
    "start_time": "2024-12-25T20:16:09.658Z"
   },
   {
    "duration": 3275,
    "start_time": "2024-12-25T20:17:56.635Z"
   },
   {
    "duration": 3458,
    "start_time": "2024-12-25T20:19:02.249Z"
   },
   {
    "duration": 3456,
    "start_time": "2024-12-25T20:19:14.760Z"
   },
   {
    "duration": 18,
    "start_time": "2024-12-25T20:22:35.506Z"
   },
   {
    "duration": 11,
    "start_time": "2024-12-25T20:23:06.031Z"
   },
   {
    "duration": 9,
    "start_time": "2024-12-25T20:25:36.770Z"
   },
   {
    "duration": 10,
    "start_time": "2024-12-25T20:25:50.918Z"
   },
   {
    "duration": 11,
    "start_time": "2024-12-25T20:25:56.137Z"
   },
   {
    "duration": 3293,
    "start_time": "2024-12-25T20:26:44.019Z"
   },
   {
    "duration": 3376,
    "start_time": "2024-12-25T20:27:05.835Z"
   },
   {
    "duration": 14,
    "start_time": "2024-12-25T20:27:26.765Z"
   },
   {
    "duration": 21,
    "start_time": "2024-12-25T20:27:43.586Z"
   },
   {
    "duration": 6,
    "start_time": "2024-12-25T20:28:05.393Z"
   },
   {
    "duration": 10,
    "start_time": "2024-12-25T20:28:18.855Z"
   },
   {
    "duration": 11,
    "start_time": "2024-12-25T20:28:36.931Z"
   },
   {
    "duration": 10,
    "start_time": "2024-12-25T20:28:44.042Z"
   },
   {
    "duration": 2603,
    "start_time": "2024-12-25T20:33:56.121Z"
   },
   {
    "duration": 1132,
    "start_time": "2024-12-25T20:33:58.726Z"
   },
   {
    "duration": 2144,
    "start_time": "2024-12-25T20:33:59.859Z"
   },
   {
    "duration": 3,
    "start_time": "2024-12-25T20:34:02.005Z"
   },
   {
    "duration": 15,
    "start_time": "2024-12-25T20:34:02.010Z"
   },
   {
    "duration": 35,
    "start_time": "2024-12-25T20:34:02.027Z"
   },
   {
    "duration": 35,
    "start_time": "2024-12-25T20:34:02.064Z"
   },
   {
    "duration": 18,
    "start_time": "2024-12-25T20:34:02.101Z"
   },
   {
    "duration": 44,
    "start_time": "2024-12-25T20:34:02.121Z"
   },
   {
    "duration": 183,
    "start_time": "2024-12-25T20:34:02.168Z"
   },
   {
    "duration": 869,
    "start_time": "2024-12-25T20:34:02.353Z"
   },
   {
    "duration": 189,
    "start_time": "2024-12-25T20:34:03.224Z"
   },
   {
    "duration": 8,
    "start_time": "2024-12-25T20:34:03.415Z"
   },
   {
    "duration": 75,
    "start_time": "2024-12-25T20:34:03.425Z"
   },
   {
    "duration": 36,
    "start_time": "2024-12-25T20:34:03.502Z"
   },
   {
    "duration": 34,
    "start_time": "2024-12-25T20:34:03.540Z"
   },
   {
    "duration": 11,
    "start_time": "2024-12-25T20:34:03.575Z"
   },
   {
    "duration": 326,
    "start_time": "2024-12-25T20:34:03.587Z"
   },
   {
    "duration": 9,
    "start_time": "2024-12-25T20:34:03.915Z"
   },
   {
    "duration": 108,
    "start_time": "2024-12-25T20:34:03.925Z"
   },
   {
    "duration": 21,
    "start_time": "2024-12-25T20:34:04.035Z"
   },
   {
    "duration": 3897,
    "start_time": "2024-12-25T20:34:04.058Z"
   },
   {
    "duration": 22,
    "start_time": "2024-12-25T20:34:07.957Z"
   },
   {
    "duration": 6,
    "start_time": "2024-12-25T20:34:07.980Z"
   },
   {
    "duration": 65,
    "start_time": "2024-12-25T20:34:07.987Z"
   },
   {
    "duration": 4,
    "start_time": "2024-12-25T20:34:08.054Z"
   },
   {
    "duration": 23,
    "start_time": "2024-12-25T20:36:14.826Z"
   },
   {
    "duration": 26,
    "start_time": "2024-12-25T20:36:30.766Z"
   },
   {
    "duration": 28,
    "start_time": "2024-12-25T20:36:39.145Z"
   },
   {
    "duration": 65,
    "start_time": "2024-12-25T20:37:08.569Z"
   },
   {
    "duration": 1196,
    "start_time": "2024-12-25T20:37:31.759Z"
   },
   {
    "duration": 25,
    "start_time": "2024-12-25T20:38:50.457Z"
   },
   {
    "duration": 75,
    "start_time": "2024-12-25T20:40:15.283Z"
   },
   {
    "duration": 44,
    "start_time": "2024-12-25T20:41:24.747Z"
   },
   {
    "duration": 41,
    "start_time": "2024-12-25T20:42:14.648Z"
   },
   {
    "duration": 45,
    "start_time": "2024-12-25T20:42:26.393Z"
   },
   {
    "duration": 47,
    "start_time": "2024-12-25T20:43:14.108Z"
   },
   {
    "duration": 99,
    "start_time": "2024-12-25T20:44:06.773Z"
   },
   {
    "duration": 80,
    "start_time": "2024-12-25T20:44:27.459Z"
   },
   {
    "duration": 94,
    "start_time": "2024-12-25T20:44:38.253Z"
   },
   {
    "duration": 49,
    "start_time": "2024-12-26T12:41:13.323Z"
   },
   {
    "duration": 3449,
    "start_time": "2024-12-26T12:41:34.577Z"
   },
   {
    "duration": 1389,
    "start_time": "2024-12-26T12:41:38.027Z"
   },
   {
    "duration": 1995,
    "start_time": "2024-12-26T12:41:39.418Z"
   },
   {
    "duration": 6,
    "start_time": "2024-12-26T12:41:41.415Z"
   },
   {
    "duration": 8,
    "start_time": "2024-12-26T12:41:41.423Z"
   },
   {
    "duration": 4,
    "start_time": "2024-12-26T12:41:41.432Z"
   },
   {
    "duration": 14,
    "start_time": "2024-12-26T12:41:41.437Z"
   },
   {
    "duration": 11,
    "start_time": "2024-12-26T12:41:41.453Z"
   },
   {
    "duration": 32,
    "start_time": "2024-12-26T12:41:41.466Z"
   },
   {
    "duration": 206,
    "start_time": "2024-12-26T12:41:41.500Z"
   },
   {
    "duration": 941,
    "start_time": "2024-12-26T12:41:41.708Z"
   },
   {
    "duration": 183,
    "start_time": "2024-12-26T12:41:42.650Z"
   },
   {
    "duration": 10,
    "start_time": "2024-12-26T12:41:42.834Z"
   },
   {
    "duration": 101,
    "start_time": "2024-12-26T12:41:42.846Z"
   },
   {
    "duration": 32,
    "start_time": "2024-12-26T12:41:42.949Z"
   },
   {
    "duration": 51,
    "start_time": "2024-12-26T12:41:42.983Z"
   },
   {
    "duration": 11,
    "start_time": "2024-12-26T12:41:43.035Z"
   },
   {
    "duration": 388,
    "start_time": "2024-12-26T12:41:43.048Z"
   },
   {
    "duration": 9,
    "start_time": "2024-12-26T12:41:43.438Z"
   },
   {
    "duration": 115,
    "start_time": "2024-12-26T12:41:43.448Z"
   },
   {
    "duration": 19,
    "start_time": "2024-12-26T12:41:43.565Z"
   },
   {
    "duration": 3719,
    "start_time": "2024-12-26T12:41:43.585Z"
   },
   {
    "duration": 32,
    "start_time": "2024-12-26T12:41:47.306Z"
   },
   {
    "duration": 7,
    "start_time": "2024-12-26T12:41:47.340Z"
   },
   {
    "duration": 11,
    "start_time": "2024-12-26T12:41:47.348Z"
   },
   {
    "duration": 18,
    "start_time": "2024-12-26T12:41:47.361Z"
   },
   {
    "duration": 50,
    "start_time": "2024-12-26T12:41:47.381Z"
   },
   {
    "duration": 55,
    "start_time": "2024-12-26T12:41:47.434Z"
   },
   {
    "duration": 112,
    "start_time": "2024-12-26T12:41:47.491Z"
   },
   {
    "duration": 2416,
    "start_time": "2024-12-26T12:42:59.231Z"
   },
   {
    "duration": 1219,
    "start_time": "2024-12-26T12:43:01.649Z"
   },
   {
    "duration": 2884,
    "start_time": "2024-12-26T12:43:02.870Z"
   },
   {
    "duration": 2,
    "start_time": "2024-12-26T12:43:05.756Z"
   },
   {
    "duration": 14,
    "start_time": "2024-12-26T12:43:05.760Z"
   },
   {
    "duration": 38,
    "start_time": "2024-12-26T12:43:05.775Z"
   },
   {
    "duration": 62,
    "start_time": "2024-12-26T12:43:05.814Z"
   },
   {
    "duration": 34,
    "start_time": "2024-12-26T12:43:05.878Z"
   },
   {
    "duration": 60,
    "start_time": "2024-12-26T12:43:05.914Z"
   },
   {
    "duration": 188,
    "start_time": "2024-12-26T12:43:05.975Z"
   },
   {
    "duration": 906,
    "start_time": "2024-12-26T12:43:06.165Z"
   },
   {
    "duration": 194,
    "start_time": "2024-12-26T12:43:07.073Z"
   },
   {
    "duration": 9,
    "start_time": "2024-12-26T12:43:07.269Z"
   },
   {
    "duration": 119,
    "start_time": "2024-12-26T12:43:07.282Z"
   },
   {
    "duration": 32,
    "start_time": "2024-12-26T12:43:07.403Z"
   },
   {
    "duration": 29,
    "start_time": "2024-12-26T12:43:07.437Z"
   },
   {
    "duration": 11,
    "start_time": "2024-12-26T12:43:07.467Z"
   },
   {
    "duration": 416,
    "start_time": "2024-12-26T12:43:07.480Z"
   },
   {
    "duration": 24,
    "start_time": "2024-12-26T12:43:07.898Z"
   },
   {
    "duration": 130,
    "start_time": "2024-12-26T12:43:07.924Z"
   },
   {
    "duration": 20,
    "start_time": "2024-12-26T12:43:08.055Z"
   },
   {
    "duration": 3873,
    "start_time": "2024-12-26T12:43:08.077Z"
   },
   {
    "duration": 81,
    "start_time": "2024-12-26T12:43:11.952Z"
   },
   {
    "duration": 6,
    "start_time": "2024-12-26T12:43:12.034Z"
   },
   {
    "duration": 27,
    "start_time": "2024-12-26T12:43:12.041Z"
   },
   {
    "duration": 54,
    "start_time": "2024-12-26T12:43:12.069Z"
   },
   {
    "duration": 36,
    "start_time": "2024-12-26T12:43:12.124Z"
   },
   {
    "duration": 162,
    "start_time": "2024-12-26T12:43:12.161Z"
   },
   {
    "duration": 245,
    "start_time": "2024-12-26T12:43:12.324Z"
   },
   {
    "duration": 10,
    "start_time": "2024-12-26T12:57:18.202Z"
   },
   {
    "duration": 3,
    "start_time": "2024-12-26T12:59:55.608Z"
   },
   {
    "duration": 15,
    "start_time": "2024-12-26T12:59:56.925Z"
   },
   {
    "duration": 122,
    "start_time": "2024-12-26T13:05:25.575Z"
   },
   {
    "duration": 101,
    "start_time": "2024-12-26T13:06:19.433Z"
   },
   {
    "duration": 158,
    "start_time": "2024-12-26T13:06:34.529Z"
   },
   {
    "duration": 194,
    "start_time": "2024-12-26T13:07:07.500Z"
   },
   {
    "duration": 82,
    "start_time": "2024-12-26T13:09:56.890Z"
   },
   {
    "duration": 103,
    "start_time": "2024-12-26T13:10:36.508Z"
   },
   {
    "duration": 80,
    "start_time": "2024-12-26T13:11:15.063Z"
   },
   {
    "duration": 61,
    "start_time": "2024-12-26T13:11:35.619Z"
   },
   {
    "duration": 76,
    "start_time": "2024-12-26T13:11:57.470Z"
   },
   {
    "duration": 2442,
    "start_time": "2024-12-26T13:12:14.877Z"
   },
   {
    "duration": 1250,
    "start_time": "2024-12-26T13:12:17.321Z"
   },
   {
    "duration": 2243,
    "start_time": "2024-12-26T13:12:18.573Z"
   },
   {
    "duration": 7,
    "start_time": "2024-12-26T13:12:20.818Z"
   },
   {
    "duration": 20,
    "start_time": "2024-12-26T13:12:20.835Z"
   },
   {
    "duration": 31,
    "start_time": "2024-12-26T13:12:20.856Z"
   },
   {
    "duration": 56,
    "start_time": "2024-12-26T13:12:20.889Z"
   },
   {
    "duration": 15,
    "start_time": "2024-12-26T13:12:20.947Z"
   },
   {
    "duration": 40,
    "start_time": "2024-12-26T13:12:20.964Z"
   },
   {
    "duration": 230,
    "start_time": "2024-12-26T13:12:21.006Z"
   },
   {
    "duration": 944,
    "start_time": "2024-12-26T13:12:21.238Z"
   },
   {
    "duration": 214,
    "start_time": "2024-12-26T13:12:22.183Z"
   },
   {
    "duration": 12,
    "start_time": "2024-12-26T13:12:22.400Z"
   },
   {
    "duration": 89,
    "start_time": "2024-12-26T13:12:22.428Z"
   },
   {
    "duration": 41,
    "start_time": "2024-12-26T13:12:22.519Z"
   },
   {
    "duration": 26,
    "start_time": "2024-12-26T13:12:22.562Z"
   },
   {
    "duration": 9,
    "start_time": "2024-12-26T13:12:22.590Z"
   },
   {
    "duration": 316,
    "start_time": "2024-12-26T13:12:22.601Z"
   },
   {
    "duration": 14,
    "start_time": "2024-12-26T13:12:22.919Z"
   },
   {
    "duration": 13,
    "start_time": "2024-12-26T13:12:22.935Z"
   },
   {
    "duration": 204,
    "start_time": "2024-12-26T13:12:22.949Z"
   },
   {
    "duration": 112,
    "start_time": "2024-12-26T13:12:23.154Z"
   },
   {
    "duration": 112,
    "start_time": "2024-12-26T13:12:23.267Z"
   },
   {
    "duration": 17,
    "start_time": "2024-12-26T13:12:23.380Z"
   },
   {
    "duration": 3876,
    "start_time": "2024-12-26T13:12:23.398Z"
   },
   {
    "duration": 20,
    "start_time": "2024-12-26T13:12:27.276Z"
   },
   {
    "duration": 5,
    "start_time": "2024-12-26T13:12:27.297Z"
   },
   {
    "duration": 35,
    "start_time": "2024-12-26T13:12:27.303Z"
   },
   {
    "duration": 13,
    "start_time": "2024-12-26T13:12:27.340Z"
   },
   {
    "duration": 34,
    "start_time": "2024-12-26T13:12:27.354Z"
   },
   {
    "duration": 67,
    "start_time": "2024-12-26T13:12:27.390Z"
   },
   {
    "duration": 106,
    "start_time": "2024-12-26T13:12:27.458Z"
   },
   {
    "duration": 2749,
    "start_time": "2024-12-26T13:16:15.605Z"
   },
   {
    "duration": 3863,
    "start_time": "2024-12-26T13:17:24.055Z"
   },
   {
    "duration": 119,
    "start_time": "2024-12-26T13:23:29.107Z"
   },
   {
    "duration": 98,
    "start_time": "2024-12-26T13:24:57.887Z"
   },
   {
    "duration": 85,
    "start_time": "2024-12-26T13:25:13.897Z"
   },
   {
    "duration": 100,
    "start_time": "2024-12-26T13:25:18.465Z"
   },
   {
    "duration": 81,
    "start_time": "2024-12-26T13:25:52.621Z"
   },
   {
    "duration": 2686,
    "start_time": "2024-12-26T13:26:02.012Z"
   },
   {
    "duration": 1434,
    "start_time": "2024-12-26T13:30:39.343Z"
   },
   {
    "duration": 2564,
    "start_time": "2024-12-26T13:31:13.809Z"
   },
   {
    "duration": 31,
    "start_time": "2024-12-26T13:35:07.814Z"
   },
   {
    "duration": 9,
    "start_time": "2024-12-26T13:35:21.671Z"
   },
   {
    "duration": 28,
    "start_time": "2024-12-26T13:38:34.745Z"
   },
   {
    "duration": 22,
    "start_time": "2024-12-26T13:39:26.357Z"
   },
   {
    "duration": 134,
    "start_time": "2024-12-26T13:40:33.526Z"
   },
   {
    "duration": 21,
    "start_time": "2024-12-26T13:41:09.585Z"
   },
   {
    "duration": 3,
    "start_time": "2024-12-26T13:41:26.237Z"
   },
   {
    "duration": 13,
    "start_time": "2024-12-26T13:42:03.613Z"
   },
   {
    "duration": 4,
    "start_time": "2024-12-26T13:42:51.187Z"
   },
   {
    "duration": 8,
    "start_time": "2024-12-26T13:43:17.273Z"
   },
   {
    "duration": 2450,
    "start_time": "2024-12-26T13:47:05.727Z"
   },
   {
    "duration": 2476,
    "start_time": "2024-12-26T13:47:23.007Z"
   },
   {
    "duration": 1486,
    "start_time": "2024-12-26T13:48:15.129Z"
   },
   {
    "duration": 20,
    "start_time": "2024-12-26T13:48:49.954Z"
   },
   {
    "duration": 25,
    "start_time": "2024-12-26T13:49:10.089Z"
   },
   {
    "duration": 377,
    "start_time": "2024-12-26T13:50:08.074Z"
   },
   {
    "duration": 12,
    "start_time": "2024-12-26T13:50:53.798Z"
   },
   {
    "duration": 28,
    "start_time": "2024-12-26T13:52:11.334Z"
   },
   {
    "duration": 14,
    "start_time": "2024-12-26T13:52:35.930Z"
   },
   {
    "duration": 28,
    "start_time": "2024-12-26T13:52:42.458Z"
   },
   {
    "duration": 28,
    "start_time": "2024-12-26T13:53:04.101Z"
   },
   {
    "duration": 27,
    "start_time": "2024-12-26T13:53:17.740Z"
   },
   {
    "duration": 332,
    "start_time": "2024-12-26T13:53:27.105Z"
   },
   {
    "duration": 438,
    "start_time": "2024-12-26T13:53:44.580Z"
   },
   {
    "duration": 25,
    "start_time": "2024-12-26T13:53:52.279Z"
   },
   {
    "duration": 2542,
    "start_time": "2024-12-26T13:54:41.221Z"
   },
   {
    "duration": 24,
    "start_time": "2024-12-26T13:54:49.303Z"
   },
   {
    "duration": 2962,
    "start_time": "2024-12-26T13:55:38.777Z"
   },
   {
    "duration": 24,
    "start_time": "2024-12-26T13:55:41.740Z"
   },
   {
    "duration": 2259,
    "start_time": "2024-12-26T14:03:20.801Z"
   },
   {
    "duration": 1094,
    "start_time": "2024-12-26T14:03:23.062Z"
   },
   {
    "duration": 1995,
    "start_time": "2024-12-26T14:03:24.157Z"
   },
   {
    "duration": 2,
    "start_time": "2024-12-26T14:03:26.154Z"
   },
   {
    "duration": 13,
    "start_time": "2024-12-26T14:03:26.158Z"
   },
   {
    "duration": 13,
    "start_time": "2024-12-26T14:03:26.172Z"
   },
   {
    "duration": 9,
    "start_time": "2024-12-26T14:03:26.187Z"
   },
   {
    "duration": 10,
    "start_time": "2024-12-26T14:03:26.197Z"
   },
   {
    "duration": 35,
    "start_time": "2024-12-26T14:03:26.208Z"
   },
   {
    "duration": 183,
    "start_time": "2024-12-26T14:03:26.245Z"
   },
   {
    "duration": 835,
    "start_time": "2024-12-26T14:03:26.429Z"
   },
   {
    "duration": 182,
    "start_time": "2024-12-26T14:03:27.266Z"
   },
   {
    "duration": 9,
    "start_time": "2024-12-26T14:03:27.449Z"
   },
   {
    "duration": 85,
    "start_time": "2024-12-26T14:03:27.459Z"
   },
   {
    "duration": 28,
    "start_time": "2024-12-26T14:03:27.546Z"
   },
   {
    "duration": 24,
    "start_time": "2024-12-26T14:03:27.576Z"
   },
   {
    "duration": 27,
    "start_time": "2024-12-26T14:03:27.602Z"
   },
   {
    "duration": 364,
    "start_time": "2024-12-26T14:03:27.631Z"
   },
   {
    "duration": 2,
    "start_time": "2024-12-26T14:03:27.997Z"
   },
   {
    "duration": 52,
    "start_time": "2024-12-26T14:03:28.001Z"
   },
   {
    "duration": 174,
    "start_time": "2024-12-26T14:03:28.055Z"
   },
   {
    "duration": 2404,
    "start_time": "2024-12-26T14:03:28.231Z"
   },
   {
    "duration": 0,
    "start_time": "2024-12-26T14:03:30.637Z"
   },
   {
    "duration": 0,
    "start_time": "2024-12-26T14:03:30.639Z"
   },
   {
    "duration": 0,
    "start_time": "2024-12-26T14:03:30.640Z"
   },
   {
    "duration": 0,
    "start_time": "2024-12-26T14:03:30.641Z"
   },
   {
    "duration": 0,
    "start_time": "2024-12-26T14:03:30.642Z"
   },
   {
    "duration": 7,
    "start_time": "2024-12-26T14:04:52.790Z"
   },
   {
    "duration": 14,
    "start_time": "2024-12-26T14:05:02.875Z"
   },
   {
    "duration": 152,
    "start_time": "2024-12-26T14:14:01.610Z"
   },
   {
    "duration": 104,
    "start_time": "2024-12-26T14:14:21.884Z"
   },
   {
    "duration": 85,
    "start_time": "2024-12-26T14:15:29.525Z"
   },
   {
    "duration": 26,
    "start_time": "2024-12-26T14:19:25.545Z"
   },
   {
    "duration": 19,
    "start_time": "2024-12-26T14:21:58.343Z"
   },
   {
    "duration": 2229,
    "start_time": "2024-12-26T14:23:34.903Z"
   },
   {
    "duration": 1113,
    "start_time": "2024-12-26T14:23:37.134Z"
   },
   {
    "duration": 2238,
    "start_time": "2024-12-26T14:23:38.249Z"
   },
   {
    "duration": 3,
    "start_time": "2024-12-26T14:23:40.489Z"
   },
   {
    "duration": 59,
    "start_time": "2024-12-26T14:23:40.494Z"
   },
   {
    "duration": 9,
    "start_time": "2024-12-26T14:23:40.554Z"
   },
   {
    "duration": 13,
    "start_time": "2024-12-26T14:23:40.565Z"
   },
   {
    "duration": 8,
    "start_time": "2024-12-26T14:23:40.579Z"
   },
   {
    "duration": 44,
    "start_time": "2024-12-26T14:23:40.588Z"
   },
   {
    "duration": 191,
    "start_time": "2024-12-26T14:23:40.633Z"
   },
   {
    "duration": 881,
    "start_time": "2024-12-26T14:23:40.825Z"
   },
   {
    "duration": 183,
    "start_time": "2024-12-26T14:23:41.708Z"
   },
   {
    "duration": 9,
    "start_time": "2024-12-26T14:23:41.892Z"
   },
   {
    "duration": 135,
    "start_time": "2024-12-26T14:23:41.903Z"
   },
   {
    "duration": 29,
    "start_time": "2024-12-26T14:23:42.040Z"
   },
   {
    "duration": 26,
    "start_time": "2024-12-26T14:23:42.071Z"
   },
   {
    "duration": 25,
    "start_time": "2024-12-26T14:23:42.099Z"
   },
   {
    "duration": 334,
    "start_time": "2024-12-26T14:23:42.126Z"
   },
   {
    "duration": 3,
    "start_time": "2024-12-26T14:23:42.462Z"
   },
   {
    "duration": 25,
    "start_time": "2024-12-26T14:23:42.466Z"
   },
   {
    "duration": 169,
    "start_time": "2024-12-26T14:23:42.492Z"
   },
   {
    "duration": 1445,
    "start_time": "2024-12-26T14:23:42.663Z"
   },
   {
    "duration": 0,
    "start_time": "2024-12-26T14:23:44.110Z"
   },
   {
    "duration": 0,
    "start_time": "2024-12-26T14:23:44.111Z"
   },
   {
    "duration": 0,
    "start_time": "2024-12-26T14:23:44.112Z"
   },
   {
    "duration": 0,
    "start_time": "2024-12-26T14:23:44.113Z"
   },
   {
    "duration": 0,
    "start_time": "2024-12-26T14:23:44.114Z"
   },
   {
    "duration": 0,
    "start_time": "2024-12-26T14:23:44.115Z"
   },
   {
    "duration": 0,
    "start_time": "2024-12-26T14:23:44.117Z"
   },
   {
    "duration": 0,
    "start_time": "2024-12-26T14:23:44.118Z"
   },
   {
    "duration": 0,
    "start_time": "2024-12-26T14:23:44.119Z"
   },
   {
    "duration": 184,
    "start_time": "2024-12-26T14:25:56.859Z"
   },
   {
    "duration": 1514,
    "start_time": "2024-12-26T14:26:06.180Z"
   },
   {
    "duration": 14,
    "start_time": "2024-12-26T14:26:44.830Z"
   },
   {
    "duration": 50,
    "start_time": "2024-12-26T14:27:31.239Z"
   },
   {
    "duration": 58,
    "start_time": "2024-12-26T14:27:56.191Z"
   },
   {
    "duration": 11,
    "start_time": "2024-12-26T14:28:29.816Z"
   },
   {
    "duration": 33,
    "start_time": "2024-12-26T14:28:42.412Z"
   },
   {
    "duration": 18,
    "start_time": "2024-12-26T14:29:22.101Z"
   },
   {
    "duration": 23,
    "start_time": "2024-12-26T14:29:46.023Z"
   },
   {
    "duration": 16,
    "start_time": "2024-12-26T14:30:17.190Z"
   },
   {
    "duration": 19,
    "start_time": "2024-12-26T14:31:22.412Z"
   },
   {
    "duration": 12,
    "start_time": "2024-12-26T14:32:32.578Z"
   },
   {
    "duration": 4,
    "start_time": "2024-12-26T14:33:23.325Z"
   },
   {
    "duration": 22,
    "start_time": "2024-12-26T14:33:34.581Z"
   },
   {
    "duration": 1321,
    "start_time": "2024-12-26T14:34:33.593Z"
   },
   {
    "duration": 5,
    "start_time": "2024-12-26T14:35:41.583Z"
   },
   {
    "duration": 1382,
    "start_time": "2024-12-26T14:35:50.663Z"
   },
   {
    "duration": 103,
    "start_time": "2024-12-26T14:36:48.835Z"
   },
   {
    "duration": 18,
    "start_time": "2024-12-26T14:38:27.737Z"
   },
   {
    "duration": 13,
    "start_time": "2024-12-26T14:40:57.388Z"
   },
   {
    "duration": 2269,
    "start_time": "2024-12-26T14:42:10.508Z"
   },
   {
    "duration": 1081,
    "start_time": "2024-12-26T14:42:12.779Z"
   },
   {
    "duration": 2131,
    "start_time": "2024-12-26T14:42:13.861Z"
   },
   {
    "duration": 3,
    "start_time": "2024-12-26T14:42:15.994Z"
   },
   {
    "duration": 24,
    "start_time": "2024-12-26T14:42:15.999Z"
   },
   {
    "duration": 5,
    "start_time": "2024-12-26T14:42:16.024Z"
   },
   {
    "duration": 12,
    "start_time": "2024-12-26T14:42:16.031Z"
   },
   {
    "duration": 13,
    "start_time": "2024-12-26T14:42:16.045Z"
   },
   {
    "duration": 34,
    "start_time": "2024-12-26T14:42:16.060Z"
   },
   {
    "duration": 177,
    "start_time": "2024-12-26T14:42:16.095Z"
   },
   {
    "duration": 870,
    "start_time": "2024-12-26T14:42:16.274Z"
   },
   {
    "duration": 184,
    "start_time": "2024-12-26T14:42:17.146Z"
   },
   {
    "duration": 8,
    "start_time": "2024-12-26T14:42:17.331Z"
   },
   {
    "duration": 85,
    "start_time": "2024-12-26T14:42:17.342Z"
   },
   {
    "duration": 30,
    "start_time": "2024-12-26T14:42:17.428Z"
   },
   {
    "duration": 26,
    "start_time": "2024-12-26T14:42:17.460Z"
   },
   {
    "duration": 9,
    "start_time": "2024-12-26T14:42:17.487Z"
   },
   {
    "duration": 281,
    "start_time": "2024-12-26T14:42:17.522Z"
   },
   {
    "duration": 3,
    "start_time": "2024-12-26T14:42:17.804Z"
   },
   {
    "duration": 29,
    "start_time": "2024-12-26T14:42:17.808Z"
   },
   {
    "duration": 179,
    "start_time": "2024-12-26T14:42:17.838Z"
   },
   {
    "duration": 106,
    "start_time": "2024-12-26T14:42:18.019Z"
   },
   {
    "duration": 115,
    "start_time": "2024-12-26T14:42:18.126Z"
   },
   {
    "duration": 0,
    "start_time": "2024-12-26T14:42:18.243Z"
   },
   {
    "duration": 0,
    "start_time": "2024-12-26T14:42:18.244Z"
   },
   {
    "duration": 0,
    "start_time": "2024-12-26T14:42:18.245Z"
   },
   {
    "duration": 0,
    "start_time": "2024-12-26T14:42:18.246Z"
   },
   {
    "duration": 0,
    "start_time": "2024-12-26T14:42:18.247Z"
   },
   {
    "duration": 1,
    "start_time": "2024-12-26T14:42:18.248Z"
   },
   {
    "duration": 0,
    "start_time": "2024-12-26T14:42:18.249Z"
   },
   {
    "duration": 0,
    "start_time": "2024-12-26T14:42:18.251Z"
   },
   {
    "duration": 0,
    "start_time": "2024-12-26T14:42:18.251Z"
   },
   {
    "duration": 0,
    "start_time": "2024-12-26T14:42:18.252Z"
   },
   {
    "duration": 0,
    "start_time": "2024-12-26T14:42:18.253Z"
   },
   {
    "duration": 1775,
    "start_time": "2024-12-26T14:43:11.491Z"
   },
   {
    "duration": 2420,
    "start_time": "2024-12-26T14:43:54.089Z"
   },
   {
    "duration": 2601,
    "start_time": "2024-12-26T14:44:21.358Z"
   },
   {
    "duration": 24,
    "start_time": "2024-12-26T14:45:54.100Z"
   },
   {
    "duration": 20,
    "start_time": "2024-12-26T14:46:27.835Z"
   },
   {
    "duration": 24,
    "start_time": "2024-12-26T14:46:43.161Z"
   },
   {
    "duration": 202,
    "start_time": "2024-12-26T14:49:37.696Z"
   },
   {
    "duration": 1756,
    "start_time": "2024-12-26T14:49:41.821Z"
   },
   {
    "duration": 2270,
    "start_time": "2024-12-26T14:50:54.192Z"
   },
   {
    "duration": 1185,
    "start_time": "2024-12-26T14:50:56.465Z"
   },
   {
    "duration": 2034,
    "start_time": "2024-12-26T14:50:57.652Z"
   },
   {
    "duration": 4,
    "start_time": "2024-12-26T14:50:59.687Z"
   },
   {
    "duration": 7,
    "start_time": "2024-12-26T14:50:59.694Z"
   },
   {
    "duration": 8,
    "start_time": "2024-12-26T14:50:59.703Z"
   },
   {
    "duration": 9,
    "start_time": "2024-12-26T14:50:59.722Z"
   },
   {
    "duration": 18,
    "start_time": "2024-12-26T14:50:59.733Z"
   },
   {
    "duration": 45,
    "start_time": "2024-12-26T14:50:59.753Z"
   },
   {
    "duration": 266,
    "start_time": "2024-12-26T14:50:59.800Z"
   },
   {
    "duration": 873,
    "start_time": "2024-12-26T14:51:00.067Z"
   },
   {
    "duration": 176,
    "start_time": "2024-12-26T14:51:00.942Z"
   },
   {
    "duration": 10,
    "start_time": "2024-12-26T14:51:01.122Z"
   },
   {
    "duration": 86,
    "start_time": "2024-12-26T14:51:01.135Z"
   },
   {
    "duration": 30,
    "start_time": "2024-12-26T14:51:01.223Z"
   },
   {
    "duration": 26,
    "start_time": "2024-12-26T14:51:01.255Z"
   },
   {
    "duration": 79,
    "start_time": "2024-12-26T14:51:01.283Z"
   },
   {
    "duration": 345,
    "start_time": "2024-12-26T14:51:01.364Z"
   },
   {
    "duration": 11,
    "start_time": "2024-12-26T14:51:01.711Z"
   },
   {
    "duration": 165,
    "start_time": "2024-12-26T14:51:01.723Z"
   },
   {
    "duration": 202,
    "start_time": "2024-12-26T14:51:01.890Z"
   },
   {
    "duration": 130,
    "start_time": "2024-12-26T14:51:02.093Z"
   },
   {
    "duration": 2584,
    "start_time": "2024-12-26T14:51:02.224Z"
   },
   {
    "duration": 29,
    "start_time": "2024-12-26T14:51:04.809Z"
   },
   {
    "duration": 86,
    "start_time": "2024-12-26T14:51:04.840Z"
   },
   {
    "duration": 121,
    "start_time": "2024-12-26T14:51:04.927Z"
   },
   {
    "duration": 0,
    "start_time": "2024-12-26T14:51:05.051Z"
   },
   {
    "duration": 0,
    "start_time": "2024-12-26T14:51:05.051Z"
   },
   {
    "duration": 0,
    "start_time": "2024-12-26T14:51:05.052Z"
   },
   {
    "duration": 0,
    "start_time": "2024-12-26T14:51:05.054Z"
   },
   {
    "duration": 0,
    "start_time": "2024-12-26T14:51:05.055Z"
   },
   {
    "duration": 0,
    "start_time": "2024-12-26T14:51:05.055Z"
   },
   {
    "duration": 0,
    "start_time": "2024-12-26T14:51:05.056Z"
   },
   {
    "duration": 0,
    "start_time": "2024-12-26T14:51:05.057Z"
   },
   {
    "duration": 0,
    "start_time": "2024-12-26T14:51:05.058Z"
   },
   {
    "duration": 0,
    "start_time": "2024-12-26T14:54:41.245Z"
   },
   {
    "duration": 0,
    "start_time": "2024-12-26T14:54:41.247Z"
   },
   {
    "duration": 0,
    "start_time": "2024-12-26T14:54:41.248Z"
   },
   {
    "duration": 0,
    "start_time": "2024-12-26T14:54:41.249Z"
   },
   {
    "duration": 0,
    "start_time": "2024-12-26T14:54:41.250Z"
   },
   {
    "duration": 0,
    "start_time": "2024-12-26T14:54:41.252Z"
   },
   {
    "duration": 0,
    "start_time": "2024-12-26T14:54:41.253Z"
   },
   {
    "duration": 0,
    "start_time": "2024-12-26T14:54:41.254Z"
   },
   {
    "duration": 0,
    "start_time": "2024-12-26T14:54:41.256Z"
   },
   {
    "duration": 0,
    "start_time": "2024-12-26T14:54:41.257Z"
   },
   {
    "duration": 0,
    "start_time": "2024-12-26T14:54:41.258Z"
   },
   {
    "duration": 0,
    "start_time": "2024-12-26T14:54:41.260Z"
   },
   {
    "duration": 0,
    "start_time": "2024-12-26T14:54:41.261Z"
   },
   {
    "duration": 0,
    "start_time": "2024-12-26T14:54:41.262Z"
   },
   {
    "duration": 0,
    "start_time": "2024-12-26T14:54:41.264Z"
   },
   {
    "duration": 0,
    "start_time": "2024-12-26T14:54:41.321Z"
   },
   {
    "duration": 0,
    "start_time": "2024-12-26T14:54:41.323Z"
   },
   {
    "duration": 0,
    "start_time": "2024-12-26T14:54:41.324Z"
   },
   {
    "duration": 0,
    "start_time": "2024-12-26T14:54:41.326Z"
   },
   {
    "duration": 0,
    "start_time": "2024-12-26T14:54:41.327Z"
   },
   {
    "duration": 0,
    "start_time": "2024-12-26T14:54:41.328Z"
   },
   {
    "duration": 0,
    "start_time": "2024-12-26T14:54:41.330Z"
   },
   {
    "duration": 0,
    "start_time": "2024-12-26T14:54:41.331Z"
   },
   {
    "duration": 0,
    "start_time": "2024-12-26T14:54:41.333Z"
   },
   {
    "duration": 0,
    "start_time": "2024-12-26T14:54:41.334Z"
   },
   {
    "duration": 0,
    "start_time": "2024-12-26T14:54:41.336Z"
   },
   {
    "duration": 0,
    "start_time": "2024-12-26T14:54:41.337Z"
   },
   {
    "duration": 0,
    "start_time": "2024-12-26T14:54:41.338Z"
   },
   {
    "duration": 0,
    "start_time": "2024-12-26T14:54:41.339Z"
   },
   {
    "duration": 0,
    "start_time": "2024-12-26T14:54:41.341Z"
   },
   {
    "duration": 0,
    "start_time": "2024-12-26T14:54:41.342Z"
   },
   {
    "duration": 0,
    "start_time": "2024-12-26T14:54:41.344Z"
   },
   {
    "duration": 0,
    "start_time": "2024-12-26T14:54:41.345Z"
   },
   {
    "duration": 109,
    "start_time": "2024-12-26T14:54:41.351Z"
   },
   {
    "duration": 9,
    "start_time": "2024-12-26T14:54:41.461Z"
   },
   {
    "duration": 2307,
    "start_time": "2024-12-26T14:55:01.960Z"
   },
   {
    "duration": 1146,
    "start_time": "2024-12-26T14:55:04.269Z"
   },
   {
    "duration": 1671,
    "start_time": "2024-12-26T14:55:05.416Z"
   },
   {
    "duration": 4,
    "start_time": "2024-12-26T14:55:07.089Z"
   },
   {
    "duration": 67,
    "start_time": "2024-12-26T14:55:07.094Z"
   },
   {
    "duration": 45,
    "start_time": "2024-12-26T14:55:07.162Z"
   },
   {
    "duration": 40,
    "start_time": "2024-12-26T14:55:07.209Z"
   },
   {
    "duration": 11,
    "start_time": "2024-12-26T14:55:07.251Z"
   },
   {
    "duration": 44,
    "start_time": "2024-12-26T14:55:07.263Z"
   },
   {
    "duration": 238,
    "start_time": "2024-12-26T14:55:07.309Z"
   },
   {
    "duration": 916,
    "start_time": "2024-12-26T14:55:07.549Z"
   },
   {
    "duration": 183,
    "start_time": "2024-12-26T14:55:08.467Z"
   },
   {
    "duration": 9,
    "start_time": "2024-12-26T14:55:08.652Z"
   },
   {
    "duration": 84,
    "start_time": "2024-12-26T14:55:08.662Z"
   },
   {
    "duration": 33,
    "start_time": "2024-12-26T14:55:08.747Z"
   },
   {
    "duration": 46,
    "start_time": "2024-12-26T14:55:08.781Z"
   },
   {
    "duration": 9,
    "start_time": "2024-12-26T14:55:08.829Z"
   },
   {
    "duration": 358,
    "start_time": "2024-12-26T14:55:08.839Z"
   },
   {
    "duration": 3,
    "start_time": "2024-12-26T14:55:09.198Z"
   },
   {
    "duration": 64,
    "start_time": "2024-12-26T14:55:09.203Z"
   },
   {
    "duration": 246,
    "start_time": "2024-12-26T14:55:09.268Z"
   },
   {
    "duration": 125,
    "start_time": "2024-12-26T14:55:09.516Z"
   },
   {
    "duration": 2599,
    "start_time": "2024-12-26T14:55:09.642Z"
   },
   {
    "duration": 116,
    "start_time": "2024-12-26T14:55:12.243Z"
   },
   {
    "duration": 0,
    "start_time": "2024-12-26T14:55:12.360Z"
   },
   {
    "duration": 1,
    "start_time": "2024-12-26T14:55:12.361Z"
   },
   {
    "duration": 0,
    "start_time": "2024-12-26T14:55:12.362Z"
   },
   {
    "duration": 0,
    "start_time": "2024-12-26T14:55:12.363Z"
   },
   {
    "duration": 0,
    "start_time": "2024-12-26T14:55:12.364Z"
   },
   {
    "duration": 0,
    "start_time": "2024-12-26T14:55:12.365Z"
   },
   {
    "duration": 0,
    "start_time": "2024-12-26T14:55:12.366Z"
   },
   {
    "duration": 0,
    "start_time": "2024-12-26T14:55:12.367Z"
   },
   {
    "duration": 0,
    "start_time": "2024-12-26T14:55:12.368Z"
   },
   {
    "duration": 0,
    "start_time": "2024-12-26T14:55:12.369Z"
   },
   {
    "duration": 0,
    "start_time": "2024-12-26T14:55:12.370Z"
   },
   {
    "duration": 14,
    "start_time": "2024-12-26T14:55:30.606Z"
   },
   {
    "duration": 12,
    "start_time": "2024-12-26T14:56:03.357Z"
   },
   {
    "duration": 31,
    "start_time": "2024-12-26T14:56:27.202Z"
   },
   {
    "duration": 45,
    "start_time": "2024-12-26T14:57:04.812Z"
   },
   {
    "duration": 7,
    "start_time": "2024-12-26T14:57:43.561Z"
   },
   {
    "duration": 7,
    "start_time": "2024-12-26T15:15:40.674Z"
   },
   {
    "duration": 2278,
    "start_time": "2024-12-26T15:18:59.751Z"
   },
   {
    "duration": 1228,
    "start_time": "2024-12-26T15:19:02.031Z"
   },
   {
    "duration": 2104,
    "start_time": "2024-12-26T15:19:03.260Z"
   },
   {
    "duration": 3,
    "start_time": "2024-12-26T15:19:05.421Z"
   },
   {
    "duration": 124,
    "start_time": "2024-12-26T15:19:05.427Z"
   },
   {
    "duration": 23,
    "start_time": "2024-12-26T15:19:05.553Z"
   },
   {
    "duration": 59,
    "start_time": "2024-12-26T15:19:05.578Z"
   },
   {
    "duration": 92,
    "start_time": "2024-12-26T15:19:05.639Z"
   },
   {
    "duration": 105,
    "start_time": "2024-12-26T15:19:05.733Z"
   },
   {
    "duration": 409,
    "start_time": "2024-12-26T15:19:05.840Z"
   },
   {
    "duration": 943,
    "start_time": "2024-12-26T15:19:06.250Z"
   },
   {
    "duration": 182,
    "start_time": "2024-12-26T15:19:07.194Z"
   },
   {
    "duration": 9,
    "start_time": "2024-12-26T15:19:07.377Z"
   },
   {
    "duration": 95,
    "start_time": "2024-12-26T15:19:07.389Z"
   },
   {
    "duration": 43,
    "start_time": "2024-12-26T15:19:07.485Z"
   },
   {
    "duration": 28,
    "start_time": "2024-12-26T15:19:07.530Z"
   },
   {
    "duration": 9,
    "start_time": "2024-12-26T15:19:07.560Z"
   },
   {
    "duration": 353,
    "start_time": "2024-12-26T15:19:07.571Z"
   },
   {
    "duration": 3,
    "start_time": "2024-12-26T15:19:07.926Z"
   },
   {
    "duration": 17,
    "start_time": "2024-12-26T15:19:07.931Z"
   },
   {
    "duration": 209,
    "start_time": "2024-12-26T15:19:07.950Z"
   },
   {
    "duration": 133,
    "start_time": "2024-12-26T15:19:08.161Z"
   },
   {
    "duration": 0,
    "start_time": "2024-12-26T15:19:08.296Z"
   },
   {
    "duration": 0,
    "start_time": "2024-12-26T15:19:08.297Z"
   },
   {
    "duration": 0,
    "start_time": "2024-12-26T15:19:08.298Z"
   },
   {
    "duration": 0,
    "start_time": "2024-12-26T15:19:08.300Z"
   },
   {
    "duration": 0,
    "start_time": "2024-12-26T15:19:08.302Z"
   },
   {
    "duration": 0,
    "start_time": "2024-12-26T15:19:08.304Z"
   },
   {
    "duration": 0,
    "start_time": "2024-12-26T15:19:08.322Z"
   },
   {
    "duration": 0,
    "start_time": "2024-12-26T15:19:08.324Z"
   },
   {
    "duration": 0,
    "start_time": "2024-12-26T15:19:08.325Z"
   },
   {
    "duration": 0,
    "start_time": "2024-12-26T15:19:08.326Z"
   },
   {
    "duration": 0,
    "start_time": "2024-12-26T15:19:08.328Z"
   },
   {
    "duration": 0,
    "start_time": "2024-12-26T15:19:08.329Z"
   },
   {
    "duration": 0,
    "start_time": "2024-12-26T15:19:08.331Z"
   },
   {
    "duration": 0,
    "start_time": "2024-12-26T15:19:08.333Z"
   },
   {
    "duration": 0,
    "start_time": "2024-12-26T15:19:08.335Z"
   },
   {
    "duration": 0,
    "start_time": "2024-12-26T15:19:08.336Z"
   },
   {
    "duration": 17,
    "start_time": "2024-12-26T15:19:19.227Z"
   },
   {
    "duration": 15,
    "start_time": "2024-12-26T15:19:40.577Z"
   },
   {
    "duration": 77,
    "start_time": "2024-12-26T15:20:37.070Z"
   },
   {
    "duration": 101,
    "start_time": "2024-12-26T15:21:55.751Z"
   },
   {
    "duration": 33,
    "start_time": "2024-12-26T15:22:41.846Z"
   },
   {
    "duration": 4490,
    "start_time": "2024-12-26T18:13:32.972Z"
   },
   {
    "duration": 1462,
    "start_time": "2024-12-26T18:13:37.464Z"
   },
   {
    "duration": 2563,
    "start_time": "2024-12-26T18:13:38.927Z"
   },
   {
    "duration": 4,
    "start_time": "2024-12-26T18:13:41.492Z"
   },
   {
    "duration": 20,
    "start_time": "2024-12-26T18:13:41.498Z"
   },
   {
    "duration": 9,
    "start_time": "2024-12-26T18:13:41.519Z"
   },
   {
    "duration": 13,
    "start_time": "2024-12-26T18:13:41.530Z"
   },
   {
    "duration": 8,
    "start_time": "2024-12-26T18:13:41.545Z"
   },
   {
    "duration": 32,
    "start_time": "2024-12-26T18:13:41.555Z"
   },
   {
    "duration": 238,
    "start_time": "2024-12-26T18:13:41.589Z"
   },
   {
    "duration": 1017,
    "start_time": "2024-12-26T18:13:41.829Z"
   },
   {
    "duration": 221,
    "start_time": "2024-12-26T18:13:42.848Z"
   },
   {
    "duration": 10,
    "start_time": "2024-12-26T18:13:43.071Z"
   },
   {
    "duration": 98,
    "start_time": "2024-12-26T18:13:43.084Z"
   },
   {
    "duration": 75,
    "start_time": "2024-12-26T18:13:43.184Z"
   },
   {
    "duration": 32,
    "start_time": "2024-12-26T18:13:43.261Z"
   },
   {
    "duration": 12,
    "start_time": "2024-12-26T18:13:43.295Z"
   },
   {
    "duration": 431,
    "start_time": "2024-12-26T18:13:43.308Z"
   },
   {
    "duration": 3,
    "start_time": "2024-12-26T18:13:43.741Z"
   },
   {
    "duration": 47,
    "start_time": "2024-12-26T18:13:43.745Z"
   },
   {
    "duration": 198,
    "start_time": "2024-12-26T18:13:43.793Z"
   },
   {
    "duration": 0,
    "start_time": "2024-12-26T18:13:43.992Z"
   },
   {
    "duration": 0,
    "start_time": "2024-12-26T18:13:43.993Z"
   },
   {
    "duration": 0,
    "start_time": "2024-12-26T18:13:43.995Z"
   },
   {
    "duration": 0,
    "start_time": "2024-12-26T18:13:43.996Z"
   },
   {
    "duration": 0,
    "start_time": "2024-12-26T18:13:43.997Z"
   },
   {
    "duration": 0,
    "start_time": "2024-12-26T18:13:43.998Z"
   },
   {
    "duration": 0,
    "start_time": "2024-12-26T18:13:44.016Z"
   },
   {
    "duration": 0,
    "start_time": "2024-12-26T18:13:44.017Z"
   },
   {
    "duration": 0,
    "start_time": "2024-12-26T18:13:44.018Z"
   },
   {
    "duration": 0,
    "start_time": "2024-12-26T18:13:44.019Z"
   },
   {
    "duration": 0,
    "start_time": "2024-12-26T18:13:44.020Z"
   },
   {
    "duration": 0,
    "start_time": "2024-12-26T18:13:44.021Z"
   },
   {
    "duration": 0,
    "start_time": "2024-12-26T18:13:44.022Z"
   },
   {
    "duration": 0,
    "start_time": "2024-12-26T18:13:44.023Z"
   },
   {
    "duration": 0,
    "start_time": "2024-12-26T18:13:44.024Z"
   },
   {
    "duration": 0,
    "start_time": "2024-12-26T18:13:44.026Z"
   },
   {
    "duration": 0,
    "start_time": "2024-12-26T18:13:44.027Z"
   },
   {
    "duration": 108,
    "start_time": "2024-12-26T18:14:05.676Z"
   },
   {
    "duration": 195,
    "start_time": "2024-12-26T18:15:10.623Z"
   },
   {
    "duration": 320,
    "start_time": "2024-12-26T18:18:14.366Z"
   },
   {
    "duration": 4,
    "start_time": "2024-12-26T18:18:40.105Z"
   },
   {
    "duration": 180,
    "start_time": "2024-12-26T18:20:35.376Z"
   },
   {
    "duration": 44,
    "start_time": "2024-12-26T18:23:09.348Z"
   },
   {
    "duration": 164,
    "start_time": "2024-12-26T18:24:11.464Z"
   },
   {
    "duration": 311,
    "start_time": "2024-12-26T18:25:16.096Z"
   },
   {
    "duration": 322,
    "start_time": "2024-12-26T18:25:22.752Z"
   },
   {
    "duration": 2589,
    "start_time": "2024-12-26T18:29:07.404Z"
   },
   {
    "duration": 1295,
    "start_time": "2024-12-26T18:29:09.995Z"
   },
   {
    "duration": 3109,
    "start_time": "2024-12-26T18:29:11.291Z"
   },
   {
    "duration": 4,
    "start_time": "2024-12-26T18:29:14.403Z"
   },
   {
    "duration": 16,
    "start_time": "2024-12-26T18:29:14.415Z"
   },
   {
    "duration": 14,
    "start_time": "2024-12-26T18:29:14.433Z"
   },
   {
    "duration": 32,
    "start_time": "2024-12-26T18:29:14.450Z"
   },
   {
    "duration": 7,
    "start_time": "2024-12-26T18:29:14.484Z"
   },
   {
    "duration": 41,
    "start_time": "2024-12-26T18:29:14.493Z"
   },
   {
    "duration": 223,
    "start_time": "2024-12-26T18:29:14.538Z"
   },
   {
    "duration": 1022,
    "start_time": "2024-12-26T18:29:14.762Z"
   },
   {
    "duration": 207,
    "start_time": "2024-12-26T18:29:15.786Z"
   },
   {
    "duration": 11,
    "start_time": "2024-12-26T18:29:15.995Z"
   },
   {
    "duration": 78,
    "start_time": "2024-12-26T18:29:16.014Z"
   },
   {
    "duration": 44,
    "start_time": "2024-12-26T18:29:16.094Z"
   },
   {
    "duration": 31,
    "start_time": "2024-12-26T18:29:16.140Z"
   },
   {
    "duration": 25,
    "start_time": "2024-12-26T18:29:16.172Z"
   },
   {
    "duration": 542,
    "start_time": "2024-12-26T18:29:16.198Z"
   },
   {
    "duration": 3,
    "start_time": "2024-12-26T18:29:16.742Z"
   },
   {
    "duration": 73,
    "start_time": "2024-12-26T18:29:16.747Z"
   },
   {
    "duration": 494,
    "start_time": "2024-12-26T18:29:16.822Z"
   },
   {
    "duration": 0,
    "start_time": "2024-12-26T18:29:17.318Z"
   },
   {
    "duration": 0,
    "start_time": "2024-12-26T18:29:17.320Z"
   },
   {
    "duration": 0,
    "start_time": "2024-12-26T18:29:17.320Z"
   },
   {
    "duration": 0,
    "start_time": "2024-12-26T18:29:17.321Z"
   },
   {
    "duration": 0,
    "start_time": "2024-12-26T18:29:17.322Z"
   },
   {
    "duration": 0,
    "start_time": "2024-12-26T18:29:17.323Z"
   },
   {
    "duration": 0,
    "start_time": "2024-12-26T18:29:17.324Z"
   },
   {
    "duration": 0,
    "start_time": "2024-12-26T18:29:17.325Z"
   },
   {
    "duration": 0,
    "start_time": "2024-12-26T18:29:17.326Z"
   },
   {
    "duration": 0,
    "start_time": "2024-12-26T18:29:17.327Z"
   },
   {
    "duration": 0,
    "start_time": "2024-12-26T18:29:17.328Z"
   },
   {
    "duration": 0,
    "start_time": "2024-12-26T18:29:17.329Z"
   },
   {
    "duration": 0,
    "start_time": "2024-12-26T18:29:17.331Z"
   },
   {
    "duration": 0,
    "start_time": "2024-12-26T18:29:17.331Z"
   },
   {
    "duration": 0,
    "start_time": "2024-12-26T18:29:17.333Z"
   },
   {
    "duration": 0,
    "start_time": "2024-12-26T18:29:17.334Z"
   },
   {
    "duration": 0,
    "start_time": "2024-12-26T18:29:17.335Z"
   },
   {
    "duration": 0,
    "start_time": "2024-12-26T18:29:17.336Z"
   },
   {
    "duration": 18,
    "start_time": "2024-12-26T18:32:49.324Z"
   },
   {
    "duration": 15,
    "start_time": "2024-12-26T18:33:42.325Z"
   },
   {
    "duration": 82,
    "start_time": "2024-12-26T18:34:52.751Z"
   },
   {
    "duration": 82,
    "start_time": "2024-12-26T18:35:13.524Z"
   },
   {
    "duration": 80,
    "start_time": "2024-12-26T18:36:43.548Z"
   },
   {
    "duration": 82,
    "start_time": "2024-12-26T18:36:56.775Z"
   },
   {
    "duration": 47,
    "start_time": "2024-12-26T18:37:53.284Z"
   },
   {
    "duration": 48,
    "start_time": "2024-12-26T18:45:34.856Z"
   },
   {
    "duration": 2410,
    "start_time": "2024-12-26T18:53:50.376Z"
   },
   {
    "duration": 1220,
    "start_time": "2024-12-26T18:53:52.788Z"
   },
   {
    "duration": 2270,
    "start_time": "2024-12-26T18:53:54.010Z"
   },
   {
    "duration": 4,
    "start_time": "2024-12-26T18:53:56.282Z"
   },
   {
    "duration": 10,
    "start_time": "2024-12-26T18:53:56.288Z"
   },
   {
    "duration": 12,
    "start_time": "2024-12-26T18:53:56.300Z"
   },
   {
    "duration": 21,
    "start_time": "2024-12-26T18:53:56.314Z"
   },
   {
    "duration": 14,
    "start_time": "2024-12-26T18:53:56.337Z"
   },
   {
    "duration": 28,
    "start_time": "2024-12-26T18:53:56.353Z"
   },
   {
    "duration": 204,
    "start_time": "2024-12-26T18:53:56.382Z"
   },
   {
    "duration": 982,
    "start_time": "2024-12-26T18:53:56.587Z"
   },
   {
    "duration": 204,
    "start_time": "2024-12-26T18:53:57.571Z"
   },
   {
    "duration": 10,
    "start_time": "2024-12-26T18:53:57.776Z"
   },
   {
    "duration": 92,
    "start_time": "2024-12-26T18:53:57.788Z"
   },
   {
    "duration": 41,
    "start_time": "2024-12-26T18:53:57.881Z"
   },
   {
    "duration": 28,
    "start_time": "2024-12-26T18:53:57.924Z"
   },
   {
    "duration": 11,
    "start_time": "2024-12-26T18:53:57.954Z"
   },
   {
    "duration": 332,
    "start_time": "2024-12-26T18:53:57.967Z"
   },
   {
    "duration": 2,
    "start_time": "2024-12-26T18:53:58.301Z"
   },
   {
    "duration": 79,
    "start_time": "2024-12-26T18:53:58.314Z"
   },
   {
    "duration": 146,
    "start_time": "2024-12-26T18:53:58.394Z"
   },
   {
    "duration": 0,
    "start_time": "2024-12-26T18:53:58.542Z"
   },
   {
    "duration": 0,
    "start_time": "2024-12-26T18:53:58.543Z"
   },
   {
    "duration": 0,
    "start_time": "2024-12-26T18:53:58.544Z"
   },
   {
    "duration": 0,
    "start_time": "2024-12-26T18:53:58.545Z"
   },
   {
    "duration": 0,
    "start_time": "2024-12-26T18:53:58.546Z"
   },
   {
    "duration": 0,
    "start_time": "2024-12-26T18:53:58.547Z"
   },
   {
    "duration": 0,
    "start_time": "2024-12-26T18:53:58.548Z"
   },
   {
    "duration": 0,
    "start_time": "2024-12-26T18:53:58.549Z"
   },
   {
    "duration": 0,
    "start_time": "2024-12-26T18:53:58.551Z"
   },
   {
    "duration": 0,
    "start_time": "2024-12-26T18:53:58.551Z"
   },
   {
    "duration": 0,
    "start_time": "2024-12-26T18:53:58.553Z"
   },
   {
    "duration": 0,
    "start_time": "2024-12-26T18:53:58.553Z"
   },
   {
    "duration": 0,
    "start_time": "2024-12-26T18:53:58.555Z"
   },
   {
    "duration": 0,
    "start_time": "2024-12-26T18:53:58.556Z"
   },
   {
    "duration": 0,
    "start_time": "2024-12-26T18:53:58.557Z"
   },
   {
    "duration": 1,
    "start_time": "2024-12-26T18:53:58.558Z"
   },
   {
    "duration": 0,
    "start_time": "2024-12-26T18:53:58.560Z"
   },
   {
    "duration": 84,
    "start_time": "2024-12-26T18:54:14.747Z"
   },
   {
    "duration": 72,
    "start_time": "2024-12-26T18:59:27.335Z"
   },
   {
    "duration": 100,
    "start_time": "2024-12-26T19:00:31.542Z"
   },
   {
    "duration": 52,
    "start_time": "2024-12-26T19:01:04.896Z"
   },
   {
    "duration": 46,
    "start_time": "2024-12-26T19:03:44.623Z"
   },
   {
    "duration": 83,
    "start_time": "2024-12-26T19:08:19.427Z"
   },
   {
    "duration": 88,
    "start_time": "2024-12-26T19:12:17.277Z"
   },
   {
    "duration": 102,
    "start_time": "2024-12-26T19:13:27.008Z"
   },
   {
    "duration": 81,
    "start_time": "2024-12-26T19:13:36.828Z"
   },
   {
    "duration": 11,
    "start_time": "2024-12-26T19:13:45.318Z"
   },
   {
    "duration": 82,
    "start_time": "2024-12-26T19:14:11.459Z"
   },
   {
    "duration": 15,
    "start_time": "2024-12-26T19:14:41.992Z"
   },
   {
    "duration": 2523,
    "start_time": "2024-12-26T19:15:08.835Z"
   },
   {
    "duration": 1224,
    "start_time": "2024-12-26T19:15:11.360Z"
   },
   {
    "duration": 2282,
    "start_time": "2024-12-26T19:15:12.586Z"
   },
   {
    "duration": 3,
    "start_time": "2024-12-26T19:15:14.870Z"
   },
   {
    "duration": 27,
    "start_time": "2024-12-26T19:15:14.875Z"
   },
   {
    "duration": 19,
    "start_time": "2024-12-26T19:15:14.903Z"
   },
   {
    "duration": 24,
    "start_time": "2024-12-26T19:15:14.924Z"
   },
   {
    "duration": 16,
    "start_time": "2024-12-26T19:15:14.950Z"
   },
   {
    "duration": 53,
    "start_time": "2024-12-26T19:15:14.967Z"
   },
   {
    "duration": 214,
    "start_time": "2024-12-26T19:15:15.022Z"
   },
   {
    "duration": 968,
    "start_time": "2024-12-26T19:15:15.238Z"
   },
   {
    "duration": 196,
    "start_time": "2024-12-26T19:15:16.208Z"
   },
   {
    "duration": 15,
    "start_time": "2024-12-26T19:15:16.406Z"
   },
   {
    "duration": 86,
    "start_time": "2024-12-26T19:15:16.425Z"
   },
   {
    "duration": 34,
    "start_time": "2024-12-26T19:15:16.515Z"
   },
   {
    "duration": 30,
    "start_time": "2024-12-26T19:15:16.552Z"
   },
   {
    "duration": 36,
    "start_time": "2024-12-26T19:15:16.584Z"
   },
   {
    "duration": 315,
    "start_time": "2024-12-26T19:15:16.622Z"
   },
   {
    "duration": 2,
    "start_time": "2024-12-26T19:15:16.939Z"
   },
   {
    "duration": 90,
    "start_time": "2024-12-26T19:15:16.943Z"
   },
   {
    "duration": 84,
    "start_time": "2024-12-26T19:15:17.034Z"
   },
   {
    "duration": 103,
    "start_time": "2024-12-26T19:15:17.120Z"
   },
   {
    "duration": 94,
    "start_time": "2024-12-26T19:15:17.224Z"
   },
   {
    "duration": 109,
    "start_time": "2024-12-26T19:15:17.320Z"
   },
   {
    "duration": 0,
    "start_time": "2024-12-26T19:15:17.430Z"
   },
   {
    "duration": 0,
    "start_time": "2024-12-26T19:15:17.432Z"
   },
   {
    "duration": 0,
    "start_time": "2024-12-26T19:15:17.432Z"
   },
   {
    "duration": 0,
    "start_time": "2024-12-26T19:15:17.433Z"
   },
   {
    "duration": 0,
    "start_time": "2024-12-26T19:15:17.434Z"
   },
   {
    "duration": 0,
    "start_time": "2024-12-26T19:15:17.435Z"
   },
   {
    "duration": 0,
    "start_time": "2024-12-26T19:15:17.436Z"
   },
   {
    "duration": 0,
    "start_time": "2024-12-26T19:15:17.437Z"
   },
   {
    "duration": 0,
    "start_time": "2024-12-26T19:15:17.438Z"
   },
   {
    "duration": 0,
    "start_time": "2024-12-26T19:15:17.439Z"
   },
   {
    "duration": 0,
    "start_time": "2024-12-26T19:15:17.440Z"
   },
   {
    "duration": 0,
    "start_time": "2024-12-26T19:15:17.442Z"
   },
   {
    "duration": 0,
    "start_time": "2024-12-26T19:15:17.443Z"
   },
   {
    "duration": 0,
    "start_time": "2024-12-26T19:15:17.444Z"
   },
   {
    "duration": 0,
    "start_time": "2024-12-26T19:15:17.445Z"
   },
   {
    "duration": 0,
    "start_time": "2024-12-26T19:15:17.446Z"
   },
   {
    "duration": 18,
    "start_time": "2024-12-26T19:15:41.033Z"
   },
   {
    "duration": 2442,
    "start_time": "2024-12-26T19:15:52.313Z"
   },
   {
    "duration": 1233,
    "start_time": "2024-12-26T19:15:54.758Z"
   },
   {
    "duration": 2179,
    "start_time": "2024-12-26T19:15:55.993Z"
   },
   {
    "duration": 3,
    "start_time": "2024-12-26T19:15:58.174Z"
   },
   {
    "duration": 12,
    "start_time": "2024-12-26T19:15:58.178Z"
   },
   {
    "duration": 6,
    "start_time": "2024-12-26T19:15:58.192Z"
   },
   {
    "duration": 19,
    "start_time": "2024-12-26T19:15:58.199Z"
   },
   {
    "duration": 9,
    "start_time": "2024-12-26T19:15:58.219Z"
   },
   {
    "duration": 27,
    "start_time": "2024-12-26T19:15:58.230Z"
   },
   {
    "duration": 219,
    "start_time": "2024-12-26T19:15:58.260Z"
   },
   {
    "duration": 969,
    "start_time": "2024-12-26T19:15:58.481Z"
   },
   {
    "duration": 192,
    "start_time": "2024-12-26T19:15:59.452Z"
   },
   {
    "duration": 9,
    "start_time": "2024-12-26T19:15:59.646Z"
   },
   {
    "duration": 96,
    "start_time": "2024-12-26T19:15:59.656Z"
   },
   {
    "duration": 34,
    "start_time": "2024-12-26T19:15:59.754Z"
   },
   {
    "duration": 44,
    "start_time": "2024-12-26T19:15:59.790Z"
   },
   {
    "duration": 11,
    "start_time": "2024-12-26T19:15:59.835Z"
   },
   {
    "duration": 342,
    "start_time": "2024-12-26T19:15:59.847Z"
   },
   {
    "duration": 2,
    "start_time": "2024-12-26T19:16:00.191Z"
   },
   {
    "duration": 104,
    "start_time": "2024-12-26T19:16:00.195Z"
   },
   {
    "duration": 73,
    "start_time": "2024-12-26T19:16:00.301Z"
   },
   {
    "duration": 94,
    "start_time": "2024-12-26T19:16:00.375Z"
   },
   {
    "duration": 162,
    "start_time": "2024-12-26T19:16:00.470Z"
   },
   {
    "duration": 205,
    "start_time": "2024-12-26T19:16:00.634Z"
   },
   {
    "duration": 0,
    "start_time": "2024-12-26T19:16:00.841Z"
   },
   {
    "duration": 0,
    "start_time": "2024-12-26T19:16:00.842Z"
   },
   {
    "duration": 0,
    "start_time": "2024-12-26T19:16:00.843Z"
   },
   {
    "duration": 0,
    "start_time": "2024-12-26T19:16:00.844Z"
   },
   {
    "duration": 0,
    "start_time": "2024-12-26T19:16:00.846Z"
   },
   {
    "duration": 0,
    "start_time": "2024-12-26T19:16:00.847Z"
   },
   {
    "duration": 0,
    "start_time": "2024-12-26T19:16:00.848Z"
   },
   {
    "duration": 0,
    "start_time": "2024-12-26T19:16:00.849Z"
   },
   {
    "duration": 0,
    "start_time": "2024-12-26T19:16:00.849Z"
   },
   {
    "duration": 0,
    "start_time": "2024-12-26T19:16:00.850Z"
   },
   {
    "duration": 0,
    "start_time": "2024-12-26T19:16:00.851Z"
   },
   {
    "duration": 0,
    "start_time": "2024-12-26T19:16:00.852Z"
   },
   {
    "duration": 0,
    "start_time": "2024-12-26T19:16:00.853Z"
   },
   {
    "duration": 0,
    "start_time": "2024-12-26T19:16:00.854Z"
   },
   {
    "duration": 0,
    "start_time": "2024-12-26T19:16:00.855Z"
   },
   {
    "duration": 0,
    "start_time": "2024-12-26T19:16:00.856Z"
   },
   {
    "duration": 65,
    "start_time": "2024-12-26T19:16:53.798Z"
   },
   {
    "duration": 60,
    "start_time": "2024-12-26T19:17:41.323Z"
   },
   {
    "duration": 2420,
    "start_time": "2024-12-26T19:18:07.144Z"
   },
   {
    "duration": 1233,
    "start_time": "2024-12-26T19:18:09.566Z"
   },
   {
    "duration": 1968,
    "start_time": "2024-12-26T19:18:10.801Z"
   },
   {
    "duration": 4,
    "start_time": "2024-12-26T19:18:12.771Z"
   },
   {
    "duration": 17,
    "start_time": "2024-12-26T19:18:12.778Z"
   },
   {
    "duration": 5,
    "start_time": "2024-12-26T19:18:12.797Z"
   },
   {
    "duration": 17,
    "start_time": "2024-12-26T19:18:12.803Z"
   },
   {
    "duration": 7,
    "start_time": "2024-12-26T19:18:12.822Z"
   },
   {
    "duration": 28,
    "start_time": "2024-12-26T19:18:12.830Z"
   },
   {
    "duration": 227,
    "start_time": "2024-12-26T19:18:12.860Z"
   },
   {
    "duration": 1033,
    "start_time": "2024-12-26T19:18:13.089Z"
   },
   {
    "duration": 404,
    "start_time": "2024-12-26T19:18:14.124Z"
   },
   {
    "duration": 8,
    "start_time": "2024-12-26T19:18:14.530Z"
   },
   {
    "duration": 188,
    "start_time": "2024-12-26T19:18:14.541Z"
   },
   {
    "duration": 84,
    "start_time": "2024-12-26T19:18:14.731Z"
   },
   {
    "duration": 28,
    "start_time": "2024-12-26T19:18:14.817Z"
   },
   {
    "duration": 10,
    "start_time": "2024-12-26T19:18:14.847Z"
   },
   {
    "duration": 569,
    "start_time": "2024-12-26T19:18:14.858Z"
   },
   {
    "duration": 2,
    "start_time": "2024-12-26T19:18:15.429Z"
   },
   {
    "duration": 188,
    "start_time": "2024-12-26T19:18:15.433Z"
   },
   {
    "duration": 93,
    "start_time": "2024-12-26T19:18:15.623Z"
   },
   {
    "duration": 87,
    "start_time": "2024-12-26T19:18:15.719Z"
   },
   {
    "duration": 63,
    "start_time": "2024-12-26T19:18:15.815Z"
   },
   {
    "duration": 116,
    "start_time": "2024-12-26T19:18:15.880Z"
   },
   {
    "duration": 0,
    "start_time": "2024-12-26T19:18:15.998Z"
   },
   {
    "duration": 0,
    "start_time": "2024-12-26T19:18:15.999Z"
   },
   {
    "duration": 0,
    "start_time": "2024-12-26T19:18:16.000Z"
   },
   {
    "duration": 0,
    "start_time": "2024-12-26T19:18:16.001Z"
   },
   {
    "duration": 0,
    "start_time": "2024-12-26T19:18:16.002Z"
   },
   {
    "duration": 0,
    "start_time": "2024-12-26T19:18:16.014Z"
   },
   {
    "duration": 0,
    "start_time": "2024-12-26T19:18:16.015Z"
   },
   {
    "duration": 0,
    "start_time": "2024-12-26T19:18:16.016Z"
   },
   {
    "duration": 0,
    "start_time": "2024-12-26T19:18:16.017Z"
   },
   {
    "duration": 0,
    "start_time": "2024-12-26T19:18:16.018Z"
   },
   {
    "duration": 0,
    "start_time": "2024-12-26T19:18:16.019Z"
   },
   {
    "duration": 0,
    "start_time": "2024-12-26T19:18:16.020Z"
   },
   {
    "duration": 0,
    "start_time": "2024-12-26T19:18:16.021Z"
   },
   {
    "duration": 0,
    "start_time": "2024-12-26T19:18:16.022Z"
   },
   {
    "duration": 0,
    "start_time": "2024-12-26T19:18:16.023Z"
   },
   {
    "duration": 0,
    "start_time": "2024-12-26T19:18:16.024Z"
   },
   {
    "duration": 101,
    "start_time": "2024-12-26T19:19:52.299Z"
   },
   {
    "duration": 95,
    "start_time": "2024-12-26T19:20:27.089Z"
   },
   {
    "duration": 2470,
    "start_time": "2024-12-26T19:20:55.845Z"
   },
   {
    "duration": 1275,
    "start_time": "2024-12-26T19:20:58.318Z"
   },
   {
    "duration": 2072,
    "start_time": "2024-12-26T19:20:59.595Z"
   },
   {
    "duration": 3,
    "start_time": "2024-12-26T19:21:01.669Z"
   },
   {
    "duration": 21,
    "start_time": "2024-12-26T19:21:01.674Z"
   },
   {
    "duration": 18,
    "start_time": "2024-12-26T19:21:01.696Z"
   },
   {
    "duration": 71,
    "start_time": "2024-12-26T19:21:01.715Z"
   },
   {
    "duration": 38,
    "start_time": "2024-12-26T19:21:01.788Z"
   },
   {
    "duration": 57,
    "start_time": "2024-12-26T19:21:01.828Z"
   },
   {
    "duration": 192,
    "start_time": "2024-12-26T19:21:01.888Z"
   },
   {
    "duration": 981,
    "start_time": "2024-12-26T19:21:02.081Z"
   },
   {
    "duration": 206,
    "start_time": "2024-12-26T19:21:03.064Z"
   },
   {
    "duration": 9,
    "start_time": "2024-12-26T19:21:03.272Z"
   },
   {
    "duration": 93,
    "start_time": "2024-12-26T19:21:03.283Z"
   },
   {
    "duration": 39,
    "start_time": "2024-12-26T19:21:03.378Z"
   },
   {
    "duration": 30,
    "start_time": "2024-12-26T19:21:03.419Z"
   },
   {
    "duration": 10,
    "start_time": "2024-12-26T19:21:03.451Z"
   },
   {
    "duration": 479,
    "start_time": "2024-12-26T19:21:03.463Z"
   },
   {
    "duration": 3,
    "start_time": "2024-12-26T19:21:03.943Z"
   },
   {
    "duration": 98,
    "start_time": "2024-12-26T19:21:03.947Z"
   },
   {
    "duration": 92,
    "start_time": "2024-12-26T19:21:04.046Z"
   },
   {
    "duration": 203,
    "start_time": "2024-12-26T19:21:04.140Z"
   },
   {
    "duration": 0,
    "start_time": "2024-12-26T19:21:04.344Z"
   },
   {
    "duration": 0,
    "start_time": "2024-12-26T19:21:04.346Z"
   },
   {
    "duration": 0,
    "start_time": "2024-12-26T19:21:04.347Z"
   },
   {
    "duration": 0,
    "start_time": "2024-12-26T19:21:04.348Z"
   },
   {
    "duration": 0,
    "start_time": "2024-12-26T19:21:04.349Z"
   },
   {
    "duration": 0,
    "start_time": "2024-12-26T19:21:04.351Z"
   },
   {
    "duration": 0,
    "start_time": "2024-12-26T19:21:04.352Z"
   },
   {
    "duration": 0,
    "start_time": "2024-12-26T19:21:04.353Z"
   },
   {
    "duration": 0,
    "start_time": "2024-12-26T19:21:04.354Z"
   },
   {
    "duration": 0,
    "start_time": "2024-12-26T19:21:04.355Z"
   },
   {
    "duration": 0,
    "start_time": "2024-12-26T19:21:04.356Z"
   },
   {
    "duration": 0,
    "start_time": "2024-12-26T19:21:04.357Z"
   },
   {
    "duration": 0,
    "start_time": "2024-12-26T19:21:04.358Z"
   },
   {
    "duration": 0,
    "start_time": "2024-12-26T19:21:04.359Z"
   },
   {
    "duration": 0,
    "start_time": "2024-12-26T19:21:04.360Z"
   },
   {
    "duration": 0,
    "start_time": "2024-12-26T19:21:04.361Z"
   },
   {
    "duration": 0,
    "start_time": "2024-12-26T19:21:04.362Z"
   },
   {
    "duration": 0,
    "start_time": "2024-12-26T19:21:04.363Z"
   },
   {
    "duration": 74,
    "start_time": "2024-12-26T19:24:35.331Z"
   },
   {
    "duration": 64,
    "start_time": "2024-12-26T19:24:48.095Z"
   },
   {
    "duration": 6,
    "start_time": "2024-12-26T19:28:19.117Z"
   },
   {
    "duration": 9,
    "start_time": "2024-12-26T19:28:26.753Z"
   },
   {
    "duration": 13,
    "start_time": "2024-12-26T19:28:32.712Z"
   },
   {
    "duration": 1352,
    "start_time": "2024-12-26T19:34:08.560Z"
   },
   {
    "duration": 5,
    "start_time": "2024-12-26T19:35:04.535Z"
   },
   {
    "duration": 4,
    "start_time": "2024-12-26T19:35:26.374Z"
   },
   {
    "duration": 2563,
    "start_time": "2024-12-26T19:39:44.797Z"
   },
   {
    "duration": 1236,
    "start_time": "2024-12-26T19:39:47.364Z"
   },
   {
    "duration": 3027,
    "start_time": "2024-12-26T19:39:48.601Z"
   },
   {
    "duration": 3,
    "start_time": "2024-12-26T19:39:51.631Z"
   },
   {
    "duration": 35,
    "start_time": "2024-12-26T19:39:51.635Z"
   },
   {
    "duration": 45,
    "start_time": "2024-12-26T19:39:51.673Z"
   },
   {
    "duration": 101,
    "start_time": "2024-12-26T19:39:51.721Z"
   },
   {
    "duration": 6,
    "start_time": "2024-12-26T19:39:51.824Z"
   },
   {
    "duration": 92,
    "start_time": "2024-12-26T19:39:51.831Z"
   },
   {
    "duration": 407,
    "start_time": "2024-12-26T19:39:51.927Z"
   },
   {
    "duration": 1158,
    "start_time": "2024-12-26T19:39:52.335Z"
   },
   {
    "duration": 209,
    "start_time": "2024-12-26T19:39:53.496Z"
   },
   {
    "duration": 15,
    "start_time": "2024-12-26T19:39:53.707Z"
   },
   {
    "duration": 104,
    "start_time": "2024-12-26T19:39:53.725Z"
   },
   {
    "duration": 33,
    "start_time": "2024-12-26T19:39:53.831Z"
   },
   {
    "duration": 51,
    "start_time": "2024-12-26T19:39:53.866Z"
   },
   {
    "duration": 13,
    "start_time": "2024-12-26T19:39:53.919Z"
   },
   {
    "duration": 367,
    "start_time": "2024-12-26T19:39:53.934Z"
   },
   {
    "duration": 12,
    "start_time": "2024-12-26T19:39:54.303Z"
   },
   {
    "duration": 81,
    "start_time": "2024-12-26T19:39:54.317Z"
   },
   {
    "duration": 207,
    "start_time": "2024-12-26T19:39:54.400Z"
   },
   {
    "duration": 0,
    "start_time": "2024-12-26T19:39:54.610Z"
   },
   {
    "duration": 0,
    "start_time": "2024-12-26T19:39:54.615Z"
   },
   {
    "duration": 0,
    "start_time": "2024-12-26T19:39:54.617Z"
   },
   {
    "duration": 0,
    "start_time": "2024-12-26T19:39:54.619Z"
   },
   {
    "duration": 0,
    "start_time": "2024-12-26T19:39:54.620Z"
   },
   {
    "duration": 0,
    "start_time": "2024-12-26T19:39:54.622Z"
   },
   {
    "duration": 0,
    "start_time": "2024-12-26T19:39:54.623Z"
   },
   {
    "duration": 0,
    "start_time": "2024-12-26T19:39:54.625Z"
   },
   {
    "duration": 0,
    "start_time": "2024-12-26T19:39:54.627Z"
   },
   {
    "duration": 0,
    "start_time": "2024-12-26T19:39:54.629Z"
   },
   {
    "duration": 0,
    "start_time": "2024-12-26T19:39:54.630Z"
   },
   {
    "duration": 0,
    "start_time": "2024-12-26T19:39:54.632Z"
   },
   {
    "duration": 0,
    "start_time": "2024-12-26T19:39:54.633Z"
   },
   {
    "duration": 0,
    "start_time": "2024-12-26T19:39:54.635Z"
   },
   {
    "duration": 0,
    "start_time": "2024-12-26T19:39:54.636Z"
   },
   {
    "duration": 0,
    "start_time": "2024-12-26T19:39:54.637Z"
   },
   {
    "duration": 0,
    "start_time": "2024-12-26T19:39:54.639Z"
   },
   {
    "duration": 0,
    "start_time": "2024-12-26T19:39:54.640Z"
   },
   {
    "duration": 0,
    "start_time": "2024-12-26T19:39:54.641Z"
   },
   {
    "duration": 0,
    "start_time": "2024-12-26T19:39:54.643Z"
   },
   {
    "duration": 0,
    "start_time": "2024-12-26T19:39:54.645Z"
   },
   {
    "duration": 81,
    "start_time": "2024-12-26T19:40:02.009Z"
   },
   {
    "duration": 2825,
    "start_time": "2024-12-26T19:41:33.030Z"
   },
   {
    "duration": 1246,
    "start_time": "2024-12-26T19:41:35.860Z"
   },
   {
    "duration": 3092,
    "start_time": "2024-12-26T19:41:37.108Z"
   },
   {
    "duration": 3,
    "start_time": "2024-12-26T19:41:40.202Z"
   },
   {
    "duration": 49,
    "start_time": "2024-12-26T19:41:40.215Z"
   },
   {
    "duration": 37,
    "start_time": "2024-12-26T19:41:40.266Z"
   },
   {
    "duration": 34,
    "start_time": "2024-12-26T19:41:40.304Z"
   },
   {
    "duration": 11,
    "start_time": "2024-12-26T19:41:40.340Z"
   },
   {
    "duration": 53,
    "start_time": "2024-12-26T19:41:40.353Z"
   },
   {
    "duration": 241,
    "start_time": "2024-12-26T19:41:40.408Z"
   },
   {
    "duration": 1250,
    "start_time": "2024-12-26T19:41:40.651Z"
   },
   {
    "duration": 223,
    "start_time": "2024-12-26T19:41:41.904Z"
   },
   {
    "duration": 11,
    "start_time": "2024-12-26T19:41:42.129Z"
   },
   {
    "duration": 106,
    "start_time": "2024-12-26T19:41:42.144Z"
   },
   {
    "duration": 35,
    "start_time": "2024-12-26T19:41:42.252Z"
   },
   {
    "duration": 55,
    "start_time": "2024-12-26T19:41:42.289Z"
   },
   {
    "duration": 14,
    "start_time": "2024-12-26T19:41:42.346Z"
   },
   {
    "duration": 399,
    "start_time": "2024-12-26T19:41:42.363Z"
   },
   {
    "duration": 4,
    "start_time": "2024-12-26T19:41:42.764Z"
   },
   {
    "duration": 106,
    "start_time": "2024-12-26T19:41:42.769Z"
   },
   {
    "duration": 96,
    "start_time": "2024-12-26T19:41:42.877Z"
   },
   {
    "duration": 79,
    "start_time": "2024-12-26T19:41:42.975Z"
   },
   {
    "duration": 0,
    "start_time": "2024-12-26T19:41:43.056Z"
   },
   {
    "duration": 0,
    "start_time": "2024-12-26T19:41:43.057Z"
   },
   {
    "duration": 0,
    "start_time": "2024-12-26T19:41:43.059Z"
   },
   {
    "duration": 0,
    "start_time": "2024-12-26T19:41:43.060Z"
   },
   {
    "duration": 0,
    "start_time": "2024-12-26T19:41:43.061Z"
   },
   {
    "duration": 0,
    "start_time": "2024-12-26T19:41:43.063Z"
   },
   {
    "duration": 0,
    "start_time": "2024-12-26T19:41:43.064Z"
   },
   {
    "duration": 1,
    "start_time": "2024-12-26T19:41:43.064Z"
   },
   {
    "duration": 0,
    "start_time": "2024-12-26T19:41:43.066Z"
   },
   {
    "duration": 0,
    "start_time": "2024-12-26T19:41:43.067Z"
   },
   {
    "duration": 0,
    "start_time": "2024-12-26T19:41:43.068Z"
   },
   {
    "duration": 0,
    "start_time": "2024-12-26T19:41:43.070Z"
   },
   {
    "duration": 0,
    "start_time": "2024-12-26T19:41:43.071Z"
   },
   {
    "duration": 0,
    "start_time": "2024-12-26T19:41:43.073Z"
   },
   {
    "duration": 0,
    "start_time": "2024-12-26T19:41:43.074Z"
   },
   {
    "duration": 0,
    "start_time": "2024-12-26T19:41:43.075Z"
   },
   {
    "duration": 0,
    "start_time": "2024-12-26T19:41:43.076Z"
   },
   {
    "duration": 0,
    "start_time": "2024-12-26T19:41:43.078Z"
   },
   {
    "duration": 0,
    "start_time": "2024-12-26T19:41:43.080Z"
   },
   {
    "duration": 0,
    "start_time": "2024-12-26T19:41:43.081Z"
   },
   {
    "duration": 100,
    "start_time": "2024-12-26T19:41:50.920Z"
   },
   {
    "duration": 81,
    "start_time": "2024-12-26T19:42:08.842Z"
   },
   {
    "duration": 2505,
    "start_time": "2024-12-26T19:42:21.364Z"
   },
   {
    "duration": 1285,
    "start_time": "2024-12-26T19:42:23.872Z"
   },
   {
    "duration": 1976,
    "start_time": "2024-12-26T19:42:25.159Z"
   },
   {
    "duration": 3,
    "start_time": "2024-12-26T19:42:27.137Z"
   },
   {
    "duration": 10,
    "start_time": "2024-12-26T19:42:27.142Z"
   },
   {
    "duration": 15,
    "start_time": "2024-12-26T19:42:27.153Z"
   },
   {
    "duration": 22,
    "start_time": "2024-12-26T19:42:27.169Z"
   },
   {
    "duration": 8,
    "start_time": "2024-12-26T19:42:27.193Z"
   },
   {
    "duration": 31,
    "start_time": "2024-12-26T19:42:27.203Z"
   },
   {
    "duration": 206,
    "start_time": "2024-12-26T19:42:27.236Z"
   },
   {
    "duration": 1011,
    "start_time": "2024-12-26T19:42:27.444Z"
   },
   {
    "duration": 204,
    "start_time": "2024-12-26T19:42:28.457Z"
   },
   {
    "duration": 9,
    "start_time": "2024-12-26T19:42:28.663Z"
   },
   {
    "duration": 87,
    "start_time": "2024-12-26T19:42:28.676Z"
   },
   {
    "duration": 50,
    "start_time": "2024-12-26T19:42:28.765Z"
   },
   {
    "duration": 31,
    "start_time": "2024-12-26T19:42:28.816Z"
   },
   {
    "duration": 11,
    "start_time": "2024-12-26T19:42:28.849Z"
   },
   {
    "duration": 342,
    "start_time": "2024-12-26T19:42:28.862Z"
   },
   {
    "duration": 2,
    "start_time": "2024-12-26T19:42:29.206Z"
   },
   {
    "duration": 80,
    "start_time": "2024-12-26T19:42:29.215Z"
   },
   {
    "duration": 98,
    "start_time": "2024-12-26T19:42:29.296Z"
   },
   {
    "duration": 81,
    "start_time": "2024-12-26T19:42:29.396Z"
   },
   {
    "duration": 0,
    "start_time": "2024-12-26T19:42:29.479Z"
   },
   {
    "duration": 0,
    "start_time": "2024-12-26T19:42:29.480Z"
   },
   {
    "duration": 0,
    "start_time": "2024-12-26T19:42:29.481Z"
   },
   {
    "duration": 0,
    "start_time": "2024-12-26T19:42:29.482Z"
   },
   {
    "duration": 0,
    "start_time": "2024-12-26T19:42:29.482Z"
   },
   {
    "duration": 0,
    "start_time": "2024-12-26T19:42:29.483Z"
   },
   {
    "duration": 0,
    "start_time": "2024-12-26T19:42:29.484Z"
   },
   {
    "duration": 0,
    "start_time": "2024-12-26T19:42:29.485Z"
   },
   {
    "duration": 0,
    "start_time": "2024-12-26T19:42:29.486Z"
   },
   {
    "duration": 0,
    "start_time": "2024-12-26T19:42:29.487Z"
   },
   {
    "duration": 0,
    "start_time": "2024-12-26T19:42:29.488Z"
   },
   {
    "duration": 0,
    "start_time": "2024-12-26T19:42:29.489Z"
   },
   {
    "duration": 0,
    "start_time": "2024-12-26T19:42:29.490Z"
   },
   {
    "duration": 0,
    "start_time": "2024-12-26T19:42:29.491Z"
   },
   {
    "duration": 0,
    "start_time": "2024-12-26T19:42:29.492Z"
   },
   {
    "duration": 0,
    "start_time": "2024-12-26T19:42:29.493Z"
   },
   {
    "duration": 0,
    "start_time": "2024-12-26T19:42:29.494Z"
   },
   {
    "duration": 0,
    "start_time": "2024-12-26T19:42:29.495Z"
   },
   {
    "duration": 0,
    "start_time": "2024-12-26T19:42:29.496Z"
   },
   {
    "duration": 0,
    "start_time": "2024-12-26T19:42:29.497Z"
   },
   {
    "duration": 43,
    "start_time": "2024-12-26T19:43:23.918Z"
   },
   {
    "duration": 117,
    "start_time": "2024-12-26T19:46:23.729Z"
   },
   {
    "duration": 44,
    "start_time": "2024-12-26T19:46:45.167Z"
   },
   {
    "duration": 9,
    "start_time": "2024-12-26T19:46:49.365Z"
   },
   {
    "duration": 44,
    "start_time": "2024-12-26T19:47:08.780Z"
   },
   {
    "duration": 98,
    "start_time": "2024-12-26T19:47:12.118Z"
   },
   {
    "duration": 137,
    "start_time": "2024-12-26T19:47:47.280Z"
   },
   {
    "duration": 149,
    "start_time": "2024-12-26T19:48:47.817Z"
   },
   {
    "duration": 19,
    "start_time": "2024-12-26T19:54:11.120Z"
   },
   {
    "duration": 25,
    "start_time": "2024-12-26T19:54:19.350Z"
   },
   {
    "duration": 22,
    "start_time": "2024-12-26T19:54:53.460Z"
   },
   {
    "duration": 27,
    "start_time": "2024-12-26T19:55:10.520Z"
   },
   {
    "duration": 25,
    "start_time": "2024-12-26T19:55:21.089Z"
   },
   {
    "duration": 25,
    "start_time": "2024-12-26T19:55:27.975Z"
   },
   {
    "duration": 10,
    "start_time": "2024-12-26T19:59:42.687Z"
   },
   {
    "duration": 43,
    "start_time": "2024-12-26T20:01:40.375Z"
   },
   {
    "duration": 37,
    "start_time": "2024-12-26T20:02:47.412Z"
   },
   {
    "duration": 45,
    "start_time": "2024-12-26T20:03:16.153Z"
   },
   {
    "duration": 137,
    "start_time": "2024-12-26T20:05:48.158Z"
   },
   {
    "duration": 4,
    "start_time": "2024-12-26T20:10:15.875Z"
   },
   {
    "duration": 4,
    "start_time": "2024-12-26T20:10:49.914Z"
   },
   {
    "duration": 5,
    "start_time": "2024-12-26T20:10:57.637Z"
   },
   {
    "duration": 5,
    "start_time": "2024-12-26T20:11:10.065Z"
   },
   {
    "duration": 6,
    "start_time": "2024-12-26T20:11:27.698Z"
   },
   {
    "duration": 7,
    "start_time": "2024-12-26T20:12:13.135Z"
   },
   {
    "duration": 5,
    "start_time": "2024-12-26T20:12:29.020Z"
   },
   {
    "duration": 25,
    "start_time": "2024-12-26T20:13:51.934Z"
   },
   {
    "duration": 2272,
    "start_time": "2024-12-26T20:16:29.251Z"
   },
   {
    "duration": 37,
    "start_time": "2024-12-26T20:16:46.960Z"
   },
   {
    "duration": 178,
    "start_time": "2024-12-26T20:17:38.366Z"
   },
   {
    "duration": 1979,
    "start_time": "2024-12-26T20:18:08.634Z"
   },
   {
    "duration": 257,
    "start_time": "2024-12-26T20:18:46.547Z"
   },
   {
    "duration": 2393,
    "start_time": "2024-12-26T20:19:57.878Z"
   },
   {
    "duration": 1200,
    "start_time": "2024-12-26T20:20:00.273Z"
   },
   {
    "duration": 2304,
    "start_time": "2024-12-26T20:20:01.474Z"
   },
   {
    "duration": 2,
    "start_time": "2024-12-26T20:20:03.780Z"
   },
   {
    "duration": 103,
    "start_time": "2024-12-26T20:20:03.785Z"
   },
   {
    "duration": 104,
    "start_time": "2024-12-26T20:20:03.890Z"
   },
   {
    "duration": 28,
    "start_time": "2024-12-26T20:20:03.996Z"
   },
   {
    "duration": 33,
    "start_time": "2024-12-26T20:20:04.025Z"
   },
   {
    "duration": 29,
    "start_time": "2024-12-26T20:20:04.059Z"
   },
   {
    "duration": 185,
    "start_time": "2024-12-26T20:20:04.090Z"
   },
   {
    "duration": 968,
    "start_time": "2024-12-26T20:20:04.277Z"
   },
   {
    "duration": 187,
    "start_time": "2024-12-26T20:20:05.247Z"
   },
   {
    "duration": 9,
    "start_time": "2024-12-26T20:20:05.435Z"
   },
   {
    "duration": 93,
    "start_time": "2024-12-26T20:20:05.447Z"
   },
   {
    "duration": 42,
    "start_time": "2024-12-26T20:20:05.541Z"
   },
   {
    "duration": 34,
    "start_time": "2024-12-26T20:20:05.585Z"
   },
   {
    "duration": 10,
    "start_time": "2024-12-26T20:20:05.620Z"
   },
   {
    "duration": 351,
    "start_time": "2024-12-26T20:20:05.632Z"
   },
   {
    "duration": 3,
    "start_time": "2024-12-26T20:20:05.985Z"
   },
   {
    "duration": 90,
    "start_time": "2024-12-26T20:20:05.989Z"
   },
   {
    "duration": 88,
    "start_time": "2024-12-26T20:20:06.080Z"
   },
   {
    "duration": 54,
    "start_time": "2024-12-26T20:20:06.170Z"
   },
   {
    "duration": 138,
    "start_time": "2024-12-26T20:20:06.225Z"
   },
   {
    "duration": 5,
    "start_time": "2024-12-26T20:20:06.365Z"
   },
   {
    "duration": 34,
    "start_time": "2024-12-26T20:20:06.372Z"
   },
   {
    "duration": 206,
    "start_time": "2024-12-26T20:20:06.414Z"
   },
   {
    "duration": 2042,
    "start_time": "2024-12-26T20:20:06.622Z"
   },
   {
    "duration": 0,
    "start_time": "2024-12-26T20:20:08.666Z"
   },
   {
    "duration": 0,
    "start_time": "2024-12-26T20:20:08.667Z"
   },
   {
    "duration": 0,
    "start_time": "2024-12-26T20:20:08.668Z"
   },
   {
    "duration": 0,
    "start_time": "2024-12-26T20:20:08.669Z"
   },
   {
    "duration": 0,
    "start_time": "2024-12-26T20:20:08.670Z"
   },
   {
    "duration": 0,
    "start_time": "2024-12-26T20:20:08.671Z"
   },
   {
    "duration": 0,
    "start_time": "2024-12-26T20:20:08.672Z"
   },
   {
    "duration": 0,
    "start_time": "2024-12-26T20:20:08.674Z"
   },
   {
    "duration": 0,
    "start_time": "2024-12-26T20:20:08.675Z"
   },
   {
    "duration": 0,
    "start_time": "2024-12-26T20:20:08.676Z"
   },
   {
    "duration": 0,
    "start_time": "2024-12-26T20:20:08.677Z"
   },
   {
    "duration": 0,
    "start_time": "2024-12-26T20:20:08.678Z"
   },
   {
    "duration": 0,
    "start_time": "2024-12-26T20:20:08.679Z"
   },
   {
    "duration": 0,
    "start_time": "2024-12-26T20:20:08.680Z"
   },
   {
    "duration": 0,
    "start_time": "2024-12-26T20:20:08.681Z"
   },
   {
    "duration": 3182,
    "start_time": "2024-12-26T20:20:44.448Z"
   },
   {
    "duration": 16,
    "start_time": "2024-12-26T20:21:38.682Z"
   },
   {
    "duration": 62,
    "start_time": "2024-12-26T20:22:11.486Z"
   },
   {
    "duration": 46,
    "start_time": "2024-12-26T20:22:29.661Z"
   },
   {
    "duration": 89,
    "start_time": "2024-12-26T20:25:32.939Z"
   },
   {
    "duration": 634,
    "start_time": "2024-12-26T20:26:49.282Z"
   },
   {
    "duration": 2346,
    "start_time": "2024-12-26T20:29:14.272Z"
   },
   {
    "duration": 2097,
    "start_time": "2024-12-26T20:29:26.409Z"
   },
   {
    "duration": 2430,
    "start_time": "2024-12-26T20:29:55.302Z"
   },
   {
    "duration": 1248,
    "start_time": "2024-12-26T20:29:57.734Z"
   },
   {
    "duration": 2147,
    "start_time": "2024-12-26T20:29:58.983Z"
   },
   {
    "duration": 3,
    "start_time": "2024-12-26T20:30:01.132Z"
   },
   {
    "duration": 38,
    "start_time": "2024-12-26T20:30:01.137Z"
   },
   {
    "duration": 10,
    "start_time": "2024-12-26T20:30:01.177Z"
   },
   {
    "duration": 11,
    "start_time": "2024-12-26T20:30:01.188Z"
   },
   {
    "duration": 22,
    "start_time": "2024-12-26T20:30:01.201Z"
   },
   {
    "duration": 37,
    "start_time": "2024-12-26T20:30:01.224Z"
   },
   {
    "duration": 193,
    "start_time": "2024-12-26T20:30:01.264Z"
   },
   {
    "duration": 991,
    "start_time": "2024-12-26T20:30:01.459Z"
   },
   {
    "duration": 194,
    "start_time": "2024-12-26T20:30:02.452Z"
   },
   {
    "duration": 10,
    "start_time": "2024-12-26T20:30:02.648Z"
   },
   {
    "duration": 103,
    "start_time": "2024-12-26T20:30:02.660Z"
   },
   {
    "duration": 32,
    "start_time": "2024-12-26T20:30:02.765Z"
   },
   {
    "duration": 29,
    "start_time": "2024-12-26T20:30:02.815Z"
   },
   {
    "duration": 17,
    "start_time": "2024-12-26T20:30:02.846Z"
   },
   {
    "duration": 327,
    "start_time": "2024-12-26T20:30:02.865Z"
   },
   {
    "duration": 2,
    "start_time": "2024-12-26T20:30:03.194Z"
   },
   {
    "duration": 93,
    "start_time": "2024-12-26T20:30:03.198Z"
   },
   {
    "duration": 100,
    "start_time": "2024-12-26T20:30:03.292Z"
   },
   {
    "duration": 59,
    "start_time": "2024-12-26T20:30:03.394Z"
   },
   {
    "duration": 137,
    "start_time": "2024-12-26T20:30:03.455Z"
   },
   {
    "duration": 6,
    "start_time": "2024-12-26T20:30:03.595Z"
   },
   {
    "duration": 44,
    "start_time": "2024-12-26T20:30:03.602Z"
   },
   {
    "duration": 190,
    "start_time": "2024-12-26T20:30:03.648Z"
   },
   {
    "duration": 117,
    "start_time": "2024-12-26T20:30:03.840Z"
   },
   {
    "duration": 0,
    "start_time": "2024-12-26T20:30:03.959Z"
   },
   {
    "duration": 0,
    "start_time": "2024-12-26T20:30:03.961Z"
   },
   {
    "duration": 0,
    "start_time": "2024-12-26T20:30:03.963Z"
   },
   {
    "duration": 0,
    "start_time": "2024-12-26T20:30:03.964Z"
   },
   {
    "duration": 0,
    "start_time": "2024-12-26T20:30:03.966Z"
   },
   {
    "duration": 0,
    "start_time": "2024-12-26T20:30:03.967Z"
   },
   {
    "duration": 0,
    "start_time": "2024-12-26T20:30:03.969Z"
   },
   {
    "duration": 0,
    "start_time": "2024-12-26T20:30:03.970Z"
   },
   {
    "duration": 0,
    "start_time": "2024-12-26T20:30:03.972Z"
   },
   {
    "duration": 0,
    "start_time": "2024-12-26T20:30:03.976Z"
   },
   {
    "duration": 0,
    "start_time": "2024-12-26T20:30:03.977Z"
   },
   {
    "duration": 0,
    "start_time": "2024-12-26T20:30:03.979Z"
   },
   {
    "duration": 0,
    "start_time": "2024-12-26T20:30:03.980Z"
   },
   {
    "duration": 0,
    "start_time": "2024-12-26T20:30:03.981Z"
   },
   {
    "duration": 0,
    "start_time": "2024-12-26T20:30:04.015Z"
   },
   {
    "duration": 2506,
    "start_time": "2024-12-26T20:41:24.883Z"
   },
   {
    "duration": 1282,
    "start_time": "2024-12-26T20:41:27.391Z"
   },
   {
    "duration": 2739,
    "start_time": "2024-12-26T20:41:28.675Z"
   },
   {
    "duration": 3,
    "start_time": "2024-12-26T20:41:31.416Z"
   },
   {
    "duration": 41,
    "start_time": "2024-12-26T20:41:31.420Z"
   },
   {
    "duration": 19,
    "start_time": "2024-12-26T20:41:31.463Z"
   },
   {
    "duration": 15,
    "start_time": "2024-12-26T20:41:31.484Z"
   },
   {
    "duration": 21,
    "start_time": "2024-12-26T20:41:31.501Z"
   },
   {
    "duration": 45,
    "start_time": "2024-12-26T20:41:31.524Z"
   },
   {
    "duration": 188,
    "start_time": "2024-12-26T20:41:31.573Z"
   },
   {
    "duration": 968,
    "start_time": "2024-12-26T20:41:31.763Z"
   },
   {
    "duration": 199,
    "start_time": "2024-12-26T20:41:32.733Z"
   },
   {
    "duration": 11,
    "start_time": "2024-12-26T20:41:32.934Z"
   },
   {
    "duration": 92,
    "start_time": "2024-12-26T20:41:32.946Z"
   },
   {
    "duration": 31,
    "start_time": "2024-12-26T20:41:33.040Z"
   },
   {
    "duration": 51,
    "start_time": "2024-12-26T20:41:33.073Z"
   },
   {
    "duration": 12,
    "start_time": "2024-12-26T20:41:33.126Z"
   },
   {
    "duration": 342,
    "start_time": "2024-12-26T20:41:33.140Z"
   },
   {
    "duration": 3,
    "start_time": "2024-12-26T20:41:33.484Z"
   },
   {
    "duration": 92,
    "start_time": "2024-12-26T20:41:33.489Z"
   },
   {
    "duration": 96,
    "start_time": "2024-12-26T20:41:33.583Z"
   },
   {
    "duration": 55,
    "start_time": "2024-12-26T20:41:33.681Z"
   },
   {
    "duration": 141,
    "start_time": "2024-12-26T20:41:33.738Z"
   },
   {
    "duration": 6,
    "start_time": "2024-12-26T20:41:33.881Z"
   },
   {
    "duration": 45,
    "start_time": "2024-12-26T20:41:33.889Z"
   },
   {
    "duration": 199,
    "start_time": "2024-12-26T20:41:33.936Z"
   },
   {
    "duration": 110,
    "start_time": "2024-12-26T20:41:34.137Z"
   },
   {
    "duration": 0,
    "start_time": "2024-12-26T20:41:34.249Z"
   },
   {
    "duration": 0,
    "start_time": "2024-12-26T20:41:34.251Z"
   },
   {
    "duration": 0,
    "start_time": "2024-12-26T20:41:34.251Z"
   },
   {
    "duration": 0,
    "start_time": "2024-12-26T20:41:34.253Z"
   },
   {
    "duration": 0,
    "start_time": "2024-12-26T20:41:34.254Z"
   },
   {
    "duration": 0,
    "start_time": "2024-12-26T20:41:34.255Z"
   },
   {
    "duration": 0,
    "start_time": "2024-12-26T20:41:34.256Z"
   },
   {
    "duration": 0,
    "start_time": "2024-12-26T20:41:34.257Z"
   },
   {
    "duration": 0,
    "start_time": "2024-12-26T20:41:34.258Z"
   },
   {
    "duration": 0,
    "start_time": "2024-12-26T20:41:34.259Z"
   },
   {
    "duration": 0,
    "start_time": "2024-12-26T20:41:34.260Z"
   },
   {
    "duration": 0,
    "start_time": "2024-12-26T20:41:34.261Z"
   },
   {
    "duration": 0,
    "start_time": "2024-12-26T20:41:34.263Z"
   },
   {
    "duration": 0,
    "start_time": "2024-12-26T20:41:34.264Z"
   },
   {
    "duration": 0,
    "start_time": "2024-12-26T20:41:34.265Z"
   },
   {
    "duration": 2417,
    "start_time": "2024-12-26T20:41:53.795Z"
   },
   {
    "duration": 1274,
    "start_time": "2024-12-26T20:41:56.214Z"
   },
   {
    "duration": 2247,
    "start_time": "2024-12-26T20:41:57.489Z"
   },
   {
    "duration": 3,
    "start_time": "2024-12-26T20:41:59.738Z"
   },
   {
    "duration": 15,
    "start_time": "2024-12-26T20:41:59.742Z"
   },
   {
    "duration": 8,
    "start_time": "2024-12-26T20:41:59.759Z"
   },
   {
    "duration": 13,
    "start_time": "2024-12-26T20:41:59.769Z"
   },
   {
    "duration": 17,
    "start_time": "2024-12-26T20:41:59.784Z"
   },
   {
    "duration": 48,
    "start_time": "2024-12-26T20:41:59.802Z"
   },
   {
    "duration": 194,
    "start_time": "2024-12-26T20:41:59.853Z"
   },
   {
    "duration": 995,
    "start_time": "2024-12-26T20:42:00.049Z"
   },
   {
    "duration": 191,
    "start_time": "2024-12-26T20:42:01.046Z"
   },
   {
    "duration": 10,
    "start_time": "2024-12-26T20:42:01.239Z"
   },
   {
    "duration": 92,
    "start_time": "2024-12-26T20:42:01.251Z"
   },
   {
    "duration": 36,
    "start_time": "2024-12-26T20:42:01.345Z"
   },
   {
    "duration": 48,
    "start_time": "2024-12-26T20:42:01.383Z"
   },
   {
    "duration": 10,
    "start_time": "2024-12-26T20:42:01.432Z"
   },
   {
    "duration": 351,
    "start_time": "2024-12-26T20:42:01.443Z"
   },
   {
    "duration": 3,
    "start_time": "2024-12-26T20:42:01.796Z"
   },
   {
    "duration": 118,
    "start_time": "2024-12-26T20:42:01.801Z"
   },
   {
    "duration": 94,
    "start_time": "2024-12-26T20:42:01.921Z"
   },
   {
    "duration": 57,
    "start_time": "2024-12-26T20:42:02.017Z"
   },
   {
    "duration": 138,
    "start_time": "2024-12-26T20:42:02.076Z"
   },
   {
    "duration": 6,
    "start_time": "2024-12-26T20:42:02.216Z"
   },
   {
    "duration": 36,
    "start_time": "2024-12-26T20:42:02.224Z"
   },
   {
    "duration": 208,
    "start_time": "2024-12-26T20:42:02.263Z"
   },
   {
    "duration": 112,
    "start_time": "2024-12-26T20:42:02.473Z"
   },
   {
    "duration": 0,
    "start_time": "2024-12-26T20:42:02.588Z"
   },
   {
    "duration": 0,
    "start_time": "2024-12-26T20:42:02.590Z"
   },
   {
    "duration": 0,
    "start_time": "2024-12-26T20:42:02.591Z"
   },
   {
    "duration": 0,
    "start_time": "2024-12-26T20:42:02.593Z"
   },
   {
    "duration": 0,
    "start_time": "2024-12-26T20:42:02.594Z"
   },
   {
    "duration": 0,
    "start_time": "2024-12-26T20:42:02.596Z"
   },
   {
    "duration": 0,
    "start_time": "2024-12-26T20:42:02.597Z"
   },
   {
    "duration": 0,
    "start_time": "2024-12-26T20:42:02.615Z"
   },
   {
    "duration": 0,
    "start_time": "2024-12-26T20:42:02.617Z"
   },
   {
    "duration": 0,
    "start_time": "2024-12-26T20:42:02.618Z"
   },
   {
    "duration": 0,
    "start_time": "2024-12-26T20:42:02.620Z"
   },
   {
    "duration": 0,
    "start_time": "2024-12-26T20:42:02.621Z"
   },
   {
    "duration": 0,
    "start_time": "2024-12-26T20:42:02.623Z"
   },
   {
    "duration": 0,
    "start_time": "2024-12-26T20:42:02.625Z"
   },
   {
    "duration": 0,
    "start_time": "2024-12-26T20:42:02.626Z"
   },
   {
    "duration": 11,
    "start_time": "2024-12-26T20:44:14.181Z"
   },
   {
    "duration": 10,
    "start_time": "2024-12-26T20:44:42.494Z"
   },
   {
    "duration": 15,
    "start_time": "2024-12-26T20:52:31.439Z"
   },
   {
    "duration": 2407,
    "start_time": "2024-12-26T20:52:47.807Z"
   },
   {
    "duration": 1916,
    "start_time": "2024-12-26T20:52:50.216Z"
   },
   {
    "duration": 2525,
    "start_time": "2024-12-26T20:52:52.134Z"
   },
   {
    "duration": 3,
    "start_time": "2024-12-26T20:52:54.661Z"
   },
   {
    "duration": 5,
    "start_time": "2024-12-26T20:52:54.666Z"
   },
   {
    "duration": 13,
    "start_time": "2024-12-26T20:52:54.672Z"
   },
   {
    "duration": 16,
    "start_time": "2024-12-26T20:52:54.686Z"
   },
   {
    "duration": 11,
    "start_time": "2024-12-26T20:52:54.704Z"
   },
   {
    "duration": 27,
    "start_time": "2024-12-26T20:52:54.717Z"
   },
   {
    "duration": 206,
    "start_time": "2024-12-26T20:52:54.746Z"
   },
   {
    "duration": 982,
    "start_time": "2024-12-26T20:52:54.954Z"
   },
   {
    "duration": 204,
    "start_time": "2024-12-26T20:52:55.938Z"
   },
   {
    "duration": 9,
    "start_time": "2024-12-26T20:52:56.143Z"
   },
   {
    "duration": 86,
    "start_time": "2024-12-26T20:52:56.154Z"
   },
   {
    "duration": 31,
    "start_time": "2024-12-26T20:52:56.242Z"
   },
   {
    "duration": 50,
    "start_time": "2024-12-26T20:52:56.274Z"
   },
   {
    "duration": 10,
    "start_time": "2024-12-26T20:52:56.326Z"
   },
   {
    "duration": 358,
    "start_time": "2024-12-26T20:52:56.337Z"
   },
   {
    "duration": 3,
    "start_time": "2024-12-26T20:52:56.697Z"
   },
   {
    "duration": 86,
    "start_time": "2024-12-26T20:52:56.701Z"
   },
   {
    "duration": 95,
    "start_time": "2024-12-26T20:52:56.789Z"
   },
   {
    "duration": 55,
    "start_time": "2024-12-26T20:52:56.885Z"
   },
   {
    "duration": 136,
    "start_time": "2024-12-26T20:52:56.941Z"
   },
   {
    "duration": 111,
    "start_time": "2024-12-26T20:52:57.079Z"
   },
   {
    "duration": 0,
    "start_time": "2024-12-26T20:52:57.191Z"
   },
   {
    "duration": 0,
    "start_time": "2024-12-26T20:52:57.192Z"
   },
   {
    "duration": 0,
    "start_time": "2024-12-26T20:52:57.193Z"
   },
   {
    "duration": 0,
    "start_time": "2024-12-26T20:52:57.194Z"
   },
   {
    "duration": 0,
    "start_time": "2024-12-26T20:52:57.195Z"
   },
   {
    "duration": 0,
    "start_time": "2024-12-26T20:52:57.196Z"
   },
   {
    "duration": 0,
    "start_time": "2024-12-26T20:52:57.197Z"
   },
   {
    "duration": 0,
    "start_time": "2024-12-26T20:52:57.198Z"
   },
   {
    "duration": 0,
    "start_time": "2024-12-26T20:52:57.199Z"
   },
   {
    "duration": 0,
    "start_time": "2024-12-26T20:52:57.200Z"
   },
   {
    "duration": 0,
    "start_time": "2024-12-26T20:52:57.215Z"
   },
   {
    "duration": 0,
    "start_time": "2024-12-26T20:52:57.216Z"
   },
   {
    "duration": 0,
    "start_time": "2024-12-26T20:52:57.217Z"
   },
   {
    "duration": 0,
    "start_time": "2024-12-26T20:52:57.218Z"
   },
   {
    "duration": 0,
    "start_time": "2024-12-26T20:52:57.219Z"
   },
   {
    "duration": 0,
    "start_time": "2024-12-26T20:52:57.220Z"
   },
   {
    "duration": 0,
    "start_time": "2024-12-26T20:52:57.221Z"
   },
   {
    "duration": 0,
    "start_time": "2024-12-26T20:52:57.222Z"
   },
   {
    "duration": 0,
    "start_time": "2024-12-26T20:52:57.224Z"
   },
   {
    "duration": 0,
    "start_time": "2024-12-26T20:52:57.225Z"
   },
   {
    "duration": 3603,
    "start_time": "2024-12-26T20:53:43.817Z"
   },
   {
    "duration": 3583,
    "start_time": "2024-12-26T20:54:15.481Z"
   },
   {
    "duration": 5,
    "start_time": "2024-12-26T20:54:38.421Z"
   },
   {
    "duration": 26,
    "start_time": "2024-12-26T20:54:45.253Z"
   },
   {
    "duration": 180,
    "start_time": "2024-12-26T20:55:21.003Z"
   },
   {
    "duration": 2348,
    "start_time": "2024-12-26T20:57:52.123Z"
   },
   {
    "duration": 1204,
    "start_time": "2024-12-26T20:57:54.474Z"
   },
   {
    "duration": 2206,
    "start_time": "2024-12-26T20:57:55.679Z"
   },
   {
    "duration": 4,
    "start_time": "2024-12-26T20:57:57.887Z"
   },
   {
    "duration": 27,
    "start_time": "2024-12-26T20:57:57.893Z"
   },
   {
    "duration": 15,
    "start_time": "2024-12-26T20:57:57.922Z"
   },
   {
    "duration": 24,
    "start_time": "2024-12-26T20:57:57.938Z"
   },
   {
    "duration": 6,
    "start_time": "2024-12-26T20:57:57.964Z"
   },
   {
    "duration": 70,
    "start_time": "2024-12-26T20:57:57.972Z"
   },
   {
    "duration": 200,
    "start_time": "2024-12-26T20:57:58.046Z"
   },
   {
    "duration": 936,
    "start_time": "2024-12-26T20:57:58.248Z"
   },
   {
    "duration": 196,
    "start_time": "2024-12-26T20:57:59.186Z"
   },
   {
    "duration": 9,
    "start_time": "2024-12-26T20:57:59.384Z"
   },
   {
    "duration": 90,
    "start_time": "2024-12-26T20:57:59.394Z"
   },
   {
    "duration": 38,
    "start_time": "2024-12-26T20:57:59.486Z"
   },
   {
    "duration": 28,
    "start_time": "2024-12-26T20:57:59.526Z"
   },
   {
    "duration": 9,
    "start_time": "2024-12-26T20:57:59.556Z"
   },
   {
    "duration": 325,
    "start_time": "2024-12-26T20:57:59.567Z"
   },
   {
    "duration": 3,
    "start_time": "2024-12-26T20:57:59.894Z"
   },
   {
    "duration": 106,
    "start_time": "2024-12-26T20:57:59.898Z"
   },
   {
    "duration": 83,
    "start_time": "2024-12-26T20:58:00.006Z"
   },
   {
    "duration": 53,
    "start_time": "2024-12-26T20:58:00.091Z"
   },
   {
    "duration": 154,
    "start_time": "2024-12-26T20:58:00.145Z"
   },
   {
    "duration": 106,
    "start_time": "2024-12-26T20:58:00.300Z"
   },
   {
    "duration": 0,
    "start_time": "2024-12-26T20:58:00.407Z"
   },
   {
    "duration": 0,
    "start_time": "2024-12-26T20:58:00.409Z"
   },
   {
    "duration": 0,
    "start_time": "2024-12-26T20:58:00.415Z"
   },
   {
    "duration": 0,
    "start_time": "2024-12-26T20:58:00.415Z"
   },
   {
    "duration": 0,
    "start_time": "2024-12-26T20:58:00.416Z"
   },
   {
    "duration": 0,
    "start_time": "2024-12-26T20:58:00.417Z"
   },
   {
    "duration": 0,
    "start_time": "2024-12-26T20:58:00.418Z"
   },
   {
    "duration": 0,
    "start_time": "2024-12-26T20:58:00.419Z"
   },
   {
    "duration": 0,
    "start_time": "2024-12-26T20:58:00.420Z"
   },
   {
    "duration": 0,
    "start_time": "2024-12-26T20:58:00.421Z"
   },
   {
    "duration": 0,
    "start_time": "2024-12-26T20:58:00.422Z"
   },
   {
    "duration": 0,
    "start_time": "2024-12-26T20:58:00.423Z"
   },
   {
    "duration": 0,
    "start_time": "2024-12-26T20:58:00.424Z"
   },
   {
    "duration": 0,
    "start_time": "2024-12-26T20:58:00.425Z"
   },
   {
    "duration": 0,
    "start_time": "2024-12-26T20:58:00.426Z"
   },
   {
    "duration": 0,
    "start_time": "2024-12-26T20:58:00.427Z"
   },
   {
    "duration": 0,
    "start_time": "2024-12-26T20:58:00.428Z"
   },
   {
    "duration": 0,
    "start_time": "2024-12-26T20:58:00.429Z"
   },
   {
    "duration": 0,
    "start_time": "2024-12-26T20:58:00.430Z"
   },
   {
    "duration": 0,
    "start_time": "2024-12-26T20:58:00.431Z"
   },
   {
    "duration": 1381,
    "start_time": "2024-12-26T21:01:54.836Z"
   },
   {
    "duration": 26,
    "start_time": "2024-12-26T21:03:16.668Z"
   },
   {
    "duration": 13,
    "start_time": "2024-12-26T21:03:59.905Z"
   },
   {
    "duration": 28,
    "start_time": "2024-12-26T21:04:41.030Z"
   },
   {
    "duration": 2512,
    "start_time": "2024-12-26T21:05:07.509Z"
   },
   {
    "duration": 1917,
    "start_time": "2024-12-26T21:05:10.023Z"
   },
   {
    "duration": 2501,
    "start_time": "2024-12-26T21:05:11.942Z"
   },
   {
    "duration": 3,
    "start_time": "2024-12-26T21:05:14.445Z"
   },
   {
    "duration": 67,
    "start_time": "2024-12-26T21:05:14.450Z"
   },
   {
    "duration": 96,
    "start_time": "2024-12-26T21:05:14.519Z"
   },
   {
    "duration": 63,
    "start_time": "2024-12-26T21:05:14.617Z"
   },
   {
    "duration": 36,
    "start_time": "2024-12-26T21:05:14.682Z"
   },
   {
    "duration": 38,
    "start_time": "2024-12-26T21:05:14.720Z"
   },
   {
    "duration": 406,
    "start_time": "2024-12-26T21:05:14.816Z"
   },
   {
    "duration": 1074,
    "start_time": "2024-12-26T21:05:15.223Z"
   },
   {
    "duration": 195,
    "start_time": "2024-12-26T21:05:16.298Z"
   },
   {
    "duration": 19,
    "start_time": "2024-12-26T21:05:16.495Z"
   },
   {
    "duration": 100,
    "start_time": "2024-12-26T21:05:16.516Z"
   },
   {
    "duration": 35,
    "start_time": "2024-12-26T21:05:16.618Z"
   },
   {
    "duration": 43,
    "start_time": "2024-12-26T21:05:16.655Z"
   },
   {
    "duration": 19,
    "start_time": "2024-12-26T21:05:16.700Z"
   },
   {
    "duration": 343,
    "start_time": "2024-12-26T21:05:16.720Z"
   },
   {
    "duration": 3,
    "start_time": "2024-12-26T21:05:17.064Z"
   },
   {
    "duration": 92,
    "start_time": "2024-12-26T21:05:17.068Z"
   },
   {
    "duration": 90,
    "start_time": "2024-12-26T21:05:17.161Z"
   },
   {
    "duration": 44,
    "start_time": "2024-12-26T21:05:17.252Z"
   },
   {
    "duration": 140,
    "start_time": "2024-12-26T21:05:17.298Z"
   },
   {
    "duration": 125,
    "start_time": "2024-12-26T21:05:17.439Z"
   },
   {
    "duration": 0,
    "start_time": "2024-12-26T21:05:17.566Z"
   },
   {
    "duration": 0,
    "start_time": "2024-12-26T21:05:17.567Z"
   },
   {
    "duration": 0,
    "start_time": "2024-12-26T21:05:17.568Z"
   },
   {
    "duration": 0,
    "start_time": "2024-12-26T21:05:17.569Z"
   },
   {
    "duration": 0,
    "start_time": "2024-12-26T21:05:17.570Z"
   },
   {
    "duration": 0,
    "start_time": "2024-12-26T21:05:17.570Z"
   },
   {
    "duration": 0,
    "start_time": "2024-12-26T21:05:17.571Z"
   },
   {
    "duration": 0,
    "start_time": "2024-12-26T21:05:17.572Z"
   },
   {
    "duration": 0,
    "start_time": "2024-12-26T21:05:17.573Z"
   },
   {
    "duration": 0,
    "start_time": "2024-12-26T21:05:17.574Z"
   },
   {
    "duration": 1,
    "start_time": "2024-12-26T21:05:17.574Z"
   },
   {
    "duration": 0,
    "start_time": "2024-12-26T21:05:17.576Z"
   },
   {
    "duration": 0,
    "start_time": "2024-12-26T21:05:17.577Z"
   },
   {
    "duration": 0,
    "start_time": "2024-12-26T21:05:17.577Z"
   },
   {
    "duration": 0,
    "start_time": "2024-12-26T21:05:17.578Z"
   },
   {
    "duration": 0,
    "start_time": "2024-12-26T21:05:17.579Z"
   },
   {
    "duration": 0,
    "start_time": "2024-12-26T21:05:17.580Z"
   },
   {
    "duration": 0,
    "start_time": "2024-12-26T21:05:17.581Z"
   },
   {
    "duration": 0,
    "start_time": "2024-12-26T21:05:17.615Z"
   },
   {
    "duration": 0,
    "start_time": "2024-12-26T21:05:17.616Z"
   },
   {
    "duration": 0,
    "start_time": "2024-12-26T21:05:17.618Z"
   },
   {
    "duration": 13,
    "start_time": "2024-12-26T21:05:44.427Z"
   },
   {
    "duration": 16,
    "start_time": "2024-12-26T21:06:02.823Z"
   },
   {
    "duration": 24,
    "start_time": "2024-12-26T21:06:11.876Z"
   },
   {
    "duration": 81,
    "start_time": "2024-12-26T21:06:52.078Z"
   },
   {
    "duration": 87,
    "start_time": "2024-12-26T21:07:24.091Z"
   },
   {
    "duration": 17,
    "start_time": "2024-12-26T21:08:33.768Z"
   },
   {
    "duration": 3520,
    "start_time": "2024-12-26T21:09:31.655Z"
   },
   {
    "duration": 3494,
    "start_time": "2024-12-26T21:09:47.713Z"
   },
   {
    "duration": 15,
    "start_time": "2024-12-26T21:10:12.519Z"
   },
   {
    "duration": 24,
    "start_time": "2024-12-26T21:10:22.989Z"
   },
   {
    "duration": 6,
    "start_time": "2024-12-26T21:10:53.374Z"
   },
   {
    "duration": 11,
    "start_time": "2024-12-26T21:11:29.275Z"
   },
   {
    "duration": 6,
    "start_time": "2024-12-26T21:15:28.191Z"
   },
   {
    "duration": 11,
    "start_time": "2024-12-26T21:15:29.480Z"
   },
   {
    "duration": 32,
    "start_time": "2024-12-26T21:17:38.747Z"
   },
   {
    "duration": 3571,
    "start_time": "2024-12-26T21:17:48.839Z"
   },
   {
    "duration": 3609,
    "start_time": "2024-12-26T21:18:44.312Z"
   },
   {
    "duration": 23,
    "start_time": "2024-12-26T21:19:00.816Z"
   },
   {
    "duration": 5,
    "start_time": "2024-12-26T21:19:04.447Z"
   },
   {
    "duration": 2408,
    "start_time": "2024-12-26T21:19:17.978Z"
   },
   {
    "duration": 1310,
    "start_time": "2024-12-26T21:19:20.388Z"
   },
   {
    "duration": 2419,
    "start_time": "2024-12-26T21:19:21.699Z"
   },
   {
    "duration": 4,
    "start_time": "2024-12-26T21:19:24.119Z"
   },
   {
    "duration": 23,
    "start_time": "2024-12-26T21:19:24.124Z"
   },
   {
    "duration": 11,
    "start_time": "2024-12-26T21:19:24.149Z"
   },
   {
    "duration": 8,
    "start_time": "2024-12-26T21:19:24.162Z"
   },
   {
    "duration": 45,
    "start_time": "2024-12-26T21:19:24.171Z"
   },
   {
    "duration": 27,
    "start_time": "2024-12-26T21:19:24.218Z"
   },
   {
    "duration": 332,
    "start_time": "2024-12-26T21:19:24.247Z"
   },
   {
    "duration": 947,
    "start_time": "2024-12-26T21:19:24.580Z"
   },
   {
    "duration": 207,
    "start_time": "2024-12-26T21:19:25.528Z"
   },
   {
    "duration": 10,
    "start_time": "2024-12-26T21:19:25.737Z"
   },
   {
    "duration": 179,
    "start_time": "2024-12-26T21:19:25.750Z"
   },
   {
    "duration": 85,
    "start_time": "2024-12-26T21:19:25.931Z"
   },
   {
    "duration": 29,
    "start_time": "2024-12-26T21:19:26.018Z"
   },
   {
    "duration": 67,
    "start_time": "2024-12-26T21:19:26.049Z"
   },
   {
    "duration": 444,
    "start_time": "2024-12-26T21:19:26.118Z"
   },
   {
    "duration": 3,
    "start_time": "2024-12-26T21:19:26.616Z"
   },
   {
    "duration": 212,
    "start_time": "2024-12-26T21:19:26.621Z"
   },
   {
    "duration": 189,
    "start_time": "2024-12-26T21:19:26.835Z"
   },
   {
    "duration": 99,
    "start_time": "2024-12-26T21:19:27.026Z"
   },
   {
    "duration": 224,
    "start_time": "2024-12-26T21:19:27.126Z"
   },
   {
    "duration": 21,
    "start_time": "2024-12-26T21:19:27.351Z"
   },
   {
    "duration": 4942,
    "start_time": "2024-12-26T21:19:27.374Z"
   },
   {
    "duration": 24,
    "start_time": "2024-12-26T21:19:32.318Z"
   },
   {
    "duration": 18,
    "start_time": "2024-12-26T21:19:32.344Z"
   },
   {
    "duration": 109,
    "start_time": "2024-12-26T21:19:32.364Z"
   },
   {
    "duration": 0,
    "start_time": "2024-12-26T21:19:32.475Z"
   },
   {
    "duration": 0,
    "start_time": "2024-12-26T21:19:32.476Z"
   },
   {
    "duration": 0,
    "start_time": "2024-12-26T21:19:32.477Z"
   },
   {
    "duration": 0,
    "start_time": "2024-12-26T21:19:32.478Z"
   },
   {
    "duration": 0,
    "start_time": "2024-12-26T21:19:32.479Z"
   },
   {
    "duration": 0,
    "start_time": "2024-12-26T21:19:32.480Z"
   },
   {
    "duration": 0,
    "start_time": "2024-12-26T21:19:32.481Z"
   },
   {
    "duration": 0,
    "start_time": "2024-12-26T21:19:32.482Z"
   },
   {
    "duration": 0,
    "start_time": "2024-12-26T21:19:32.484Z"
   },
   {
    "duration": 0,
    "start_time": "2024-12-26T21:19:32.485Z"
   },
   {
    "duration": 0,
    "start_time": "2024-12-26T21:19:32.486Z"
   },
   {
    "duration": 0,
    "start_time": "2024-12-26T21:19:32.487Z"
   },
   {
    "duration": 3606,
    "start_time": "2024-12-26T21:20:42.504Z"
   },
   {
    "duration": 34,
    "start_time": "2024-12-26T21:21:40.168Z"
   },
   {
    "duration": 2430,
    "start_time": "2024-12-26T21:21:58.904Z"
   },
   {
    "duration": 1241,
    "start_time": "2024-12-26T21:22:01.336Z"
   },
   {
    "duration": 3042,
    "start_time": "2024-12-26T21:22:02.579Z"
   },
   {
    "duration": 3,
    "start_time": "2024-12-26T21:22:05.623Z"
   },
   {
    "duration": 73,
    "start_time": "2024-12-26T21:22:05.628Z"
   },
   {
    "duration": 22,
    "start_time": "2024-12-26T21:22:05.702Z"
   },
   {
    "duration": 62,
    "start_time": "2024-12-26T21:22:05.725Z"
   },
   {
    "duration": 42,
    "start_time": "2024-12-26T21:22:05.788Z"
   },
   {
    "duration": 93,
    "start_time": "2024-12-26T21:22:05.832Z"
   },
   {
    "duration": 214,
    "start_time": "2024-12-26T21:22:05.926Z"
   },
   {
    "duration": 979,
    "start_time": "2024-12-26T21:22:06.141Z"
   },
   {
    "duration": 204,
    "start_time": "2024-12-26T21:22:07.121Z"
   },
   {
    "duration": 9,
    "start_time": "2024-12-26T21:22:07.328Z"
   },
   {
    "duration": 98,
    "start_time": "2024-12-26T21:22:07.340Z"
   },
   {
    "duration": 37,
    "start_time": "2024-12-26T21:22:07.439Z"
   },
   {
    "duration": 46,
    "start_time": "2024-12-26T21:22:07.477Z"
   },
   {
    "duration": 11,
    "start_time": "2024-12-26T21:22:07.524Z"
   },
   {
    "duration": 348,
    "start_time": "2024-12-26T21:22:07.536Z"
   },
   {
    "duration": 3,
    "start_time": "2024-12-26T21:22:07.885Z"
   },
   {
    "duration": 93,
    "start_time": "2024-12-26T21:22:07.889Z"
   },
   {
    "duration": 98,
    "start_time": "2024-12-26T21:22:07.984Z"
   },
   {
    "duration": 49,
    "start_time": "2024-12-26T21:22:08.083Z"
   },
   {
    "duration": 150,
    "start_time": "2024-12-26T21:22:08.134Z"
   },
   {
    "duration": 19,
    "start_time": "2024-12-26T21:22:08.285Z"
   },
   {
    "duration": 135,
    "start_time": "2024-12-26T21:22:08.305Z"
   },
   {
    "duration": 0,
    "start_time": "2024-12-26T21:22:08.442Z"
   },
   {
    "duration": 0,
    "start_time": "2024-12-26T21:22:08.443Z"
   },
   {
    "duration": 0,
    "start_time": "2024-12-26T21:22:08.444Z"
   },
   {
    "duration": 0,
    "start_time": "2024-12-26T21:22:08.445Z"
   },
   {
    "duration": 0,
    "start_time": "2024-12-26T21:22:08.446Z"
   },
   {
    "duration": 0,
    "start_time": "2024-12-26T21:22:08.446Z"
   },
   {
    "duration": 0,
    "start_time": "2024-12-26T21:22:08.447Z"
   },
   {
    "duration": 0,
    "start_time": "2024-12-26T21:22:08.448Z"
   },
   {
    "duration": 0,
    "start_time": "2024-12-26T21:22:08.449Z"
   },
   {
    "duration": 0,
    "start_time": "2024-12-26T21:22:08.450Z"
   },
   {
    "duration": 0,
    "start_time": "2024-12-26T21:22:08.451Z"
   },
   {
    "duration": 0,
    "start_time": "2024-12-26T21:22:08.451Z"
   },
   {
    "duration": 0,
    "start_time": "2024-12-26T21:22:08.452Z"
   },
   {
    "duration": 0,
    "start_time": "2024-12-26T21:22:08.453Z"
   },
   {
    "duration": 0,
    "start_time": "2024-12-26T21:22:08.454Z"
   },
   {
    "duration": 3698,
    "start_time": "2024-12-26T21:22:42.186Z"
   },
   {
    "duration": 3549,
    "start_time": "2024-12-26T21:22:51.998Z"
   },
   {
    "duration": 25,
    "start_time": "2024-12-26T21:23:00.790Z"
   },
   {
    "duration": 7,
    "start_time": "2024-12-26T21:23:09.008Z"
   },
   {
    "duration": 10,
    "start_time": "2024-12-26T21:23:10.329Z"
   },
   {
    "duration": 13,
    "start_time": "2024-12-26T21:23:29.619Z"
   },
   {
    "duration": 6,
    "start_time": "2024-12-26T21:25:54.391Z"
   },
   {
    "duration": 6,
    "start_time": "2024-12-26T21:27:00.044Z"
   },
   {
    "duration": 11,
    "start_time": "2024-12-26T21:27:03.012Z"
   },
   {
    "duration": 20,
    "start_time": "2024-12-26T21:32:26.985Z"
   },
   {
    "duration": 18,
    "start_time": "2024-12-26T21:33:39.489Z"
   },
   {
    "duration": 2424,
    "start_time": "2024-12-26T21:34:54.679Z"
   },
   {
    "duration": 1233,
    "start_time": "2024-12-26T21:34:57.105Z"
   },
   {
    "duration": 2439,
    "start_time": "2024-12-26T21:34:58.339Z"
   },
   {
    "duration": 3,
    "start_time": "2024-12-26T21:35:00.780Z"
   },
   {
    "duration": 33,
    "start_time": "2024-12-26T21:35:00.785Z"
   },
   {
    "duration": 16,
    "start_time": "2024-12-26T21:35:00.820Z"
   },
   {
    "duration": 57,
    "start_time": "2024-12-26T21:35:00.837Z"
   },
   {
    "duration": 17,
    "start_time": "2024-12-26T21:35:00.896Z"
   },
   {
    "duration": 54,
    "start_time": "2024-12-26T21:35:00.914Z"
   },
   {
    "duration": 206,
    "start_time": "2024-12-26T21:35:00.970Z"
   },
   {
    "duration": 978,
    "start_time": "2024-12-26T21:35:01.178Z"
   },
   {
    "duration": 195,
    "start_time": "2024-12-26T21:35:02.158Z"
   },
   {
    "duration": 10,
    "start_time": "2024-12-26T21:35:02.354Z"
   },
   {
    "duration": 91,
    "start_time": "2024-12-26T21:35:02.367Z"
   },
   {
    "duration": 35,
    "start_time": "2024-12-26T21:35:02.459Z"
   },
   {
    "duration": 44,
    "start_time": "2024-12-26T21:35:02.496Z"
   },
   {
    "duration": 12,
    "start_time": "2024-12-26T21:35:02.541Z"
   },
   {
    "duration": 349,
    "start_time": "2024-12-26T21:35:02.554Z"
   },
   {
    "duration": 10,
    "start_time": "2024-12-26T21:35:02.905Z"
   },
   {
    "duration": 78,
    "start_time": "2024-12-26T21:35:02.917Z"
   },
   {
    "duration": 106,
    "start_time": "2024-12-26T21:35:02.997Z"
   },
   {
    "duration": 51,
    "start_time": "2024-12-26T21:35:03.105Z"
   },
   {
    "duration": 133,
    "start_time": "2024-12-26T21:35:03.158Z"
   },
   {
    "duration": 28,
    "start_time": "2024-12-26T21:35:03.293Z"
   },
   {
    "duration": 4451,
    "start_time": "2024-12-26T21:35:03.323Z"
   },
   {
    "duration": 23,
    "start_time": "2024-12-26T21:35:07.776Z"
   },
   {
    "duration": 30,
    "start_time": "2024-12-26T21:35:07.801Z"
   },
   {
    "duration": 113,
    "start_time": "2024-12-26T21:35:07.833Z"
   },
   {
    "duration": 0,
    "start_time": "2024-12-26T21:35:07.948Z"
   },
   {
    "duration": 0,
    "start_time": "2024-12-26T21:35:07.949Z"
   },
   {
    "duration": 0,
    "start_time": "2024-12-26T21:35:07.950Z"
   },
   {
    "duration": 0,
    "start_time": "2024-12-26T21:35:07.951Z"
   },
   {
    "duration": 18,
    "start_time": "2024-12-26T21:35:33.488Z"
   },
   {
    "duration": 24,
    "start_time": "2024-12-26T21:36:05.828Z"
   },
   {
    "duration": 18,
    "start_time": "2024-12-26T21:36:28.239Z"
   },
   {
    "duration": 3586,
    "start_time": "2024-12-26T21:37:46.852Z"
   },
   {
    "duration": 32,
    "start_time": "2024-12-26T21:39:55.782Z"
   },
   {
    "duration": 3572,
    "start_time": "2024-12-26T21:40:48.191Z"
   },
   {
    "duration": 5320,
    "start_time": "2024-12-26T21:41:18.162Z"
   },
   {
    "duration": 3545,
    "start_time": "2024-12-26T21:41:45.255Z"
   },
   {
    "duration": 2510,
    "start_time": "2024-12-26T21:42:30.723Z"
   },
   {
    "duration": 1314,
    "start_time": "2024-12-26T21:42:33.236Z"
   },
   {
    "duration": 2472,
    "start_time": "2024-12-26T21:42:34.551Z"
   },
   {
    "duration": 3,
    "start_time": "2024-12-26T21:42:37.025Z"
   },
   {
    "duration": 27,
    "start_time": "2024-12-26T21:42:37.029Z"
   },
   {
    "duration": 10,
    "start_time": "2024-12-26T21:42:37.058Z"
   },
   {
    "duration": 49,
    "start_time": "2024-12-26T21:42:37.070Z"
   },
   {
    "duration": 30,
    "start_time": "2024-12-26T21:42:37.121Z"
   },
   {
    "duration": 74,
    "start_time": "2024-12-26T21:42:37.152Z"
   },
   {
    "duration": 395,
    "start_time": "2024-12-26T21:42:37.229Z"
   },
   {
    "duration": 1610,
    "start_time": "2024-12-26T21:42:37.626Z"
   },
   {
    "duration": 390,
    "start_time": "2024-12-26T21:42:39.237Z"
   },
   {
    "duration": 9,
    "start_time": "2024-12-26T21:42:39.629Z"
   },
   {
    "duration": 92,
    "start_time": "2024-12-26T21:42:39.639Z"
   },
   {
    "duration": 33,
    "start_time": "2024-12-26T21:42:39.732Z"
   },
   {
    "duration": 48,
    "start_time": "2024-12-26T21:42:39.767Z"
   },
   {
    "duration": 12,
    "start_time": "2024-12-26T21:42:39.817Z"
   },
   {
    "duration": 368,
    "start_time": "2024-12-26T21:42:39.832Z"
   },
   {
    "duration": 14,
    "start_time": "2024-12-26T21:42:40.201Z"
   },
   {
    "duration": 155,
    "start_time": "2024-12-26T21:42:40.216Z"
   },
   {
    "duration": 90,
    "start_time": "2024-12-26T21:42:40.372Z"
   },
   {
    "duration": 52,
    "start_time": "2024-12-26T21:42:40.464Z"
   },
   {
    "duration": 134,
    "start_time": "2024-12-26T21:42:40.517Z"
   },
   {
    "duration": 23,
    "start_time": "2024-12-26T21:42:40.652Z"
   },
   {
    "duration": 4664,
    "start_time": "2024-12-26T21:42:40.677Z"
   },
   {
    "duration": 25,
    "start_time": "2024-12-26T21:42:45.343Z"
   },
   {
    "duration": 22,
    "start_time": "2024-12-26T21:42:45.371Z"
   },
   {
    "duration": 35,
    "start_time": "2024-12-26T21:42:45.397Z"
   },
   {
    "duration": 46,
    "start_time": "2024-12-26T21:42:45.434Z"
   },
   {
    "duration": 126,
    "start_time": "2024-12-26T21:42:45.481Z"
   },
   {
    "duration": 128,
    "start_time": "2024-12-26T21:42:45.609Z"
   },
   {
    "duration": 26,
    "start_time": "2024-12-26T21:43:02.080Z"
   },
   {
    "duration": 50,
    "start_time": "2024-12-27T13:58:13.075Z"
   },
   {
    "duration": 3910,
    "start_time": "2024-12-27T13:58:33.658Z"
   },
   {
    "duration": 1422,
    "start_time": "2024-12-27T13:58:37.571Z"
   },
   {
    "duration": 2371,
    "start_time": "2024-12-27T13:58:38.995Z"
   },
   {
    "duration": 3,
    "start_time": "2024-12-27T13:58:41.368Z"
   },
   {
    "duration": 53,
    "start_time": "2024-12-27T13:58:41.372Z"
   },
   {
    "duration": 22,
    "start_time": "2024-12-27T13:58:41.428Z"
   },
   {
    "duration": 28,
    "start_time": "2024-12-27T13:58:41.452Z"
   },
   {
    "duration": 17,
    "start_time": "2024-12-27T13:58:41.483Z"
   },
   {
    "duration": 54,
    "start_time": "2024-12-27T13:58:41.502Z"
   },
   {
    "duration": 222,
    "start_time": "2024-12-27T13:58:41.559Z"
   },
   {
    "duration": 1028,
    "start_time": "2024-12-27T13:58:41.783Z"
   },
   {
    "duration": 235,
    "start_time": "2024-12-27T13:58:42.813Z"
   },
   {
    "duration": 10,
    "start_time": "2024-12-27T13:58:43.050Z"
   },
   {
    "duration": 106,
    "start_time": "2024-12-27T13:58:43.062Z"
   },
   {
    "duration": 32,
    "start_time": "2024-12-27T13:58:43.170Z"
   },
   {
    "duration": 52,
    "start_time": "2024-12-27T13:58:43.205Z"
   },
   {
    "duration": 10,
    "start_time": "2024-12-27T13:58:43.258Z"
   },
   {
    "duration": 439,
    "start_time": "2024-12-27T13:58:43.270Z"
   },
   {
    "duration": 3,
    "start_time": "2024-12-27T13:58:43.710Z"
   },
   {
    "duration": 151,
    "start_time": "2024-12-27T13:58:43.714Z"
   },
   {
    "duration": 119,
    "start_time": "2024-12-27T13:58:43.867Z"
   },
   {
    "duration": 59,
    "start_time": "2024-12-27T13:58:43.988Z"
   },
   {
    "duration": 139,
    "start_time": "2024-12-27T13:58:44.049Z"
   },
   {
    "duration": 149,
    "start_time": "2024-12-27T13:58:44.190Z"
   },
   {
    "duration": 19,
    "start_time": "2024-12-27T13:58:44.342Z"
   },
   {
    "duration": 4264,
    "start_time": "2024-12-27T13:58:44.363Z"
   },
   {
    "duration": 33,
    "start_time": "2024-12-27T13:58:48.630Z"
   },
   {
    "duration": 17,
    "start_time": "2024-12-27T13:58:48.666Z"
   },
   {
    "duration": 49,
    "start_time": "2024-12-27T13:58:48.684Z"
   },
   {
    "duration": 39,
    "start_time": "2024-12-27T13:58:48.736Z"
   },
   {
    "duration": 96,
    "start_time": "2024-12-27T13:58:48.776Z"
   },
   {
    "duration": 123,
    "start_time": "2024-12-27T13:58:48.874Z"
   },
   {
    "duration": 2734,
    "start_time": "2024-12-27T14:41:06.759Z"
   },
   {
    "duration": 1276,
    "start_time": "2024-12-27T14:41:09.495Z"
   },
   {
    "duration": 2526,
    "start_time": "2024-12-27T14:41:10.772Z"
   },
   {
    "duration": 4,
    "start_time": "2024-12-27T14:41:13.300Z"
   },
   {
    "duration": 18,
    "start_time": "2024-12-27T14:41:13.305Z"
   },
   {
    "duration": 5,
    "start_time": "2024-12-27T14:41:13.328Z"
   },
   {
    "duration": 25,
    "start_time": "2024-12-27T14:41:13.335Z"
   },
   {
    "duration": 16,
    "start_time": "2024-12-27T14:41:13.362Z"
   },
   {
    "duration": 40,
    "start_time": "2024-12-27T14:41:13.380Z"
   },
   {
    "duration": 235,
    "start_time": "2024-12-27T14:41:13.424Z"
   },
   {
    "duration": 1083,
    "start_time": "2024-12-27T14:41:13.661Z"
   },
   {
    "duration": 203,
    "start_time": "2024-12-27T14:41:14.746Z"
   },
   {
    "duration": 10,
    "start_time": "2024-12-27T14:41:14.951Z"
   },
   {
    "duration": 91,
    "start_time": "2024-12-27T14:41:14.963Z"
   },
   {
    "duration": 33,
    "start_time": "2024-12-27T14:41:15.056Z"
   },
   {
    "duration": 54,
    "start_time": "2024-12-27T14:41:15.090Z"
   },
   {
    "duration": 14,
    "start_time": "2024-12-27T14:41:15.147Z"
   },
   {
    "duration": 366,
    "start_time": "2024-12-27T14:41:15.162Z"
   },
   {
    "duration": 3,
    "start_time": "2024-12-27T14:41:15.531Z"
   },
   {
    "duration": 137,
    "start_time": "2024-12-27T14:41:15.537Z"
   },
   {
    "duration": 110,
    "start_time": "2024-12-27T14:41:15.676Z"
   },
   {
    "duration": 50,
    "start_time": "2024-12-27T14:41:15.788Z"
   },
   {
    "duration": 137,
    "start_time": "2024-12-27T14:41:15.840Z"
   },
   {
    "duration": 152,
    "start_time": "2024-12-27T14:41:15.979Z"
   },
   {
    "duration": 40,
    "start_time": "2024-12-27T14:41:16.133Z"
   },
   {
    "duration": 138,
    "start_time": "2024-12-27T14:41:16.175Z"
   },
   {
    "duration": 119,
    "start_time": "2024-12-27T14:41:16.315Z"
   },
   {
    "duration": 2661,
    "start_time": "2024-12-27T14:41:47.136Z"
   },
   {
    "duration": 1293,
    "start_time": "2024-12-27T14:41:49.800Z"
   },
   {
    "duration": 2221,
    "start_time": "2024-12-27T14:41:51.094Z"
   },
   {
    "duration": 8,
    "start_time": "2024-12-27T14:41:53.317Z"
   },
   {
    "duration": 8,
    "start_time": "2024-12-27T14:41:53.328Z"
   },
   {
    "duration": 28,
    "start_time": "2024-12-27T14:41:53.340Z"
   },
   {
    "duration": 12,
    "start_time": "2024-12-27T14:41:53.370Z"
   },
   {
    "duration": 8,
    "start_time": "2024-12-27T14:41:53.384Z"
   },
   {
    "duration": 46,
    "start_time": "2024-12-27T14:41:53.394Z"
   },
   {
    "duration": 236,
    "start_time": "2024-12-27T14:41:53.446Z"
   },
   {
    "duration": 1114,
    "start_time": "2024-12-27T14:41:53.684Z"
   },
   {
    "duration": 222,
    "start_time": "2024-12-27T14:41:54.800Z"
   },
   {
    "duration": 17,
    "start_time": "2024-12-27T14:41:55.024Z"
   },
   {
    "duration": 132,
    "start_time": "2024-12-27T14:41:55.044Z"
   },
   {
    "duration": 33,
    "start_time": "2024-12-27T14:41:55.178Z"
   },
   {
    "duration": 38,
    "start_time": "2024-12-27T14:41:55.223Z"
   },
   {
    "duration": 11,
    "start_time": "2024-12-27T14:41:55.262Z"
   },
   {
    "duration": 386,
    "start_time": "2024-12-27T14:41:55.275Z"
   },
   {
    "duration": 3,
    "start_time": "2024-12-27T14:41:55.663Z"
   },
   {
    "duration": 106,
    "start_time": "2024-12-27T14:41:55.668Z"
   },
   {
    "duration": 104,
    "start_time": "2024-12-27T14:41:55.776Z"
   },
   {
    "duration": 69,
    "start_time": "2024-12-27T14:41:55.881Z"
   },
   {
    "duration": 146,
    "start_time": "2024-12-27T14:41:55.952Z"
   },
   {
    "duration": 131,
    "start_time": "2024-12-27T14:41:56.100Z"
   },
   {
    "duration": 0,
    "start_time": "2024-12-27T14:41:56.234Z"
   },
   {
    "duration": 0,
    "start_time": "2024-12-27T14:41:56.236Z"
   },
   {
    "duration": 0,
    "start_time": "2024-12-27T14:41:56.238Z"
   },
   {
    "duration": 165,
    "start_time": "2024-12-27T14:42:07.587Z"
   },
   {
    "duration": 68,
    "start_time": "2024-12-27T14:43:08.936Z"
   },
   {
    "duration": 9,
    "start_time": "2024-12-27T14:44:02.100Z"
   },
   {
    "duration": 3812,
    "start_time": "2024-12-27T14:44:58.572Z"
   },
   {
    "duration": 3801,
    "start_time": "2024-12-27T14:45:14.575Z"
   },
   {
    "duration": 21,
    "start_time": "2024-12-27T14:47:09.690Z"
   },
   {
    "duration": 48,
    "start_time": "2024-12-27T14:54:00.703Z"
   },
   {
    "duration": 9,
    "start_time": "2024-12-27T15:04:25.941Z"
   },
   {
    "duration": 81,
    "start_time": "2024-12-27T15:06:30.931Z"
   },
   {
    "duration": 2542,
    "start_time": "2024-12-27T15:08:15.508Z"
   },
   {
    "duration": 1279,
    "start_time": "2024-12-27T15:08:18.052Z"
   },
   {
    "duration": 2103,
    "start_time": "2024-12-27T15:08:19.334Z"
   },
   {
    "duration": 3,
    "start_time": "2024-12-27T15:08:21.439Z"
   },
   {
    "duration": 28,
    "start_time": "2024-12-27T15:08:21.444Z"
   },
   {
    "duration": 48,
    "start_time": "2024-12-27T15:08:21.473Z"
   },
   {
    "duration": 29,
    "start_time": "2024-12-27T15:08:21.528Z"
   },
   {
    "duration": 15,
    "start_time": "2024-12-27T15:08:21.558Z"
   },
   {
    "duration": 36,
    "start_time": "2024-12-27T15:08:21.575Z"
   },
   {
    "duration": 216,
    "start_time": "2024-12-27T15:08:21.614Z"
   },
   {
    "duration": 1043,
    "start_time": "2024-12-27T15:08:21.834Z"
   },
   {
    "duration": 202,
    "start_time": "2024-12-27T15:08:22.878Z"
   },
   {
    "duration": 9,
    "start_time": "2024-12-27T15:08:23.082Z"
   },
   {
    "duration": 102,
    "start_time": "2024-12-27T15:08:23.093Z"
   },
   {
    "duration": 40,
    "start_time": "2024-12-27T15:08:23.197Z"
   },
   {
    "duration": 29,
    "start_time": "2024-12-27T15:08:23.239Z"
   },
   {
    "duration": 10,
    "start_time": "2024-12-27T15:08:23.269Z"
   },
   {
    "duration": 348,
    "start_time": "2024-12-27T15:08:23.281Z"
   },
   {
    "duration": 4,
    "start_time": "2024-12-27T15:08:23.634Z"
   },
   {
    "duration": 96,
    "start_time": "2024-12-27T15:08:23.639Z"
   },
   {
    "duration": 107,
    "start_time": "2024-12-27T15:08:23.739Z"
   },
   {
    "duration": 43,
    "start_time": "2024-12-27T15:08:23.848Z"
   },
   {
    "duration": 144,
    "start_time": "2024-12-27T15:08:23.893Z"
   },
   {
    "duration": 148,
    "start_time": "2024-12-27T15:08:24.039Z"
   },
   {
    "duration": 8,
    "start_time": "2024-12-27T15:08:24.189Z"
   },
   {
    "duration": 4577,
    "start_time": "2024-12-27T15:08:24.198Z"
   },
   {
    "duration": 20,
    "start_time": "2024-12-27T15:08:28.777Z"
   },
   {
    "duration": 102,
    "start_time": "2024-12-27T15:08:28.800Z"
   },
   {
    "duration": 45,
    "start_time": "2024-12-27T15:08:28.904Z"
   },
   {
    "duration": 84,
    "start_time": "2024-12-27T15:08:28.951Z"
   },
   {
    "duration": 129,
    "start_time": "2024-12-27T15:08:29.038Z"
   },
   {
    "duration": 80,
    "start_time": "2024-12-27T15:10:09.948Z"
   },
   {
    "duration": 108,
    "start_time": "2024-12-27T15:10:33.906Z"
   },
   {
    "duration": 56,
    "start_time": "2024-12-27T15:13:05.907Z"
   },
   {
    "duration": 131,
    "start_time": "2024-12-27T15:13:28.112Z"
   },
   {
    "duration": 49,
    "start_time": "2024-12-27T15:14:01.532Z"
   },
   {
    "duration": 60,
    "start_time": "2024-12-27T15:14:13.819Z"
   },
   {
    "duration": 35,
    "start_time": "2024-12-27T15:14:46.299Z"
   },
   {
    "duration": 41,
    "start_time": "2024-12-27T15:19:41.546Z"
   },
   {
    "duration": 59,
    "start_time": "2024-12-27T15:21:23.911Z"
   },
   {
    "duration": 109,
    "start_time": "2024-12-27T15:22:05.870Z"
   },
   {
    "duration": 43,
    "start_time": "2024-12-27T15:22:14.144Z"
   },
   {
    "duration": 38,
    "start_time": "2024-12-27T15:22:53.076Z"
   },
   {
    "duration": 53,
    "start_time": "2024-12-27T15:23:08.242Z"
   },
   {
    "duration": 193,
    "start_time": "2024-12-27T15:23:30.448Z"
   },
   {
    "duration": 37,
    "start_time": "2024-12-27T15:23:41.359Z"
   },
   {
    "duration": 5,
    "start_time": "2024-12-27T15:53:31.733Z"
   },
   {
    "duration": 8,
    "start_time": "2024-12-27T15:53:41.417Z"
   },
   {
    "duration": 4,
    "start_time": "2024-12-27T15:53:52.277Z"
   },
   {
    "duration": 7,
    "start_time": "2024-12-27T15:53:54.094Z"
   },
   {
    "duration": 4313,
    "start_time": "2024-12-27T15:54:13.630Z"
   },
   {
    "duration": 1462,
    "start_time": "2024-12-27T15:54:17.946Z"
   },
   {
    "duration": 2604,
    "start_time": "2024-12-27T15:54:19.410Z"
   },
   {
    "duration": 3,
    "start_time": "2024-12-27T15:54:22.016Z"
   },
   {
    "duration": 25,
    "start_time": "2024-12-27T15:54:22.021Z"
   },
   {
    "duration": 23,
    "start_time": "2024-12-27T15:54:22.048Z"
   },
   {
    "duration": 17,
    "start_time": "2024-12-27T15:54:22.072Z"
   },
   {
    "duration": 8,
    "start_time": "2024-12-27T15:54:22.091Z"
   },
   {
    "duration": 37,
    "start_time": "2024-12-27T15:54:22.101Z"
   },
   {
    "duration": 270,
    "start_time": "2024-12-27T15:54:22.144Z"
   },
   {
    "duration": 1218,
    "start_time": "2024-12-27T15:54:22.418Z"
   },
   {
    "duration": 203,
    "start_time": "2024-12-27T15:54:23.637Z"
   },
   {
    "duration": 23,
    "start_time": "2024-12-27T15:54:23.848Z"
   },
   {
    "duration": 113,
    "start_time": "2024-12-27T15:54:23.874Z"
   },
   {
    "duration": 12,
    "start_time": "2024-12-27T15:54:23.989Z"
   },
   {
    "duration": 66,
    "start_time": "2024-12-27T15:54:24.002Z"
   },
   {
    "duration": 12,
    "start_time": "2024-12-27T15:54:24.070Z"
   },
   {
    "duration": 365,
    "start_time": "2024-12-27T15:54:24.083Z"
   },
   {
    "duration": 4,
    "start_time": "2024-12-27T15:54:24.450Z"
   },
   {
    "duration": 119,
    "start_time": "2024-12-27T15:54:24.456Z"
   },
   {
    "duration": 119,
    "start_time": "2024-12-27T15:54:24.577Z"
   },
   {
    "duration": 68,
    "start_time": "2024-12-27T15:54:24.697Z"
   },
   {
    "duration": 147,
    "start_time": "2024-12-27T15:54:24.767Z"
   },
   {
    "duration": 145,
    "start_time": "2024-12-27T15:54:24.915Z"
   },
   {
    "duration": 7,
    "start_time": "2024-12-27T15:54:25.062Z"
   },
   {
    "duration": 4311,
    "start_time": "2024-12-27T15:54:25.070Z"
   },
   {
    "duration": 23,
    "start_time": "2024-12-27T15:54:29.383Z"
   },
   {
    "duration": 58,
    "start_time": "2024-12-27T15:54:29.422Z"
   },
   {
    "duration": 119,
    "start_time": "2024-12-27T15:54:29.482Z"
   },
   {
    "duration": 22,
    "start_time": "2024-12-27T15:57:40.788Z"
   },
   {
    "duration": 50,
    "start_time": "2024-12-27T15:57:58.251Z"
   },
   {
    "duration": 2784,
    "start_time": "2024-12-27T15:58:12.121Z"
   },
   {
    "duration": 2487,
    "start_time": "2024-12-27T15:58:14.907Z"
   },
   {
    "duration": 3085,
    "start_time": "2024-12-27T15:58:17.395Z"
   },
   {
    "duration": 3,
    "start_time": "2024-12-27T15:58:20.482Z"
   },
   {
    "duration": 59,
    "start_time": "2024-12-27T15:58:20.486Z"
   },
   {
    "duration": 18,
    "start_time": "2024-12-27T15:58:20.548Z"
   },
   {
    "duration": 85,
    "start_time": "2024-12-27T15:58:20.568Z"
   },
   {
    "duration": 70,
    "start_time": "2024-12-27T15:58:20.655Z"
   },
   {
    "duration": 38,
    "start_time": "2024-12-27T15:58:20.735Z"
   },
   {
    "duration": 224,
    "start_time": "2024-12-27T15:58:20.776Z"
   },
   {
    "duration": 1065,
    "start_time": "2024-12-27T15:58:21.001Z"
   },
   {
    "duration": 206,
    "start_time": "2024-12-27T15:58:22.067Z"
   },
   {
    "duration": 9,
    "start_time": "2024-12-27T15:58:22.275Z"
   },
   {
    "duration": 181,
    "start_time": "2024-12-27T15:58:22.285Z"
   },
   {
    "duration": 147,
    "start_time": "2024-12-27T15:58:22.468Z"
   },
   {
    "duration": 0,
    "start_time": "2024-12-27T15:58:22.617Z"
   },
   {
    "duration": 0,
    "start_time": "2024-12-27T15:58:22.623Z"
   },
   {
    "duration": 0,
    "start_time": "2024-12-27T15:58:22.624Z"
   },
   {
    "duration": 0,
    "start_time": "2024-12-27T15:58:22.624Z"
   },
   {
    "duration": 0,
    "start_time": "2024-12-27T15:58:22.625Z"
   },
   {
    "duration": 0,
    "start_time": "2024-12-27T15:58:22.628Z"
   },
   {
    "duration": 0,
    "start_time": "2024-12-27T15:58:22.630Z"
   },
   {
    "duration": 0,
    "start_time": "2024-12-27T15:58:22.633Z"
   },
   {
    "duration": 0,
    "start_time": "2024-12-27T15:58:22.634Z"
   },
   {
    "duration": 0,
    "start_time": "2024-12-27T15:58:22.637Z"
   },
   {
    "duration": 0,
    "start_time": "2024-12-27T15:58:22.638Z"
   },
   {
    "duration": 1,
    "start_time": "2024-12-27T15:58:22.638Z"
   },
   {
    "duration": 0,
    "start_time": "2024-12-27T15:58:22.639Z"
   },
   {
    "duration": 0,
    "start_time": "2024-12-27T15:58:22.640Z"
   },
   {
    "duration": 2591,
    "start_time": "2024-12-27T15:59:33.804Z"
   },
   {
    "duration": 1221,
    "start_time": "2024-12-27T15:59:36.397Z"
   },
   {
    "duration": 1987,
    "start_time": "2024-12-27T15:59:37.620Z"
   },
   {
    "duration": 3,
    "start_time": "2024-12-27T15:59:39.609Z"
   },
   {
    "duration": 32,
    "start_time": "2024-12-27T15:59:39.615Z"
   },
   {
    "duration": 8,
    "start_time": "2024-12-27T15:59:39.649Z"
   },
   {
    "duration": 26,
    "start_time": "2024-12-27T15:59:39.658Z"
   },
   {
    "duration": 61,
    "start_time": "2024-12-27T15:59:39.686Z"
   },
   {
    "duration": 27,
    "start_time": "2024-12-27T15:59:39.749Z"
   },
   {
    "duration": 274,
    "start_time": "2024-12-27T15:59:39.778Z"
   },
   {
    "duration": 1000,
    "start_time": "2024-12-27T15:59:40.057Z"
   },
   {
    "duration": 194,
    "start_time": "2024-12-27T15:59:41.059Z"
   },
   {
    "duration": 10,
    "start_time": "2024-12-27T15:59:41.255Z"
   },
   {
    "duration": 120,
    "start_time": "2024-12-27T15:59:41.267Z"
   },
   {
    "duration": 124,
    "start_time": "2024-12-27T15:59:41.388Z"
   },
   {
    "duration": 1,
    "start_time": "2024-12-27T15:59:41.513Z"
   },
   {
    "duration": 0,
    "start_time": "2024-12-27T15:59:41.515Z"
   },
   {
    "duration": 0,
    "start_time": "2024-12-27T15:59:41.516Z"
   },
   {
    "duration": 0,
    "start_time": "2024-12-27T15:59:41.517Z"
   },
   {
    "duration": 0,
    "start_time": "2024-12-27T15:59:41.517Z"
   },
   {
    "duration": 0,
    "start_time": "2024-12-27T15:59:41.518Z"
   },
   {
    "duration": 0,
    "start_time": "2024-12-27T15:59:41.519Z"
   },
   {
    "duration": 0,
    "start_time": "2024-12-27T15:59:41.519Z"
   },
   {
    "duration": 0,
    "start_time": "2024-12-27T15:59:41.520Z"
   },
   {
    "duration": 0,
    "start_time": "2024-12-27T15:59:41.520Z"
   },
   {
    "duration": 0,
    "start_time": "2024-12-27T15:59:41.521Z"
   },
   {
    "duration": 0,
    "start_time": "2024-12-27T15:59:41.521Z"
   },
   {
    "duration": 0,
    "start_time": "2024-12-27T15:59:41.522Z"
   },
   {
    "duration": 0,
    "start_time": "2024-12-27T15:59:41.522Z"
   },
   {
    "duration": 42,
    "start_time": "2024-12-27T16:01:31.477Z"
   },
   {
    "duration": 2659,
    "start_time": "2024-12-27T16:01:42.620Z"
   },
   {
    "duration": 1296,
    "start_time": "2024-12-27T16:01:45.281Z"
   },
   {
    "duration": 3100,
    "start_time": "2024-12-27T16:01:46.579Z"
   },
   {
    "duration": 3,
    "start_time": "2024-12-27T16:01:49.681Z"
   },
   {
    "duration": 28,
    "start_time": "2024-12-27T16:01:49.686Z"
   },
   {
    "duration": 22,
    "start_time": "2024-12-27T16:01:49.716Z"
   },
   {
    "duration": 12,
    "start_time": "2024-12-27T16:01:49.748Z"
   },
   {
    "duration": 74,
    "start_time": "2024-12-27T16:01:49.761Z"
   },
   {
    "duration": 137,
    "start_time": "2024-12-27T16:01:49.839Z"
   },
   {
    "duration": 252,
    "start_time": "2024-12-27T16:01:49.979Z"
   },
   {
    "duration": 1072,
    "start_time": "2024-12-27T16:01:50.233Z"
   },
   {
    "duration": 203,
    "start_time": "2024-12-27T16:01:51.307Z"
   },
   {
    "duration": 22,
    "start_time": "2024-12-27T16:01:51.512Z"
   },
   {
    "duration": 118,
    "start_time": "2024-12-27T16:01:51.537Z"
   },
   {
    "duration": 48,
    "start_time": "2024-12-27T16:01:51.658Z"
   },
   {
    "duration": 148,
    "start_time": "2024-12-27T16:01:51.708Z"
   },
   {
    "duration": 0,
    "start_time": "2024-12-27T16:01:51.858Z"
   },
   {
    "duration": 0,
    "start_time": "2024-12-27T16:01:51.859Z"
   },
   {
    "duration": 0,
    "start_time": "2024-12-27T16:01:51.860Z"
   },
   {
    "duration": 0,
    "start_time": "2024-12-27T16:01:51.861Z"
   },
   {
    "duration": 0,
    "start_time": "2024-12-27T16:01:51.862Z"
   },
   {
    "duration": 0,
    "start_time": "2024-12-27T16:01:51.863Z"
   },
   {
    "duration": 0,
    "start_time": "2024-12-27T16:01:51.864Z"
   },
   {
    "duration": 0,
    "start_time": "2024-12-27T16:01:51.865Z"
   },
   {
    "duration": 0,
    "start_time": "2024-12-27T16:01:51.866Z"
   },
   {
    "duration": 0,
    "start_time": "2024-12-27T16:01:51.867Z"
   },
   {
    "duration": 0,
    "start_time": "2024-12-27T16:01:51.869Z"
   },
   {
    "duration": 0,
    "start_time": "2024-12-27T16:01:51.870Z"
   },
   {
    "duration": 0,
    "start_time": "2024-12-27T16:01:51.872Z"
   },
   {
    "duration": 18,
    "start_time": "2024-12-27T16:02:37.593Z"
   },
   {
    "duration": 44,
    "start_time": "2024-12-27T16:03:29.628Z"
   },
   {
    "duration": 14,
    "start_time": "2024-12-27T16:03:56.191Z"
   },
   {
    "duration": 35,
    "start_time": "2024-12-27T16:04:03.703Z"
   },
   {
    "duration": 2731,
    "start_time": "2024-12-27T16:04:09.496Z"
   },
   {
    "duration": 1292,
    "start_time": "2024-12-27T16:04:12.237Z"
   },
   {
    "duration": 1952,
    "start_time": "2024-12-27T16:04:13.532Z"
   },
   {
    "duration": 3,
    "start_time": "2024-12-27T16:04:15.486Z"
   },
   {
    "duration": 95,
    "start_time": "2024-12-27T16:04:15.491Z"
   },
   {
    "duration": 40,
    "start_time": "2024-12-27T16:04:15.587Z"
   },
   {
    "duration": 36,
    "start_time": "2024-12-27T16:04:15.630Z"
   },
   {
    "duration": 75,
    "start_time": "2024-12-27T16:04:15.667Z"
   },
   {
    "duration": 32,
    "start_time": "2024-12-27T16:04:15.749Z"
   },
   {
    "duration": 252,
    "start_time": "2024-12-27T16:04:15.783Z"
   },
   {
    "duration": 1139,
    "start_time": "2024-12-27T16:04:16.037Z"
   },
   {
    "duration": 194,
    "start_time": "2024-12-27T16:04:17.178Z"
   },
   {
    "duration": 11,
    "start_time": "2024-12-27T16:04:17.373Z"
   },
   {
    "duration": 150,
    "start_time": "2024-12-27T16:04:17.387Z"
   },
   {
    "duration": 134,
    "start_time": "2024-12-27T16:04:17.539Z"
   },
   {
    "duration": 0,
    "start_time": "2024-12-27T16:04:17.675Z"
   },
   {
    "duration": 0,
    "start_time": "2024-12-27T16:04:17.676Z"
   },
   {
    "duration": 0,
    "start_time": "2024-12-27T16:04:17.678Z"
   },
   {
    "duration": 0,
    "start_time": "2024-12-27T16:04:17.679Z"
   },
   {
    "duration": 0,
    "start_time": "2024-12-27T16:04:17.680Z"
   },
   {
    "duration": 0,
    "start_time": "2024-12-27T16:04:17.681Z"
   },
   {
    "duration": 0,
    "start_time": "2024-12-27T16:04:17.683Z"
   },
   {
    "duration": 0,
    "start_time": "2024-12-27T16:04:17.684Z"
   },
   {
    "duration": 0,
    "start_time": "2024-12-27T16:04:17.686Z"
   },
   {
    "duration": 0,
    "start_time": "2024-12-27T16:04:17.687Z"
   },
   {
    "duration": 0,
    "start_time": "2024-12-27T16:04:17.688Z"
   },
   {
    "duration": 0,
    "start_time": "2024-12-27T16:04:17.689Z"
   },
   {
    "duration": 0,
    "start_time": "2024-12-27T16:04:17.691Z"
   },
   {
    "duration": 0,
    "start_time": "2024-12-27T16:04:17.691Z"
   },
   {
    "duration": 18,
    "start_time": "2024-12-27T16:04:24.652Z"
   },
   {
    "duration": 3023,
    "start_time": "2024-12-27T16:05:32.911Z"
   },
   {
    "duration": 1436,
    "start_time": "2024-12-27T16:05:35.937Z"
   },
   {
    "duration": 2320,
    "start_time": "2024-12-27T16:05:37.375Z"
   },
   {
    "duration": 3,
    "start_time": "2024-12-27T16:05:39.697Z"
   },
   {
    "duration": 30,
    "start_time": "2024-12-27T16:05:39.702Z"
   },
   {
    "duration": 9,
    "start_time": "2024-12-27T16:05:39.741Z"
   },
   {
    "duration": 21,
    "start_time": "2024-12-27T16:05:39.758Z"
   },
   {
    "duration": 34,
    "start_time": "2024-12-27T16:05:39.780Z"
   },
   {
    "duration": 60,
    "start_time": "2024-12-27T16:05:39.816Z"
   },
   {
    "duration": 456,
    "start_time": "2024-12-27T16:05:39.878Z"
   },
   {
    "duration": 2468,
    "start_time": "2024-12-27T16:05:40.335Z"
   },
   {
    "duration": 245,
    "start_time": "2024-12-27T16:05:42.805Z"
   },
   {
    "duration": 15,
    "start_time": "2024-12-27T16:05:43.061Z"
   },
   {
    "duration": 133,
    "start_time": "2024-12-27T16:05:43.079Z"
   },
   {
    "duration": 152,
    "start_time": "2024-12-27T16:05:43.214Z"
   },
   {
    "duration": 0,
    "start_time": "2024-12-27T16:05:43.368Z"
   },
   {
    "duration": 0,
    "start_time": "2024-12-27T16:05:43.370Z"
   },
   {
    "duration": 0,
    "start_time": "2024-12-27T16:05:43.371Z"
   },
   {
    "duration": 0,
    "start_time": "2024-12-27T16:05:43.372Z"
   },
   {
    "duration": 0,
    "start_time": "2024-12-27T16:05:43.373Z"
   },
   {
    "duration": 0,
    "start_time": "2024-12-27T16:05:43.373Z"
   },
   {
    "duration": 0,
    "start_time": "2024-12-27T16:05:43.375Z"
   },
   {
    "duration": 0,
    "start_time": "2024-12-27T16:05:43.376Z"
   },
   {
    "duration": 0,
    "start_time": "2024-12-27T16:05:43.377Z"
   },
   {
    "duration": 0,
    "start_time": "2024-12-27T16:05:43.378Z"
   },
   {
    "duration": 0,
    "start_time": "2024-12-27T16:05:43.379Z"
   },
   {
    "duration": 0,
    "start_time": "2024-12-27T16:05:43.380Z"
   },
   {
    "duration": 0,
    "start_time": "2024-12-27T16:05:43.381Z"
   },
   {
    "duration": 0,
    "start_time": "2024-12-27T16:05:43.382Z"
   },
   {
    "duration": 133,
    "start_time": "2024-12-27T16:06:56.437Z"
   },
   {
    "duration": 73,
    "start_time": "2024-12-27T16:07:16.906Z"
   },
   {
    "duration": 15,
    "start_time": "2024-12-27T16:07:18.538Z"
   },
   {
    "duration": 119,
    "start_time": "2024-12-27T16:07:24.439Z"
   },
   {
    "duration": 19,
    "start_time": "2024-12-27T16:08:19.138Z"
   },
   {
    "duration": 2766,
    "start_time": "2024-12-27T16:09:23.210Z"
   },
   {
    "duration": 1252,
    "start_time": "2024-12-27T16:09:25.979Z"
   },
   {
    "duration": 2280,
    "start_time": "2024-12-27T16:09:27.234Z"
   },
   {
    "duration": 3,
    "start_time": "2024-12-27T16:09:29.516Z"
   },
   {
    "duration": 48,
    "start_time": "2024-12-27T16:09:29.520Z"
   },
   {
    "duration": 20,
    "start_time": "2024-12-27T16:09:29.570Z"
   },
   {
    "duration": 38,
    "start_time": "2024-12-27T16:09:29.591Z"
   },
   {
    "duration": 118,
    "start_time": "2024-12-27T16:09:29.633Z"
   },
   {
    "duration": 100,
    "start_time": "2024-12-27T16:09:29.753Z"
   },
   {
    "duration": 676,
    "start_time": "2024-12-27T16:09:29.857Z"
   },
   {
    "duration": 1844,
    "start_time": "2024-12-27T16:09:30.535Z"
   },
   {
    "duration": 289,
    "start_time": "2024-12-27T16:09:32.382Z"
   },
   {
    "duration": 8,
    "start_time": "2024-12-27T16:09:32.673Z"
   },
   {
    "duration": 136,
    "start_time": "2024-12-27T16:09:32.683Z"
   },
   {
    "duration": 148,
    "start_time": "2024-12-27T16:09:32.821Z"
   },
   {
    "duration": 0,
    "start_time": "2024-12-27T16:09:32.971Z"
   },
   {
    "duration": 0,
    "start_time": "2024-12-27T16:09:32.973Z"
   },
   {
    "duration": 0,
    "start_time": "2024-12-27T16:09:32.974Z"
   },
   {
    "duration": 0,
    "start_time": "2024-12-27T16:09:32.976Z"
   },
   {
    "duration": 0,
    "start_time": "2024-12-27T16:09:32.977Z"
   },
   {
    "duration": 0,
    "start_time": "2024-12-27T16:09:32.979Z"
   },
   {
    "duration": 1,
    "start_time": "2024-12-27T16:09:32.980Z"
   },
   {
    "duration": 0,
    "start_time": "2024-12-27T16:09:32.982Z"
   },
   {
    "duration": 0,
    "start_time": "2024-12-27T16:09:32.984Z"
   },
   {
    "duration": 0,
    "start_time": "2024-12-27T16:09:32.985Z"
   },
   {
    "duration": 0,
    "start_time": "2024-12-27T16:09:32.986Z"
   },
   {
    "duration": 0,
    "start_time": "2024-12-27T16:09:32.987Z"
   },
   {
    "duration": 0,
    "start_time": "2024-12-27T16:09:32.988Z"
   },
   {
    "duration": 0,
    "start_time": "2024-12-27T16:09:32.989Z"
   },
   {
    "duration": 41,
    "start_time": "2024-12-27T16:10:59.945Z"
   },
   {
    "duration": 19,
    "start_time": "2024-12-27T16:11:03.014Z"
   },
   {
    "duration": 2708,
    "start_time": "2024-12-27T16:11:37.324Z"
   },
   {
    "duration": 1260,
    "start_time": "2024-12-27T16:11:40.039Z"
   },
   {
    "duration": 2701,
    "start_time": "2024-12-27T16:11:41.301Z"
   },
   {
    "duration": 3,
    "start_time": "2024-12-27T16:11:44.003Z"
   },
   {
    "duration": 42,
    "start_time": "2024-12-27T16:11:44.008Z"
   },
   {
    "duration": 13,
    "start_time": "2024-12-27T16:11:44.052Z"
   },
   {
    "duration": 43,
    "start_time": "2024-12-27T16:11:44.066Z"
   },
   {
    "duration": 55,
    "start_time": "2024-12-27T16:11:44.110Z"
   },
   {
    "duration": 27,
    "start_time": "2024-12-27T16:11:44.166Z"
   },
   {
    "duration": 287,
    "start_time": "2024-12-27T16:11:44.194Z"
   },
   {
    "duration": 1067,
    "start_time": "2024-12-27T16:11:44.482Z"
   },
   {
    "duration": 202,
    "start_time": "2024-12-27T16:11:45.551Z"
   },
   {
    "duration": 9,
    "start_time": "2024-12-27T16:11:45.755Z"
   },
   {
    "duration": 143,
    "start_time": "2024-12-27T16:11:45.766Z"
   },
   {
    "duration": 72,
    "start_time": "2024-12-27T16:11:45.910Z"
   },
   {
    "duration": 14,
    "start_time": "2024-12-27T16:11:45.983Z"
   },
   {
    "duration": 52,
    "start_time": "2024-12-27T16:11:45.998Z"
   },
   {
    "duration": 11,
    "start_time": "2024-12-27T16:11:46.053Z"
   },
   {
    "duration": 385,
    "start_time": "2024-12-27T16:11:46.065Z"
   },
   {
    "duration": 3,
    "start_time": "2024-12-27T16:11:46.452Z"
   },
   {
    "duration": 202,
    "start_time": "2024-12-27T16:11:46.457Z"
   },
   {
    "duration": 104,
    "start_time": "2024-12-27T16:11:46.661Z"
   },
   {
    "duration": 45,
    "start_time": "2024-12-27T16:11:46.767Z"
   },
   {
    "duration": 218,
    "start_time": "2024-12-27T16:11:46.813Z"
   },
   {
    "duration": 295,
    "start_time": "2024-12-27T16:11:47.033Z"
   },
   {
    "duration": 12,
    "start_time": "2024-12-27T16:11:47.330Z"
   },
   {
    "duration": 4761,
    "start_time": "2024-12-27T16:11:47.345Z"
   },
   {
    "duration": 40,
    "start_time": "2024-12-27T16:11:52.108Z"
   },
   {
    "duration": 37,
    "start_time": "2024-12-27T16:11:52.150Z"
   },
   {
    "duration": 161,
    "start_time": "2024-12-27T16:11:52.189Z"
   },
   {
    "duration": 2718,
    "start_time": "2024-12-27T17:05:50.666Z"
   },
   {
    "duration": 1240,
    "start_time": "2024-12-27T17:05:53.386Z"
   },
   {
    "duration": 2227,
    "start_time": "2024-12-27T17:05:54.630Z"
   },
   {
    "duration": 3,
    "start_time": "2024-12-27T17:05:56.859Z"
   },
   {
    "duration": 59,
    "start_time": "2024-12-27T17:05:56.865Z"
   },
   {
    "duration": 9,
    "start_time": "2024-12-27T17:05:56.936Z"
   },
   {
    "duration": 10,
    "start_time": "2024-12-27T17:05:56.948Z"
   },
   {
    "duration": 106,
    "start_time": "2024-12-27T17:05:56.960Z"
   },
   {
    "duration": 90,
    "start_time": "2024-12-27T17:05:57.067Z"
   },
   {
    "duration": 577,
    "start_time": "2024-12-27T17:05:57.159Z"
   },
   {
    "duration": 1485,
    "start_time": "2024-12-27T17:05:57.738Z"
   },
   {
    "duration": 117,
    "start_time": "2024-12-27T17:05:59.226Z"
   },
   {
    "duration": 0,
    "start_time": "2024-12-27T17:05:59.348Z"
   },
   {
    "duration": 0,
    "start_time": "2024-12-27T17:05:59.350Z"
   },
   {
    "duration": 0,
    "start_time": "2024-12-27T17:05:59.351Z"
   },
   {
    "duration": 0,
    "start_time": "2024-12-27T17:05:59.352Z"
   },
   {
    "duration": 0,
    "start_time": "2024-12-27T17:05:59.354Z"
   },
   {
    "duration": 0,
    "start_time": "2024-12-27T17:05:59.355Z"
   },
   {
    "duration": 0,
    "start_time": "2024-12-27T17:05:59.356Z"
   },
   {
    "duration": 0,
    "start_time": "2024-12-27T17:05:59.356Z"
   },
   {
    "duration": 0,
    "start_time": "2024-12-27T17:05:59.358Z"
   },
   {
    "duration": 0,
    "start_time": "2024-12-27T17:05:59.359Z"
   },
   {
    "duration": 0,
    "start_time": "2024-12-27T17:05:59.360Z"
   },
   {
    "duration": 0,
    "start_time": "2024-12-27T17:05:59.361Z"
   },
   {
    "duration": 0,
    "start_time": "2024-12-27T17:05:59.362Z"
   },
   {
    "duration": 0,
    "start_time": "2024-12-27T17:05:59.363Z"
   },
   {
    "duration": 0,
    "start_time": "2024-12-27T17:05:59.364Z"
   },
   {
    "duration": 0,
    "start_time": "2024-12-27T17:05:59.365Z"
   },
   {
    "duration": 0,
    "start_time": "2024-12-27T17:05:59.366Z"
   },
   {
    "duration": 0,
    "start_time": "2024-12-27T17:05:59.367Z"
   },
   {
    "duration": 0,
    "start_time": "2024-12-27T17:05:59.368Z"
   },
   {
    "duration": 0,
    "start_time": "2024-12-27T17:05:59.369Z"
   },
   {
    "duration": 0,
    "start_time": "2024-12-27T17:05:59.370Z"
   },
   {
    "duration": 0,
    "start_time": "2024-12-27T17:05:59.371Z"
   },
   {
    "duration": 0,
    "start_time": "2024-12-27T17:05:59.372Z"
   },
   {
    "duration": 7,
    "start_time": "2024-12-27T17:06:09.892Z"
   },
   {
    "duration": 60,
    "start_time": "2024-12-27T17:06:10.927Z"
   },
   {
    "duration": 43,
    "start_time": "2024-12-27T17:06:11.874Z"
   },
   {
    "duration": 50,
    "start_time": "2024-12-27T17:06:12.692Z"
   },
   {
    "duration": 9,
    "start_time": "2024-12-27T17:06:13.394Z"
   },
   {
    "duration": 18,
    "start_time": "2024-12-27T17:06:23.746Z"
   },
   {
    "duration": 9,
    "start_time": "2024-12-27T17:06:24.859Z"
   },
   {
    "duration": 2740,
    "start_time": "2024-12-27T17:06:50.960Z"
   },
   {
    "duration": 1313,
    "start_time": "2024-12-27T17:06:53.702Z"
   },
   {
    "duration": 2468,
    "start_time": "2024-12-27T17:06:55.016Z"
   },
   {
    "duration": 3,
    "start_time": "2024-12-27T17:06:57.486Z"
   },
   {
    "duration": 35,
    "start_time": "2024-12-27T17:06:57.491Z"
   },
   {
    "duration": 21,
    "start_time": "2024-12-27T17:06:57.528Z"
   },
   {
    "duration": 16,
    "start_time": "2024-12-27T17:06:57.551Z"
   },
   {
    "duration": 29,
    "start_time": "2024-12-27T17:06:57.569Z"
   },
   {
    "duration": 30,
    "start_time": "2024-12-27T17:06:57.599Z"
   },
   {
    "duration": 245,
    "start_time": "2024-12-27T17:06:57.631Z"
   },
   {
    "duration": 1151,
    "start_time": "2024-12-27T17:06:57.878Z"
   },
   {
    "duration": 15,
    "start_time": "2024-12-27T17:06:59.031Z"
   },
   {
    "duration": 49,
    "start_time": "2024-12-27T17:06:59.052Z"
   },
   {
    "duration": 64,
    "start_time": "2024-12-27T17:06:59.104Z"
   },
   {
    "duration": 67,
    "start_time": "2024-12-27T17:06:59.170Z"
   },
   {
    "duration": 23,
    "start_time": "2024-12-27T17:06:59.247Z"
   },
   {
    "duration": 25,
    "start_time": "2024-12-27T17:06:59.272Z"
   },
   {
    "duration": 119,
    "start_time": "2024-12-27T17:06:59.299Z"
   },
   {
    "duration": 0,
    "start_time": "2024-12-27T17:06:59.420Z"
   },
   {
    "duration": 0,
    "start_time": "2024-12-27T17:06:59.421Z"
   },
   {
    "duration": 0,
    "start_time": "2024-12-27T17:06:59.422Z"
   },
   {
    "duration": 0,
    "start_time": "2024-12-27T17:06:59.423Z"
   },
   {
    "duration": 0,
    "start_time": "2024-12-27T17:06:59.423Z"
   },
   {
    "duration": 0,
    "start_time": "2024-12-27T17:06:59.424Z"
   },
   {
    "duration": 0,
    "start_time": "2024-12-27T17:06:59.425Z"
   },
   {
    "duration": 0,
    "start_time": "2024-12-27T17:06:59.426Z"
   },
   {
    "duration": 0,
    "start_time": "2024-12-27T17:06:59.427Z"
   },
   {
    "duration": 0,
    "start_time": "2024-12-27T17:06:59.430Z"
   },
   {
    "duration": 0,
    "start_time": "2024-12-27T17:06:59.431Z"
   },
   {
    "duration": 0,
    "start_time": "2024-12-27T17:06:59.432Z"
   },
   {
    "duration": 0,
    "start_time": "2024-12-27T17:06:59.433Z"
   },
   {
    "duration": 0,
    "start_time": "2024-12-27T17:06:59.434Z"
   },
   {
    "duration": 0,
    "start_time": "2024-12-27T17:06:59.436Z"
   },
   {
    "duration": 0,
    "start_time": "2024-12-27T17:06:59.437Z"
   },
   {
    "duration": 0,
    "start_time": "2024-12-27T17:06:59.438Z"
   },
   {
    "duration": 2721,
    "start_time": "2024-12-27T17:09:11.241Z"
   },
   {
    "duration": 1273,
    "start_time": "2024-12-27T17:09:13.964Z"
   },
   {
    "duration": 2220,
    "start_time": "2024-12-27T17:09:15.239Z"
   },
   {
    "duration": 3,
    "start_time": "2024-12-27T17:09:17.461Z"
   },
   {
    "duration": 77,
    "start_time": "2024-12-27T17:09:17.466Z"
   },
   {
    "duration": 8,
    "start_time": "2024-12-27T17:09:17.545Z"
   },
   {
    "duration": 10,
    "start_time": "2024-12-27T17:09:17.555Z"
   },
   {
    "duration": 82,
    "start_time": "2024-12-27T17:09:17.566Z"
   },
   {
    "duration": 87,
    "start_time": "2024-12-27T17:09:17.650Z"
   },
   {
    "duration": 614,
    "start_time": "2024-12-27T17:09:17.738Z"
   },
   {
    "duration": 1232,
    "start_time": "2024-12-27T17:09:18.354Z"
   },
   {
    "duration": 7,
    "start_time": "2024-12-27T17:09:19.588Z"
   },
   {
    "duration": 91,
    "start_time": "2024-12-27T17:09:19.597Z"
   },
   {
    "duration": 49,
    "start_time": "2024-12-27T17:09:19.691Z"
   },
   {
    "duration": 44,
    "start_time": "2024-12-27T17:09:19.746Z"
   },
   {
    "duration": 17,
    "start_time": "2024-12-27T17:09:19.792Z"
   },
   {
    "duration": 39,
    "start_time": "2024-12-27T17:09:19.810Z"
   },
   {
    "duration": 140,
    "start_time": "2024-12-27T17:09:19.850Z"
   },
   {
    "duration": 0,
    "start_time": "2024-12-27T17:09:19.992Z"
   },
   {
    "duration": 0,
    "start_time": "2024-12-27T17:09:19.993Z"
   },
   {
    "duration": 0,
    "start_time": "2024-12-27T17:09:19.994Z"
   },
   {
    "duration": 0,
    "start_time": "2024-12-27T17:09:19.995Z"
   },
   {
    "duration": 0,
    "start_time": "2024-12-27T17:09:19.996Z"
   },
   {
    "duration": 0,
    "start_time": "2024-12-27T17:09:19.997Z"
   },
   {
    "duration": 0,
    "start_time": "2024-12-27T17:09:19.998Z"
   },
   {
    "duration": 0,
    "start_time": "2024-12-27T17:09:19.999Z"
   },
   {
    "duration": 0,
    "start_time": "2024-12-27T17:09:20.000Z"
   },
   {
    "duration": 0,
    "start_time": "2024-12-27T17:09:20.002Z"
   },
   {
    "duration": 0,
    "start_time": "2024-12-27T17:09:20.003Z"
   },
   {
    "duration": 0,
    "start_time": "2024-12-27T17:09:20.004Z"
   },
   {
    "duration": 0,
    "start_time": "2024-12-27T17:09:20.005Z"
   },
   {
    "duration": 0,
    "start_time": "2024-12-27T17:09:20.024Z"
   },
   {
    "duration": 0,
    "start_time": "2024-12-27T17:09:20.025Z"
   },
   {
    "duration": 0,
    "start_time": "2024-12-27T17:09:20.026Z"
   },
   {
    "duration": 0,
    "start_time": "2024-12-27T17:09:20.027Z"
   },
   {
    "duration": 192,
    "start_time": "2024-12-27T17:10:01.998Z"
   },
   {
    "duration": 2632,
    "start_time": "2024-12-27T17:10:23.107Z"
   },
   {
    "duration": 1258,
    "start_time": "2024-12-27T17:10:25.744Z"
   },
   {
    "duration": 2091,
    "start_time": "2024-12-27T17:10:27.003Z"
   },
   {
    "duration": 3,
    "start_time": "2024-12-27T17:10:29.096Z"
   },
   {
    "duration": 11,
    "start_time": "2024-12-27T17:10:29.101Z"
   },
   {
    "duration": 15,
    "start_time": "2024-12-27T17:10:29.114Z"
   },
   {
    "duration": 30,
    "start_time": "2024-12-27T17:10:29.133Z"
   },
   {
    "duration": 34,
    "start_time": "2024-12-27T17:10:29.165Z"
   },
   {
    "duration": 39,
    "start_time": "2024-12-27T17:10:29.200Z"
   },
   {
    "duration": 217,
    "start_time": "2024-12-27T17:10:29.242Z"
   },
   {
    "duration": 1054,
    "start_time": "2024-12-27T17:10:29.461Z"
   },
   {
    "duration": 191,
    "start_time": "2024-12-27T17:10:30.521Z"
   },
   {
    "duration": 26,
    "start_time": "2024-12-27T17:10:30.714Z"
   },
   {
    "duration": 142,
    "start_time": "2024-12-27T17:10:30.748Z"
   },
   {
    "duration": 59,
    "start_time": "2024-12-27T17:10:30.892Z"
   },
   {
    "duration": 24,
    "start_time": "2024-12-27T17:10:30.954Z"
   },
   {
    "duration": 99,
    "start_time": "2024-12-27T17:10:30.979Z"
   },
   {
    "duration": 12,
    "start_time": "2024-12-27T17:10:31.080Z"
   },
   {
    "duration": 359,
    "start_time": "2024-12-27T17:10:31.093Z"
   },
   {
    "duration": 2,
    "start_time": "2024-12-27T17:10:31.454Z"
   },
   {
    "duration": 117,
    "start_time": "2024-12-27T17:10:31.458Z"
   },
   {
    "duration": 105,
    "start_time": "2024-12-27T17:10:31.577Z"
   },
   {
    "duration": 65,
    "start_time": "2024-12-27T17:10:31.683Z"
   },
   {
    "duration": 127,
    "start_time": "2024-12-27T17:10:31.750Z"
   },
   {
    "duration": 131,
    "start_time": "2024-12-27T17:10:31.879Z"
   },
   {
    "duration": 19,
    "start_time": "2024-12-27T17:10:32.012Z"
   },
   {
    "duration": 3783,
    "start_time": "2024-12-27T17:10:32.032Z"
   },
   {
    "duration": 30,
    "start_time": "2024-12-27T17:10:35.821Z"
   },
   {
    "duration": 98,
    "start_time": "2024-12-27T17:10:35.853Z"
   },
   {
    "duration": 114,
    "start_time": "2024-12-27T17:10:35.953Z"
   },
   {
    "duration": 106,
    "start_time": "2024-12-27T17:38:54.967Z"
   },
   {
    "duration": 269,
    "start_time": "2024-12-27T17:41:47.673Z"
   },
   {
    "duration": 214,
    "start_time": "2024-12-27T17:42:11.191Z"
   },
   {
    "duration": 24,
    "start_time": "2024-12-27T17:44:22.561Z"
   },
   {
    "duration": 2619,
    "start_time": "2024-12-27T17:44:36.473Z"
   },
   {
    "duration": 1225,
    "start_time": "2024-12-27T17:44:39.094Z"
   },
   {
    "duration": 2144,
    "start_time": "2024-12-27T17:44:40.320Z"
   },
   {
    "duration": 4,
    "start_time": "2024-12-27T17:44:42.466Z"
   },
   {
    "duration": 10,
    "start_time": "2024-12-27T17:44:42.474Z"
   },
   {
    "duration": 7,
    "start_time": "2024-12-27T17:44:42.486Z"
   },
   {
    "duration": 107,
    "start_time": "2024-12-27T17:44:42.495Z"
   },
   {
    "duration": 46,
    "start_time": "2024-12-27T17:44:42.604Z"
   },
   {
    "duration": 28,
    "start_time": "2024-12-27T17:44:42.652Z"
   },
   {
    "duration": 217,
    "start_time": "2024-12-27T17:44:42.682Z"
   },
   {
    "duration": 1048,
    "start_time": "2024-12-27T17:44:42.901Z"
   },
   {
    "duration": 191,
    "start_time": "2024-12-27T17:44:43.951Z"
   },
   {
    "duration": 10,
    "start_time": "2024-12-27T17:44:44.149Z"
   },
   {
    "duration": 113,
    "start_time": "2024-12-27T17:44:44.163Z"
   },
   {
    "duration": 56,
    "start_time": "2024-12-27T17:44:44.278Z"
   },
   {
    "duration": 17,
    "start_time": "2024-12-27T17:44:44.336Z"
   },
   {
    "duration": 28,
    "start_time": "2024-12-27T17:44:44.355Z"
   },
   {
    "duration": 30,
    "start_time": "2024-12-27T17:44:44.384Z"
   },
   {
    "duration": 343,
    "start_time": "2024-12-27T17:44:44.416Z"
   },
   {
    "duration": 3,
    "start_time": "2024-12-27T17:44:44.760Z"
   },
   {
    "duration": 178,
    "start_time": "2024-12-27T17:44:44.764Z"
   },
   {
    "duration": 88,
    "start_time": "2024-12-27T17:44:44.950Z"
   },
   {
    "duration": 48,
    "start_time": "2024-12-27T17:44:45.043Z"
   },
   {
    "duration": 165,
    "start_time": "2024-12-27T17:44:45.093Z"
   },
   {
    "duration": 138,
    "start_time": "2024-12-27T17:44:45.260Z"
   },
   {
    "duration": 7,
    "start_time": "2024-12-27T17:44:45.399Z"
   },
   {
    "duration": 3944,
    "start_time": "2024-12-27T17:44:45.408Z"
   },
   {
    "duration": 20,
    "start_time": "2024-12-27T17:44:49.354Z"
   },
   {
    "duration": 65,
    "start_time": "2024-12-27T17:44:49.375Z"
   },
   {
    "duration": 118,
    "start_time": "2024-12-27T17:44:49.445Z"
   },
   {
    "duration": 117,
    "start_time": "2024-12-27T17:44:49.564Z"
   },
   {
    "duration": 173,
    "start_time": "2024-12-27T17:44:49.682Z"
   },
   {
    "duration": 82,
    "start_time": "2024-12-27T17:44:49.857Z"
   },
   {
    "duration": 232,
    "start_time": "2024-12-27T17:44:49.941Z"
   },
   {
    "duration": 108,
    "start_time": "2024-12-27T18:05:26.575Z"
   },
   {
    "duration": 30,
    "start_time": "2024-12-27T18:05:37.591Z"
   },
   {
    "duration": 2484,
    "start_time": "2024-12-27T18:06:13.754Z"
   },
   {
    "duration": 1288,
    "start_time": "2024-12-27T18:06:16.240Z"
   },
   {
    "duration": 2640,
    "start_time": "2024-12-27T18:06:17.534Z"
   },
   {
    "duration": 4,
    "start_time": "2024-12-27T18:06:20.175Z"
   },
   {
    "duration": 30,
    "start_time": "2024-12-27T18:06:20.181Z"
   },
   {
    "duration": 5,
    "start_time": "2024-12-27T18:06:20.212Z"
   },
   {
    "duration": 27,
    "start_time": "2024-12-27T18:06:20.219Z"
   },
   {
    "duration": 50,
    "start_time": "2024-12-27T18:06:20.248Z"
   },
   {
    "duration": 41,
    "start_time": "2024-12-27T18:06:20.299Z"
   },
   {
    "duration": 229,
    "start_time": "2024-12-27T18:06:20.342Z"
   },
   {
    "duration": 1145,
    "start_time": "2024-12-27T18:06:20.573Z"
   },
   {
    "duration": 187,
    "start_time": "2024-12-27T18:06:21.721Z"
   },
   {
    "duration": 20,
    "start_time": "2024-12-27T18:06:21.910Z"
   },
   {
    "duration": 101,
    "start_time": "2024-12-27T18:06:21.933Z"
   },
   {
    "duration": 47,
    "start_time": "2024-12-27T18:06:22.036Z"
   },
   {
    "duration": 26,
    "start_time": "2024-12-27T18:06:22.084Z"
   },
   {
    "duration": 51,
    "start_time": "2024-12-27T18:06:22.112Z"
   },
   {
    "duration": 10,
    "start_time": "2024-12-27T18:06:22.164Z"
   },
   {
    "duration": 356,
    "start_time": "2024-12-27T18:06:22.175Z"
   },
   {
    "duration": 3,
    "start_time": "2024-12-27T18:06:22.532Z"
   },
   {
    "duration": 100,
    "start_time": "2024-12-27T18:06:22.536Z"
   },
   {
    "duration": 103,
    "start_time": "2024-12-27T18:06:22.638Z"
   },
   {
    "duration": 43,
    "start_time": "2024-12-27T18:06:22.743Z"
   },
   {
    "duration": 142,
    "start_time": "2024-12-27T18:06:22.788Z"
   },
   {
    "duration": 226,
    "start_time": "2024-12-27T18:06:22.937Z"
   },
   {
    "duration": 67,
    "start_time": "2024-12-27T18:06:23.165Z"
   },
   {
    "duration": 4309,
    "start_time": "2024-12-27T18:06:23.234Z"
   },
   {
    "duration": 20,
    "start_time": "2024-12-27T18:06:27.544Z"
   },
   {
    "duration": 38,
    "start_time": "2024-12-27T18:06:27.565Z"
   },
   {
    "duration": 94,
    "start_time": "2024-12-27T18:06:27.605Z"
   },
   {
    "duration": 138,
    "start_time": "2024-12-27T18:06:27.701Z"
   },
   {
    "duration": 76,
    "start_time": "2024-12-27T18:06:27.840Z"
   },
   {
    "duration": 47,
    "start_time": "2024-12-27T18:08:14.879Z"
   },
   {
    "duration": 182,
    "start_time": "2024-12-27T18:08:21.924Z"
   },
   {
    "duration": 392,
    "start_time": "2024-12-27T18:15:32.377Z"
   },
   {
    "duration": 376,
    "start_time": "2024-12-27T18:15:42.225Z"
   },
   {
    "duration": 98,
    "start_time": "2024-12-27T18:34:49.998Z"
   },
   {
    "duration": 336,
    "start_time": "2024-12-27T18:35:41.103Z"
   },
   {
    "duration": 381,
    "start_time": "2024-12-27T18:37:11.921Z"
   },
   {
    "duration": 2457,
    "start_time": "2024-12-27T18:37:26.520Z"
   },
   {
    "duration": 1197,
    "start_time": "2024-12-27T18:37:28.979Z"
   },
   {
    "duration": 2039,
    "start_time": "2024-12-27T18:37:30.178Z"
   },
   {
    "duration": 10,
    "start_time": "2024-12-27T18:37:32.219Z"
   },
   {
    "duration": 14,
    "start_time": "2024-12-27T18:37:32.235Z"
   },
   {
    "duration": 6,
    "start_time": "2024-12-27T18:37:32.250Z"
   },
   {
    "duration": 26,
    "start_time": "2024-12-27T18:37:32.258Z"
   },
   {
    "duration": 96,
    "start_time": "2024-12-27T18:37:32.285Z"
   },
   {
    "duration": 27,
    "start_time": "2024-12-27T18:37:32.383Z"
   },
   {
    "duration": 258,
    "start_time": "2024-12-27T18:37:32.411Z"
   },
   {
    "duration": 973,
    "start_time": "2024-12-27T18:37:32.670Z"
   },
   {
    "duration": 191,
    "start_time": "2024-12-27T18:37:33.645Z"
   },
   {
    "duration": 9,
    "start_time": "2024-12-27T18:37:33.838Z"
   },
   {
    "duration": 199,
    "start_time": "2024-12-27T18:37:33.849Z"
   },
   {
    "duration": 47,
    "start_time": "2024-12-27T18:37:34.049Z"
   },
   {
    "duration": 37,
    "start_time": "2024-12-27T18:37:34.097Z"
   },
   {
    "duration": 29,
    "start_time": "2024-12-27T18:37:34.135Z"
   },
   {
    "duration": 10,
    "start_time": "2024-12-27T18:37:34.166Z"
   },
   {
    "duration": 351,
    "start_time": "2024-12-27T18:37:34.177Z"
   },
   {
    "duration": 4,
    "start_time": "2024-12-27T18:37:34.530Z"
   },
   {
    "duration": 123,
    "start_time": "2024-12-27T18:37:34.535Z"
   },
   {
    "duration": 94,
    "start_time": "2024-12-27T18:37:34.660Z"
   },
   {
    "duration": 56,
    "start_time": "2024-12-27T18:37:34.755Z"
   },
   {
    "duration": 141,
    "start_time": "2024-12-27T18:37:34.813Z"
   },
   {
    "duration": 134,
    "start_time": "2024-12-27T18:37:34.955Z"
   },
   {
    "duration": 8,
    "start_time": "2024-12-27T18:37:35.090Z"
   },
   {
    "duration": 3671,
    "start_time": "2024-12-27T18:37:35.100Z"
   },
   {
    "duration": 21,
    "start_time": "2024-12-27T18:37:38.773Z"
   },
   {
    "duration": 60,
    "start_time": "2024-12-27T18:37:38.796Z"
   },
   {
    "duration": 94,
    "start_time": "2024-12-27T18:37:38.858Z"
   },
   {
    "duration": 118,
    "start_time": "2024-12-27T18:37:38.954Z"
   },
   {
    "duration": 88,
    "start_time": "2024-12-27T18:37:39.073Z"
   },
   {
    "duration": 190,
    "start_time": "2024-12-27T18:37:39.163Z"
   },
   {
    "duration": 435,
    "start_time": "2024-12-27T18:37:39.355Z"
   },
   {
    "duration": 348,
    "start_time": "2024-12-27T18:38:06.408Z"
   },
   {
    "duration": 337,
    "start_time": "2024-12-27T18:38:42.131Z"
   },
   {
    "duration": 3,
    "start_time": "2024-12-27T18:50:53.295Z"
   },
   {
    "duration": 4,
    "start_time": "2024-12-27T18:51:01.313Z"
   },
   {
    "duration": 12,
    "start_time": "2024-12-27T18:51:29.000Z"
   },
   {
    "duration": 13,
    "start_time": "2024-12-27T18:51:56.305Z"
   },
   {
    "duration": 359,
    "start_time": "2024-12-27T18:54:29.099Z"
   },
   {
    "duration": 4,
    "start_time": "2024-12-27T18:54:58.959Z"
   },
   {
    "duration": 2470,
    "start_time": "2024-12-27T18:55:13.353Z"
   },
   {
    "duration": 1242,
    "start_time": "2024-12-27T18:55:15.826Z"
   },
   {
    "duration": 2022,
    "start_time": "2024-12-27T18:55:17.070Z"
   },
   {
    "duration": 3,
    "start_time": "2024-12-27T18:55:19.093Z"
   },
   {
    "duration": 39,
    "start_time": "2024-12-27T18:55:19.098Z"
   },
   {
    "duration": 12,
    "start_time": "2024-12-27T18:55:19.139Z"
   },
   {
    "duration": 21,
    "start_time": "2024-12-27T18:55:19.153Z"
   },
   {
    "duration": 41,
    "start_time": "2024-12-27T18:55:19.175Z"
   },
   {
    "duration": 30,
    "start_time": "2024-12-27T18:55:19.218Z"
   },
   {
    "duration": 209,
    "start_time": "2024-12-27T18:55:19.250Z"
   },
   {
    "duration": 1021,
    "start_time": "2024-12-27T18:55:19.460Z"
   },
   {
    "duration": 186,
    "start_time": "2024-12-27T18:55:20.482Z"
   },
   {
    "duration": 9,
    "start_time": "2024-12-27T18:55:20.670Z"
   },
   {
    "duration": 141,
    "start_time": "2024-12-27T18:55:20.681Z"
   },
   {
    "duration": 57,
    "start_time": "2024-12-27T18:55:20.824Z"
   },
   {
    "duration": 13,
    "start_time": "2024-12-27T18:55:20.883Z"
   },
   {
    "duration": 48,
    "start_time": "2024-12-27T18:55:20.898Z"
   },
   {
    "duration": 10,
    "start_time": "2024-12-27T18:55:20.948Z"
   },
   {
    "duration": 376,
    "start_time": "2024-12-27T18:55:20.959Z"
   },
   {
    "duration": 3,
    "start_time": "2024-12-27T18:55:21.337Z"
   },
   {
    "duration": 96,
    "start_time": "2024-12-27T18:55:21.341Z"
   },
   {
    "duration": 96,
    "start_time": "2024-12-27T18:55:21.439Z"
   },
   {
    "duration": 47,
    "start_time": "2024-12-27T18:55:21.537Z"
   },
   {
    "duration": 143,
    "start_time": "2024-12-27T18:55:21.585Z"
   },
   {
    "duration": 134,
    "start_time": "2024-12-27T18:55:21.730Z"
   },
   {
    "duration": 8,
    "start_time": "2024-12-27T18:55:21.865Z"
   },
   {
    "duration": 3885,
    "start_time": "2024-12-27T18:55:21.874Z"
   },
   {
    "duration": 82,
    "start_time": "2024-12-27T18:55:25.760Z"
   },
   {
    "duration": 88,
    "start_time": "2024-12-27T18:55:25.843Z"
   },
   {
    "duration": 132,
    "start_time": "2024-12-27T18:55:25.933Z"
   },
   {
    "duration": 280,
    "start_time": "2024-12-27T18:55:26.066Z"
   },
   {
    "duration": 192,
    "start_time": "2024-12-27T18:55:26.348Z"
   },
   {
    "duration": 393,
    "start_time": "2024-12-27T18:55:26.542Z"
   },
   {
    "duration": 369,
    "start_time": "2024-12-27T18:55:26.938Z"
   },
   {
    "duration": 17,
    "start_time": "2024-12-27T18:55:27.308Z"
   },
   {
    "duration": 1526,
    "start_time": "2024-12-27T19:01:05.886Z"
   },
   {
    "duration": 1597,
    "start_time": "2024-12-27T19:02:12.986Z"
   },
   {
    "duration": 13,
    "start_time": "2024-12-27T19:03:43.944Z"
   },
   {
    "duration": 13,
    "start_time": "2024-12-27T19:03:55.566Z"
   },
   {
    "duration": 14,
    "start_time": "2024-12-27T19:04:06.403Z"
   },
   {
    "duration": 151,
    "start_time": "2024-12-27T19:04:38.946Z"
   },
   {
    "duration": 157,
    "start_time": "2024-12-27T19:06:13.615Z"
   },
   {
    "duration": 234,
    "start_time": "2024-12-27T19:06:33.026Z"
   },
   {
    "duration": 143,
    "start_time": "2024-12-27T19:06:49.827Z"
   },
   {
    "duration": 162,
    "start_time": "2024-12-27T19:07:18.588Z"
   },
   {
    "duration": 2509,
    "start_time": "2024-12-27T19:08:29.096Z"
   },
   {
    "duration": 1294,
    "start_time": "2024-12-27T19:08:31.607Z"
   },
   {
    "duration": 2363,
    "start_time": "2024-12-27T19:08:32.903Z"
   },
   {
    "duration": 3,
    "start_time": "2024-12-27T19:08:35.267Z"
   },
   {
    "duration": 38,
    "start_time": "2024-12-27T19:08:35.272Z"
   },
   {
    "duration": 23,
    "start_time": "2024-12-27T19:08:35.312Z"
   },
   {
    "duration": 42,
    "start_time": "2024-12-27T19:08:35.337Z"
   },
   {
    "duration": 81,
    "start_time": "2024-12-27T19:08:35.381Z"
   },
   {
    "duration": 26,
    "start_time": "2024-12-27T19:08:35.465Z"
   },
   {
    "duration": 231,
    "start_time": "2024-12-27T19:08:35.493Z"
   },
   {
    "duration": 978,
    "start_time": "2024-12-27T19:08:35.726Z"
   },
   {
    "duration": 196,
    "start_time": "2024-12-27T19:08:36.705Z"
   },
   {
    "duration": 9,
    "start_time": "2024-12-27T19:08:36.903Z"
   },
   {
    "duration": 146,
    "start_time": "2024-12-27T19:08:36.923Z"
   },
   {
    "duration": 53,
    "start_time": "2024-12-27T19:08:37.071Z"
   },
   {
    "duration": 38,
    "start_time": "2024-12-27T19:08:37.131Z"
   },
   {
    "duration": 94,
    "start_time": "2024-12-27T19:08:37.171Z"
   },
   {
    "duration": 14,
    "start_time": "2024-12-27T19:08:37.267Z"
   },
   {
    "duration": 353,
    "start_time": "2024-12-27T19:08:37.283Z"
   },
   {
    "duration": 3,
    "start_time": "2024-12-27T19:08:37.638Z"
   },
   {
    "duration": 105,
    "start_time": "2024-12-27T19:08:37.643Z"
   },
   {
    "duration": 96,
    "start_time": "2024-12-27T19:08:37.750Z"
   },
   {
    "duration": 46,
    "start_time": "2024-12-27T19:08:37.847Z"
   },
   {
    "duration": 175,
    "start_time": "2024-12-27T19:08:37.896Z"
   },
   {
    "duration": 134,
    "start_time": "2024-12-27T19:08:38.073Z"
   },
   {
    "duration": 25,
    "start_time": "2024-12-27T19:08:38.208Z"
   },
   {
    "duration": 3615,
    "start_time": "2024-12-27T19:08:38.235Z"
   },
   {
    "duration": 21,
    "start_time": "2024-12-27T19:08:41.851Z"
   },
   {
    "duration": 167,
    "start_time": "2024-12-27T19:08:41.873Z"
   },
   {
    "duration": 40,
    "start_time": "2024-12-27T19:08:42.041Z"
   },
   {
    "duration": 109,
    "start_time": "2024-12-27T19:08:42.083Z"
   },
   {
    "duration": 110,
    "start_time": "2024-12-27T19:08:42.194Z"
   },
   {
    "duration": 90,
    "start_time": "2024-12-27T19:08:42.305Z"
   },
   {
    "duration": 205,
    "start_time": "2024-12-27T19:08:42.398Z"
   },
   {
    "duration": 365,
    "start_time": "2024-12-27T19:08:42.605Z"
   },
   {
    "duration": 4,
    "start_time": "2024-12-27T19:08:42.972Z"
   },
   {
    "duration": 2506,
    "start_time": "2024-12-27T19:15:37.891Z"
   },
   {
    "duration": 1182,
    "start_time": "2024-12-27T19:15:40.399Z"
   },
   {
    "duration": 2322,
    "start_time": "2024-12-27T19:15:41.583Z"
   },
   {
    "duration": 3,
    "start_time": "2024-12-27T19:15:43.907Z"
   },
   {
    "duration": 21,
    "start_time": "2024-12-27T19:15:43.911Z"
   },
   {
    "duration": 13,
    "start_time": "2024-12-27T19:15:43.938Z"
   },
   {
    "duration": 25,
    "start_time": "2024-12-27T19:15:43.952Z"
   },
   {
    "duration": 64,
    "start_time": "2024-12-27T19:15:43.979Z"
   },
   {
    "duration": 27,
    "start_time": "2024-12-27T19:15:44.044Z"
   },
   {
    "duration": 227,
    "start_time": "2024-12-27T19:15:44.074Z"
   },
   {
    "duration": 993,
    "start_time": "2024-12-27T19:15:44.302Z"
   },
   {
    "duration": 187,
    "start_time": "2024-12-27T19:15:45.297Z"
   },
   {
    "duration": 9,
    "start_time": "2024-12-27T19:15:45.486Z"
   },
   {
    "duration": 113,
    "start_time": "2024-12-27T19:15:45.496Z"
   },
   {
    "duration": 57,
    "start_time": "2024-12-27T19:15:45.611Z"
   },
   {
    "duration": 13,
    "start_time": "2024-12-27T19:15:45.669Z"
   },
   {
    "duration": 54,
    "start_time": "2024-12-27T19:15:45.683Z"
   },
   {
    "duration": 11,
    "start_time": "2024-12-27T19:15:45.739Z"
   },
   {
    "duration": 361,
    "start_time": "2024-12-27T19:15:45.751Z"
   },
   {
    "duration": 20,
    "start_time": "2024-12-27T19:15:46.113Z"
   },
   {
    "duration": 82,
    "start_time": "2024-12-27T19:15:46.136Z"
   },
   {
    "duration": 92,
    "start_time": "2024-12-27T19:15:46.220Z"
   },
   {
    "duration": 64,
    "start_time": "2024-12-27T19:15:46.314Z"
   },
   {
    "duration": 138,
    "start_time": "2024-12-27T19:15:46.380Z"
   },
   {
    "duration": 128,
    "start_time": "2024-12-27T19:15:46.529Z"
   },
   {
    "duration": 8,
    "start_time": "2024-12-27T19:15:46.658Z"
   },
   {
    "duration": 3510,
    "start_time": "2024-12-27T19:15:46.667Z"
   },
   {
    "duration": 20,
    "start_time": "2024-12-27T19:15:50.180Z"
   },
   {
    "duration": 175,
    "start_time": "2024-12-27T19:15:50.202Z"
   },
   {
    "duration": 44,
    "start_time": "2024-12-27T19:15:50.379Z"
   },
   {
    "duration": 86,
    "start_time": "2024-12-27T19:15:50.425Z"
   },
   {
    "duration": 117,
    "start_time": "2024-12-27T19:15:50.521Z"
   },
   {
    "duration": 74,
    "start_time": "2024-12-27T19:15:50.640Z"
   },
   {
    "duration": 179,
    "start_time": "2024-12-27T19:15:50.725Z"
   },
   {
    "duration": 341,
    "start_time": "2024-12-27T19:15:50.905Z"
   },
   {
    "duration": 4,
    "start_time": "2024-12-27T19:15:51.248Z"
   },
   {
    "duration": 75,
    "start_time": "2024-12-28T07:44:15.999Z"
   },
   {
    "duration": 3995,
    "start_time": "2024-12-28T07:44:30.996Z"
   },
   {
    "duration": 2041,
    "start_time": "2024-12-28T07:44:34.993Z"
   },
   {
    "duration": 2372,
    "start_time": "2024-12-28T07:44:37.037Z"
   },
   {
    "duration": 3,
    "start_time": "2024-12-28T07:44:39.411Z"
   },
   {
    "duration": 17,
    "start_time": "2024-12-28T07:44:39.416Z"
   },
   {
    "duration": 8,
    "start_time": "2024-12-28T07:44:39.434Z"
   },
   {
    "duration": 13,
    "start_time": "2024-12-28T07:44:39.446Z"
   },
   {
    "duration": 49,
    "start_time": "2024-12-28T07:44:39.460Z"
   },
   {
    "duration": 66,
    "start_time": "2024-12-28T07:44:39.511Z"
   },
   {
    "duration": 285,
    "start_time": "2024-12-28T07:44:39.581Z"
   },
   {
    "duration": 1101,
    "start_time": "2024-12-28T07:44:39.868Z"
   },
   {
    "duration": 194,
    "start_time": "2024-12-28T07:44:40.971Z"
   },
   {
    "duration": 10,
    "start_time": "2024-12-28T07:44:41.167Z"
   },
   {
    "duration": 119,
    "start_time": "2024-12-28T07:44:41.179Z"
   },
   {
    "duration": 46,
    "start_time": "2024-12-28T07:44:41.300Z"
   },
   {
    "duration": 14,
    "start_time": "2024-12-28T07:44:41.348Z"
   },
   {
    "duration": 27,
    "start_time": "2024-12-28T07:44:41.364Z"
   },
   {
    "duration": 10,
    "start_time": "2024-12-28T07:44:41.392Z"
   },
   {
    "duration": 417,
    "start_time": "2024-12-28T07:44:41.429Z"
   },
   {
    "duration": 2,
    "start_time": "2024-12-28T07:44:41.848Z"
   },
   {
    "duration": 204,
    "start_time": "2024-12-28T07:44:41.852Z"
   },
   {
    "duration": 102,
    "start_time": "2024-12-28T07:44:42.058Z"
   },
   {
    "duration": 44,
    "start_time": "2024-12-28T07:44:42.161Z"
   },
   {
    "duration": 135,
    "start_time": "2024-12-28T07:44:42.206Z"
   },
   {
    "duration": 135,
    "start_time": "2024-12-28T07:44:42.343Z"
   },
   {
    "duration": 9,
    "start_time": "2024-12-28T07:44:42.481Z"
   },
   {
    "duration": 3733,
    "start_time": "2024-12-28T07:44:42.492Z"
   },
   {
    "duration": 30,
    "start_time": "2024-12-28T07:44:46.228Z"
   },
   {
    "duration": 160,
    "start_time": "2024-12-28T07:44:46.260Z"
   },
   {
    "duration": 51,
    "start_time": "2024-12-28T07:44:46.422Z"
   },
   {
    "duration": 93,
    "start_time": "2024-12-28T07:44:46.474Z"
   },
   {
    "duration": 114,
    "start_time": "2024-12-28T07:44:46.569Z"
   },
   {
    "duration": 81,
    "start_time": "2024-12-28T07:44:46.684Z"
   },
   {
    "duration": 190,
    "start_time": "2024-12-28T07:44:46.767Z"
   },
   {
    "duration": 350,
    "start_time": "2024-12-28T07:44:46.959Z"
   },
   {
    "duration": 5,
    "start_time": "2024-12-28T07:44:47.311Z"
   },
   {
    "duration": 220,
    "start_time": "2024-12-28T07:45:27.076Z"
   },
   {
    "duration": 9,
    "start_time": "2024-12-28T07:45:44.672Z"
   },
   {
    "duration": 42,
    "start_time": "2024-12-28T07:46:09.900Z"
   },
   {
    "duration": 917,
    "start_time": "2024-12-28T07:47:10.000Z"
   },
   {
    "duration": 822,
    "start_time": "2024-12-28T07:47:38.301Z"
   },
   {
    "duration": 37,
    "start_time": "2024-12-28T07:48:20.511Z"
   },
   {
    "duration": 31,
    "start_time": "2024-12-28T07:48:34.039Z"
   },
   {
    "duration": 82,
    "start_time": "2024-12-28T07:50:49.893Z"
   },
   {
    "duration": 126,
    "start_time": "2024-12-28T07:51:00.221Z"
   },
   {
    "duration": 285,
    "start_time": "2024-12-28T07:51:02.525Z"
   },
   {
    "duration": 85,
    "start_time": "2024-12-28T07:51:25.936Z"
   },
   {
    "duration": 23,
    "start_time": "2024-12-28T07:51:43.265Z"
   },
   {
    "duration": 9,
    "start_time": "2024-12-28T07:53:48.931Z"
   },
   {
    "duration": 133,
    "start_time": "2024-12-28T07:56:11.279Z"
   },
   {
    "duration": 2809,
    "start_time": "2024-12-28T07:56:47.085Z"
   },
   {
    "duration": 1200,
    "start_time": "2024-12-28T07:56:49.897Z"
   },
   {
    "duration": 3078,
    "start_time": "2024-12-28T07:56:51.098Z"
   },
   {
    "duration": 4,
    "start_time": "2024-12-28T07:56:54.178Z"
   },
   {
    "duration": 19,
    "start_time": "2024-12-28T07:56:54.183Z"
   },
   {
    "duration": 31,
    "start_time": "2024-12-28T07:56:54.204Z"
   },
   {
    "duration": 35,
    "start_time": "2024-12-28T07:56:54.237Z"
   },
   {
    "duration": 46,
    "start_time": "2024-12-28T07:56:54.274Z"
   },
   {
    "duration": 35,
    "start_time": "2024-12-28T07:56:54.321Z"
   },
   {
    "duration": 229,
    "start_time": "2024-12-28T07:56:54.359Z"
   },
   {
    "duration": 968,
    "start_time": "2024-12-28T07:56:54.589Z"
   },
   {
    "duration": 171,
    "start_time": "2024-12-28T07:56:55.559Z"
   },
   {
    "duration": 9,
    "start_time": "2024-12-28T07:56:55.731Z"
   },
   {
    "duration": 119,
    "start_time": "2024-12-28T07:56:55.742Z"
   },
   {
    "duration": 47,
    "start_time": "2024-12-28T07:56:55.862Z"
   },
   {
    "duration": 213,
    "start_time": "2024-12-28T07:56:55.911Z"
   },
   {
    "duration": 0,
    "start_time": "2024-12-28T07:56:56.126Z"
   },
   {
    "duration": 1,
    "start_time": "2024-12-28T07:56:56.129Z"
   },
   {
    "duration": 0,
    "start_time": "2024-12-28T07:56:56.130Z"
   },
   {
    "duration": 0,
    "start_time": "2024-12-28T07:56:56.132Z"
   },
   {
    "duration": 0,
    "start_time": "2024-12-28T07:56:56.133Z"
   },
   {
    "duration": 0,
    "start_time": "2024-12-28T07:56:56.134Z"
   },
   {
    "duration": 0,
    "start_time": "2024-12-28T07:56:56.135Z"
   },
   {
    "duration": 0,
    "start_time": "2024-12-28T07:56:56.136Z"
   },
   {
    "duration": 0,
    "start_time": "2024-12-28T07:56:56.137Z"
   },
   {
    "duration": 0,
    "start_time": "2024-12-28T07:56:56.138Z"
   },
   {
    "duration": 0,
    "start_time": "2024-12-28T07:56:56.139Z"
   },
   {
    "duration": 0,
    "start_time": "2024-12-28T07:56:56.140Z"
   },
   {
    "duration": 0,
    "start_time": "2024-12-28T07:56:56.141Z"
   },
   {
    "duration": 0,
    "start_time": "2024-12-28T07:56:56.142Z"
   },
   {
    "duration": 0,
    "start_time": "2024-12-28T07:56:56.143Z"
   },
   {
    "duration": 0,
    "start_time": "2024-12-28T07:56:56.145Z"
   },
   {
    "duration": 0,
    "start_time": "2024-12-28T07:56:56.146Z"
   },
   {
    "duration": 0,
    "start_time": "2024-12-28T07:56:56.147Z"
   },
   {
    "duration": 0,
    "start_time": "2024-12-28T07:56:56.148Z"
   },
   {
    "duration": 0,
    "start_time": "2024-12-28T07:56:56.149Z"
   },
   {
    "duration": 22,
    "start_time": "2024-12-28T07:57:21.206Z"
   },
   {
    "duration": 20,
    "start_time": "2024-12-28T07:57:33.474Z"
   },
   {
    "duration": 23,
    "start_time": "2024-12-28T07:58:49.488Z"
   },
   {
    "duration": 2489,
    "start_time": "2024-12-28T07:59:19.808Z"
   },
   {
    "duration": 1202,
    "start_time": "2024-12-28T07:59:22.299Z"
   },
   {
    "duration": 1936,
    "start_time": "2024-12-28T07:59:23.503Z"
   },
   {
    "duration": 2,
    "start_time": "2024-12-28T07:59:25.442Z"
   },
   {
    "duration": 28,
    "start_time": "2024-12-28T07:59:25.446Z"
   },
   {
    "duration": 24,
    "start_time": "2024-12-28T07:59:25.476Z"
   },
   {
    "duration": 26,
    "start_time": "2024-12-28T07:59:25.501Z"
   },
   {
    "duration": 47,
    "start_time": "2024-12-28T07:59:25.529Z"
   },
   {
    "duration": 35,
    "start_time": "2024-12-28T07:59:25.578Z"
   },
   {
    "duration": 242,
    "start_time": "2024-12-28T07:59:25.616Z"
   },
   {
    "duration": 981,
    "start_time": "2024-12-28T07:59:25.860Z"
   },
   {
    "duration": 172,
    "start_time": "2024-12-28T07:59:26.842Z"
   },
   {
    "duration": 18,
    "start_time": "2024-12-28T07:59:27.015Z"
   },
   {
    "duration": 108,
    "start_time": "2024-12-28T07:59:27.035Z"
   },
   {
    "duration": 47,
    "start_time": "2024-12-28T07:59:27.144Z"
   },
   {
    "duration": 41,
    "start_time": "2024-12-28T07:59:27.193Z"
   },
   {
    "duration": 27,
    "start_time": "2024-12-28T07:59:27.235Z"
   },
   {
    "duration": 9,
    "start_time": "2024-12-28T07:59:27.264Z"
   },
   {
    "duration": 356,
    "start_time": "2024-12-28T07:59:27.275Z"
   },
   {
    "duration": 2,
    "start_time": "2024-12-28T07:59:27.633Z"
   },
   {
    "duration": 110,
    "start_time": "2024-12-28T07:59:27.637Z"
   },
   {
    "duration": 89,
    "start_time": "2024-12-28T07:59:27.749Z"
   },
   {
    "duration": 45,
    "start_time": "2024-12-28T07:59:27.840Z"
   },
   {
    "duration": 247,
    "start_time": "2024-12-28T07:59:27.886Z"
   },
   {
    "duration": 232,
    "start_time": "2024-12-28T07:59:28.134Z"
   },
   {
    "duration": 63,
    "start_time": "2024-12-28T07:59:28.368Z"
   },
   {
    "duration": 3883,
    "start_time": "2024-12-28T07:59:28.433Z"
   },
   {
    "duration": 26,
    "start_time": "2024-12-28T07:59:32.320Z"
   },
   {
    "duration": 151,
    "start_time": "2024-12-28T07:59:32.347Z"
   },
   {
    "duration": 45,
    "start_time": "2024-12-28T07:59:32.500Z"
   },
   {
    "duration": 95,
    "start_time": "2024-12-28T07:59:32.547Z"
   },
   {
    "duration": 131,
    "start_time": "2024-12-28T07:59:32.644Z"
   },
   {
    "duration": 80,
    "start_time": "2024-12-28T07:59:32.776Z"
   },
   {
    "duration": 222,
    "start_time": "2024-12-28T07:59:32.857Z"
   },
   {
    "duration": 358,
    "start_time": "2024-12-28T07:59:33.081Z"
   },
   {
    "duration": 5,
    "start_time": "2024-12-28T07:59:33.440Z"
   },
   {
    "duration": 104,
    "start_time": "2024-12-28T08:00:03.568Z"
   },
   {
    "duration": 80,
    "start_time": "2024-12-28T08:34:12.480Z"
   },
   {
    "duration": 96,
    "start_time": "2024-12-28T08:42:16.514Z"
   },
   {
    "duration": 85,
    "start_time": "2024-12-28T08:42:33.395Z"
   },
   {
    "duration": 2744,
    "start_time": "2024-12-28T08:50:41.368Z"
   },
   {
    "duration": 1382,
    "start_time": "2024-12-28T08:50:44.115Z"
   },
   {
    "duration": 2286,
    "start_time": "2024-12-28T08:50:45.498Z"
   },
   {
    "duration": 3,
    "start_time": "2024-12-28T08:50:47.786Z"
   },
   {
    "duration": 57,
    "start_time": "2024-12-28T08:50:47.791Z"
   },
   {
    "duration": 10,
    "start_time": "2024-12-28T08:50:47.850Z"
   },
   {
    "duration": 35,
    "start_time": "2024-12-28T08:50:47.862Z"
   },
   {
    "duration": 53,
    "start_time": "2024-12-28T08:50:47.899Z"
   },
   {
    "duration": 29,
    "start_time": "2024-12-28T08:50:47.953Z"
   },
   {
    "duration": 282,
    "start_time": "2024-12-28T08:50:47.985Z"
   },
   {
    "duration": 1074,
    "start_time": "2024-12-28T08:50:48.268Z"
   },
   {
    "duration": 208,
    "start_time": "2024-12-28T08:50:49.344Z"
   },
   {
    "duration": 11,
    "start_time": "2024-12-28T08:50:49.555Z"
   },
   {
    "duration": 131,
    "start_time": "2024-12-28T08:50:49.567Z"
   },
   {
    "duration": 64,
    "start_time": "2024-12-28T08:50:49.700Z"
   },
   {
    "duration": 26,
    "start_time": "2024-12-28T08:50:49.766Z"
   },
   {
    "duration": 60,
    "start_time": "2024-12-28T08:50:49.793Z"
   },
   {
    "duration": 12,
    "start_time": "2024-12-28T08:50:49.855Z"
   },
   {
    "duration": 378,
    "start_time": "2024-12-28T08:50:49.869Z"
   },
   {
    "duration": 3,
    "start_time": "2024-12-28T08:50:50.249Z"
   },
   {
    "duration": 131,
    "start_time": "2024-12-28T08:50:50.254Z"
   },
   {
    "duration": 98,
    "start_time": "2024-12-28T08:50:50.387Z"
   },
   {
    "duration": 155,
    "start_time": "2024-12-28T08:50:50.487Z"
   },
   {
    "duration": 0,
    "start_time": "2024-12-28T08:50:50.648Z"
   },
   {
    "duration": 0,
    "start_time": "2024-12-28T08:50:50.650Z"
   },
   {
    "duration": 0,
    "start_time": "2024-12-28T08:50:50.652Z"
   },
   {
    "duration": 0,
    "start_time": "2024-12-28T08:50:50.653Z"
   },
   {
    "duration": 0,
    "start_time": "2024-12-28T08:50:50.654Z"
   },
   {
    "duration": 0,
    "start_time": "2024-12-28T08:50:50.656Z"
   },
   {
    "duration": 0,
    "start_time": "2024-12-28T08:50:50.658Z"
   },
   {
    "duration": 0,
    "start_time": "2024-12-28T08:50:50.658Z"
   },
   {
    "duration": 0,
    "start_time": "2024-12-28T08:50:50.660Z"
   },
   {
    "duration": 0,
    "start_time": "2024-12-28T08:50:50.662Z"
   },
   {
    "duration": 0,
    "start_time": "2024-12-28T08:50:50.663Z"
   },
   {
    "duration": 0,
    "start_time": "2024-12-28T08:50:50.664Z"
   },
   {
    "duration": 0,
    "start_time": "2024-12-28T08:50:50.665Z"
   },
   {
    "duration": 47,
    "start_time": "2024-12-28T08:52:11.866Z"
   },
   {
    "duration": 31,
    "start_time": "2024-12-28T08:52:54.926Z"
   },
   {
    "duration": 17,
    "start_time": "2024-12-28T08:53:10.786Z"
   },
   {
    "duration": 160,
    "start_time": "2024-12-28T08:58:36.508Z"
   },
   {
    "duration": 209,
    "start_time": "2024-12-28T08:58:42.974Z"
   },
   {
    "duration": 50,
    "start_time": "2024-12-28T09:04:00.483Z"
   },
   {
    "duration": 55,
    "start_time": "2024-12-28T09:04:12.443Z"
   },
   {
    "duration": 54,
    "start_time": "2024-12-28T09:05:23.937Z"
   },
   {
    "duration": 61,
    "start_time": "2024-12-28T09:05:35.891Z"
   },
   {
    "duration": 199,
    "start_time": "2024-12-28T09:06:23.127Z"
   },
   {
    "duration": 163,
    "start_time": "2024-12-28T09:06:44.244Z"
   },
   {
    "duration": 164,
    "start_time": "2024-12-28T09:08:48.488Z"
   },
   {
    "duration": 151,
    "start_time": "2024-12-28T09:13:00.904Z"
   },
   {
    "duration": 184,
    "start_time": "2024-12-28T09:13:16.061Z"
   },
   {
    "duration": 135,
    "start_time": "2024-12-28T09:14:36.589Z"
   },
   {
    "duration": 431,
    "start_time": "2024-12-28T09:14:54.094Z"
   },
   {
    "duration": 2647,
    "start_time": "2024-12-28T09:17:49.796Z"
   },
   {
    "duration": 1281,
    "start_time": "2024-12-28T09:17:52.446Z"
   },
   {
    "duration": 2685,
    "start_time": "2024-12-28T09:17:53.728Z"
   },
   {
    "duration": 3,
    "start_time": "2024-12-28T09:17:56.415Z"
   },
   {
    "duration": 30,
    "start_time": "2024-12-28T09:17:56.420Z"
   },
   {
    "duration": 9,
    "start_time": "2024-12-28T09:17:56.451Z"
   },
   {
    "duration": 26,
    "start_time": "2024-12-28T09:17:56.461Z"
   },
   {
    "duration": 54,
    "start_time": "2024-12-28T09:17:56.489Z"
   },
   {
    "duration": 30,
    "start_time": "2024-12-28T09:17:56.545Z"
   },
   {
    "duration": 296,
    "start_time": "2024-12-28T09:17:56.576Z"
   },
   {
    "duration": 1023,
    "start_time": "2024-12-28T09:17:56.873Z"
   },
   {
    "duration": 205,
    "start_time": "2024-12-28T09:17:57.897Z"
   },
   {
    "duration": 10,
    "start_time": "2024-12-28T09:17:58.103Z"
   },
   {
    "duration": 117,
    "start_time": "2024-12-28T09:17:58.115Z"
   },
   {
    "duration": 55,
    "start_time": "2024-12-28T09:17:58.234Z"
   },
   {
    "duration": 45,
    "start_time": "2024-12-28T09:17:58.291Z"
   },
   {
    "duration": 32,
    "start_time": "2024-12-28T09:17:58.338Z"
   },
   {
    "duration": 12,
    "start_time": "2024-12-28T09:17:58.372Z"
   },
   {
    "duration": 355,
    "start_time": "2024-12-28T09:17:58.386Z"
   },
   {
    "duration": 3,
    "start_time": "2024-12-28T09:17:58.742Z"
   },
   {
    "duration": 113,
    "start_time": "2024-12-28T09:17:58.746Z"
   },
   {
    "duration": 100,
    "start_time": "2024-12-28T09:17:58.861Z"
   },
   {
    "duration": 157,
    "start_time": "2024-12-28T09:17:58.963Z"
   },
   {
    "duration": 251,
    "start_time": "2024-12-28T09:17:59.122Z"
   },
   {
    "duration": 110,
    "start_time": "2024-12-28T09:17:59.375Z"
   },
   {
    "duration": 0,
    "start_time": "2024-12-28T09:17:59.486Z"
   },
   {
    "duration": 0,
    "start_time": "2024-12-28T09:17:59.487Z"
   },
   {
    "duration": 0,
    "start_time": "2024-12-28T09:17:59.488Z"
   },
   {
    "duration": 0,
    "start_time": "2024-12-28T09:17:59.490Z"
   },
   {
    "duration": 0,
    "start_time": "2024-12-28T09:17:59.491Z"
   },
   {
    "duration": 0,
    "start_time": "2024-12-28T09:17:59.492Z"
   },
   {
    "duration": 0,
    "start_time": "2024-12-28T09:17:59.493Z"
   },
   {
    "duration": 0,
    "start_time": "2024-12-28T09:17:59.493Z"
   },
   {
    "duration": 0,
    "start_time": "2024-12-28T09:17:59.495Z"
   },
   {
    "duration": 0,
    "start_time": "2024-12-28T09:17:59.496Z"
   },
   {
    "duration": 0,
    "start_time": "2024-12-28T09:17:59.496Z"
   },
   {
    "duration": 135,
    "start_time": "2024-12-28T09:22:47.382Z"
   },
   {
    "duration": 3,
    "start_time": "2024-12-28T09:23:05.971Z"
   },
   {
    "duration": 3,
    "start_time": "2024-12-28T09:23:14.861Z"
   },
   {
    "duration": 57,
    "start_time": "2024-12-28T09:23:52.287Z"
   },
   {
    "duration": 77,
    "start_time": "2024-12-28T09:24:36.278Z"
   },
   {
    "duration": 72,
    "start_time": "2024-12-28T09:27:15.586Z"
   },
   {
    "duration": 92,
    "start_time": "2024-12-28T09:27:39.298Z"
   },
   {
    "duration": 2428,
    "start_time": "2024-12-28T09:28:42.592Z"
   },
   {
    "duration": 1263,
    "start_time": "2024-12-28T09:28:45.022Z"
   },
   {
    "duration": 3561,
    "start_time": "2024-12-28T09:28:46.287Z"
   },
   {
    "duration": 3,
    "start_time": "2024-12-28T09:28:49.850Z"
   },
   {
    "duration": 83,
    "start_time": "2024-12-28T09:28:49.855Z"
   },
   {
    "duration": 22,
    "start_time": "2024-12-28T09:28:49.940Z"
   },
   {
    "duration": 22,
    "start_time": "2024-12-28T09:28:49.964Z"
   },
   {
    "duration": 88,
    "start_time": "2024-12-28T09:28:49.987Z"
   },
   {
    "duration": 82,
    "start_time": "2024-12-28T09:28:50.077Z"
   },
   {
    "duration": 481,
    "start_time": "2024-12-28T09:28:50.162Z"
   },
   {
    "duration": 1005,
    "start_time": "2024-12-28T09:28:50.644Z"
   },
   {
    "duration": 181,
    "start_time": "2024-12-28T09:28:51.651Z"
   },
   {
    "duration": 9,
    "start_time": "2024-12-28T09:28:51.834Z"
   },
   {
    "duration": 123,
    "start_time": "2024-12-28T09:28:51.844Z"
   },
   {
    "duration": 62,
    "start_time": "2024-12-28T09:28:51.968Z"
   },
   {
    "duration": 30,
    "start_time": "2024-12-28T09:28:52.032Z"
   },
   {
    "duration": 27,
    "start_time": "2024-12-28T09:28:52.064Z"
   },
   {
    "duration": 11,
    "start_time": "2024-12-28T09:28:52.093Z"
   },
   {
    "duration": 422,
    "start_time": "2024-12-28T09:28:52.129Z"
   },
   {
    "duration": 3,
    "start_time": "2024-12-28T09:28:52.553Z"
   },
   {
    "duration": 283,
    "start_time": "2024-12-28T09:28:52.557Z"
   },
   {
    "duration": 133,
    "start_time": "2024-12-28T09:28:52.842Z"
   },
   {
    "duration": 319,
    "start_time": "2024-12-28T09:28:53.029Z"
   },
   {
    "duration": 416,
    "start_time": "2024-12-28T09:28:53.349Z"
   },
   {
    "duration": 186,
    "start_time": "2024-12-28T09:28:53.767Z"
   },
   {
    "duration": 3,
    "start_time": "2024-12-28T09:28:53.955Z"
   },
   {
    "duration": 84,
    "start_time": "2024-12-28T09:28:53.960Z"
   },
   {
    "duration": 0,
    "start_time": "2024-12-28T09:28:54.046Z"
   },
   {
    "duration": 0,
    "start_time": "2024-12-28T09:28:54.047Z"
   },
   {
    "duration": 0,
    "start_time": "2024-12-28T09:28:54.048Z"
   },
   {
    "duration": 0,
    "start_time": "2024-12-28T09:28:54.050Z"
   },
   {
    "duration": 0,
    "start_time": "2024-12-28T09:28:54.051Z"
   },
   {
    "duration": 0,
    "start_time": "2024-12-28T09:28:54.053Z"
   },
   {
    "duration": 0,
    "start_time": "2024-12-28T09:28:54.054Z"
   },
   {
    "duration": 0,
    "start_time": "2024-12-28T09:28:54.055Z"
   },
   {
    "duration": 0,
    "start_time": "2024-12-28T09:28:54.056Z"
   },
   {
    "duration": 0,
    "start_time": "2024-12-28T09:28:54.057Z"
   },
   {
    "duration": 0,
    "start_time": "2024-12-28T09:28:54.058Z"
   },
   {
    "duration": 0,
    "start_time": "2024-12-28T09:28:54.059Z"
   },
   {
    "duration": 47,
    "start_time": "2024-12-28T09:29:27.080Z"
   },
   {
    "duration": 115,
    "start_time": "2024-12-28T09:31:21.967Z"
   },
   {
    "duration": 63,
    "start_time": "2024-12-28T09:31:47.212Z"
   },
   {
    "duration": 23,
    "start_time": "2024-12-28T09:31:51.017Z"
   },
   {
    "duration": 21,
    "start_time": "2024-12-28T09:33:32.432Z"
   },
   {
    "duration": 74,
    "start_time": "2024-12-28T09:33:55.113Z"
   },
   {
    "duration": 25,
    "start_time": "2024-12-28T09:35:22.246Z"
   },
   {
    "duration": 330,
    "start_time": "2024-12-28T09:36:01.016Z"
   },
   {
    "duration": 28,
    "start_time": "2024-12-28T09:36:40.499Z"
   },
   {
    "duration": 52,
    "start_time": "2024-12-28T09:36:57.330Z"
   },
   {
    "duration": 39,
    "start_time": "2024-12-28T09:37:19.483Z"
   },
   {
    "duration": 2445,
    "start_time": "2024-12-28T09:37:38.137Z"
   },
   {
    "duration": 1208,
    "start_time": "2024-12-28T09:37:40.585Z"
   },
   {
    "duration": 2746,
    "start_time": "2024-12-28T09:37:41.795Z"
   },
   {
    "duration": 3,
    "start_time": "2024-12-28T09:37:44.544Z"
   },
   {
    "duration": 27,
    "start_time": "2024-12-28T09:37:44.548Z"
   },
   {
    "duration": 5,
    "start_time": "2024-12-28T09:37:44.577Z"
   },
   {
    "duration": 19,
    "start_time": "2024-12-28T09:37:44.583Z"
   },
   {
    "duration": 68,
    "start_time": "2024-12-28T09:37:44.603Z"
   },
   {
    "duration": 29,
    "start_time": "2024-12-28T09:37:44.672Z"
   },
   {
    "duration": 262,
    "start_time": "2024-12-28T09:37:44.704Z"
   },
   {
    "duration": 963,
    "start_time": "2024-12-28T09:37:44.967Z"
   },
   {
    "duration": 213,
    "start_time": "2024-12-28T09:37:45.931Z"
   },
   {
    "duration": 8,
    "start_time": "2024-12-28T09:37:46.146Z"
   },
   {
    "duration": 112,
    "start_time": "2024-12-28T09:37:46.156Z"
   },
   {
    "duration": 46,
    "start_time": "2024-12-28T09:37:46.270Z"
   },
   {
    "duration": 43,
    "start_time": "2024-12-28T09:37:46.318Z"
   },
   {
    "duration": 27,
    "start_time": "2024-12-28T09:37:46.362Z"
   },
   {
    "duration": 10,
    "start_time": "2024-12-28T09:37:46.390Z"
   },
   {
    "duration": 328,
    "start_time": "2024-12-28T09:37:46.402Z"
   },
   {
    "duration": 3,
    "start_time": "2024-12-28T09:37:46.732Z"
   },
   {
    "duration": 105,
    "start_time": "2024-12-28T09:37:46.736Z"
   },
   {
    "duration": 95,
    "start_time": "2024-12-28T09:37:46.843Z"
   },
   {
    "duration": 155,
    "start_time": "2024-12-28T09:37:46.940Z"
   },
   {
    "duration": 234,
    "start_time": "2024-12-28T09:37:47.097Z"
   },
   {
    "duration": 160,
    "start_time": "2024-12-28T09:37:47.332Z"
   },
   {
    "duration": 25,
    "start_time": "2024-12-28T09:37:47.494Z"
   },
   {
    "duration": 2245,
    "start_time": "2024-12-28T09:37:47.521Z"
   },
   {
    "duration": 75,
    "start_time": "2024-12-28T09:37:49.769Z"
   },
   {
    "duration": 302,
    "start_time": "2024-12-28T09:37:49.845Z"
   },
   {
    "duration": 90,
    "start_time": "2024-12-28T09:37:50.148Z"
   },
   {
    "duration": 191,
    "start_time": "2024-12-28T09:37:50.240Z"
   },
   {
    "duration": 204,
    "start_time": "2024-12-28T09:37:50.433Z"
   },
   {
    "duration": 122,
    "start_time": "2024-12-28T09:37:50.638Z"
   },
   {
    "duration": 208,
    "start_time": "2024-12-28T09:37:50.762Z"
   },
   {
    "duration": 362,
    "start_time": "2024-12-28T09:37:50.972Z"
   },
   {
    "duration": 4,
    "start_time": "2024-12-28T09:37:51.335Z"
   },
   {
    "duration": 30,
    "start_time": "2024-12-28T09:38:08.470Z"
   },
   {
    "duration": 14,
    "start_time": "2024-12-28T09:38:18.680Z"
   },
   {
    "duration": 14,
    "start_time": "2024-12-28T09:38:27.276Z"
   },
   {
    "duration": 2014,
    "start_time": "2024-12-28T09:38:54.296Z"
   },
   {
    "duration": 8,
    "start_time": "2024-12-28T09:40:17.019Z"
   },
   {
    "duration": 121,
    "start_time": "2024-12-28T09:40:35.504Z"
   },
   {
    "duration": 10,
    "start_time": "2024-12-28T09:40:44.877Z"
   },
   {
    "duration": 13,
    "start_time": "2024-12-28T09:41:12.403Z"
   },
   {
    "duration": 27,
    "start_time": "2024-12-28T09:41:32.723Z"
   },
   {
    "duration": 21,
    "start_time": "2024-12-28T09:42:11.876Z"
   },
   {
    "duration": 21,
    "start_time": "2024-12-28T09:43:36.529Z"
   },
   {
    "duration": 2601,
    "start_time": "2024-12-28T09:43:59.908Z"
   },
   {
    "duration": 1409,
    "start_time": "2024-12-28T09:44:02.511Z"
   },
   {
    "duration": 2058,
    "start_time": "2024-12-28T09:44:03.922Z"
   },
   {
    "duration": 2,
    "start_time": "2024-12-28T09:44:05.983Z"
   },
   {
    "duration": 39,
    "start_time": "2024-12-28T09:44:05.987Z"
   },
   {
    "duration": 7,
    "start_time": "2024-12-28T09:44:06.028Z"
   },
   {
    "duration": 25,
    "start_time": "2024-12-28T09:44:06.042Z"
   },
   {
    "duration": 100,
    "start_time": "2024-12-28T09:44:06.070Z"
   },
   {
    "duration": 28,
    "start_time": "2024-12-28T09:44:06.172Z"
   },
   {
    "duration": 263,
    "start_time": "2024-12-28T09:44:06.203Z"
   },
   {
    "duration": 1058,
    "start_time": "2024-12-28T09:44:06.468Z"
   },
   {
    "duration": 192,
    "start_time": "2024-12-28T09:44:07.533Z"
   },
   {
    "duration": 11,
    "start_time": "2024-12-28T09:44:07.727Z"
   },
   {
    "duration": 125,
    "start_time": "2024-12-28T09:44:07.740Z"
   },
   {
    "duration": 50,
    "start_time": "2024-12-28T09:44:07.867Z"
   },
   {
    "duration": 75,
    "start_time": "2024-12-28T09:44:07.932Z"
   },
   {
    "duration": 36,
    "start_time": "2024-12-28T09:44:08.008Z"
   },
   {
    "duration": 63,
    "start_time": "2024-12-28T09:44:08.047Z"
   },
   {
    "duration": 356,
    "start_time": "2024-12-28T09:44:08.112Z"
   },
   {
    "duration": 4,
    "start_time": "2024-12-28T09:44:08.470Z"
   },
   {
    "duration": 122,
    "start_time": "2024-12-28T09:44:08.476Z"
   },
   {
    "duration": 101,
    "start_time": "2024-12-28T09:44:08.600Z"
   },
   {
    "duration": 170,
    "start_time": "2024-12-28T09:44:08.702Z"
   },
   {
    "duration": 297,
    "start_time": "2024-12-28T09:44:08.874Z"
   },
   {
    "duration": 150,
    "start_time": "2024-12-28T09:44:09.172Z"
   },
   {
    "duration": 32,
    "start_time": "2024-12-28T09:44:09.323Z"
   },
   {
    "duration": 3381,
    "start_time": "2024-12-28T09:44:09.356Z"
   },
   {
    "duration": 23,
    "start_time": "2024-12-28T09:44:12.744Z"
   },
   {
    "duration": 145,
    "start_time": "2024-12-28T09:44:12.769Z"
   },
   {
    "duration": 50,
    "start_time": "2024-12-28T09:44:12.916Z"
   },
   {
    "duration": 94,
    "start_time": "2024-12-28T09:44:12.967Z"
   },
   {
    "duration": 118,
    "start_time": "2024-12-28T09:44:13.063Z"
   },
   {
    "duration": 87,
    "start_time": "2024-12-28T09:44:13.182Z"
   },
   {
    "duration": 177,
    "start_time": "2024-12-28T09:44:13.270Z"
   },
   {
    "duration": 356,
    "start_time": "2024-12-28T09:44:13.449Z"
   },
   {
    "duration": 5,
    "start_time": "2024-12-28T09:44:13.807Z"
   },
   {
    "duration": 21,
    "start_time": "2024-12-28T09:45:14.321Z"
   },
   {
    "duration": 10,
    "start_time": "2024-12-28T09:45:19.020Z"
   },
   {
    "duration": 2111,
    "start_time": "2024-12-28T09:45:23.721Z"
   },
   {
    "duration": 12,
    "start_time": "2024-12-28T09:51:55.788Z"
   },
   {
    "duration": 10,
    "start_time": "2024-12-28T09:52:37.618Z"
   },
   {
    "duration": 3270,
    "start_time": "2024-12-28T09:54:06.591Z"
   },
   {
    "duration": 1342,
    "start_time": "2024-12-28T09:54:09.863Z"
   },
   {
    "duration": 2100,
    "start_time": "2024-12-28T09:54:11.206Z"
   },
   {
    "duration": 3,
    "start_time": "2024-12-28T09:54:13.308Z"
   },
   {
    "duration": 21,
    "start_time": "2024-12-28T09:54:13.313Z"
   },
   {
    "duration": 82,
    "start_time": "2024-12-28T09:54:13.336Z"
   },
   {
    "duration": 24,
    "start_time": "2024-12-28T09:54:13.420Z"
   },
   {
    "duration": 53,
    "start_time": "2024-12-28T09:54:13.447Z"
   },
   {
    "duration": 38,
    "start_time": "2024-12-28T09:54:13.502Z"
   },
   {
    "duration": 242,
    "start_time": "2024-12-28T09:54:13.542Z"
   },
   {
    "duration": 975,
    "start_time": "2024-12-28T09:54:13.785Z"
   },
   {
    "duration": 188,
    "start_time": "2024-12-28T09:54:14.762Z"
   },
   {
    "duration": 9,
    "start_time": "2024-12-28T09:54:14.951Z"
   },
   {
    "duration": 114,
    "start_time": "2024-12-28T09:54:14.963Z"
   },
   {
    "duration": 51,
    "start_time": "2024-12-28T09:54:15.079Z"
   },
   {
    "duration": 25,
    "start_time": "2024-12-28T09:54:15.132Z"
   },
   {
    "duration": 39,
    "start_time": "2024-12-28T09:54:15.158Z"
   },
   {
    "duration": 22,
    "start_time": "2024-12-28T09:54:15.199Z"
   },
   {
    "duration": 332,
    "start_time": "2024-12-28T09:54:15.222Z"
   },
   {
    "duration": 2,
    "start_time": "2024-12-28T09:54:15.556Z"
   },
   {
    "duration": 97,
    "start_time": "2024-12-28T09:54:15.560Z"
   },
   {
    "duration": 93,
    "start_time": "2024-12-28T09:54:15.659Z"
   },
   {
    "duration": 152,
    "start_time": "2024-12-28T09:54:15.753Z"
   },
   {
    "duration": 256,
    "start_time": "2024-12-28T09:54:15.906Z"
   },
   {
    "duration": 103,
    "start_time": "2024-12-28T09:54:16.164Z"
   },
   {
    "duration": 0,
    "start_time": "2024-12-28T09:54:16.269Z"
   },
   {
    "duration": 0,
    "start_time": "2024-12-28T09:54:16.270Z"
   },
   {
    "duration": 0,
    "start_time": "2024-12-28T09:54:16.272Z"
   },
   {
    "duration": 0,
    "start_time": "2024-12-28T09:54:16.273Z"
   },
   {
    "duration": 0,
    "start_time": "2024-12-28T09:54:16.274Z"
   },
   {
    "duration": 0,
    "start_time": "2024-12-28T09:54:16.275Z"
   },
   {
    "duration": 0,
    "start_time": "2024-12-28T09:54:16.276Z"
   },
   {
    "duration": 0,
    "start_time": "2024-12-28T09:54:16.277Z"
   },
   {
    "duration": 0,
    "start_time": "2024-12-28T09:54:16.278Z"
   },
   {
    "duration": 0,
    "start_time": "2024-12-28T09:54:16.279Z"
   },
   {
    "duration": 0,
    "start_time": "2024-12-28T09:54:16.280Z"
   },
   {
    "duration": 23,
    "start_time": "2024-12-28T09:54:46.598Z"
   },
   {
    "duration": 158,
    "start_time": "2024-12-28T09:54:57.723Z"
   },
   {
    "duration": 2175,
    "start_time": "2024-12-28T09:55:35.682Z"
   },
   {
    "duration": 32,
    "start_time": "2024-12-28T09:56:31.757Z"
   },
   {
    "duration": 2167,
    "start_time": "2024-12-28T09:56:35.370Z"
   },
   {
    "duration": 3992,
    "start_time": "2024-12-28T09:56:56.236Z"
   },
   {
    "duration": 26,
    "start_time": "2024-12-28T09:57:12.117Z"
   },
   {
    "duration": 178,
    "start_time": "2024-12-28T09:57:19.888Z"
   },
   {
    "duration": 34,
    "start_time": "2024-12-28T09:58:19.235Z"
   },
   {
    "duration": 36,
    "start_time": "2024-12-28T09:58:26.805Z"
   },
   {
    "duration": 82,
    "start_time": "2024-12-28T10:00:50.223Z"
   },
   {
    "duration": 45,
    "start_time": "2024-12-28T10:00:57.654Z"
   },
   {
    "duration": 49,
    "start_time": "2024-12-28T10:01:30.308Z"
   },
   {
    "duration": 58,
    "start_time": "2024-12-28T10:02:01.056Z"
   },
   {
    "duration": 2494,
    "start_time": "2024-12-28T10:02:13.954Z"
   },
   {
    "duration": 1263,
    "start_time": "2024-12-28T10:02:16.451Z"
   },
   {
    "duration": 1939,
    "start_time": "2024-12-28T10:02:17.716Z"
   },
   {
    "duration": 3,
    "start_time": "2024-12-28T10:02:19.657Z"
   },
   {
    "duration": 22,
    "start_time": "2024-12-28T10:02:19.662Z"
   },
   {
    "duration": 3,
    "start_time": "2024-12-28T10:02:19.686Z"
   },
   {
    "duration": 27,
    "start_time": "2024-12-28T10:02:19.691Z"
   },
   {
    "duration": 70,
    "start_time": "2024-12-28T10:02:19.720Z"
   },
   {
    "duration": 27,
    "start_time": "2024-12-28T10:02:19.791Z"
   },
   {
    "duration": 248,
    "start_time": "2024-12-28T10:02:19.821Z"
   },
   {
    "duration": 1914,
    "start_time": "2024-12-28T10:02:20.071Z"
   },
   {
    "duration": 216,
    "start_time": "2024-12-28T10:02:21.987Z"
   },
   {
    "duration": 9,
    "start_time": "2024-12-28T10:02:22.204Z"
   },
   {
    "duration": 122,
    "start_time": "2024-12-28T10:02:22.215Z"
   },
   {
    "duration": 50,
    "start_time": "2024-12-28T10:02:22.344Z"
   },
   {
    "duration": 110,
    "start_time": "2024-12-28T10:02:22.395Z"
   },
   {
    "duration": 58,
    "start_time": "2024-12-28T10:02:22.507Z"
   },
   {
    "duration": 13,
    "start_time": "2024-12-28T10:02:22.568Z"
   },
   {
    "duration": 345,
    "start_time": "2024-12-28T10:02:22.582Z"
   },
   {
    "duration": 9,
    "start_time": "2024-12-28T10:02:22.933Z"
   },
   {
    "duration": 116,
    "start_time": "2024-12-28T10:02:22.944Z"
   },
   {
    "duration": 98,
    "start_time": "2024-12-28T10:02:23.062Z"
   },
   {
    "duration": 164,
    "start_time": "2024-12-28T10:02:23.162Z"
   },
   {
    "duration": 253,
    "start_time": "2024-12-28T10:02:23.328Z"
   },
   {
    "duration": 178,
    "start_time": "2024-12-28T10:02:23.583Z"
   },
   {
    "duration": 23,
    "start_time": "2024-12-28T10:02:23.763Z"
   },
   {
    "duration": 2027,
    "start_time": "2024-12-28T10:02:23.788Z"
   },
   {
    "duration": 29,
    "start_time": "2024-12-28T10:02:25.819Z"
   },
   {
    "duration": 163,
    "start_time": "2024-12-28T10:02:25.850Z"
   },
   {
    "duration": 77,
    "start_time": "2024-12-28T10:02:26.018Z"
   },
   {
    "duration": 106,
    "start_time": "2024-12-28T10:02:26.097Z"
   },
   {
    "duration": 124,
    "start_time": "2024-12-28T10:02:26.204Z"
   },
   {
    "duration": 81,
    "start_time": "2024-12-28T10:02:26.334Z"
   },
   {
    "duration": 276,
    "start_time": "2024-12-28T10:02:26.416Z"
   },
   {
    "duration": 395,
    "start_time": "2024-12-28T10:02:26.694Z"
   },
   {
    "duration": 5,
    "start_time": "2024-12-28T10:02:27.090Z"
   },
   {
    "duration": 50,
    "start_time": "2024-12-28T10:02:55.623Z"
   },
   {
    "duration": 2635,
    "start_time": "2024-12-28T10:03:27.821Z"
   },
   {
    "duration": 1766,
    "start_time": "2024-12-28T10:03:30.459Z"
   },
   {
    "duration": 2029,
    "start_time": "2024-12-28T10:03:32.227Z"
   },
   {
    "duration": 3,
    "start_time": "2024-12-28T10:03:34.258Z"
   },
   {
    "duration": 22,
    "start_time": "2024-12-28T10:03:34.263Z"
   },
   {
    "duration": 19,
    "start_time": "2024-12-28T10:03:34.287Z"
   },
   {
    "duration": 48,
    "start_time": "2024-12-28T10:03:34.308Z"
   },
   {
    "duration": 55,
    "start_time": "2024-12-28T10:03:34.357Z"
   },
   {
    "duration": 27,
    "start_time": "2024-12-28T10:03:34.414Z"
   },
   {
    "duration": 253,
    "start_time": "2024-12-28T10:03:34.442Z"
   },
   {
    "duration": 1006,
    "start_time": "2024-12-28T10:03:34.697Z"
   },
   {
    "duration": 187,
    "start_time": "2024-12-28T10:03:35.705Z"
   },
   {
    "duration": 10,
    "start_time": "2024-12-28T10:03:35.894Z"
   },
   {
    "duration": 143,
    "start_time": "2024-12-28T10:03:35.907Z"
   },
   {
    "duration": 77,
    "start_time": "2024-12-28T10:03:36.052Z"
   },
   {
    "duration": 26,
    "start_time": "2024-12-28T10:03:36.131Z"
   },
   {
    "duration": 28,
    "start_time": "2024-12-28T10:03:36.159Z"
   },
   {
    "duration": 10,
    "start_time": "2024-12-28T10:03:36.189Z"
   },
   {
    "duration": 355,
    "start_time": "2024-12-28T10:03:36.201Z"
   },
   {
    "duration": 4,
    "start_time": "2024-12-28T10:03:36.558Z"
   },
   {
    "duration": 105,
    "start_time": "2024-12-28T10:03:36.564Z"
   },
   {
    "duration": 107,
    "start_time": "2024-12-28T10:03:36.671Z"
   },
   {
    "duration": 168,
    "start_time": "2024-12-28T10:03:36.779Z"
   },
   {
    "duration": 267,
    "start_time": "2024-12-28T10:03:36.948Z"
   },
   {
    "duration": 46,
    "start_time": "2024-12-28T10:03:37.217Z"
   },
   {
    "duration": 3681,
    "start_time": "2024-12-28T10:03:37.264Z"
   },
   {
    "duration": 24,
    "start_time": "2024-12-28T10:03:40.947Z"
   },
   {
    "duration": 176,
    "start_time": "2024-12-28T10:03:40.973Z"
   },
   {
    "duration": 43,
    "start_time": "2024-12-28T10:03:41.150Z"
   },
   {
    "duration": 109,
    "start_time": "2024-12-28T10:03:41.195Z"
   },
   {
    "duration": 112,
    "start_time": "2024-12-28T10:03:41.306Z"
   },
   {
    "duration": 91,
    "start_time": "2024-12-28T10:03:41.420Z"
   },
   {
    "duration": 194,
    "start_time": "2024-12-28T10:03:41.513Z"
   },
   {
    "duration": 395,
    "start_time": "2024-12-28T10:03:41.709Z"
   },
   {
    "duration": 4,
    "start_time": "2024-12-28T10:03:42.106Z"
   },
   {
    "duration": 82,
    "start_time": "2024-12-28T10:05:11.637Z"
   },
   {
    "duration": 4042,
    "start_time": "2024-12-28T10:06:08.959Z"
   },
   {
    "duration": 7,
    "start_time": "2024-12-28T10:11:05.099Z"
   },
   {
    "duration": 7,
    "start_time": "2024-12-28T10:11:15.502Z"
   },
   {
    "duration": 8,
    "start_time": "2024-12-28T10:11:52.859Z"
   },
   {
    "duration": 116,
    "start_time": "2024-12-28T10:12:28.309Z"
   },
   {
    "duration": 9,
    "start_time": "2024-12-28T10:12:48.489Z"
   },
   {
    "duration": 32,
    "start_time": "2024-12-28T10:13:02.912Z"
   },
   {
    "duration": 21,
    "start_time": "2024-12-28T10:13:24.051Z"
   },
   {
    "duration": 6,
    "start_time": "2024-12-28T10:15:58.007Z"
   },
   {
    "duration": 6,
    "start_time": "2024-12-28T10:16:08.673Z"
   },
   {
    "duration": 6,
    "start_time": "2024-12-28T10:16:30.970Z"
   },
   {
    "duration": 7,
    "start_time": "2024-12-28T10:17:34.314Z"
   },
   {
    "duration": 7,
    "start_time": "2024-12-28T10:17:55.176Z"
   },
   {
    "duration": 22,
    "start_time": "2024-12-28T10:19:43.303Z"
   },
   {
    "duration": 162,
    "start_time": "2024-12-28T10:19:44.539Z"
   },
   {
    "duration": 3436,
    "start_time": "2024-12-28T10:20:37.727Z"
   },
   {
    "duration": 1662,
    "start_time": "2024-12-28T10:20:41.165Z"
   },
   {
    "duration": 2217,
    "start_time": "2024-12-28T10:20:42.829Z"
   },
   {
    "duration": 4,
    "start_time": "2024-12-28T10:20:45.049Z"
   },
   {
    "duration": 79,
    "start_time": "2024-12-28T10:20:45.054Z"
   },
   {
    "duration": 43,
    "start_time": "2024-12-28T10:20:45.135Z"
   },
   {
    "duration": 61,
    "start_time": "2024-12-28T10:20:45.180Z"
   },
   {
    "duration": 92,
    "start_time": "2024-12-28T10:20:45.243Z"
   },
   {
    "duration": 32,
    "start_time": "2024-12-28T10:20:45.337Z"
   },
   {
    "duration": 306,
    "start_time": "2024-12-28T10:20:45.372Z"
   },
   {
    "duration": 1157,
    "start_time": "2024-12-28T10:20:45.680Z"
   },
   {
    "duration": 225,
    "start_time": "2024-12-28T10:20:46.840Z"
   },
   {
    "duration": 11,
    "start_time": "2024-12-28T10:20:47.066Z"
   },
   {
    "duration": 132,
    "start_time": "2024-12-28T10:20:47.078Z"
   },
   {
    "duration": 67,
    "start_time": "2024-12-28T10:20:47.212Z"
   },
   {
    "duration": 26,
    "start_time": "2024-12-28T10:20:47.281Z"
   },
   {
    "duration": 56,
    "start_time": "2024-12-28T10:20:47.308Z"
   },
   {
    "duration": 12,
    "start_time": "2024-12-28T10:20:47.366Z"
   },
   {
    "duration": 381,
    "start_time": "2024-12-28T10:20:47.380Z"
   },
   {
    "duration": 6,
    "start_time": "2024-12-28T10:20:47.763Z"
   },
   {
    "duration": 161,
    "start_time": "2024-12-28T10:20:47.771Z"
   },
   {
    "duration": 128,
    "start_time": "2024-12-28T10:20:47.934Z"
   },
   {
    "duration": 183,
    "start_time": "2024-12-28T10:20:48.066Z"
   },
   {
    "duration": 293,
    "start_time": "2024-12-28T10:20:48.254Z"
   },
   {
    "duration": 40,
    "start_time": "2024-12-28T10:20:48.550Z"
   },
   {
    "duration": 4250,
    "start_time": "2024-12-28T10:20:48.592Z"
   },
   {
    "duration": 9,
    "start_time": "2024-12-28T10:20:52.847Z"
   },
   {
    "duration": 127,
    "start_time": "2024-12-28T10:20:52.860Z"
   },
   {
    "duration": 99,
    "start_time": "2024-12-28T10:20:52.989Z"
   },
   {
    "duration": 0,
    "start_time": "2024-12-28T10:20:53.089Z"
   },
   {
    "duration": 0,
    "start_time": "2024-12-28T10:20:53.091Z"
   },
   {
    "duration": 1,
    "start_time": "2024-12-28T10:20:53.092Z"
   },
   {
    "duration": 0,
    "start_time": "2024-12-28T10:20:53.094Z"
   },
   {
    "duration": 0,
    "start_time": "2024-12-28T10:20:53.096Z"
   },
   {
    "duration": 0,
    "start_time": "2024-12-28T10:20:53.097Z"
   },
   {
    "duration": 0,
    "start_time": "2024-12-28T10:20:53.099Z"
   },
   {
    "duration": 0,
    "start_time": "2024-12-28T10:20:53.100Z"
   },
   {
    "duration": 0,
    "start_time": "2024-12-28T10:20:53.102Z"
   },
   {
    "duration": 100,
    "start_time": "2024-12-28T10:21:17.161Z"
   },
   {
    "duration": 23,
    "start_time": "2024-12-28T10:21:24.590Z"
   },
   {
    "duration": 189,
    "start_time": "2024-12-28T10:21:40.819Z"
   },
   {
    "duration": 2671,
    "start_time": "2024-12-28T10:22:33.383Z"
   },
   {
    "duration": 2172,
    "start_time": "2024-12-28T10:22:36.058Z"
   },
   {
    "duration": 2267,
    "start_time": "2024-12-28T10:22:38.233Z"
   },
   {
    "duration": 3,
    "start_time": "2024-12-28T10:22:40.501Z"
   },
   {
    "duration": 105,
    "start_time": "2024-12-28T10:22:40.506Z"
   },
   {
    "duration": 29,
    "start_time": "2024-12-28T10:22:40.613Z"
   },
   {
    "duration": 28,
    "start_time": "2024-12-28T10:22:40.645Z"
   },
   {
    "duration": 52,
    "start_time": "2024-12-28T10:22:40.675Z"
   },
   {
    "duration": 53,
    "start_time": "2024-12-28T10:22:40.729Z"
   },
   {
    "duration": 301,
    "start_time": "2024-12-28T10:22:40.784Z"
   },
   {
    "duration": 2070,
    "start_time": "2024-12-28T10:22:41.086Z"
   },
   {
    "duration": 505,
    "start_time": "2024-12-28T10:22:43.159Z"
   },
   {
    "duration": 9,
    "start_time": "2024-12-28T10:22:43.666Z"
   },
   {
    "duration": 248,
    "start_time": "2024-12-28T10:22:43.734Z"
   },
   {
    "duration": 62,
    "start_time": "2024-12-28T10:22:43.984Z"
   },
   {
    "duration": 27,
    "start_time": "2024-12-28T10:22:44.048Z"
   },
   {
    "duration": 30,
    "start_time": "2024-12-28T10:22:44.077Z"
   },
   {
    "duration": 11,
    "start_time": "2024-12-28T10:22:44.130Z"
   },
   {
    "duration": 368,
    "start_time": "2024-12-28T10:22:44.147Z"
   },
   {
    "duration": 3,
    "start_time": "2024-12-28T10:22:44.517Z"
   },
   {
    "duration": 160,
    "start_time": "2024-12-28T10:22:44.530Z"
   },
   {
    "duration": 114,
    "start_time": "2024-12-28T10:22:44.691Z"
   },
   {
    "duration": 191,
    "start_time": "2024-12-28T10:22:44.807Z"
   },
   {
    "duration": 282,
    "start_time": "2024-12-28T10:22:45.000Z"
   },
   {
    "duration": 36,
    "start_time": "2024-12-28T10:22:45.284Z"
   },
   {
    "duration": 5107,
    "start_time": "2024-12-28T10:22:45.337Z"
   },
   {
    "duration": 10,
    "start_time": "2024-12-28T10:22:50.449Z"
   },
   {
    "duration": 135,
    "start_time": "2024-12-28T10:22:50.461Z"
   },
   {
    "duration": 32,
    "start_time": "2024-12-28T10:22:50.597Z"
   },
   {
    "duration": 177,
    "start_time": "2024-12-28T10:22:50.642Z"
   },
   {
    "duration": 58,
    "start_time": "2024-12-28T10:22:50.821Z"
   },
   {
    "duration": 230,
    "start_time": "2024-12-28T10:22:50.880Z"
   },
   {
    "duration": 151,
    "start_time": "2024-12-28T10:22:51.112Z"
   },
   {
    "duration": 101,
    "start_time": "2024-12-28T10:22:51.265Z"
   },
   {
    "duration": 204,
    "start_time": "2024-12-28T10:22:51.368Z"
   },
   {
    "duration": 398,
    "start_time": "2024-12-28T10:22:51.573Z"
   },
   {
    "duration": 8,
    "start_time": "2024-12-28T10:22:51.973Z"
   },
   {
    "duration": 47,
    "start_time": "2024-12-28T12:10:47.667Z"
   },
   {
    "duration": 6,
    "start_time": "2024-12-28T12:10:54.950Z"
   },
   {
    "duration": 8,
    "start_time": "2024-12-28T12:11:10.243Z"
   },
   {
    "duration": 2381,
    "start_time": "2024-12-28T12:26:06.468Z"
   },
   {
    "duration": 1251,
    "start_time": "2024-12-28T12:26:08.852Z"
   },
   {
    "duration": 3050,
    "start_time": "2024-12-28T12:26:10.105Z"
   },
   {
    "duration": 3,
    "start_time": "2024-12-28T12:26:13.156Z"
   },
   {
    "duration": 70,
    "start_time": "2024-12-28T12:26:13.162Z"
   },
   {
    "duration": 4,
    "start_time": "2024-12-28T12:26:13.233Z"
   },
   {
    "duration": 15,
    "start_time": "2024-12-28T12:26:13.238Z"
   },
   {
    "duration": 76,
    "start_time": "2024-12-28T12:26:13.255Z"
   },
   {
    "duration": 33,
    "start_time": "2024-12-28T12:26:13.333Z"
   },
   {
    "duration": 478,
    "start_time": "2024-12-28T12:26:13.367Z"
   },
   {
    "duration": 1307,
    "start_time": "2024-12-28T12:26:13.847Z"
   },
   {
    "duration": 176,
    "start_time": "2024-12-28T12:26:15.156Z"
   },
   {
    "duration": 9,
    "start_time": "2024-12-28T12:26:15.334Z"
   },
   {
    "duration": 113,
    "start_time": "2024-12-28T12:26:15.346Z"
   },
   {
    "duration": 49,
    "start_time": "2024-12-28T12:26:15.461Z"
   },
   {
    "duration": 60,
    "start_time": "2024-12-28T12:26:15.512Z"
   },
   {
    "duration": 25,
    "start_time": "2024-12-28T12:26:15.574Z"
   },
   {
    "duration": 28,
    "start_time": "2024-12-28T12:26:15.601Z"
   },
   {
    "duration": 332,
    "start_time": "2024-12-28T12:26:15.631Z"
   },
   {
    "duration": 3,
    "start_time": "2024-12-28T12:26:15.964Z"
   },
   {
    "duration": 128,
    "start_time": "2024-12-28T12:26:15.969Z"
   },
   {
    "duration": 100,
    "start_time": "2024-12-28T12:26:16.098Z"
   },
   {
    "duration": 158,
    "start_time": "2024-12-28T12:26:16.200Z"
   },
   {
    "duration": 242,
    "start_time": "2024-12-28T12:26:16.360Z"
   },
   {
    "duration": 38,
    "start_time": "2024-12-28T12:26:16.603Z"
   },
   {
    "duration": 3475,
    "start_time": "2024-12-28T12:26:16.643Z"
   },
   {
    "duration": 14,
    "start_time": "2024-12-28T12:26:20.120Z"
   },
   {
    "duration": 209,
    "start_time": "2024-12-28T12:26:20.135Z"
   },
   {
    "duration": 22,
    "start_time": "2024-12-28T12:26:20.345Z"
   },
   {
    "duration": 182,
    "start_time": "2024-12-28T12:26:20.369Z"
   },
   {
    "duration": 41,
    "start_time": "2024-12-28T12:26:20.553Z"
   },
   {
    "duration": 92,
    "start_time": "2024-12-28T12:26:20.596Z"
   },
   {
    "duration": 47,
    "start_time": "2024-12-28T12:26:20.690Z"
   },
   {
    "duration": 5,
    "start_time": "2024-12-28T12:26:20.738Z"
   },
   {
    "duration": 96,
    "start_time": "2024-12-28T12:26:20.745Z"
   },
   {
    "duration": 117,
    "start_time": "2024-12-28T12:26:20.843Z"
   },
   {
    "duration": 92,
    "start_time": "2024-12-28T12:26:20.962Z"
   },
   {
    "duration": 184,
    "start_time": "2024-12-28T12:26:21.056Z"
   },
   {
    "duration": 363,
    "start_time": "2024-12-28T12:26:21.242Z"
   },
   {
    "duration": 4,
    "start_time": "2024-12-28T12:26:21.607Z"
   },
   {
    "duration": 77,
    "start_time": "2024-12-28T12:28:41.251Z"
   },
   {
    "duration": 127,
    "start_time": "2024-12-28T12:47:59.080Z"
   },
   {
    "duration": 392,
    "start_time": "2024-12-28T12:48:21.993Z"
   },
   {
    "duration": 106,
    "start_time": "2024-12-28T12:49:41.896Z"
   },
   {
    "duration": 2589,
    "start_time": "2024-12-28T12:51:37.912Z"
   },
   {
    "duration": 1239,
    "start_time": "2024-12-28T12:51:40.503Z"
   },
   {
    "duration": 2697,
    "start_time": "2024-12-28T12:51:41.745Z"
   },
   {
    "duration": 4,
    "start_time": "2024-12-28T12:51:44.446Z"
   },
   {
    "duration": 23,
    "start_time": "2024-12-28T12:51:44.451Z"
   },
   {
    "duration": 4,
    "start_time": "2024-12-28T12:51:44.476Z"
   },
   {
    "duration": 25,
    "start_time": "2024-12-28T12:51:44.481Z"
   },
   {
    "duration": 80,
    "start_time": "2024-12-28T12:51:44.508Z"
   },
   {
    "duration": 27,
    "start_time": "2024-12-28T12:51:44.590Z"
   },
   {
    "duration": 266,
    "start_time": "2024-12-28T12:51:44.620Z"
   },
   {
    "duration": 1069,
    "start_time": "2024-12-28T12:51:44.887Z"
   },
   {
    "duration": 223,
    "start_time": "2024-12-28T12:51:45.958Z"
   },
   {
    "duration": 10,
    "start_time": "2024-12-28T12:51:46.182Z"
   },
   {
    "duration": 123,
    "start_time": "2024-12-28T12:51:46.194Z"
   },
   {
    "duration": 63,
    "start_time": "2024-12-28T12:51:46.319Z"
   },
   {
    "duration": 27,
    "start_time": "2024-12-28T12:51:46.384Z"
   },
   {
    "duration": 47,
    "start_time": "2024-12-28T12:51:46.413Z"
   },
   {
    "duration": 10,
    "start_time": "2024-12-28T12:51:46.462Z"
   },
   {
    "duration": 367,
    "start_time": "2024-12-28T12:51:46.474Z"
   },
   {
    "duration": 3,
    "start_time": "2024-12-28T12:51:46.844Z"
   },
   {
    "duration": 107,
    "start_time": "2024-12-28T12:51:46.849Z"
   },
   {
    "duration": 117,
    "start_time": "2024-12-28T12:51:46.958Z"
   },
   {
    "duration": 170,
    "start_time": "2024-12-28T12:51:47.077Z"
   },
   {
    "duration": 263,
    "start_time": "2024-12-28T12:51:47.249Z"
   },
   {
    "duration": 45,
    "start_time": "2024-12-28T12:51:47.513Z"
   },
   {
    "duration": 4760,
    "start_time": "2024-12-28T12:51:47.561Z"
   },
   {
    "duration": 20,
    "start_time": "2024-12-28T12:51:52.323Z"
   },
   {
    "duration": 72,
    "start_time": "2024-12-28T12:51:52.348Z"
   },
   {
    "duration": 27,
    "start_time": "2024-12-28T12:51:52.421Z"
   },
   {
    "duration": 160,
    "start_time": "2024-12-28T12:51:52.450Z"
   },
   {
    "duration": 63,
    "start_time": "2024-12-28T12:51:52.611Z"
   },
   {
    "duration": 95,
    "start_time": "2024-12-28T12:51:52.676Z"
   },
   {
    "duration": 42,
    "start_time": "2024-12-28T12:51:52.772Z"
   },
   {
    "duration": 6,
    "start_time": "2024-12-28T12:51:52.815Z"
   },
   {
    "duration": 20,
    "start_time": "2024-12-28T12:51:52.830Z"
   },
   {
    "duration": 128,
    "start_time": "2024-12-28T12:51:52.853Z"
   },
   {
    "duration": 384,
    "start_time": "2024-12-28T12:51:52.983Z"
   },
   {
    "duration": 133,
    "start_time": "2024-12-28T12:51:53.369Z"
   },
   {
    "duration": 71,
    "start_time": "2024-12-28T12:51:53.503Z"
   },
   {
    "duration": 185,
    "start_time": "2024-12-28T12:51:53.575Z"
   },
   {
    "duration": 354,
    "start_time": "2024-12-28T12:51:53.761Z"
   },
   {
    "duration": 4,
    "start_time": "2024-12-28T12:51:54.117Z"
   },
   {
    "duration": 58,
    "start_time": "2024-12-28T12:52:51.786Z"
   },
   {
    "duration": 2439,
    "start_time": "2024-12-28T12:53:58.896Z"
   },
   {
    "duration": 1273,
    "start_time": "2024-12-28T12:54:01.337Z"
   },
   {
    "duration": 2001,
    "start_time": "2024-12-28T12:54:02.612Z"
   },
   {
    "duration": 3,
    "start_time": "2024-12-28T12:54:04.615Z"
   },
   {
    "duration": 23,
    "start_time": "2024-12-28T12:54:04.620Z"
   },
   {
    "duration": 16,
    "start_time": "2024-12-28T12:54:04.644Z"
   },
   {
    "duration": 14,
    "start_time": "2024-12-28T12:54:04.661Z"
   },
   {
    "duration": 74,
    "start_time": "2024-12-28T12:54:04.676Z"
   },
   {
    "duration": 26,
    "start_time": "2024-12-28T12:54:04.752Z"
   },
   {
    "duration": 260,
    "start_time": "2024-12-28T12:54:04.779Z"
   },
   {
    "duration": 1024,
    "start_time": "2024-12-28T12:54:05.041Z"
   },
   {
    "duration": 404,
    "start_time": "2024-12-28T12:54:06.068Z"
   },
   {
    "duration": 63,
    "start_time": "2024-12-28T12:54:06.474Z"
   },
   {
    "duration": 226,
    "start_time": "2024-12-28T12:54:06.540Z"
   },
   {
    "duration": 100,
    "start_time": "2024-12-28T12:54:06.768Z"
   },
   {
    "duration": 81,
    "start_time": "2024-12-28T12:54:06.870Z"
   },
   {
    "duration": 80,
    "start_time": "2024-12-28T12:54:06.953Z"
   },
   {
    "duration": 17,
    "start_time": "2024-12-28T12:54:07.034Z"
   },
   {
    "duration": 476,
    "start_time": "2024-12-28T12:54:07.054Z"
   },
   {
    "duration": 3,
    "start_time": "2024-12-28T12:54:07.532Z"
   },
   {
    "duration": 103,
    "start_time": "2024-12-28T12:54:07.537Z"
   },
   {
    "duration": 121,
    "start_time": "2024-12-28T12:54:07.642Z"
   },
   {
    "duration": 156,
    "start_time": "2024-12-28T12:54:07.765Z"
   },
   {
    "duration": 230,
    "start_time": "2024-12-28T12:54:07.931Z"
   },
   {
    "duration": 35,
    "start_time": "2024-12-28T12:54:08.162Z"
   },
   {
    "duration": 4032,
    "start_time": "2024-12-28T12:54:08.198Z"
   },
   {
    "duration": 5,
    "start_time": "2024-12-28T12:54:12.232Z"
   },
   {
    "duration": 26,
    "start_time": "2024-12-28T12:54:12.239Z"
   },
   {
    "duration": 72,
    "start_time": "2024-12-28T12:54:12.267Z"
   },
   {
    "duration": 301,
    "start_time": "2024-12-28T12:54:12.340Z"
   },
   {
    "duration": 39,
    "start_time": "2024-12-28T12:54:12.643Z"
   },
   {
    "duration": 96,
    "start_time": "2024-12-28T12:54:12.684Z"
   },
   {
    "duration": 50,
    "start_time": "2024-12-28T12:54:12.782Z"
   },
   {
    "duration": 5,
    "start_time": "2024-12-28T12:54:12.834Z"
   },
   {
    "duration": 15,
    "start_time": "2024-12-28T12:54:12.840Z"
   },
   {
    "duration": 124,
    "start_time": "2024-12-28T12:54:12.856Z"
   },
   {
    "duration": 397,
    "start_time": "2024-12-28T12:54:12.982Z"
   },
   {
    "duration": 126,
    "start_time": "2024-12-28T12:54:13.380Z"
   },
   {
    "duration": 35,
    "start_time": "2024-12-28T12:54:13.508Z"
   },
   {
    "duration": 53,
    "start_time": "2024-12-28T12:54:13.545Z"
   },
   {
    "duration": 385,
    "start_time": "2024-12-28T12:54:13.602Z"
   },
   {
    "duration": 4,
    "start_time": "2024-12-28T12:54:13.989Z"
   },
   {
    "duration": 308,
    "start_time": "2024-12-28T12:55:42.597Z"
   },
   {
    "duration": 133,
    "start_time": "2024-12-28T12:55:51.559Z"
   },
   {
    "duration": 104,
    "start_time": "2024-12-28T12:59:06.226Z"
   },
   {
    "duration": 80,
    "start_time": "2024-12-28T13:07:55.306Z"
   },
   {
    "duration": 80,
    "start_time": "2024-12-28T13:08:29.696Z"
   },
   {
    "duration": 317,
    "start_time": "2024-12-28T13:11:53.161Z"
   },
   {
    "duration": 71,
    "start_time": "2024-12-28T13:13:35.872Z"
   },
   {
    "duration": 76,
    "start_time": "2024-12-28T13:13:59.359Z"
   },
   {
    "duration": 83,
    "start_time": "2024-12-28T13:18:47.678Z"
   },
   {
    "duration": 80,
    "start_time": "2024-12-28T13:19:22.196Z"
   },
   {
    "duration": 83,
    "start_time": "2024-12-28T13:19:45.677Z"
   },
   {
    "duration": 21,
    "start_time": "2024-12-28T13:21:10.927Z"
   },
   {
    "duration": 90,
    "start_time": "2024-12-28T13:32:43.410Z"
   },
   {
    "duration": 87,
    "start_time": "2024-12-28T13:36:34.219Z"
   },
   {
    "duration": 24,
    "start_time": "2024-12-28T13:37:21.928Z"
   },
   {
    "duration": 30,
    "start_time": "2024-12-28T13:37:27.324Z"
   },
   {
    "duration": 47,
    "start_time": "2024-12-28T13:37:32.277Z"
   },
   {
    "duration": 116,
    "start_time": "2024-12-28T13:40:48.447Z"
   },
   {
    "duration": 608,
    "start_time": "2024-12-28T13:41:14.883Z"
   },
   {
    "duration": 2,
    "start_time": "2024-12-28T14:13:40.353Z"
   },
   {
    "duration": 6,
    "start_time": "2024-12-28T14:14:00.140Z"
   },
   {
    "duration": 10,
    "start_time": "2024-12-28T14:14:27.052Z"
   },
   {
    "duration": 10,
    "start_time": "2024-12-28T14:14:59.003Z"
   },
   {
    "duration": 128,
    "start_time": "2024-12-28T14:15:48.696Z"
   },
   {
    "duration": 86,
    "start_time": "2024-12-28T14:16:17.251Z"
   },
   {
    "duration": 87,
    "start_time": "2024-12-28T14:16:33.348Z"
   },
   {
    "duration": 116,
    "start_time": "2024-12-28T14:16:40.051Z"
   },
   {
    "duration": 9,
    "start_time": "2024-12-28T14:17:55.444Z"
   },
   {
    "duration": 7,
    "start_time": "2024-12-28T14:18:10.209Z"
   },
   {
    "duration": 107,
    "start_time": "2024-12-28T14:25:28.604Z"
   },
   {
    "duration": 4,
    "start_time": "2024-12-28T14:29:06.456Z"
   },
   {
    "duration": 4,
    "start_time": "2024-12-28T14:29:30.226Z"
   },
   {
    "duration": 10,
    "start_time": "2024-12-28T14:29:50.989Z"
   },
   {
    "duration": 19,
    "start_time": "2024-12-28T14:30:04.187Z"
   },
   {
    "duration": 6,
    "start_time": "2024-12-28T14:30:46.434Z"
   },
   {
    "duration": 11,
    "start_time": "2024-12-28T14:30:50.284Z"
   },
   {
    "duration": 115,
    "start_time": "2024-12-28T14:30:52.623Z"
   },
   {
    "duration": 2490,
    "start_time": "2024-12-28T14:31:15.313Z"
   },
   {
    "duration": 1277,
    "start_time": "2024-12-28T14:31:17.806Z"
   },
   {
    "duration": 2759,
    "start_time": "2024-12-28T14:31:19.085Z"
   },
   {
    "duration": 3,
    "start_time": "2024-12-28T14:31:21.847Z"
   },
   {
    "duration": 30,
    "start_time": "2024-12-28T14:31:21.852Z"
   },
   {
    "duration": 4,
    "start_time": "2024-12-28T14:31:21.884Z"
   },
   {
    "duration": 41,
    "start_time": "2024-12-28T14:31:21.890Z"
   },
   {
    "duration": 49,
    "start_time": "2024-12-28T14:31:21.933Z"
   },
   {
    "duration": 106,
    "start_time": "2024-12-28T14:31:21.984Z"
   },
   {
    "duration": 215,
    "start_time": "2024-12-28T14:31:22.093Z"
   },
   {
    "duration": 1013,
    "start_time": "2024-12-28T14:31:22.309Z"
   },
   {
    "duration": 179,
    "start_time": "2024-12-28T14:31:23.324Z"
   },
   {
    "duration": 10,
    "start_time": "2024-12-28T14:31:23.505Z"
   },
   {
    "duration": 163,
    "start_time": "2024-12-28T14:31:23.517Z"
   },
   {
    "duration": 62,
    "start_time": "2024-12-28T14:31:23.682Z"
   },
   {
    "duration": 27,
    "start_time": "2024-12-28T14:31:23.746Z"
   },
   {
    "duration": 67,
    "start_time": "2024-12-28T14:31:23.775Z"
   },
   {
    "duration": 16,
    "start_time": "2024-12-28T14:31:23.844Z"
   },
   {
    "duration": 468,
    "start_time": "2024-12-28T14:31:23.862Z"
   },
   {
    "duration": 3,
    "start_time": "2024-12-28T14:31:24.332Z"
   },
   {
    "duration": 135,
    "start_time": "2024-12-28T14:31:24.337Z"
   },
   {
    "duration": 192,
    "start_time": "2024-12-28T14:31:24.474Z"
   },
   {
    "duration": 306,
    "start_time": "2024-12-28T14:31:24.668Z"
   },
   {
    "duration": 438,
    "start_time": "2024-12-28T14:31:25.031Z"
   },
   {
    "duration": 87,
    "start_time": "2024-12-28T14:31:25.471Z"
   },
   {
    "duration": 3481,
    "start_time": "2024-12-28T14:31:25.559Z"
   },
   {
    "duration": 7,
    "start_time": "2024-12-28T14:31:29.042Z"
   },
   {
    "duration": 33,
    "start_time": "2024-12-28T14:31:29.053Z"
   },
   {
    "duration": 48,
    "start_time": "2024-12-28T14:31:29.088Z"
   },
   {
    "duration": 150,
    "start_time": "2024-12-28T14:31:29.138Z"
   },
   {
    "duration": 44,
    "start_time": "2024-12-28T14:31:29.290Z"
   },
   {
    "duration": 95,
    "start_time": "2024-12-28T14:31:29.336Z"
   },
   {
    "duration": 42,
    "start_time": "2024-12-28T14:31:29.433Z"
   },
   {
    "duration": 6,
    "start_time": "2024-12-28T14:31:29.477Z"
   },
   {
    "duration": 127,
    "start_time": "2024-12-28T14:31:29.484Z"
   },
   {
    "duration": 118,
    "start_time": "2024-12-28T14:31:29.613Z"
   },
   {
    "duration": 378,
    "start_time": "2024-12-28T14:31:29.733Z"
   },
   {
    "duration": 104,
    "start_time": "2024-12-28T14:31:30.112Z"
   },
   {
    "duration": 82,
    "start_time": "2024-12-28T14:31:30.218Z"
   },
   {
    "duration": 31,
    "start_time": "2024-12-28T14:31:30.301Z"
   },
   {
    "duration": 39,
    "start_time": "2024-12-28T14:31:30.334Z"
   },
   {
    "duration": 2,
    "start_time": "2024-12-28T14:31:30.375Z"
   },
   {
    "duration": 15,
    "start_time": "2024-12-28T14:31:30.379Z"
   },
   {
    "duration": 34,
    "start_time": "2024-12-28T14:31:30.395Z"
   },
   {
    "duration": 28,
    "start_time": "2024-12-28T14:31:30.430Z"
   },
   {
    "duration": 147,
    "start_time": "2024-12-28T14:31:30.460Z"
   },
   {
    "duration": 27,
    "start_time": "2024-12-28T14:31:30.608Z"
   },
   {
    "duration": 85,
    "start_time": "2024-12-28T14:33:39.474Z"
   },
   {
    "duration": 12,
    "start_time": "2024-12-28T14:34:32.169Z"
   },
   {
    "duration": 114,
    "start_time": "2024-12-28T14:34:55.512Z"
   },
   {
    "duration": 2924,
    "start_time": "2024-12-28T14:39:06.032Z"
   },
   {
    "duration": 1587,
    "start_time": "2024-12-28T14:39:08.959Z"
   },
   {
    "duration": 2478,
    "start_time": "2024-12-28T14:39:10.548Z"
   },
   {
    "duration": 6,
    "start_time": "2024-12-28T14:39:13.028Z"
   },
   {
    "duration": 36,
    "start_time": "2024-12-28T14:39:13.036Z"
   },
   {
    "duration": 4,
    "start_time": "2024-12-28T14:39:13.073Z"
   },
   {
    "duration": 37,
    "start_time": "2024-12-28T14:39:13.078Z"
   },
   {
    "duration": 63,
    "start_time": "2024-12-28T14:39:13.117Z"
   },
   {
    "duration": 28,
    "start_time": "2024-12-28T14:39:13.182Z"
   },
   {
    "duration": 274,
    "start_time": "2024-12-28T14:39:13.211Z"
   },
   {
    "duration": 1071,
    "start_time": "2024-12-28T14:39:13.487Z"
   },
   {
    "duration": 194,
    "start_time": "2024-12-28T14:39:14.559Z"
   },
   {
    "duration": 9,
    "start_time": "2024-12-28T14:39:14.755Z"
   },
   {
    "duration": 121,
    "start_time": "2024-12-28T14:39:14.767Z"
   },
   {
    "duration": 60,
    "start_time": "2024-12-28T14:39:14.890Z"
   },
   {
    "duration": 25,
    "start_time": "2024-12-28T14:39:14.951Z"
   },
   {
    "duration": 27,
    "start_time": "2024-12-28T14:39:14.978Z"
   },
   {
    "duration": 37,
    "start_time": "2024-12-28T14:39:15.007Z"
   },
   {
    "duration": 366,
    "start_time": "2024-12-28T14:39:15.045Z"
   },
   {
    "duration": 4,
    "start_time": "2024-12-28T14:39:15.412Z"
   },
   {
    "duration": 107,
    "start_time": "2024-12-28T14:39:15.417Z"
   },
   {
    "duration": 87,
    "start_time": "2024-12-28T14:39:15.531Z"
   },
   {
    "duration": 163,
    "start_time": "2024-12-28T14:39:15.620Z"
   },
   {
    "duration": 284,
    "start_time": "2024-12-28T14:39:15.785Z"
   },
   {
    "duration": 42,
    "start_time": "2024-12-28T14:39:16.071Z"
   },
   {
    "duration": 3557,
    "start_time": "2024-12-28T14:39:16.115Z"
   },
   {
    "duration": 6,
    "start_time": "2024-12-28T14:39:19.673Z"
   },
   {
    "duration": 33,
    "start_time": "2024-12-28T14:39:19.680Z"
   },
   {
    "duration": 34,
    "start_time": "2024-12-28T14:39:19.714Z"
   },
   {
    "duration": 163,
    "start_time": "2024-12-28T14:39:19.749Z"
   },
   {
    "duration": 46,
    "start_time": "2024-12-28T14:39:19.914Z"
   },
   {
    "duration": 207,
    "start_time": "2024-12-28T14:39:19.962Z"
   },
   {
    "duration": 43,
    "start_time": "2024-12-28T14:39:20.170Z"
   },
   {
    "duration": 18,
    "start_time": "2024-12-28T14:39:20.214Z"
   },
   {
    "duration": 15,
    "start_time": "2024-12-28T14:39:20.234Z"
   },
   {
    "duration": 125,
    "start_time": "2024-12-28T14:39:20.250Z"
   },
   {
    "duration": 373,
    "start_time": "2024-12-28T14:39:20.376Z"
   },
   {
    "duration": 108,
    "start_time": "2024-12-28T14:39:20.751Z"
   },
   {
    "duration": 87,
    "start_time": "2024-12-28T14:39:20.860Z"
   },
   {
    "duration": 15,
    "start_time": "2024-12-28T14:39:20.949Z"
   },
   {
    "duration": 63,
    "start_time": "2024-12-28T14:39:20.968Z"
   },
   {
    "duration": 110,
    "start_time": "2024-12-28T14:39:21.033Z"
   },
   {
    "duration": 0,
    "start_time": "2024-12-28T14:39:21.144Z"
   },
   {
    "duration": 0,
    "start_time": "2024-12-28T14:39:21.145Z"
   },
   {
    "duration": 0,
    "start_time": "2024-12-28T14:39:21.146Z"
   },
   {
    "duration": 0,
    "start_time": "2024-12-28T14:39:21.148Z"
   },
   {
    "duration": 0,
    "start_time": "2024-12-28T14:39:21.149Z"
   },
   {
    "duration": 3,
    "start_time": "2024-12-28T14:39:50.446Z"
   },
   {
    "duration": 9,
    "start_time": "2024-12-28T14:39:51.088Z"
   },
   {
    "duration": 4,
    "start_time": "2024-12-28T14:40:53.017Z"
   },
   {
    "duration": 6,
    "start_time": "2024-12-28T14:41:17.236Z"
   },
   {
    "duration": 3,
    "start_time": "2024-12-28T14:41:27.315Z"
   },
   {
    "duration": 11,
    "start_time": "2024-12-28T14:41:29.352Z"
   },
   {
    "duration": 3,
    "start_time": "2024-12-28T14:41:46.215Z"
   },
   {
    "duration": 3,
    "start_time": "2024-12-28T14:41:47.882Z"
   },
   {
    "duration": 10,
    "start_time": "2024-12-28T14:41:48.548Z"
   },
   {
    "duration": 3,
    "start_time": "2024-12-28T14:42:02.914Z"
   },
   {
    "duration": 10,
    "start_time": "2024-12-28T14:42:03.524Z"
   },
   {
    "duration": 4,
    "start_time": "2024-12-28T14:42:04.546Z"
   },
   {
    "duration": 2485,
    "start_time": "2024-12-28T14:42:16.786Z"
   },
   {
    "duration": 1219,
    "start_time": "2024-12-28T14:42:19.273Z"
   },
   {
    "duration": 1968,
    "start_time": "2024-12-28T14:42:20.494Z"
   },
   {
    "duration": 3,
    "start_time": "2024-12-28T14:42:22.464Z"
   },
   {
    "duration": 71,
    "start_time": "2024-12-28T14:42:22.469Z"
   },
   {
    "duration": 4,
    "start_time": "2024-12-28T14:42:22.543Z"
   },
   {
    "duration": 7,
    "start_time": "2024-12-28T14:42:22.549Z"
   },
   {
    "duration": 48,
    "start_time": "2024-12-28T14:42:22.558Z"
   },
   {
    "duration": 47,
    "start_time": "2024-12-28T14:42:22.608Z"
   },
   {
    "duration": 244,
    "start_time": "2024-12-28T14:42:22.658Z"
   },
   {
    "duration": 1737,
    "start_time": "2024-12-28T14:42:22.903Z"
   },
   {
    "duration": 181,
    "start_time": "2024-12-28T14:42:24.641Z"
   },
   {
    "duration": 13,
    "start_time": "2024-12-28T14:42:24.824Z"
   },
   {
    "duration": 193,
    "start_time": "2024-12-28T14:42:24.839Z"
   },
   {
    "duration": 49,
    "start_time": "2024-12-28T14:42:25.034Z"
   },
   {
    "duration": 26,
    "start_time": "2024-12-28T14:42:25.084Z"
   },
   {
    "duration": 43,
    "start_time": "2024-12-28T14:42:25.112Z"
   },
   {
    "duration": 10,
    "start_time": "2024-12-28T14:42:25.157Z"
   },
   {
    "duration": 343,
    "start_time": "2024-12-28T14:42:25.168Z"
   },
   {
    "duration": 3,
    "start_time": "2024-12-28T14:42:25.513Z"
   },
   {
    "duration": 163,
    "start_time": "2024-12-28T14:42:25.518Z"
   },
   {
    "duration": 97,
    "start_time": "2024-12-28T14:42:25.682Z"
   },
   {
    "duration": 156,
    "start_time": "2024-12-28T14:42:25.781Z"
   },
   {
    "duration": 250,
    "start_time": "2024-12-28T14:42:25.939Z"
   },
   {
    "duration": 43,
    "start_time": "2024-12-28T14:42:26.190Z"
   },
   {
    "duration": 3258,
    "start_time": "2024-12-28T14:42:26.235Z"
   },
   {
    "duration": 7,
    "start_time": "2024-12-28T14:42:29.495Z"
   },
   {
    "duration": 95,
    "start_time": "2024-12-28T14:42:29.506Z"
   },
   {
    "duration": 37,
    "start_time": "2024-12-28T14:42:29.603Z"
   },
   {
    "duration": 171,
    "start_time": "2024-12-28T14:42:29.642Z"
   },
   {
    "duration": 43,
    "start_time": "2024-12-28T14:42:29.814Z"
   },
   {
    "duration": 99,
    "start_time": "2024-12-28T14:42:29.859Z"
   },
   {
    "duration": 42,
    "start_time": "2024-12-28T14:42:29.960Z"
   },
   {
    "duration": 6,
    "start_time": "2024-12-28T14:42:30.004Z"
   },
   {
    "duration": 150,
    "start_time": "2024-12-28T14:42:30.012Z"
   },
   {
    "duration": 130,
    "start_time": "2024-12-28T14:42:30.164Z"
   },
   {
    "duration": 358,
    "start_time": "2024-12-28T14:42:30.295Z"
   },
   {
    "duration": 104,
    "start_time": "2024-12-28T14:42:30.655Z"
   },
   {
    "duration": 85,
    "start_time": "2024-12-28T14:42:30.760Z"
   },
   {
    "duration": 14,
    "start_time": "2024-12-28T14:42:30.846Z"
   },
   {
    "duration": 133,
    "start_time": "2024-12-28T14:42:30.862Z"
   },
   {
    "duration": 3,
    "start_time": "2024-12-28T14:42:30.997Z"
   },
   {
    "duration": 49,
    "start_time": "2024-12-28T14:42:31.002Z"
   },
   {
    "duration": 4,
    "start_time": "2024-12-28T14:42:31.053Z"
   },
   {
    "duration": 7,
    "start_time": "2024-12-28T14:42:31.058Z"
   },
   {
    "duration": 9,
    "start_time": "2024-12-28T14:42:31.066Z"
   },
   {
    "duration": 132,
    "start_time": "2024-12-28T14:42:31.077Z"
   },
   {
    "duration": 1479,
    "start_time": "2024-12-28T14:43:45.116Z"
   },
   {
    "duration": 8,
    "start_time": "2024-12-28T14:44:00.707Z"
   },
   {
    "duration": 4,
    "start_time": "2024-12-28T14:44:23.089Z"
   },
   {
    "duration": 5,
    "start_time": "2024-12-28T14:45:07.529Z"
   },
   {
    "duration": 9,
    "start_time": "2024-12-28T14:45:08.558Z"
   },
   {
    "duration": 4,
    "start_time": "2024-12-28T14:45:25.143Z"
   },
   {
    "duration": 4,
    "start_time": "2024-12-28T14:45:44.293Z"
   },
   {
    "duration": 6,
    "start_time": "2024-12-28T14:45:48.810Z"
   },
   {
    "duration": 12,
    "start_time": "2024-12-28T14:48:56.390Z"
   },
   {
    "duration": 28,
    "start_time": "2024-12-28T14:49:06.503Z"
   },
   {
    "duration": 110,
    "start_time": "2024-12-28T14:49:16.301Z"
   },
   {
    "duration": 12,
    "start_time": "2024-12-28T14:51:44.470Z"
   },
   {
    "duration": 19,
    "start_time": "2024-12-28T14:51:51.392Z"
   },
   {
    "duration": 11,
    "start_time": "2024-12-28T14:52:52.038Z"
   },
   {
    "duration": 10,
    "start_time": "2024-12-28T14:53:41.472Z"
   },
   {
    "duration": 15,
    "start_time": "2024-12-28T15:34:00.666Z"
   },
   {
    "duration": 16,
    "start_time": "2024-12-28T15:34:06.854Z"
   },
   {
    "duration": 30,
    "start_time": "2024-12-28T15:34:41.500Z"
   },
   {
    "duration": 27,
    "start_time": "2024-12-28T15:35:57.249Z"
   },
   {
    "duration": 25,
    "start_time": "2024-12-28T15:38:05.875Z"
   },
   {
    "duration": 27,
    "start_time": "2024-12-28T15:38:12.219Z"
   },
   {
    "duration": 277,
    "start_time": "2024-12-28T15:38:40.016Z"
   },
   {
    "duration": 33,
    "start_time": "2024-12-28T15:39:27.260Z"
   },
   {
    "duration": 248,
    "start_time": "2024-12-28T15:39:32.847Z"
   },
   {
    "duration": 30,
    "start_time": "2024-12-28T15:39:52.575Z"
   },
   {
    "duration": 332,
    "start_time": "2024-12-28T15:39:54.263Z"
   },
   {
    "duration": 11,
    "start_time": "2024-12-28T15:41:37.487Z"
   },
   {
    "duration": 30,
    "start_time": "2024-12-28T15:42:21.448Z"
   },
   {
    "duration": 14,
    "start_time": "2024-12-28T15:42:28.013Z"
   },
   {
    "duration": 266,
    "start_time": "2024-12-28T15:42:38.643Z"
   },
   {
    "duration": 248,
    "start_time": "2024-12-28T15:42:57.032Z"
   },
   {
    "duration": 13,
    "start_time": "2024-12-28T15:45:03.197Z"
   },
   {
    "duration": 15,
    "start_time": "2024-12-28T15:45:15.503Z"
   },
   {
    "duration": 255,
    "start_time": "2024-12-28T15:45:20.321Z"
   },
   {
    "duration": 13,
    "start_time": "2024-12-28T15:48:36.514Z"
   },
   {
    "duration": 214,
    "start_time": "2024-12-28T15:48:38.263Z"
   },
   {
    "duration": 13,
    "start_time": "2024-12-28T15:50:51.098Z"
   },
   {
    "duration": 243,
    "start_time": "2024-12-28T15:50:56.235Z"
   },
   {
    "duration": 13,
    "start_time": "2024-12-28T15:58:28.146Z"
   },
   {
    "duration": 72,
    "start_time": "2024-12-28T15:58:46.530Z"
   },
   {
    "duration": 2447,
    "start_time": "2024-12-28T15:59:08.801Z"
   },
   {
    "duration": 1958,
    "start_time": "2024-12-28T15:59:11.251Z"
   },
   {
    "duration": 2730,
    "start_time": "2024-12-28T15:59:13.210Z"
   },
   {
    "duration": 3,
    "start_time": "2024-12-28T15:59:15.942Z"
   },
   {
    "duration": 30,
    "start_time": "2024-12-28T15:59:15.946Z"
   },
   {
    "duration": 4,
    "start_time": "2024-12-28T15:59:15.977Z"
   },
   {
    "duration": 9,
    "start_time": "2024-12-28T15:59:15.983Z"
   },
   {
    "duration": 48,
    "start_time": "2024-12-28T15:59:15.994Z"
   },
   {
    "duration": 37,
    "start_time": "2024-12-28T15:59:16.045Z"
   },
   {
    "duration": 256,
    "start_time": "2024-12-28T15:59:16.085Z"
   },
   {
    "duration": 966,
    "start_time": "2024-12-28T15:59:16.342Z"
   },
   {
    "duration": 181,
    "start_time": "2024-12-28T15:59:17.310Z"
   },
   {
    "duration": 9,
    "start_time": "2024-12-28T15:59:17.493Z"
   },
   {
    "duration": 108,
    "start_time": "2024-12-28T15:59:17.504Z"
   },
   {
    "duration": 50,
    "start_time": "2024-12-28T15:59:17.614Z"
   },
   {
    "duration": 24,
    "start_time": "2024-12-28T15:59:17.665Z"
   },
   {
    "duration": 43,
    "start_time": "2024-12-28T15:59:17.690Z"
   },
   {
    "duration": 10,
    "start_time": "2024-12-28T15:59:17.735Z"
   },
   {
    "duration": 338,
    "start_time": "2024-12-28T15:59:17.746Z"
   },
   {
    "duration": 2,
    "start_time": "2024-12-28T15:59:18.086Z"
   },
   {
    "duration": 118,
    "start_time": "2024-12-28T15:59:18.090Z"
   },
   {
    "duration": 96,
    "start_time": "2024-12-28T15:59:18.209Z"
   },
   {
    "duration": 152,
    "start_time": "2024-12-28T15:59:18.307Z"
   },
   {
    "duration": 239,
    "start_time": "2024-12-28T15:59:18.461Z"
   },
   {
    "duration": 43,
    "start_time": "2024-12-28T15:59:18.701Z"
   },
   {
    "duration": 3386,
    "start_time": "2024-12-28T15:59:18.745Z"
   },
   {
    "duration": 6,
    "start_time": "2024-12-28T15:59:22.132Z"
   },
   {
    "duration": 37,
    "start_time": "2024-12-28T15:59:22.141Z"
   },
   {
    "duration": 22,
    "start_time": "2024-12-28T15:59:22.179Z"
   },
   {
    "duration": 151,
    "start_time": "2024-12-28T15:59:22.202Z"
   },
   {
    "duration": 43,
    "start_time": "2024-12-28T15:59:22.355Z"
   },
   {
    "duration": 105,
    "start_time": "2024-12-28T15:59:22.399Z"
   },
   {
    "duration": 47,
    "start_time": "2024-12-28T15:59:22.506Z"
   },
   {
    "duration": 6,
    "start_time": "2024-12-28T15:59:22.555Z"
   },
   {
    "duration": 8,
    "start_time": "2024-12-28T15:59:22.563Z"
   },
   {
    "duration": 129,
    "start_time": "2024-12-28T15:59:22.572Z"
   },
   {
    "duration": 117,
    "start_time": "2024-12-28T15:59:22.703Z"
   },
   {
    "duration": 0,
    "start_time": "2024-12-28T15:59:22.829Z"
   },
   {
    "duration": 1,
    "start_time": "2024-12-28T15:59:22.830Z"
   },
   {
    "duration": 0,
    "start_time": "2024-12-28T15:59:22.832Z"
   },
   {
    "duration": 0,
    "start_time": "2024-12-28T15:59:22.832Z"
   },
   {
    "duration": 0,
    "start_time": "2024-12-28T15:59:22.834Z"
   },
   {
    "duration": 0,
    "start_time": "2024-12-28T15:59:22.834Z"
   },
   {
    "duration": 0,
    "start_time": "2024-12-28T15:59:22.836Z"
   },
   {
    "duration": 0,
    "start_time": "2024-12-28T15:59:22.836Z"
   },
   {
    "duration": 1,
    "start_time": "2024-12-28T15:59:22.837Z"
   },
   {
    "duration": 0,
    "start_time": "2024-12-28T15:59:22.838Z"
   },
   {
    "duration": 0,
    "start_time": "2024-12-28T15:59:22.839Z"
   },
   {
    "duration": 0,
    "start_time": "2024-12-28T15:59:22.840Z"
   },
   {
    "duration": 0,
    "start_time": "2024-12-28T15:59:22.841Z"
   },
   {
    "duration": 356,
    "start_time": "2024-12-28T15:59:54.523Z"
   },
   {
    "duration": 2498,
    "start_time": "2024-12-28T16:00:01.213Z"
   },
   {
    "duration": 1398,
    "start_time": "2024-12-28T16:00:03.713Z"
   },
   {
    "duration": 2056,
    "start_time": "2024-12-28T16:00:05.113Z"
   },
   {
    "duration": 4,
    "start_time": "2024-12-28T16:00:07.171Z"
   },
   {
    "duration": 138,
    "start_time": "2024-12-28T16:00:07.176Z"
   },
   {
    "duration": 37,
    "start_time": "2024-12-28T16:00:07.315Z"
   },
   {
    "duration": 21,
    "start_time": "2024-12-28T16:00:07.354Z"
   },
   {
    "duration": 52,
    "start_time": "2024-12-28T16:00:07.377Z"
   },
   {
    "duration": 29,
    "start_time": "2024-12-28T16:00:07.430Z"
   },
   {
    "duration": 230,
    "start_time": "2024-12-28T16:00:07.462Z"
   },
   {
    "duration": 970,
    "start_time": "2024-12-28T16:00:07.694Z"
   },
   {
    "duration": 182,
    "start_time": "2024-12-28T16:00:08.666Z"
   },
   {
    "duration": 10,
    "start_time": "2024-12-28T16:00:08.850Z"
   },
   {
    "duration": 108,
    "start_time": "2024-12-28T16:00:08.861Z"
   },
   {
    "duration": 59,
    "start_time": "2024-12-28T16:00:08.971Z"
   },
   {
    "duration": 26,
    "start_time": "2024-12-28T16:00:09.031Z"
   },
   {
    "duration": 47,
    "start_time": "2024-12-28T16:00:09.058Z"
   },
   {
    "duration": 130,
    "start_time": "2024-12-28T16:00:09.107Z"
   },
   {
    "duration": 370,
    "start_time": "2024-12-28T16:00:09.239Z"
   },
   {
    "duration": 3,
    "start_time": "2024-12-28T16:00:09.611Z"
   },
   {
    "duration": 113,
    "start_time": "2024-12-28T16:00:09.615Z"
   },
   {
    "duration": 83,
    "start_time": "2024-12-28T16:00:09.730Z"
   },
   {
    "duration": 151,
    "start_time": "2024-12-28T16:00:09.814Z"
   },
   {
    "duration": 247,
    "start_time": "2024-12-28T16:00:09.967Z"
   },
   {
    "duration": 35,
    "start_time": "2024-12-28T16:00:10.216Z"
   },
   {
    "duration": 3398,
    "start_time": "2024-12-28T16:00:10.253Z"
   },
   {
    "duration": 6,
    "start_time": "2024-12-28T16:00:13.653Z"
   },
   {
    "duration": 50,
    "start_time": "2024-12-28T16:00:13.662Z"
   },
   {
    "duration": 22,
    "start_time": "2024-12-28T16:00:13.713Z"
   },
   {
    "duration": 149,
    "start_time": "2024-12-28T16:00:13.737Z"
   },
   {
    "duration": 44,
    "start_time": "2024-12-28T16:00:13.888Z"
   },
   {
    "duration": 80,
    "start_time": "2024-12-28T16:00:13.934Z"
   },
   {
    "duration": 58,
    "start_time": "2024-12-28T16:00:14.016Z"
   },
   {
    "duration": 6,
    "start_time": "2024-12-28T16:00:14.076Z"
   },
   {
    "duration": 18,
    "start_time": "2024-12-28T16:00:14.084Z"
   },
   {
    "duration": 132,
    "start_time": "2024-12-28T16:00:14.104Z"
   },
   {
    "duration": 365,
    "start_time": "2024-12-28T16:00:14.238Z"
   },
   {
    "duration": 103,
    "start_time": "2024-12-28T16:00:14.605Z"
   },
   {
    "duration": 80,
    "start_time": "2024-12-28T16:00:14.710Z"
   },
   {
    "duration": 15,
    "start_time": "2024-12-28T16:00:14.791Z"
   },
   {
    "duration": 64,
    "start_time": "2024-12-28T16:00:14.808Z"
   },
   {
    "duration": 105,
    "start_time": "2024-12-28T16:00:14.874Z"
   },
   {
    "duration": 0,
    "start_time": "2024-12-28T16:00:14.980Z"
   },
   {
    "duration": 0,
    "start_time": "2024-12-28T16:00:14.981Z"
   },
   {
    "duration": 0,
    "start_time": "2024-12-28T16:00:14.982Z"
   },
   {
    "duration": 0,
    "start_time": "2024-12-28T16:00:14.983Z"
   },
   {
    "duration": 0,
    "start_time": "2024-12-28T16:00:14.984Z"
   },
   {
    "duration": 0,
    "start_time": "2024-12-28T16:00:14.986Z"
   },
   {
    "duration": 0,
    "start_time": "2024-12-28T16:00:14.987Z"
   },
   {
    "duration": 0,
    "start_time": "2024-12-28T16:00:14.988Z"
   },
   {
    "duration": 12,
    "start_time": "2024-12-28T16:04:00.388Z"
   },
   {
    "duration": 21,
    "start_time": "2024-12-28T16:04:07.793Z"
   },
   {
    "duration": 41,
    "start_time": "2024-12-28T16:04:19.624Z"
   },
   {
    "duration": 32,
    "start_time": "2024-12-28T16:05:48.959Z"
   },
   {
    "duration": 34,
    "start_time": "2024-12-28T16:07:07.890Z"
   },
   {
    "duration": 13,
    "start_time": "2024-12-28T16:07:45.751Z"
   },
   {
    "duration": 9,
    "start_time": "2024-12-28T16:08:07.636Z"
   },
   {
    "duration": 13,
    "start_time": "2024-12-28T16:08:18.126Z"
   },
   {
    "duration": 27,
    "start_time": "2024-12-28T16:09:31.123Z"
   },
   {
    "duration": 46,
    "start_time": "2024-12-28T16:10:01.673Z"
   },
   {
    "duration": 5,
    "start_time": "2024-12-28T16:10:49.461Z"
   },
   {
    "duration": 15,
    "start_time": "2024-12-28T16:10:56.127Z"
   },
   {
    "duration": 12,
    "start_time": "2024-12-28T16:11:24.711Z"
   },
   {
    "duration": 53,
    "start_time": "2024-12-28T16:13:22.484Z"
   },
   {
    "duration": 50,
    "start_time": "2024-12-28T16:14:23.351Z"
   },
   {
    "duration": 10,
    "start_time": "2024-12-28T16:16:24.058Z"
   },
   {
    "duration": 32,
    "start_time": "2024-12-28T16:23:51.470Z"
   },
   {
    "duration": 52,
    "start_time": "2024-12-28T16:25:14.509Z"
   },
   {
    "duration": 50,
    "start_time": "2024-12-28T16:25:51.704Z"
   },
   {
    "duration": 8,
    "start_time": "2024-12-28T16:26:13.455Z"
   },
   {
    "duration": 56,
    "start_time": "2024-12-28T16:27:43.337Z"
   },
   {
    "duration": 7,
    "start_time": "2024-12-28T16:27:48.279Z"
   },
   {
    "duration": 7,
    "start_time": "2024-12-28T16:29:50.219Z"
   },
   {
    "duration": 12,
    "start_time": "2024-12-28T16:30:33.780Z"
   },
   {
    "duration": 22,
    "start_time": "2024-12-28T16:31:02.451Z"
   },
   {
    "duration": 18,
    "start_time": "2024-12-28T16:33:11.061Z"
   },
   {
    "duration": 6,
    "start_time": "2024-12-28T16:33:55.570Z"
   },
   {
    "duration": 15,
    "start_time": "2024-12-28T16:34:04.490Z"
   },
   {
    "duration": 11,
    "start_time": "2024-12-28T16:34:35.667Z"
   },
   {
    "duration": 9,
    "start_time": "2024-12-28T16:41:52.143Z"
   },
   {
    "duration": 2412,
    "start_time": "2024-12-28T16:42:28.572Z"
   },
   {
    "duration": 1645,
    "start_time": "2024-12-28T16:42:30.986Z"
   },
   {
    "duration": 2136,
    "start_time": "2024-12-28T16:42:32.633Z"
   },
   {
    "duration": 3,
    "start_time": "2024-12-28T16:42:34.770Z"
   },
   {
    "duration": 43,
    "start_time": "2024-12-28T16:42:34.775Z"
   },
   {
    "duration": 24,
    "start_time": "2024-12-28T16:42:34.820Z"
   },
   {
    "duration": 17,
    "start_time": "2024-12-28T16:42:34.846Z"
   },
   {
    "duration": 54,
    "start_time": "2024-12-28T16:42:34.865Z"
   },
   {
    "duration": 27,
    "start_time": "2024-12-28T16:42:34.921Z"
   },
   {
    "duration": 232,
    "start_time": "2024-12-28T16:42:34.950Z"
   },
   {
    "duration": 1019,
    "start_time": "2024-12-28T16:42:35.184Z"
   },
   {
    "duration": 178,
    "start_time": "2024-12-28T16:42:36.205Z"
   },
   {
    "duration": 9,
    "start_time": "2024-12-28T16:42:36.385Z"
   },
   {
    "duration": 110,
    "start_time": "2024-12-28T16:42:36.397Z"
   },
   {
    "duration": 65,
    "start_time": "2024-12-28T16:42:36.508Z"
   },
   {
    "duration": 29,
    "start_time": "2024-12-28T16:42:36.575Z"
   },
   {
    "duration": 43,
    "start_time": "2024-12-28T16:42:36.606Z"
   },
   {
    "duration": 11,
    "start_time": "2024-12-28T16:42:36.650Z"
   },
   {
    "duration": 343,
    "start_time": "2024-12-28T16:42:36.662Z"
   },
   {
    "duration": 3,
    "start_time": "2024-12-28T16:42:37.006Z"
   },
   {
    "duration": 106,
    "start_time": "2024-12-28T16:42:37.011Z"
   },
   {
    "duration": 83,
    "start_time": "2024-12-28T16:42:37.130Z"
   },
   {
    "duration": 253,
    "start_time": "2024-12-28T16:42:37.214Z"
   },
   {
    "duration": 493,
    "start_time": "2024-12-28T16:42:37.469Z"
   },
   {
    "duration": 86,
    "start_time": "2024-12-28T16:42:37.964Z"
   },
   {
    "duration": 5199,
    "start_time": "2024-12-28T16:42:38.052Z"
   },
   {
    "duration": 5,
    "start_time": "2024-12-28T16:42:43.253Z"
   },
   {
    "duration": 31,
    "start_time": "2024-12-28T16:42:43.260Z"
   },
   {
    "duration": 37,
    "start_time": "2024-12-28T16:42:43.293Z"
   },
   {
    "duration": 152,
    "start_time": "2024-12-28T16:42:43.332Z"
   },
   {
    "duration": 49,
    "start_time": "2024-12-28T16:42:43.485Z"
   },
   {
    "duration": 92,
    "start_time": "2024-12-28T16:42:43.535Z"
   },
   {
    "duration": 43,
    "start_time": "2024-12-28T16:42:43.629Z"
   },
   {
    "duration": 5,
    "start_time": "2024-12-28T16:42:43.673Z"
   },
   {
    "duration": 13,
    "start_time": "2024-12-28T16:42:43.680Z"
   },
   {
    "duration": 136,
    "start_time": "2024-12-28T16:42:43.695Z"
   },
   {
    "duration": 367,
    "start_time": "2024-12-28T16:42:43.832Z"
   },
   {
    "duration": 104,
    "start_time": "2024-12-28T16:42:44.200Z"
   },
   {
    "duration": 83,
    "start_time": "2024-12-28T16:42:44.306Z"
   },
   {
    "duration": 14,
    "start_time": "2024-12-28T16:42:44.390Z"
   },
   {
    "duration": 58,
    "start_time": "2024-12-28T16:42:44.408Z"
   },
   {
    "duration": 110,
    "start_time": "2024-12-28T16:42:44.468Z"
   },
   {
    "duration": 0,
    "start_time": "2024-12-28T16:42:44.579Z"
   },
   {
    "duration": 0,
    "start_time": "2024-12-28T16:42:44.581Z"
   },
   {
    "duration": 0,
    "start_time": "2024-12-28T16:42:44.582Z"
   },
   {
    "duration": 0,
    "start_time": "2024-12-28T16:42:44.583Z"
   },
   {
    "duration": 0,
    "start_time": "2024-12-28T16:42:44.584Z"
   },
   {
    "duration": 0,
    "start_time": "2024-12-28T16:42:44.585Z"
   },
   {
    "duration": 0,
    "start_time": "2024-12-28T16:42:44.586Z"
   },
   {
    "duration": 0,
    "start_time": "2024-12-28T16:42:44.587Z"
   },
   {
    "duration": 0,
    "start_time": "2024-12-28T16:42:44.588Z"
   },
   {
    "duration": 0,
    "start_time": "2024-12-28T16:42:44.589Z"
   },
   {
    "duration": 0,
    "start_time": "2024-12-28T16:42:44.590Z"
   },
   {
    "duration": 0,
    "start_time": "2024-12-28T16:42:44.591Z"
   },
   {
    "duration": 0,
    "start_time": "2024-12-28T16:42:44.592Z"
   },
   {
    "duration": 0,
    "start_time": "2024-12-28T16:42:44.593Z"
   },
   {
    "duration": 22,
    "start_time": "2024-12-28T16:42:49.337Z"
   },
   {
    "duration": 57,
    "start_time": "2024-12-28T16:42:52.985Z"
   },
   {
    "duration": 7,
    "start_time": "2024-12-28T16:42:59.567Z"
   },
   {
    "duration": 4,
    "start_time": "2024-12-28T16:43:10.229Z"
   },
   {
    "duration": 11,
    "start_time": "2024-12-28T16:43:10.829Z"
   },
   {
    "duration": 18,
    "start_time": "2024-12-28T16:43:22.876Z"
   },
   {
    "duration": 16,
    "start_time": "2024-12-28T16:44:34.375Z"
   },
   {
    "duration": 19,
    "start_time": "2024-12-28T16:44:40.205Z"
   },
   {
    "duration": 1297,
    "start_time": "2024-12-28T16:45:23.495Z"
   },
   {
    "duration": 19,
    "start_time": "2024-12-28T16:45:39.843Z"
   },
   {
    "duration": 21,
    "start_time": "2024-12-28T16:46:58.419Z"
   },
   {
    "duration": 357,
    "start_time": "2024-12-28T16:51:55.007Z"
   },
   {
    "duration": 57,
    "start_time": "2024-12-28T16:52:11.739Z"
   },
   {
    "duration": 1387,
    "start_time": "2024-12-28T16:52:58.741Z"
   },
   {
    "duration": 2430,
    "start_time": "2024-12-28T16:53:12.144Z"
   },
   {
    "duration": 1205,
    "start_time": "2024-12-28T16:53:14.576Z"
   },
   {
    "duration": 2128,
    "start_time": "2024-12-28T16:53:15.783Z"
   },
   {
    "duration": 3,
    "start_time": "2024-12-28T16:53:17.913Z"
   },
   {
    "duration": 20,
    "start_time": "2024-12-28T16:53:17.918Z"
   },
   {
    "duration": 3,
    "start_time": "2024-12-28T16:53:17.940Z"
   },
   {
    "duration": 6,
    "start_time": "2024-12-28T16:53:17.945Z"
   },
   {
    "duration": 77,
    "start_time": "2024-12-28T16:53:17.953Z"
   },
   {
    "duration": 27,
    "start_time": "2024-12-28T16:53:18.032Z"
   },
   {
    "duration": 245,
    "start_time": "2024-12-28T16:53:18.062Z"
   },
   {
    "duration": 972,
    "start_time": "2024-12-28T16:53:18.308Z"
   },
   {
    "duration": 184,
    "start_time": "2024-12-28T16:53:19.281Z"
   },
   {
    "duration": 10,
    "start_time": "2024-12-28T16:53:19.467Z"
   },
   {
    "duration": 185,
    "start_time": "2024-12-28T16:53:19.481Z"
   },
   {
    "duration": 48,
    "start_time": "2024-12-28T16:53:19.668Z"
   },
   {
    "duration": 35,
    "start_time": "2024-12-28T16:53:19.717Z"
   },
   {
    "duration": 29,
    "start_time": "2024-12-28T16:53:19.753Z"
   },
   {
    "duration": 11,
    "start_time": "2024-12-28T16:53:19.784Z"
   },
   {
    "duration": 325,
    "start_time": "2024-12-28T16:53:19.796Z"
   },
   {
    "duration": 7,
    "start_time": "2024-12-28T16:53:20.123Z"
   },
   {
    "duration": 103,
    "start_time": "2024-12-28T16:53:20.132Z"
   },
   {
    "duration": 81,
    "start_time": "2024-12-28T16:53:20.237Z"
   },
   {
    "duration": 157,
    "start_time": "2024-12-28T16:53:20.319Z"
   },
   {
    "duration": 224,
    "start_time": "2024-12-28T16:53:20.477Z"
   },
   {
    "duration": 38,
    "start_time": "2024-12-28T16:53:20.702Z"
   },
   {
    "duration": 3931,
    "start_time": "2024-12-28T16:53:20.742Z"
   },
   {
    "duration": 60,
    "start_time": "2024-12-28T16:53:24.675Z"
   },
   {
    "duration": 35,
    "start_time": "2024-12-28T16:53:24.736Z"
   },
   {
    "duration": 71,
    "start_time": "2024-12-28T16:53:24.773Z"
   },
   {
    "duration": 293,
    "start_time": "2024-12-28T16:53:24.846Z"
   },
   {
    "duration": 42,
    "start_time": "2024-12-28T16:53:25.140Z"
   },
   {
    "duration": 100,
    "start_time": "2024-12-28T16:53:25.184Z"
   },
   {
    "duration": 52,
    "start_time": "2024-12-28T16:53:25.286Z"
   },
   {
    "duration": 5,
    "start_time": "2024-12-28T16:53:25.340Z"
   },
   {
    "duration": 19,
    "start_time": "2024-12-28T16:53:25.346Z"
   },
   {
    "duration": 135,
    "start_time": "2024-12-28T16:53:25.366Z"
   },
   {
    "duration": 357,
    "start_time": "2024-12-28T16:53:25.503Z"
   },
   {
    "duration": 82,
    "start_time": "2024-12-28T16:53:25.862Z"
   },
   {
    "duration": 91,
    "start_time": "2024-12-28T16:53:25.945Z"
   },
   {
    "duration": 51,
    "start_time": "2024-12-28T16:53:26.038Z"
   },
   {
    "duration": 39,
    "start_time": "2024-12-28T16:53:26.092Z"
   },
   {
    "duration": 103,
    "start_time": "2024-12-28T16:53:26.133Z"
   },
   {
    "duration": 0,
    "start_time": "2024-12-28T16:53:26.237Z"
   },
   {
    "duration": 0,
    "start_time": "2024-12-28T16:53:26.239Z"
   },
   {
    "duration": 0,
    "start_time": "2024-12-28T16:53:26.240Z"
   },
   {
    "duration": 0,
    "start_time": "2024-12-28T16:53:26.241Z"
   },
   {
    "duration": 0,
    "start_time": "2024-12-28T16:53:26.242Z"
   },
   {
    "duration": 0,
    "start_time": "2024-12-28T16:53:26.243Z"
   },
   {
    "duration": 0,
    "start_time": "2024-12-28T16:53:26.244Z"
   },
   {
    "duration": 0,
    "start_time": "2024-12-28T16:53:26.245Z"
   },
   {
    "duration": 0,
    "start_time": "2024-12-28T16:53:26.246Z"
   },
   {
    "duration": 0,
    "start_time": "2024-12-28T16:53:26.247Z"
   },
   {
    "duration": 0,
    "start_time": "2024-12-28T16:53:26.248Z"
   },
   {
    "duration": 0,
    "start_time": "2024-12-28T16:53:26.249Z"
   },
   {
    "duration": 0,
    "start_time": "2024-12-28T16:53:26.250Z"
   },
   {
    "duration": 0,
    "start_time": "2024-12-28T16:53:26.252Z"
   },
   {
    "duration": 24,
    "start_time": "2024-12-28T16:54:01.998Z"
   },
   {
    "duration": 1365,
    "start_time": "2024-12-28T16:54:04.009Z"
   },
   {
    "duration": 66,
    "start_time": "2024-12-28T16:54:49.409Z"
   },
   {
    "duration": 2645,
    "start_time": "2024-12-28T16:54:57.011Z"
   },
   {
    "duration": 1547,
    "start_time": "2024-12-28T16:54:59.658Z"
   },
   {
    "duration": 1999,
    "start_time": "2024-12-28T16:55:01.206Z"
   },
   {
    "duration": 2,
    "start_time": "2024-12-28T16:55:03.207Z"
   },
   {
    "duration": 20,
    "start_time": "2024-12-28T16:55:03.211Z"
   },
   {
    "duration": 31,
    "start_time": "2024-12-28T16:55:03.233Z"
   },
   {
    "duration": 14,
    "start_time": "2024-12-28T16:55:03.266Z"
   },
   {
    "duration": 47,
    "start_time": "2024-12-28T16:55:03.282Z"
   },
   {
    "duration": 34,
    "start_time": "2024-12-28T16:55:03.330Z"
   },
   {
    "duration": 230,
    "start_time": "2024-12-28T16:55:03.366Z"
   },
   {
    "duration": 1003,
    "start_time": "2024-12-28T16:55:03.598Z"
   },
   {
    "duration": 175,
    "start_time": "2024-12-28T16:55:04.603Z"
   },
   {
    "duration": 11,
    "start_time": "2024-12-28T16:55:04.780Z"
   },
   {
    "duration": 117,
    "start_time": "2024-12-28T16:55:04.794Z"
   },
   {
    "duration": 52,
    "start_time": "2024-12-28T16:55:04.912Z"
   },
   {
    "duration": 53,
    "start_time": "2024-12-28T16:55:04.966Z"
   },
   {
    "duration": 28,
    "start_time": "2024-12-28T16:55:05.021Z"
   },
   {
    "duration": 11,
    "start_time": "2024-12-28T16:55:05.051Z"
   },
   {
    "duration": 342,
    "start_time": "2024-12-28T16:55:05.064Z"
   },
   {
    "duration": 3,
    "start_time": "2024-12-28T16:55:05.408Z"
   },
   {
    "duration": 119,
    "start_time": "2024-12-28T16:55:05.412Z"
   },
   {
    "duration": 106,
    "start_time": "2024-12-28T16:55:05.533Z"
   },
   {
    "duration": 153,
    "start_time": "2024-12-28T16:55:05.641Z"
   },
   {
    "duration": 252,
    "start_time": "2024-12-28T16:55:05.796Z"
   },
   {
    "duration": 40,
    "start_time": "2024-12-28T16:55:06.050Z"
   },
   {
    "duration": 3361,
    "start_time": "2024-12-28T16:55:06.092Z"
   },
   {
    "duration": 7,
    "start_time": "2024-12-28T16:55:09.455Z"
   },
   {
    "duration": 24,
    "start_time": "2024-12-28T16:55:09.464Z"
   },
   {
    "duration": 49,
    "start_time": "2024-12-28T16:55:09.490Z"
   },
   {
    "duration": 150,
    "start_time": "2024-12-28T16:55:09.541Z"
   },
   {
    "duration": 48,
    "start_time": "2024-12-28T16:55:09.693Z"
   },
   {
    "duration": 90,
    "start_time": "2024-12-28T16:55:09.743Z"
   },
   {
    "duration": 42,
    "start_time": "2024-12-28T16:55:09.835Z"
   },
   {
    "duration": 6,
    "start_time": "2024-12-28T16:55:09.878Z"
   },
   {
    "duration": 30,
    "start_time": "2024-12-28T16:55:09.885Z"
   },
   {
    "duration": 115,
    "start_time": "2024-12-28T16:55:09.916Z"
   },
   {
    "duration": 383,
    "start_time": "2024-12-28T16:55:10.033Z"
   },
   {
    "duration": 87,
    "start_time": "2024-12-28T16:55:10.418Z"
   },
   {
    "duration": 83,
    "start_time": "2024-12-28T16:55:10.507Z"
   },
   {
    "duration": 71,
    "start_time": "2024-12-28T16:55:10.592Z"
   },
   {
    "duration": 38,
    "start_time": "2024-12-28T16:55:10.667Z"
   },
   {
    "duration": 103,
    "start_time": "2024-12-28T16:55:10.707Z"
   },
   {
    "duration": 0,
    "start_time": "2024-12-28T16:55:10.812Z"
   },
   {
    "duration": 0,
    "start_time": "2024-12-28T16:55:10.814Z"
   },
   {
    "duration": 0,
    "start_time": "2024-12-28T16:55:10.815Z"
   },
   {
    "duration": 0,
    "start_time": "2024-12-28T16:55:10.817Z"
   },
   {
    "duration": 0,
    "start_time": "2024-12-28T16:55:10.818Z"
   },
   {
    "duration": 0,
    "start_time": "2024-12-28T16:55:10.830Z"
   },
   {
    "duration": 0,
    "start_time": "2024-12-28T16:55:10.831Z"
   },
   {
    "duration": 0,
    "start_time": "2024-12-28T16:55:10.832Z"
   },
   {
    "duration": 0,
    "start_time": "2024-12-28T16:55:10.833Z"
   },
   {
    "duration": 0,
    "start_time": "2024-12-28T16:55:10.834Z"
   },
   {
    "duration": 0,
    "start_time": "2024-12-28T16:55:10.835Z"
   },
   {
    "duration": 0,
    "start_time": "2024-12-28T16:55:10.836Z"
   },
   {
    "duration": 0,
    "start_time": "2024-12-28T16:55:10.837Z"
   },
   {
    "duration": 0,
    "start_time": "2024-12-28T16:55:10.838Z"
   },
   {
    "duration": 22,
    "start_time": "2024-12-28T16:55:13.917Z"
   },
   {
    "duration": 68,
    "start_time": "2024-12-28T16:55:15.400Z"
   },
   {
    "duration": 77,
    "start_time": "2024-12-28T16:56:21.963Z"
   },
   {
    "duration": 383,
    "start_time": "2024-12-28T16:57:16.403Z"
   },
   {
    "duration": 58,
    "start_time": "2024-12-28T16:57:53.382Z"
   },
   {
    "duration": 1368,
    "start_time": "2024-12-28T16:58:07.146Z"
   },
   {
    "duration": 3316,
    "start_time": "2024-12-28T16:58:28.315Z"
   },
   {
    "duration": 1258,
    "start_time": "2024-12-28T16:58:31.635Z"
   },
   {
    "duration": 2037,
    "start_time": "2024-12-28T16:58:32.894Z"
   },
   {
    "duration": 3,
    "start_time": "2024-12-28T16:58:34.933Z"
   },
   {
    "duration": 11,
    "start_time": "2024-12-28T16:58:34.938Z"
   },
   {
    "duration": 3,
    "start_time": "2024-12-28T16:58:34.951Z"
   },
   {
    "duration": 10,
    "start_time": "2024-12-28T16:58:34.955Z"
   },
   {
    "duration": 33,
    "start_time": "2024-12-28T16:58:34.966Z"
   },
   {
    "duration": 29,
    "start_time": "2024-12-28T16:58:35.030Z"
   },
   {
    "duration": 243,
    "start_time": "2024-12-28T16:58:35.062Z"
   },
   {
    "duration": 1031,
    "start_time": "2024-12-28T16:58:35.307Z"
   },
   {
    "duration": 177,
    "start_time": "2024-12-28T16:58:36.340Z"
   },
   {
    "duration": 17,
    "start_time": "2024-12-28T16:58:36.519Z"
   },
   {
    "duration": 150,
    "start_time": "2024-12-28T16:58:36.538Z"
   },
   {
    "duration": 59,
    "start_time": "2024-12-28T16:58:36.690Z"
   },
   {
    "duration": 26,
    "start_time": "2024-12-28T16:58:36.751Z"
   },
   {
    "duration": 29,
    "start_time": "2024-12-28T16:58:36.779Z"
   },
   {
    "duration": 31,
    "start_time": "2024-12-28T16:58:36.810Z"
   },
   {
    "duration": 352,
    "start_time": "2024-12-28T16:58:36.842Z"
   },
   {
    "duration": 4,
    "start_time": "2024-12-28T16:58:37.196Z"
   },
   {
    "duration": 127,
    "start_time": "2024-12-28T16:58:37.202Z"
   },
   {
    "duration": 87,
    "start_time": "2024-12-28T16:58:37.331Z"
   },
   {
    "duration": 151,
    "start_time": "2024-12-28T16:58:37.429Z"
   },
   {
    "duration": 241,
    "start_time": "2024-12-28T16:58:37.581Z"
   },
   {
    "duration": 40,
    "start_time": "2024-12-28T16:58:37.824Z"
   },
   {
    "duration": 3302,
    "start_time": "2024-12-28T16:58:37.865Z"
   },
   {
    "duration": 6,
    "start_time": "2024-12-28T16:58:41.168Z"
   },
   {
    "duration": 42,
    "start_time": "2024-12-28T16:58:41.178Z"
   },
   {
    "duration": 42,
    "start_time": "2024-12-28T16:58:41.222Z"
   },
   {
    "duration": 150,
    "start_time": "2024-12-28T16:58:41.265Z"
   },
   {
    "duration": 45,
    "start_time": "2024-12-28T16:58:41.417Z"
   },
   {
    "duration": 92,
    "start_time": "2024-12-28T16:58:41.464Z"
   },
   {
    "duration": 88,
    "start_time": "2024-12-28T16:58:41.558Z"
   },
   {
    "duration": 7,
    "start_time": "2024-12-28T16:58:41.649Z"
   },
   {
    "duration": 33,
    "start_time": "2024-12-28T16:58:41.657Z"
   },
   {
    "duration": 112,
    "start_time": "2024-12-28T16:58:41.692Z"
   },
   {
    "duration": 373,
    "start_time": "2024-12-28T16:58:41.806Z"
   },
   {
    "duration": 103,
    "start_time": "2024-12-28T16:58:42.180Z"
   },
   {
    "duration": 83,
    "start_time": "2024-12-28T16:58:42.284Z"
   },
   {
    "duration": 14,
    "start_time": "2024-12-28T16:58:42.368Z"
   },
   {
    "duration": 62,
    "start_time": "2024-12-28T16:58:42.384Z"
   },
   {
    "duration": 109,
    "start_time": "2024-12-28T16:58:42.447Z"
   },
   {
    "duration": 0,
    "start_time": "2024-12-28T16:58:42.558Z"
   },
   {
    "duration": 0,
    "start_time": "2024-12-28T16:58:42.559Z"
   },
   {
    "duration": 0,
    "start_time": "2024-12-28T16:58:42.560Z"
   },
   {
    "duration": 0,
    "start_time": "2024-12-28T16:58:42.562Z"
   },
   {
    "duration": 0,
    "start_time": "2024-12-28T16:58:42.563Z"
   },
   {
    "duration": 0,
    "start_time": "2024-12-28T16:58:42.565Z"
   },
   {
    "duration": 0,
    "start_time": "2024-12-28T16:58:42.566Z"
   },
   {
    "duration": 0,
    "start_time": "2024-12-28T16:58:42.567Z"
   },
   {
    "duration": 0,
    "start_time": "2024-12-28T16:58:42.568Z"
   },
   {
    "duration": 0,
    "start_time": "2024-12-28T16:58:42.569Z"
   },
   {
    "duration": 0,
    "start_time": "2024-12-28T16:58:42.570Z"
   },
   {
    "duration": 0,
    "start_time": "2024-12-28T16:58:42.571Z"
   },
   {
    "duration": 1,
    "start_time": "2024-12-28T16:58:42.572Z"
   },
   {
    "duration": 0,
    "start_time": "2024-12-28T16:58:42.574Z"
   },
   {
    "duration": 22,
    "start_time": "2024-12-28T16:58:47.512Z"
   },
   {
    "duration": 1421,
    "start_time": "2024-12-28T16:58:59.422Z"
   },
   {
    "duration": 57,
    "start_time": "2024-12-28T16:59:11.711Z"
   },
   {
    "duration": 12,
    "start_time": "2024-12-28T16:59:44.980Z"
   },
   {
    "duration": 68,
    "start_time": "2024-12-28T17:01:14.413Z"
   },
   {
    "duration": 48,
    "start_time": "2024-12-28T17:02:02.630Z"
   },
   {
    "duration": 47,
    "start_time": "2024-12-28T17:02:44.302Z"
   },
   {
    "duration": 64,
    "start_time": "2024-12-28T17:03:01.653Z"
   },
   {
    "duration": 7,
    "start_time": "2024-12-28T17:03:20.361Z"
   },
   {
    "duration": 3,
    "start_time": "2024-12-28T17:03:40.868Z"
   },
   {
    "duration": 19,
    "start_time": "2024-12-28T17:03:49.647Z"
   },
   {
    "duration": 22,
    "start_time": "2024-12-28T17:04:05.153Z"
   },
   {
    "duration": 22,
    "start_time": "2024-12-28T17:04:51.135Z"
   },
   {
    "duration": 20,
    "start_time": "2024-12-28T17:05:14.150Z"
   },
   {
    "duration": 21,
    "start_time": "2024-12-28T17:06:28.965Z"
   },
   {
    "duration": 22,
    "start_time": "2024-12-28T17:07:03.287Z"
   },
   {
    "duration": 20,
    "start_time": "2024-12-28T17:07:28.403Z"
   },
   {
    "duration": 45,
    "start_time": "2024-12-28T17:07:55.006Z"
   },
   {
    "duration": 2502,
    "start_time": "2024-12-28T17:08:00.250Z"
   },
   {
    "duration": 1242,
    "start_time": "2024-12-28T17:08:02.754Z"
   },
   {
    "duration": 2251,
    "start_time": "2024-12-28T17:08:03.998Z"
   },
   {
    "duration": 3,
    "start_time": "2024-12-28T17:08:06.251Z"
   },
   {
    "duration": 36,
    "start_time": "2024-12-28T17:08:06.256Z"
   },
   {
    "duration": 34,
    "start_time": "2024-12-28T17:08:06.294Z"
   },
   {
    "duration": 21,
    "start_time": "2024-12-28T17:08:06.330Z"
   },
   {
    "duration": 59,
    "start_time": "2024-12-28T17:08:06.353Z"
   },
   {
    "duration": 53,
    "start_time": "2024-12-28T17:08:06.414Z"
   },
   {
    "duration": 225,
    "start_time": "2024-12-28T17:08:06.468Z"
   },
   {
    "duration": 992,
    "start_time": "2024-12-28T17:08:06.695Z"
   },
   {
    "duration": 188,
    "start_time": "2024-12-28T17:08:07.689Z"
   },
   {
    "duration": 11,
    "start_time": "2024-12-28T17:08:07.879Z"
   },
   {
    "duration": 115,
    "start_time": "2024-12-28T17:08:07.894Z"
   },
   {
    "duration": 52,
    "start_time": "2024-12-28T17:08:08.011Z"
   },
   {
    "duration": 44,
    "start_time": "2024-12-28T17:08:08.065Z"
   },
   {
    "duration": 69,
    "start_time": "2024-12-28T17:08:08.111Z"
   },
   {
    "duration": 10,
    "start_time": "2024-12-28T17:08:08.182Z"
   },
   {
    "duration": 316,
    "start_time": "2024-12-28T17:08:08.194Z"
   },
   {
    "duration": 3,
    "start_time": "2024-12-28T17:08:08.511Z"
   },
   {
    "duration": 104,
    "start_time": "2024-12-28T17:08:08.515Z"
   },
   {
    "duration": 87,
    "start_time": "2024-12-28T17:08:08.620Z"
   },
   {
    "duration": 152,
    "start_time": "2024-12-28T17:08:08.709Z"
   },
   {
    "duration": 226,
    "start_time": "2024-12-28T17:08:08.863Z"
   },
   {
    "duration": 42,
    "start_time": "2024-12-28T17:08:09.090Z"
   },
   {
    "duration": 4048,
    "start_time": "2024-12-28T17:08:09.134Z"
   },
   {
    "duration": 7,
    "start_time": "2024-12-28T17:08:13.184Z"
   },
   {
    "duration": 38,
    "start_time": "2024-12-28T17:08:13.193Z"
   },
   {
    "duration": 23,
    "start_time": "2024-12-28T17:08:13.234Z"
   },
   {
    "duration": 157,
    "start_time": "2024-12-28T17:08:13.258Z"
   },
   {
    "duration": 49,
    "start_time": "2024-12-28T17:08:13.417Z"
   },
   {
    "duration": 92,
    "start_time": "2024-12-28T17:08:13.468Z"
   },
   {
    "duration": 148,
    "start_time": "2024-12-28T17:08:13.562Z"
   },
   {
    "duration": 5,
    "start_time": "2024-12-28T17:08:13.712Z"
   },
   {
    "duration": 20,
    "start_time": "2024-12-28T17:08:13.719Z"
   },
   {
    "duration": 124,
    "start_time": "2024-12-28T17:08:13.740Z"
   },
   {
    "duration": 348,
    "start_time": "2024-12-28T17:08:13.866Z"
   },
   {
    "duration": 80,
    "start_time": "2024-12-28T17:08:14.215Z"
   },
   {
    "duration": 84,
    "start_time": "2024-12-28T17:08:14.297Z"
   },
   {
    "duration": 13,
    "start_time": "2024-12-28T17:08:14.383Z"
   },
   {
    "duration": 59,
    "start_time": "2024-12-28T17:08:14.400Z"
   },
   {
    "duration": 108,
    "start_time": "2024-12-28T17:08:14.461Z"
   },
   {
    "duration": 0,
    "start_time": "2024-12-28T17:08:14.571Z"
   },
   {
    "duration": 0,
    "start_time": "2024-12-28T17:08:14.572Z"
   },
   {
    "duration": 0,
    "start_time": "2024-12-28T17:08:14.573Z"
   },
   {
    "duration": 0,
    "start_time": "2024-12-28T17:08:14.574Z"
   },
   {
    "duration": 0,
    "start_time": "2024-12-28T17:08:14.575Z"
   },
   {
    "duration": 0,
    "start_time": "2024-12-28T17:08:14.576Z"
   },
   {
    "duration": 0,
    "start_time": "2024-12-28T17:08:14.577Z"
   },
   {
    "duration": 0,
    "start_time": "2024-12-28T17:08:14.578Z"
   },
   {
    "duration": 0,
    "start_time": "2024-12-28T17:08:14.579Z"
   },
   {
    "duration": 0,
    "start_time": "2024-12-28T17:08:14.580Z"
   },
   {
    "duration": 0,
    "start_time": "2024-12-28T17:08:14.581Z"
   },
   {
    "duration": 0,
    "start_time": "2024-12-28T17:08:14.582Z"
   },
   {
    "duration": 0,
    "start_time": "2024-12-28T17:08:14.583Z"
   },
   {
    "duration": 0,
    "start_time": "2024-12-28T17:08:14.584Z"
   },
   {
    "duration": 22,
    "start_time": "2024-12-28T17:08:18.105Z"
   },
   {
    "duration": 47,
    "start_time": "2024-12-28T17:08:18.919Z"
   },
   {
    "duration": 6,
    "start_time": "2024-12-28T17:08:22.488Z"
   },
   {
    "duration": 4,
    "start_time": "2024-12-28T17:08:25.030Z"
   },
   {
    "duration": 19,
    "start_time": "2024-12-28T17:08:25.780Z"
   },
   {
    "duration": 21,
    "start_time": "2024-12-28T17:08:30.394Z"
   },
   {
    "duration": 21,
    "start_time": "2024-12-28T17:10:21.789Z"
   },
   {
    "duration": 119,
    "start_time": "2024-12-28T17:10:34.256Z"
   },
   {
    "duration": 2406,
    "start_time": "2024-12-28T17:21:12.762Z"
   },
   {
    "duration": 1233,
    "start_time": "2024-12-28T17:21:15.170Z"
   },
   {
    "duration": 1942,
    "start_time": "2024-12-28T17:21:16.404Z"
   },
   {
    "duration": 3,
    "start_time": "2024-12-28T17:21:18.348Z"
   },
   {
    "duration": 17,
    "start_time": "2024-12-28T17:21:18.353Z"
   },
   {
    "duration": 4,
    "start_time": "2024-12-28T17:21:18.372Z"
   },
   {
    "duration": 9,
    "start_time": "2024-12-28T17:21:18.377Z"
   },
   {
    "duration": 78,
    "start_time": "2024-12-28T17:21:18.387Z"
   },
   {
    "duration": 27,
    "start_time": "2024-12-28T17:21:18.467Z"
   },
   {
    "duration": 250,
    "start_time": "2024-12-28T17:21:18.496Z"
   },
   {
    "duration": 940,
    "start_time": "2024-12-28T17:21:18.747Z"
   },
   {
    "duration": 193,
    "start_time": "2024-12-28T17:21:19.688Z"
   },
   {
    "duration": 9,
    "start_time": "2024-12-28T17:21:19.883Z"
   },
   {
    "duration": 113,
    "start_time": "2024-12-28T17:21:19.895Z"
   },
   {
    "duration": 58,
    "start_time": "2024-12-28T17:21:20.010Z"
   },
   {
    "duration": 74,
    "start_time": "2024-12-28T17:21:20.070Z"
   },
   {
    "duration": 88,
    "start_time": "2024-12-28T17:21:20.146Z"
   },
   {
    "duration": 10,
    "start_time": "2024-12-28T17:21:20.236Z"
   },
   {
    "duration": 346,
    "start_time": "2024-12-28T17:21:20.248Z"
   },
   {
    "duration": 2,
    "start_time": "2024-12-28T17:21:20.596Z"
   },
   {
    "duration": 178,
    "start_time": "2024-12-28T17:21:20.600Z"
   },
   {
    "duration": 94,
    "start_time": "2024-12-28T17:21:20.779Z"
   },
   {
    "duration": 156,
    "start_time": "2024-12-28T17:21:20.875Z"
   },
   {
    "duration": 235,
    "start_time": "2024-12-28T17:21:21.032Z"
   },
   {
    "duration": 34,
    "start_time": "2024-12-28T17:21:21.268Z"
   },
   {
    "duration": 3421,
    "start_time": "2024-12-28T17:21:21.303Z"
   },
   {
    "duration": 6,
    "start_time": "2024-12-28T17:21:24.730Z"
   },
   {
    "duration": 26,
    "start_time": "2024-12-28T17:21:24.738Z"
   },
   {
    "duration": 31,
    "start_time": "2024-12-28T17:21:24.766Z"
   },
   {
    "duration": 161,
    "start_time": "2024-12-28T17:21:24.798Z"
   },
   {
    "duration": 42,
    "start_time": "2024-12-28T17:21:24.960Z"
   },
   {
    "duration": 101,
    "start_time": "2024-12-28T17:21:25.004Z"
   },
   {
    "duration": 50,
    "start_time": "2024-12-28T17:21:25.106Z"
   },
   {
    "duration": 5,
    "start_time": "2024-12-28T17:21:25.158Z"
   },
   {
    "duration": 15,
    "start_time": "2024-12-28T17:21:25.165Z"
   },
   {
    "duration": 124,
    "start_time": "2024-12-28T17:21:25.182Z"
   },
   {
    "duration": 346,
    "start_time": "2024-12-28T17:21:25.308Z"
   },
   {
    "duration": 106,
    "start_time": "2024-12-28T17:21:25.656Z"
   },
   {
    "duration": 84,
    "start_time": "2024-12-28T17:21:25.764Z"
   },
   {
    "duration": 17,
    "start_time": "2024-12-28T17:21:25.849Z"
   },
   {
    "duration": 67,
    "start_time": "2024-12-28T17:21:25.871Z"
   },
   {
    "duration": 116,
    "start_time": "2024-12-28T17:21:25.941Z"
   },
   {
    "duration": 0,
    "start_time": "2024-12-28T17:21:26.059Z"
   },
   {
    "duration": 0,
    "start_time": "2024-12-28T17:21:26.061Z"
   },
   {
    "duration": 0,
    "start_time": "2024-12-28T17:21:26.062Z"
   },
   {
    "duration": 0,
    "start_time": "2024-12-28T17:21:26.063Z"
   },
   {
    "duration": 0,
    "start_time": "2024-12-28T17:21:26.065Z"
   },
   {
    "duration": 0,
    "start_time": "2024-12-28T17:21:26.066Z"
   },
   {
    "duration": 0,
    "start_time": "2024-12-28T17:21:26.067Z"
   },
   {
    "duration": 0,
    "start_time": "2024-12-28T17:21:26.068Z"
   },
   {
    "duration": 0,
    "start_time": "2024-12-28T17:21:26.069Z"
   },
   {
    "duration": 0,
    "start_time": "2024-12-28T17:21:26.069Z"
   },
   {
    "duration": 0,
    "start_time": "2024-12-28T17:21:26.071Z"
   },
   {
    "duration": 0,
    "start_time": "2024-12-28T17:21:26.071Z"
   },
   {
    "duration": 0,
    "start_time": "2024-12-28T17:21:26.072Z"
   },
   {
    "duration": 0,
    "start_time": "2024-12-28T17:21:26.073Z"
   },
   {
    "duration": 0,
    "start_time": "2024-12-28T17:21:26.074Z"
   },
   {
    "duration": 10,
    "start_time": "2024-12-28T17:23:15.496Z"
   },
   {
    "duration": 9,
    "start_time": "2024-12-28T17:23:48.307Z"
   },
   {
    "duration": 22,
    "start_time": "2024-12-28T17:24:03.712Z"
   },
   {
    "duration": 9,
    "start_time": "2024-12-28T17:24:24.513Z"
   },
   {
    "duration": 3183,
    "start_time": "2024-12-28T17:24:43.286Z"
   },
   {
    "duration": 1221,
    "start_time": "2024-12-28T17:24:46.472Z"
   },
   {
    "duration": 1936,
    "start_time": "2024-12-28T17:24:47.695Z"
   },
   {
    "duration": 3,
    "start_time": "2024-12-28T17:24:49.633Z"
   },
   {
    "duration": 20,
    "start_time": "2024-12-28T17:24:49.637Z"
   },
   {
    "duration": 3,
    "start_time": "2024-12-28T17:24:49.658Z"
   },
   {
    "duration": 11,
    "start_time": "2024-12-28T17:24:49.663Z"
   },
   {
    "duration": 65,
    "start_time": "2024-12-28T17:24:49.676Z"
   },
   {
    "duration": 26,
    "start_time": "2024-12-28T17:24:49.743Z"
   },
   {
    "duration": 237,
    "start_time": "2024-12-28T17:24:49.772Z"
   },
   {
    "duration": 950,
    "start_time": "2024-12-28T17:24:50.031Z"
   },
   {
    "duration": 186,
    "start_time": "2024-12-28T17:24:50.982Z"
   },
   {
    "duration": 9,
    "start_time": "2024-12-28T17:24:51.169Z"
   },
   {
    "duration": 109,
    "start_time": "2024-12-28T17:24:51.179Z"
   },
   {
    "duration": 56,
    "start_time": "2024-12-28T17:24:51.289Z"
   },
   {
    "duration": 25,
    "start_time": "2024-12-28T17:24:51.347Z"
   },
   {
    "duration": 27,
    "start_time": "2024-12-28T17:24:51.373Z"
   },
   {
    "duration": 31,
    "start_time": "2024-12-28T17:24:51.401Z"
   },
   {
    "duration": 318,
    "start_time": "2024-12-28T17:24:51.434Z"
   },
   {
    "duration": 3,
    "start_time": "2024-12-28T17:24:51.754Z"
   },
   {
    "duration": 106,
    "start_time": "2024-12-28T17:24:51.758Z"
   },
   {
    "duration": 98,
    "start_time": "2024-12-28T17:24:51.865Z"
   },
   {
    "duration": 174,
    "start_time": "2024-12-28T17:24:51.965Z"
   },
   {
    "duration": 226,
    "start_time": "2024-12-28T17:24:52.140Z"
   },
   {
    "duration": 33,
    "start_time": "2024-12-28T17:24:52.368Z"
   },
   {
    "duration": 3493,
    "start_time": "2024-12-28T17:24:52.402Z"
   },
   {
    "duration": 6,
    "start_time": "2024-12-28T17:24:55.896Z"
   },
   {
    "duration": 43,
    "start_time": "2024-12-28T17:24:55.906Z"
   },
   {
    "duration": 22,
    "start_time": "2024-12-28T17:24:55.950Z"
   },
   {
    "duration": 168,
    "start_time": "2024-12-28T17:24:55.973Z"
   },
   {
    "duration": 43,
    "start_time": "2024-12-28T17:24:56.143Z"
   },
   {
    "duration": 104,
    "start_time": "2024-12-28T17:24:56.187Z"
   },
   {
    "duration": 51,
    "start_time": "2024-12-28T17:24:56.292Z"
   },
   {
    "duration": 6,
    "start_time": "2024-12-28T17:24:56.344Z"
   },
   {
    "duration": 27,
    "start_time": "2024-12-28T17:24:56.351Z"
   },
   {
    "duration": 131,
    "start_time": "2024-12-28T17:24:56.380Z"
   },
   {
    "duration": 348,
    "start_time": "2024-12-28T17:24:56.513Z"
   },
   {
    "duration": 81,
    "start_time": "2024-12-28T17:24:56.862Z"
   },
   {
    "duration": 73,
    "start_time": "2024-12-28T17:24:56.944Z"
   },
   {
    "duration": 15,
    "start_time": "2024-12-28T17:24:57.031Z"
   },
   {
    "duration": 47,
    "start_time": "2024-12-28T17:24:57.047Z"
   },
   {
    "duration": 36,
    "start_time": "2024-12-28T17:24:57.095Z"
   },
   {
    "duration": 106,
    "start_time": "2024-12-28T17:24:57.133Z"
   },
   {
    "duration": 0,
    "start_time": "2024-12-28T17:24:57.240Z"
   },
   {
    "duration": 0,
    "start_time": "2024-12-28T17:24:57.241Z"
   },
   {
    "duration": 0,
    "start_time": "2024-12-28T17:24:57.242Z"
   },
   {
    "duration": 0,
    "start_time": "2024-12-28T17:24:57.244Z"
   },
   {
    "duration": 0,
    "start_time": "2024-12-28T17:24:57.245Z"
   },
   {
    "duration": 0,
    "start_time": "2024-12-28T17:24:57.246Z"
   },
   {
    "duration": 0,
    "start_time": "2024-12-28T17:24:57.247Z"
   },
   {
    "duration": 0,
    "start_time": "2024-12-28T17:24:57.249Z"
   },
   {
    "duration": 0,
    "start_time": "2024-12-28T17:24:57.250Z"
   },
   {
    "duration": 0,
    "start_time": "2024-12-28T17:24:57.251Z"
   },
   {
    "duration": 0,
    "start_time": "2024-12-28T17:24:57.252Z"
   },
   {
    "duration": 0,
    "start_time": "2024-12-28T17:24:57.253Z"
   },
   {
    "duration": 0,
    "start_time": "2024-12-28T17:24:57.254Z"
   },
   {
    "duration": 0,
    "start_time": "2024-12-28T17:24:57.255Z"
   },
   {
    "duration": 0,
    "start_time": "2024-12-28T17:24:57.256Z"
   },
   {
    "duration": 39,
    "start_time": "2024-12-28T17:26:01.225Z"
   },
   {
    "duration": 22,
    "start_time": "2024-12-28T17:26:11.376Z"
   },
   {
    "duration": 39,
    "start_time": "2024-12-28T17:26:45.183Z"
   },
   {
    "duration": 17,
    "start_time": "2024-12-28T17:28:11.200Z"
   },
   {
    "duration": 27,
    "start_time": "2024-12-28T17:28:28.012Z"
   },
   {
    "duration": 27,
    "start_time": "2024-12-28T17:28:49.454Z"
   },
   {
    "duration": 26,
    "start_time": "2024-12-28T17:33:16.366Z"
   },
   {
    "duration": 28,
    "start_time": "2024-12-28T17:33:37.603Z"
   },
   {
    "duration": 14,
    "start_time": "2024-12-28T17:34:44.068Z"
   },
   {
    "duration": 14,
    "start_time": "2024-12-28T17:35:01.541Z"
   },
   {
    "duration": 9,
    "start_time": "2024-12-28T17:35:33.890Z"
   },
   {
    "duration": 9,
    "start_time": "2024-12-28T17:37:08.081Z"
   },
   {
    "duration": 41,
    "start_time": "2024-12-28T17:38:33.751Z"
   },
   {
    "duration": 28,
    "start_time": "2024-12-28T17:39:20.248Z"
   },
   {
    "duration": 49,
    "start_time": "2024-12-28T17:39:21.641Z"
   },
   {
    "duration": 2437,
    "start_time": "2024-12-28T17:39:46.539Z"
   },
   {
    "duration": 1213,
    "start_time": "2024-12-28T17:39:48.979Z"
   },
   {
    "duration": 2137,
    "start_time": "2024-12-28T17:39:50.193Z"
   },
   {
    "duration": 2,
    "start_time": "2024-12-28T17:39:52.334Z"
   },
   {
    "duration": 40,
    "start_time": "2024-12-28T17:39:52.338Z"
   },
   {
    "duration": 3,
    "start_time": "2024-12-28T17:39:52.380Z"
   },
   {
    "duration": 29,
    "start_time": "2024-12-28T17:39:52.384Z"
   },
   {
    "duration": 31,
    "start_time": "2024-12-28T17:39:52.414Z"
   },
   {
    "duration": 28,
    "start_time": "2024-12-28T17:39:52.447Z"
   },
   {
    "duration": 266,
    "start_time": "2024-12-28T17:39:52.476Z"
   },
   {
    "duration": 966,
    "start_time": "2024-12-28T17:39:52.744Z"
   },
   {
    "duration": 228,
    "start_time": "2024-12-28T17:39:53.712Z"
   },
   {
    "duration": 9,
    "start_time": "2024-12-28T17:39:53.941Z"
   },
   {
    "duration": 203,
    "start_time": "2024-12-28T17:39:53.953Z"
   },
   {
    "duration": 103,
    "start_time": "2024-12-28T17:39:54.158Z"
   },
   {
    "duration": 82,
    "start_time": "2024-12-28T17:39:54.263Z"
   },
   {
    "duration": 27,
    "start_time": "2024-12-28T17:39:54.346Z"
   },
   {
    "duration": 10,
    "start_time": "2024-12-28T17:39:54.431Z"
   },
   {
    "duration": 510,
    "start_time": "2024-12-28T17:39:54.442Z"
   },
   {
    "duration": 4,
    "start_time": "2024-12-28T17:39:54.954Z"
   },
   {
    "duration": 203,
    "start_time": "2024-12-28T17:39:54.960Z"
   },
   {
    "duration": 179,
    "start_time": "2024-12-28T17:39:55.165Z"
   },
   {
    "duration": 149,
    "start_time": "2024-12-28T17:39:55.345Z"
   },
   {
    "duration": 227,
    "start_time": "2024-12-28T17:39:55.496Z"
   },
   {
    "duration": 36,
    "start_time": "2024-12-28T17:39:55.725Z"
   },
   {
    "duration": 4147,
    "start_time": "2024-12-28T17:39:55.763Z"
   },
   {
    "duration": 6,
    "start_time": "2024-12-28T17:39:59.912Z"
   },
   {
    "duration": 40,
    "start_time": "2024-12-28T17:39:59.919Z"
   },
   {
    "duration": 55,
    "start_time": "2024-12-28T17:39:59.961Z"
   },
   {
    "duration": 227,
    "start_time": "2024-12-28T17:40:00.018Z"
   },
   {
    "duration": 106,
    "start_time": "2024-12-28T17:40:00.247Z"
   },
   {
    "duration": 111,
    "start_time": "2024-12-28T17:40:00.355Z"
   },
   {
    "duration": 61,
    "start_time": "2024-12-28T17:40:00.468Z"
   },
   {
    "duration": 6,
    "start_time": "2024-12-28T17:40:00.530Z"
   },
   {
    "duration": 50,
    "start_time": "2024-12-28T17:40:00.537Z"
   },
   {
    "duration": 166,
    "start_time": "2024-12-28T17:40:00.589Z"
   },
   {
    "duration": 364,
    "start_time": "2024-12-28T17:40:00.756Z"
   },
   {
    "duration": 95,
    "start_time": "2024-12-28T17:40:01.121Z"
   },
   {
    "duration": 81,
    "start_time": "2024-12-28T17:40:01.217Z"
   },
   {
    "duration": 31,
    "start_time": "2024-12-28T17:40:01.300Z"
   },
   {
    "duration": 54,
    "start_time": "2024-12-28T17:40:01.334Z"
   },
   {
    "duration": 103,
    "start_time": "2024-12-28T17:40:01.390Z"
   },
   {
    "duration": 0,
    "start_time": "2024-12-28T17:40:01.495Z"
   },
   {
    "duration": 0,
    "start_time": "2024-12-28T17:40:01.496Z"
   },
   {
    "duration": 0,
    "start_time": "2024-12-28T17:40:01.498Z"
   },
   {
    "duration": 0,
    "start_time": "2024-12-28T17:40:01.500Z"
   },
   {
    "duration": 0,
    "start_time": "2024-12-28T17:40:01.501Z"
   },
   {
    "duration": 0,
    "start_time": "2024-12-28T17:40:01.502Z"
   },
   {
    "duration": 0,
    "start_time": "2024-12-28T17:40:01.504Z"
   },
   {
    "duration": 0,
    "start_time": "2024-12-28T17:40:01.505Z"
   },
   {
    "duration": 0,
    "start_time": "2024-12-28T17:40:01.530Z"
   },
   {
    "duration": 0,
    "start_time": "2024-12-28T17:40:01.532Z"
   },
   {
    "duration": 0,
    "start_time": "2024-12-28T17:40:01.534Z"
   },
   {
    "duration": 0,
    "start_time": "2024-12-28T17:40:01.535Z"
   },
   {
    "duration": 0,
    "start_time": "2024-12-28T17:40:01.537Z"
   },
   {
    "duration": 0,
    "start_time": "2024-12-28T17:40:01.538Z"
   },
   {
    "duration": 0,
    "start_time": "2024-12-28T17:40:01.541Z"
   },
   {
    "duration": 39,
    "start_time": "2024-12-28T17:40:34.667Z"
   },
   {
    "duration": 38,
    "start_time": "2024-12-28T17:40:46.366Z"
   },
   {
    "duration": 9,
    "start_time": "2024-12-28T17:41:07.838Z"
   },
   {
    "duration": 9,
    "start_time": "2024-12-28T17:41:12.514Z"
   },
   {
    "duration": 12,
    "start_time": "2024-12-28T17:41:44.384Z"
   },
   {
    "duration": 4,
    "start_time": "2024-12-28T17:42:59.336Z"
   },
   {
    "duration": 6,
    "start_time": "2024-12-28T17:44:13.919Z"
   },
   {
    "duration": 2,
    "start_time": "2024-12-28T17:44:56.316Z"
   },
   {
    "duration": 6,
    "start_time": "2024-12-28T17:45:05.163Z"
   },
   {
    "duration": 9,
    "start_time": "2024-12-28T17:45:29.381Z"
   },
   {
    "duration": 8,
    "start_time": "2024-12-28T17:46:43.036Z"
   },
   {
    "duration": 25,
    "start_time": "2024-12-28T17:46:48.246Z"
   },
   {
    "duration": 9,
    "start_time": "2024-12-28T17:48:26.431Z"
   },
   {
    "duration": 4,
    "start_time": "2024-12-28T17:48:45.033Z"
   },
   {
    "duration": 10,
    "start_time": "2024-12-28T17:48:51.448Z"
   },
   {
    "duration": 26,
    "start_time": "2024-12-28T17:52:58.070Z"
   },
   {
    "duration": 9,
    "start_time": "2024-12-28T17:55:57.284Z"
   },
   {
    "duration": 9,
    "start_time": "2024-12-28T17:57:29.957Z"
   },
   {
    "duration": 26,
    "start_time": "2024-12-28T17:57:46.365Z"
   },
   {
    "duration": 14,
    "start_time": "2024-12-28T17:58:27.431Z"
   },
   {
    "duration": 10,
    "start_time": "2024-12-28T17:59:12.518Z"
   },
   {
    "duration": 11,
    "start_time": "2024-12-28T17:59:27.129Z"
   },
   {
    "duration": 9,
    "start_time": "2024-12-28T17:59:38.526Z"
   },
   {
    "duration": 11,
    "start_time": "2024-12-28T18:00:26.907Z"
   },
   {
    "duration": 26,
    "start_time": "2024-12-28T18:00:31.454Z"
   },
   {
    "duration": 1344,
    "start_time": "2024-12-28T18:01:11.365Z"
   },
   {
    "duration": 9,
    "start_time": "2024-12-28T18:02:33.296Z"
   },
   {
    "duration": 224,
    "start_time": "2024-12-28T18:09:25.917Z"
   },
   {
    "duration": 202,
    "start_time": "2024-12-28T18:09:42.732Z"
   },
   {
    "duration": 186,
    "start_time": "2024-12-28T18:09:54.224Z"
   },
   {
    "duration": 13,
    "start_time": "2024-12-28T18:11:38.194Z"
   },
   {
    "duration": 253,
    "start_time": "2024-12-28T18:11:55.600Z"
   },
   {
    "duration": 159,
    "start_time": "2024-12-28T18:12:13.458Z"
   },
   {
    "duration": 155,
    "start_time": "2024-12-28T18:12:19.387Z"
   },
   {
    "duration": 201,
    "start_time": "2024-12-28T18:13:03.502Z"
   },
   {
    "duration": 9,
    "start_time": "2024-12-28T18:16:04.992Z"
   },
   {
    "duration": 9,
    "start_time": "2024-12-28T18:16:14.224Z"
   },
   {
    "duration": 12,
    "start_time": "2024-12-28T18:17:03.827Z"
   },
   {
    "duration": 7,
    "start_time": "2024-12-28T18:17:37.848Z"
   },
   {
    "duration": 2444,
    "start_time": "2024-12-28T19:02:41.045Z"
   },
   {
    "duration": 1207,
    "start_time": "2024-12-28T19:02:43.492Z"
   },
   {
    "duration": 2275,
    "start_time": "2024-12-28T19:02:44.701Z"
   },
   {
    "duration": 3,
    "start_time": "2024-12-28T19:02:46.978Z"
   },
   {
    "duration": 37,
    "start_time": "2024-12-28T19:02:46.982Z"
   },
   {
    "duration": 20,
    "start_time": "2024-12-28T19:02:47.021Z"
   },
   {
    "duration": 7,
    "start_time": "2024-12-28T19:02:47.043Z"
   },
   {
    "duration": 40,
    "start_time": "2024-12-28T19:02:47.051Z"
   },
   {
    "duration": 29,
    "start_time": "2024-12-28T19:02:47.092Z"
   },
   {
    "duration": 241,
    "start_time": "2024-12-28T19:02:47.129Z"
   },
   {
    "duration": 956,
    "start_time": "2024-12-28T19:02:47.372Z"
   },
   {
    "duration": 171,
    "start_time": "2024-12-28T19:02:48.329Z"
   },
   {
    "duration": 9,
    "start_time": "2024-12-28T19:02:48.502Z"
   },
   {
    "duration": 158,
    "start_time": "2024-12-28T19:02:48.512Z"
   },
   {
    "duration": 45,
    "start_time": "2024-12-28T19:02:48.672Z"
   },
   {
    "duration": 36,
    "start_time": "2024-12-28T19:02:48.719Z"
   },
   {
    "duration": 27,
    "start_time": "2024-12-28T19:02:48.757Z"
   },
   {
    "duration": 10,
    "start_time": "2024-12-28T19:02:48.786Z"
   },
   {
    "duration": 316,
    "start_time": "2024-12-28T19:02:48.797Z"
   },
   {
    "duration": 3,
    "start_time": "2024-12-28T19:02:49.114Z"
   },
   {
    "duration": 97,
    "start_time": "2024-12-28T19:02:49.129Z"
   },
   {
    "duration": 83,
    "start_time": "2024-12-28T19:02:49.228Z"
   },
   {
    "duration": 158,
    "start_time": "2024-12-28T19:02:49.313Z"
   },
   {
    "duration": 248,
    "start_time": "2024-12-28T19:02:49.473Z"
   },
   {
    "duration": 40,
    "start_time": "2024-12-28T19:02:49.723Z"
   },
   {
    "duration": 3323,
    "start_time": "2024-12-28T19:02:49.765Z"
   },
   {
    "duration": 6,
    "start_time": "2024-12-28T19:02:53.090Z"
   },
   {
    "duration": 37,
    "start_time": "2024-12-28T19:02:53.100Z"
   },
   {
    "duration": 22,
    "start_time": "2024-12-28T19:02:53.139Z"
   },
   {
    "duration": 154,
    "start_time": "2024-12-28T19:02:53.162Z"
   },
   {
    "duration": 45,
    "start_time": "2024-12-28T19:02:53.318Z"
   },
   {
    "duration": 89,
    "start_time": "2024-12-28T19:02:53.365Z"
   },
   {
    "duration": 42,
    "start_time": "2024-12-28T19:02:53.456Z"
   },
   {
    "duration": 5,
    "start_time": "2024-12-28T19:02:53.500Z"
   },
   {
    "duration": 41,
    "start_time": "2024-12-28T19:02:53.507Z"
   },
   {
    "duration": 118,
    "start_time": "2024-12-28T19:02:53.550Z"
   },
   {
    "duration": 370,
    "start_time": "2024-12-28T19:02:53.670Z"
   },
   {
    "duration": 110,
    "start_time": "2024-12-28T19:02:54.042Z"
   },
   {
    "duration": 107,
    "start_time": "2024-12-28T19:02:54.154Z"
   },
   {
    "duration": 15,
    "start_time": "2024-12-28T19:02:54.263Z"
   },
   {
    "duration": 69,
    "start_time": "2024-12-28T19:02:54.279Z"
   },
   {
    "duration": 5,
    "start_time": "2024-12-28T19:02:54.349Z"
   },
   {
    "duration": 25,
    "start_time": "2024-12-28T19:02:54.355Z"
   },
   {
    "duration": 17,
    "start_time": "2024-12-28T19:02:54.382Z"
   },
   {
    "duration": 32,
    "start_time": "2024-12-28T19:02:54.401Z"
   },
   {
    "duration": 9,
    "start_time": "2024-12-28T19:02:54.435Z"
   },
   {
    "duration": 15,
    "start_time": "2024-12-28T19:02:54.446Z"
   },
   {
    "duration": 180,
    "start_time": "2024-12-28T19:02:54.463Z"
   },
   {
    "duration": 16,
    "start_time": "2024-12-28T19:02:54.645Z"
   },
   {
    "duration": 11,
    "start_time": "2024-12-28T19:02:54.663Z"
   },
   {
    "duration": 26,
    "start_time": "2024-12-28T19:02:54.675Z"
   },
   {
    "duration": 29,
    "start_time": "2024-12-28T19:02:54.702Z"
   },
   {
    "duration": 4,
    "start_time": "2024-12-28T19:02:54.732Z"
   },
   {
    "duration": 23,
    "start_time": "2024-12-28T19:02:54.737Z"
   },
   {
    "duration": 22,
    "start_time": "2024-12-28T19:02:54.761Z"
   },
   {
    "duration": 227,
    "start_time": "2024-12-28T19:02:54.784Z"
   },
   {
    "duration": 0,
    "start_time": "2024-12-28T19:02:55.012Z"
   },
   {
    "duration": 0,
    "start_time": "2024-12-28T19:02:55.013Z"
   },
   {
    "duration": 0,
    "start_time": "2024-12-28T19:02:55.014Z"
   },
   {
    "duration": 9,
    "start_time": "2024-12-28T19:10:30.053Z"
   },
   {
    "duration": 8,
    "start_time": "2024-12-28T19:31:43.535Z"
   },
   {
    "duration": 27,
    "start_time": "2024-12-28T19:35:55.639Z"
   },
   {
    "duration": 90,
    "start_time": "2024-12-28T19:41:08.376Z"
   },
   {
    "duration": 215,
    "start_time": "2024-12-28T19:41:32.475Z"
   },
   {
    "duration": 244,
    "start_time": "2024-12-28T19:42:42.803Z"
   },
   {
    "duration": 161,
    "start_time": "2024-12-28T19:42:52.339Z"
   },
   {
    "duration": 362,
    "start_time": "2024-12-28T19:43:20.065Z"
   },
   {
    "duration": 7,
    "start_time": "2024-12-28T19:49:13.594Z"
   },
   {
    "duration": 4,
    "start_time": "2024-12-28T19:51:52.117Z"
   },
   {
    "duration": 19,
    "start_time": "2024-12-28T19:52:37.706Z"
   },
   {
    "duration": 33,
    "start_time": "2024-12-28T19:53:03.158Z"
   },
   {
    "duration": 13,
    "start_time": "2024-12-28T19:54:20.808Z"
   },
   {
    "duration": 2443,
    "start_time": "2024-12-28T19:54:36.988Z"
   },
   {
    "duration": 1257,
    "start_time": "2024-12-28T19:54:39.433Z"
   },
   {
    "duration": 2224,
    "start_time": "2024-12-28T19:54:40.692Z"
   },
   {
    "duration": 2,
    "start_time": "2024-12-28T19:54:42.919Z"
   },
   {
    "duration": 30,
    "start_time": "2024-12-28T19:54:42.929Z"
   },
   {
    "duration": 3,
    "start_time": "2024-12-28T19:54:42.961Z"
   },
   {
    "duration": 7,
    "start_time": "2024-12-28T19:54:42.966Z"
   },
   {
    "duration": 62,
    "start_time": "2024-12-28T19:54:42.974Z"
   },
   {
    "duration": 29,
    "start_time": "2024-12-28T19:54:43.037Z"
   },
   {
    "duration": 238,
    "start_time": "2024-12-28T19:54:43.069Z"
   },
   {
    "duration": 985,
    "start_time": "2024-12-28T19:54:43.309Z"
   },
   {
    "duration": 188,
    "start_time": "2024-12-28T19:54:44.296Z"
   },
   {
    "duration": 9,
    "start_time": "2024-12-28T19:54:44.486Z"
   },
   {
    "duration": 108,
    "start_time": "2024-12-28T19:54:44.497Z"
   },
   {
    "duration": 61,
    "start_time": "2024-12-28T19:54:44.607Z"
   },
   {
    "duration": 80,
    "start_time": "2024-12-28T19:54:44.669Z"
   },
   {
    "duration": 28,
    "start_time": "2024-12-28T19:54:44.751Z"
   },
   {
    "duration": 12,
    "start_time": "2024-12-28T19:54:44.781Z"
   },
   {
    "duration": 409,
    "start_time": "2024-12-28T19:54:44.795Z"
   },
   {
    "duration": 3,
    "start_time": "2024-12-28T19:54:45.206Z"
   },
   {
    "duration": 115,
    "start_time": "2024-12-28T19:54:45.211Z"
   },
   {
    "duration": 85,
    "start_time": "2024-12-28T19:54:45.328Z"
   },
   {
    "duration": 190,
    "start_time": "2024-12-28T19:54:45.414Z"
   },
   {
    "duration": 242,
    "start_time": "2024-12-28T19:54:45.606Z"
   },
   {
    "duration": 35,
    "start_time": "2024-12-28T19:54:45.851Z"
   },
   {
    "duration": 3397,
    "start_time": "2024-12-28T19:54:45.888Z"
   },
   {
    "duration": 6,
    "start_time": "2024-12-28T19:54:49.286Z"
   },
   {
    "duration": 36,
    "start_time": "2024-12-28T19:54:49.295Z"
   },
   {
    "duration": 21,
    "start_time": "2024-12-28T19:54:49.332Z"
   },
   {
    "duration": 251,
    "start_time": "2024-12-28T19:54:49.355Z"
   },
   {
    "duration": 39,
    "start_time": "2024-12-28T19:54:49.608Z"
   },
   {
    "duration": 85,
    "start_time": "2024-12-28T19:54:49.648Z"
   },
   {
    "duration": 41,
    "start_time": "2024-12-28T19:54:49.735Z"
   },
   {
    "duration": 6,
    "start_time": "2024-12-28T19:54:49.778Z"
   },
   {
    "duration": 11,
    "start_time": "2024-12-28T19:54:49.785Z"
   },
   {
    "duration": 137,
    "start_time": "2024-12-28T19:54:49.798Z"
   },
   {
    "duration": 354,
    "start_time": "2024-12-28T19:54:49.936Z"
   },
   {
    "duration": 80,
    "start_time": "2024-12-28T19:54:50.291Z"
   },
   {
    "duration": 80,
    "start_time": "2024-12-28T19:54:50.373Z"
   },
   {
    "duration": 18,
    "start_time": "2024-12-28T19:54:50.455Z"
   },
   {
    "duration": 57,
    "start_time": "2024-12-28T19:54:50.474Z"
   },
   {
    "duration": 4,
    "start_time": "2024-12-28T19:54:50.532Z"
   },
   {
    "duration": 31,
    "start_time": "2024-12-28T19:54:50.538Z"
   },
   {
    "duration": 11,
    "start_time": "2024-12-28T19:54:50.570Z"
   },
   {
    "duration": 59,
    "start_time": "2024-12-28T19:54:50.582Z"
   },
   {
    "duration": 89,
    "start_time": "2024-12-28T19:54:50.643Z"
   },
   {
    "duration": 9,
    "start_time": "2024-12-28T19:54:50.733Z"
   },
   {
    "duration": 37,
    "start_time": "2024-12-28T19:54:50.743Z"
   },
   {
    "duration": 105,
    "start_time": "2024-12-28T19:54:50.782Z"
   },
   {
    "duration": 0,
    "start_time": "2024-12-28T19:54:50.889Z"
   },
   {
    "duration": 0,
    "start_time": "2024-12-28T19:54:50.890Z"
   },
   {
    "duration": 0,
    "start_time": "2024-12-28T19:54:50.892Z"
   },
   {
    "duration": 0,
    "start_time": "2024-12-28T19:54:50.893Z"
   },
   {
    "duration": 0,
    "start_time": "2024-12-28T19:54:50.894Z"
   },
   {
    "duration": 0,
    "start_time": "2024-12-28T19:54:50.895Z"
   },
   {
    "duration": 0,
    "start_time": "2024-12-28T19:54:50.897Z"
   },
   {
    "duration": 0,
    "start_time": "2024-12-28T19:54:50.898Z"
   },
   {
    "duration": 0,
    "start_time": "2024-12-28T19:54:50.899Z"
   },
   {
    "duration": 0,
    "start_time": "2024-12-28T19:54:50.900Z"
   },
   {
    "duration": 0,
    "start_time": "2024-12-28T19:54:50.901Z"
   },
   {
    "duration": 0,
    "start_time": "2024-12-28T19:54:50.903Z"
   },
   {
    "duration": 0,
    "start_time": "2024-12-28T19:54:50.904Z"
   },
   {
    "duration": 13,
    "start_time": "2024-12-28T19:55:52.353Z"
   },
   {
    "duration": 11,
    "start_time": "2024-12-28T19:55:59.162Z"
   },
   {
    "duration": 30,
    "start_time": "2024-12-28T19:56:08.404Z"
   },
   {
    "duration": 25,
    "start_time": "2024-12-28T19:56:22.969Z"
   },
   {
    "duration": 31,
    "start_time": "2024-12-28T19:56:28.781Z"
   },
   {
    "duration": 2420,
    "start_time": "2024-12-28T19:56:40.632Z"
   },
   {
    "duration": 1226,
    "start_time": "2024-12-28T19:56:43.056Z"
   },
   {
    "duration": 2200,
    "start_time": "2024-12-28T19:56:44.284Z"
   },
   {
    "duration": 3,
    "start_time": "2024-12-28T19:56:46.486Z"
   },
   {
    "duration": 24,
    "start_time": "2024-12-28T19:56:46.490Z"
   },
   {
    "duration": 3,
    "start_time": "2024-12-28T19:56:46.515Z"
   },
   {
    "duration": 12,
    "start_time": "2024-12-28T19:56:46.519Z"
   },
   {
    "duration": 45,
    "start_time": "2024-12-28T19:56:46.532Z"
   },
   {
    "duration": 29,
    "start_time": "2024-12-28T19:56:46.579Z"
   },
   {
    "duration": 251,
    "start_time": "2024-12-28T19:56:46.611Z"
   },
   {
    "duration": 950,
    "start_time": "2024-12-28T19:56:46.863Z"
   },
   {
    "duration": 172,
    "start_time": "2024-12-28T19:56:47.815Z"
   },
   {
    "duration": 9,
    "start_time": "2024-12-28T19:56:47.988Z"
   },
   {
    "duration": 112,
    "start_time": "2024-12-28T19:56:47.999Z"
   },
   {
    "duration": 53,
    "start_time": "2024-12-28T19:56:48.113Z"
   },
   {
    "duration": 25,
    "start_time": "2024-12-28T19:56:48.168Z"
   },
   {
    "duration": 49,
    "start_time": "2024-12-28T19:56:48.195Z"
   },
   {
    "duration": 11,
    "start_time": "2024-12-28T19:56:48.245Z"
   },
   {
    "duration": 353,
    "start_time": "2024-12-28T19:56:48.257Z"
   },
   {
    "duration": 4,
    "start_time": "2024-12-28T19:56:48.611Z"
   },
   {
    "duration": 96,
    "start_time": "2024-12-28T19:56:48.616Z"
   },
   {
    "duration": 93,
    "start_time": "2024-12-28T19:56:48.731Z"
   },
   {
    "duration": 146,
    "start_time": "2024-12-28T19:56:48.826Z"
   },
   {
    "duration": 229,
    "start_time": "2024-12-28T19:56:48.974Z"
   },
   {
    "duration": 41,
    "start_time": "2024-12-28T19:56:49.205Z"
   },
   {
    "duration": 4106,
    "start_time": "2024-12-28T19:56:49.248Z"
   },
   {
    "duration": 6,
    "start_time": "2024-12-28T19:56:53.355Z"
   },
   {
    "duration": 133,
    "start_time": "2024-12-28T19:56:53.365Z"
   },
   {
    "duration": 21,
    "start_time": "2024-12-28T19:56:53.500Z"
   },
   {
    "duration": 142,
    "start_time": "2024-12-28T19:56:53.523Z"
   },
   {
    "duration": 42,
    "start_time": "2024-12-28T19:56:53.666Z"
   },
   {
    "duration": 101,
    "start_time": "2024-12-28T19:56:53.709Z"
   },
   {
    "duration": 50,
    "start_time": "2024-12-28T19:56:53.812Z"
   },
   {
    "duration": 5,
    "start_time": "2024-12-28T19:56:53.864Z"
   },
   {
    "duration": 8,
    "start_time": "2024-12-28T19:56:53.871Z"
   },
   {
    "duration": 133,
    "start_time": "2024-12-28T19:56:53.880Z"
   },
   {
    "duration": 356,
    "start_time": "2024-12-28T19:56:54.015Z"
   },
   {
    "duration": 108,
    "start_time": "2024-12-28T19:56:54.373Z"
   },
   {
    "duration": 80,
    "start_time": "2024-12-28T19:56:54.482Z"
   },
   {
    "duration": 15,
    "start_time": "2024-12-28T19:56:54.564Z"
   },
   {
    "duration": 65,
    "start_time": "2024-12-28T19:56:54.581Z"
   },
   {
    "duration": 4,
    "start_time": "2024-12-28T19:56:54.648Z"
   },
   {
    "duration": 108,
    "start_time": "2024-12-28T19:56:54.653Z"
   },
   {
    "duration": 12,
    "start_time": "2024-12-28T19:56:54.762Z"
   },
   {
    "duration": 24,
    "start_time": "2024-12-28T19:56:54.775Z"
   },
   {
    "duration": 9,
    "start_time": "2024-12-28T19:56:54.800Z"
   },
   {
    "duration": 15,
    "start_time": "2024-12-28T19:56:54.811Z"
   },
   {
    "duration": 42,
    "start_time": "2024-12-28T19:56:54.827Z"
   },
   {
    "duration": 116,
    "start_time": "2024-12-28T19:56:54.870Z"
   },
   {
    "duration": 0,
    "start_time": "2024-12-28T19:56:54.988Z"
   },
   {
    "duration": 0,
    "start_time": "2024-12-28T19:56:54.989Z"
   },
   {
    "duration": 0,
    "start_time": "2024-12-28T19:56:54.991Z"
   },
   {
    "duration": 0,
    "start_time": "2024-12-28T19:56:54.991Z"
   },
   {
    "duration": 0,
    "start_time": "2024-12-28T19:56:54.993Z"
   },
   {
    "duration": 0,
    "start_time": "2024-12-28T19:56:54.994Z"
   },
   {
    "duration": 0,
    "start_time": "2024-12-28T19:56:54.995Z"
   },
   {
    "duration": 0,
    "start_time": "2024-12-28T19:56:54.996Z"
   },
   {
    "duration": 0,
    "start_time": "2024-12-28T19:56:54.997Z"
   },
   {
    "duration": 0,
    "start_time": "2024-12-28T19:56:54.998Z"
   },
   {
    "duration": 0,
    "start_time": "2024-12-28T19:56:54.999Z"
   },
   {
    "duration": 0,
    "start_time": "2024-12-28T19:56:55.000Z"
   },
   {
    "duration": 0,
    "start_time": "2024-12-28T19:56:55.001Z"
   },
   {
    "duration": 10,
    "start_time": "2024-12-28T19:58:24.622Z"
   },
   {
    "duration": 10,
    "start_time": "2024-12-28T19:59:14.480Z"
   },
   {
    "duration": 940,
    "start_time": "2024-12-28T19:59:35.049Z"
   },
   {
    "duration": 11,
    "start_time": "2024-12-28T20:00:03.184Z"
   },
   {
    "duration": 14,
    "start_time": "2024-12-28T20:00:25.574Z"
   },
   {
    "duration": 315,
    "start_time": "2024-12-28T20:00:49.128Z"
   },
   {
    "duration": 343,
    "start_time": "2024-12-28T20:01:11.114Z"
   },
   {
    "duration": 4,
    "start_time": "2024-12-28T20:01:31.064Z"
   },
   {
    "duration": 372,
    "start_time": "2024-12-28T20:01:37.840Z"
   },
   {
    "duration": 2464,
    "start_time": "2024-12-28T20:01:52.896Z"
   },
   {
    "duration": 1223,
    "start_time": "2024-12-28T20:01:55.362Z"
   },
   {
    "duration": 2306,
    "start_time": "2024-12-28T20:01:56.586Z"
   },
   {
    "duration": 4,
    "start_time": "2024-12-28T20:01:58.894Z"
   },
   {
    "duration": 30,
    "start_time": "2024-12-28T20:01:58.899Z"
   },
   {
    "duration": 3,
    "start_time": "2024-12-28T20:01:58.931Z"
   },
   {
    "duration": 7,
    "start_time": "2024-12-28T20:01:58.936Z"
   },
   {
    "duration": 31,
    "start_time": "2024-12-28T20:01:58.944Z"
   },
   {
    "duration": 27,
    "start_time": "2024-12-28T20:01:58.976Z"
   },
   {
    "duration": 231,
    "start_time": "2024-12-28T20:01:59.030Z"
   },
   {
    "duration": 1001,
    "start_time": "2024-12-28T20:01:59.263Z"
   },
   {
    "duration": 383,
    "start_time": "2024-12-28T20:02:00.266Z"
   },
   {
    "duration": 9,
    "start_time": "2024-12-28T20:02:00.651Z"
   },
   {
    "duration": 295,
    "start_time": "2024-12-28T20:02:00.661Z"
   },
   {
    "duration": 103,
    "start_time": "2024-12-28T20:02:00.958Z"
   },
   {
    "duration": 83,
    "start_time": "2024-12-28T20:02:01.063Z"
   },
   {
    "duration": 83,
    "start_time": "2024-12-28T20:02:01.148Z"
   },
   {
    "duration": 10,
    "start_time": "2024-12-28T20:02:01.233Z"
   },
   {
    "duration": 431,
    "start_time": "2024-12-28T20:02:01.245Z"
   },
   {
    "duration": 3,
    "start_time": "2024-12-28T20:02:01.678Z"
   },
   {
    "duration": 165,
    "start_time": "2024-12-28T20:02:01.683Z"
   },
   {
    "duration": 93,
    "start_time": "2024-12-28T20:02:01.849Z"
   },
   {
    "duration": 167,
    "start_time": "2024-12-28T20:02:01.943Z"
   },
   {
    "duration": 237,
    "start_time": "2024-12-28T20:02:02.112Z"
   },
   {
    "duration": 33,
    "start_time": "2024-12-28T20:02:02.351Z"
   },
   {
    "duration": 3458,
    "start_time": "2024-12-28T20:02:02.385Z"
   },
   {
    "duration": 5,
    "start_time": "2024-12-28T20:02:05.844Z"
   },
   {
    "duration": 35,
    "start_time": "2024-12-28T20:02:05.853Z"
   },
   {
    "duration": 21,
    "start_time": "2024-12-28T20:02:05.890Z"
   },
   {
    "duration": 177,
    "start_time": "2024-12-28T20:02:05.913Z"
   },
   {
    "duration": 43,
    "start_time": "2024-12-28T20:02:06.091Z"
   },
   {
    "duration": 106,
    "start_time": "2024-12-28T20:02:06.136Z"
   },
   {
    "duration": 43,
    "start_time": "2024-12-28T20:02:06.243Z"
   },
   {
    "duration": 6,
    "start_time": "2024-12-28T20:02:06.287Z"
   },
   {
    "duration": 235,
    "start_time": "2024-12-28T20:02:06.295Z"
   },
   {
    "duration": 115,
    "start_time": "2024-12-28T20:02:06.531Z"
   },
   {
    "duration": 354,
    "start_time": "2024-12-28T20:02:06.648Z"
   },
   {
    "duration": 101,
    "start_time": "2024-12-28T20:02:07.004Z"
   },
   {
    "duration": 78,
    "start_time": "2024-12-28T20:02:07.106Z"
   },
   {
    "duration": 14,
    "start_time": "2024-12-28T20:02:07.186Z"
   },
   {
    "duration": 62,
    "start_time": "2024-12-28T20:02:07.202Z"
   },
   {
    "duration": 4,
    "start_time": "2024-12-28T20:02:07.266Z"
   },
   {
    "duration": 15,
    "start_time": "2024-12-28T20:02:07.271Z"
   },
   {
    "duration": 11,
    "start_time": "2024-12-28T20:02:07.287Z"
   },
   {
    "duration": 44,
    "start_time": "2024-12-28T20:02:07.300Z"
   },
   {
    "duration": 8,
    "start_time": "2024-12-28T20:02:07.346Z"
   },
   {
    "duration": 5,
    "start_time": "2024-12-28T20:02:07.356Z"
   },
   {
    "duration": 12,
    "start_time": "2024-12-28T20:02:07.363Z"
   },
   {
    "duration": 167,
    "start_time": "2024-12-28T20:02:07.376Z"
   },
   {
    "duration": 0,
    "start_time": "2024-12-28T20:02:07.544Z"
   },
   {
    "duration": 0,
    "start_time": "2024-12-28T20:02:07.546Z"
   },
   {
    "duration": 0,
    "start_time": "2024-12-28T20:02:07.546Z"
   },
   {
    "duration": 0,
    "start_time": "2024-12-28T20:02:07.547Z"
   },
   {
    "duration": 0,
    "start_time": "2024-12-28T20:02:07.549Z"
   },
   {
    "duration": 0,
    "start_time": "2024-12-28T20:02:07.550Z"
   },
   {
    "duration": 0,
    "start_time": "2024-12-28T20:02:07.551Z"
   },
   {
    "duration": 0,
    "start_time": "2024-12-28T20:02:07.552Z"
   },
   {
    "duration": 0,
    "start_time": "2024-12-28T20:02:07.553Z"
   },
   {
    "duration": 0,
    "start_time": "2024-12-28T20:02:07.554Z"
   },
   {
    "duration": 0,
    "start_time": "2024-12-28T20:02:07.555Z"
   },
   {
    "duration": 0,
    "start_time": "2024-12-28T20:02:07.556Z"
   },
   {
    "duration": 0,
    "start_time": "2024-12-28T20:02:07.557Z"
   },
   {
    "duration": 30,
    "start_time": "2024-12-28T20:02:24.636Z"
   },
   {
    "duration": 425,
    "start_time": "2024-12-28T20:03:11.500Z"
   },
   {
    "duration": 27,
    "start_time": "2024-12-28T20:04:01.745Z"
   },
   {
    "duration": 23,
    "start_time": "2024-12-28T20:04:58.647Z"
   },
   {
    "duration": 365,
    "start_time": "2024-12-28T20:05:56.144Z"
   },
   {
    "duration": 22,
    "start_time": "2024-12-28T20:07:57.748Z"
   },
   {
    "duration": 28,
    "start_time": "2024-12-28T20:08:03.148Z"
   },
   {
    "duration": 5,
    "start_time": "2024-12-28T20:09:14.511Z"
   },
   {
    "duration": 15,
    "start_time": "2024-12-28T20:16:27.476Z"
   },
   {
    "duration": 9,
    "start_time": "2024-12-28T20:16:45.876Z"
   },
   {
    "duration": 12,
    "start_time": "2024-12-28T20:18:06.214Z"
   },
   {
    "duration": 13,
    "start_time": "2024-12-28T20:20:12.662Z"
   },
   {
    "duration": 11,
    "start_time": "2024-12-28T20:20:28.703Z"
   },
   {
    "duration": 12,
    "start_time": "2024-12-28T20:21:45.272Z"
   },
   {
    "duration": 22,
    "start_time": "2024-12-28T20:26:17.074Z"
   },
   {
    "duration": 15,
    "start_time": "2024-12-28T20:29:16.416Z"
   },
   {
    "duration": 2451,
    "start_time": "2024-12-28T20:29:37.616Z"
   },
   {
    "duration": 1224,
    "start_time": "2024-12-28T20:29:40.069Z"
   },
   {
    "duration": 2398,
    "start_time": "2024-12-28T20:29:41.295Z"
   },
   {
    "duration": 3,
    "start_time": "2024-12-28T20:29:43.695Z"
   },
   {
    "duration": 31,
    "start_time": "2024-12-28T20:29:43.700Z"
   },
   {
    "duration": 4,
    "start_time": "2024-12-28T20:29:43.733Z"
   },
   {
    "duration": 9,
    "start_time": "2024-12-28T20:29:43.738Z"
   },
   {
    "duration": 82,
    "start_time": "2024-12-28T20:29:43.748Z"
   },
   {
    "duration": 28,
    "start_time": "2024-12-28T20:29:43.831Z"
   },
   {
    "duration": 278,
    "start_time": "2024-12-28T20:29:43.861Z"
   },
   {
    "duration": 989,
    "start_time": "2024-12-28T20:29:44.141Z"
   },
   {
    "duration": 183,
    "start_time": "2024-12-28T20:29:45.131Z"
   },
   {
    "duration": 18,
    "start_time": "2024-12-28T20:29:45.315Z"
   },
   {
    "duration": 108,
    "start_time": "2024-12-28T20:29:45.336Z"
   },
   {
    "duration": 48,
    "start_time": "2024-12-28T20:29:45.446Z"
   },
   {
    "duration": 36,
    "start_time": "2024-12-28T20:29:45.496Z"
   },
   {
    "duration": 122,
    "start_time": "2024-12-28T20:29:45.534Z"
   },
   {
    "duration": 12,
    "start_time": "2024-12-28T20:29:45.658Z"
   },
   {
    "duration": 341,
    "start_time": "2024-12-28T20:29:45.672Z"
   },
   {
    "duration": 6,
    "start_time": "2024-12-28T20:29:46.016Z"
   },
   {
    "duration": 111,
    "start_time": "2024-12-28T20:29:46.030Z"
   },
   {
    "duration": 108,
    "start_time": "2024-12-28T20:29:46.143Z"
   },
   {
    "duration": 159,
    "start_time": "2024-12-28T20:29:46.253Z"
   },
   {
    "duration": 236,
    "start_time": "2024-12-28T20:29:46.414Z"
   },
   {
    "duration": 35,
    "start_time": "2024-12-28T20:29:46.652Z"
   },
   {
    "duration": 4910,
    "start_time": "2024-12-28T20:29:46.688Z"
   },
   {
    "duration": 6,
    "start_time": "2024-12-28T20:29:51.599Z"
   },
   {
    "duration": 48,
    "start_time": "2024-12-28T20:29:51.606Z"
   },
   {
    "duration": 35,
    "start_time": "2024-12-28T20:29:51.656Z"
   },
   {
    "duration": 156,
    "start_time": "2024-12-28T20:29:51.693Z"
   },
   {
    "duration": 41,
    "start_time": "2024-12-28T20:29:51.851Z"
   },
   {
    "duration": 114,
    "start_time": "2024-12-28T20:29:51.894Z"
   },
   {
    "duration": 55,
    "start_time": "2024-12-28T20:29:52.016Z"
   },
   {
    "duration": 6,
    "start_time": "2024-12-28T20:29:52.073Z"
   },
   {
    "duration": 11,
    "start_time": "2024-12-28T20:29:52.080Z"
   },
   {
    "duration": 131,
    "start_time": "2024-12-28T20:29:52.092Z"
   },
   {
    "duration": 127,
    "start_time": "2024-12-28T20:29:52.224Z"
   },
   {
    "duration": 0,
    "start_time": "2024-12-28T20:29:52.353Z"
   },
   {
    "duration": 0,
    "start_time": "2024-12-28T20:29:52.354Z"
   },
   {
    "duration": 0,
    "start_time": "2024-12-28T20:29:52.355Z"
   },
   {
    "duration": 0,
    "start_time": "2024-12-28T20:29:52.357Z"
   },
   {
    "duration": 0,
    "start_time": "2024-12-28T20:29:52.358Z"
   },
   {
    "duration": 0,
    "start_time": "2024-12-28T20:29:52.359Z"
   },
   {
    "duration": 0,
    "start_time": "2024-12-28T20:29:52.360Z"
   },
   {
    "duration": 0,
    "start_time": "2024-12-28T20:29:52.362Z"
   },
   {
    "duration": 0,
    "start_time": "2024-12-28T20:29:52.363Z"
   },
   {
    "duration": 0,
    "start_time": "2024-12-28T20:29:52.364Z"
   },
   {
    "duration": 0,
    "start_time": "2024-12-28T20:29:52.366Z"
   },
   {
    "duration": 0,
    "start_time": "2024-12-28T20:29:52.367Z"
   },
   {
    "duration": 0,
    "start_time": "2024-12-28T20:29:52.368Z"
   },
   {
    "duration": 0,
    "start_time": "2024-12-28T20:29:52.369Z"
   },
   {
    "duration": 0,
    "start_time": "2024-12-28T20:29:52.371Z"
   },
   {
    "duration": 0,
    "start_time": "2024-12-28T20:29:52.372Z"
   },
   {
    "duration": 0,
    "start_time": "2024-12-28T20:29:52.373Z"
   },
   {
    "duration": 0,
    "start_time": "2024-12-28T20:29:52.374Z"
   },
   {
    "duration": 0,
    "start_time": "2024-12-28T20:29:52.375Z"
   },
   {
    "duration": 0,
    "start_time": "2024-12-28T20:29:52.377Z"
   },
   {
    "duration": 0,
    "start_time": "2024-12-28T20:29:52.378Z"
   },
   {
    "duration": 381,
    "start_time": "2024-12-28T20:31:50.406Z"
   },
   {
    "duration": 92,
    "start_time": "2024-12-28T20:32:02.146Z"
   },
   {
    "duration": 2535,
    "start_time": "2024-12-28T20:32:10.035Z"
   },
   {
    "duration": 1221,
    "start_time": "2024-12-28T20:32:12.572Z"
   },
   {
    "duration": 2309,
    "start_time": "2024-12-28T20:32:13.794Z"
   },
   {
    "duration": 3,
    "start_time": "2024-12-28T20:32:16.106Z"
   },
   {
    "duration": 25,
    "start_time": "2024-12-28T20:32:16.111Z"
   },
   {
    "duration": 13,
    "start_time": "2024-12-28T20:32:16.138Z"
   },
   {
    "duration": 10,
    "start_time": "2024-12-28T20:32:16.153Z"
   },
   {
    "duration": 51,
    "start_time": "2024-12-28T20:32:16.165Z"
   },
   {
    "duration": 28,
    "start_time": "2024-12-28T20:32:16.230Z"
   },
   {
    "duration": 270,
    "start_time": "2024-12-28T20:32:16.260Z"
   },
   {
    "duration": 984,
    "start_time": "2024-12-28T20:32:16.531Z"
   },
   {
    "duration": 177,
    "start_time": "2024-12-28T20:32:17.517Z"
   },
   {
    "duration": 11,
    "start_time": "2024-12-28T20:32:17.696Z"
   },
   {
    "duration": 110,
    "start_time": "2024-12-28T20:32:17.709Z"
   },
   {
    "duration": 54,
    "start_time": "2024-12-28T20:32:17.821Z"
   },
   {
    "duration": 25,
    "start_time": "2024-12-28T20:32:17.877Z"
   },
   {
    "duration": 52,
    "start_time": "2024-12-28T20:32:17.903Z"
   },
   {
    "duration": 10,
    "start_time": "2024-12-28T20:32:17.957Z"
   },
   {
    "duration": 338,
    "start_time": "2024-12-28T20:32:17.968Z"
   },
   {
    "duration": 3,
    "start_time": "2024-12-28T20:32:18.308Z"
   },
   {
    "duration": 101,
    "start_time": "2024-12-28T20:32:18.312Z"
   },
   {
    "duration": 90,
    "start_time": "2024-12-28T20:32:18.431Z"
   },
   {
    "duration": 166,
    "start_time": "2024-12-28T20:32:18.523Z"
   },
   {
    "duration": 241,
    "start_time": "2024-12-28T20:32:18.691Z"
   },
   {
    "duration": 35,
    "start_time": "2024-12-28T20:32:18.933Z"
   },
   {
    "duration": 3489,
    "start_time": "2024-12-28T20:32:18.970Z"
   },
   {
    "duration": 6,
    "start_time": "2024-12-28T20:32:22.461Z"
   },
   {
    "duration": 99,
    "start_time": "2024-12-28T20:32:22.470Z"
   },
   {
    "duration": 123,
    "start_time": "2024-12-28T20:32:22.571Z"
   },
   {
    "duration": 146,
    "start_time": "2024-12-28T20:32:22.696Z"
   },
   {
    "duration": 43,
    "start_time": "2024-12-28T20:32:22.843Z"
   },
   {
    "duration": 112,
    "start_time": "2024-12-28T20:32:22.888Z"
   },
   {
    "duration": 50,
    "start_time": "2024-12-28T20:32:23.002Z"
   },
   {
    "duration": 5,
    "start_time": "2024-12-28T20:32:23.054Z"
   },
   {
    "duration": 32,
    "start_time": "2024-12-28T20:32:23.061Z"
   },
   {
    "duration": 122,
    "start_time": "2024-12-28T20:32:23.095Z"
   },
   {
    "duration": 403,
    "start_time": "2024-12-28T20:32:23.219Z"
   },
   {
    "duration": 81,
    "start_time": "2024-12-28T20:32:23.623Z"
   },
   {
    "duration": 94,
    "start_time": "2024-12-28T20:32:23.706Z"
   },
   {
    "duration": 32,
    "start_time": "2024-12-28T20:32:23.802Z"
   },
   {
    "duration": 54,
    "start_time": "2024-12-28T20:32:23.835Z"
   },
   {
    "duration": 4,
    "start_time": "2024-12-28T20:32:23.891Z"
   },
   {
    "duration": 21,
    "start_time": "2024-12-28T20:32:23.896Z"
   },
   {
    "duration": 13,
    "start_time": "2024-12-28T20:32:23.931Z"
   },
   {
    "duration": 49,
    "start_time": "2024-12-28T20:32:23.945Z"
   },
   {
    "duration": 480,
    "start_time": "2024-12-28T20:32:23.996Z"
   },
   {
    "duration": 9,
    "start_time": "2024-12-28T20:32:24.478Z"
   },
   {
    "duration": 81,
    "start_time": "2024-12-28T20:32:24.489Z"
   },
   {
    "duration": 121,
    "start_time": "2024-12-28T20:32:24.572Z"
   },
   {
    "duration": 20,
    "start_time": "2024-12-28T20:32:24.695Z"
   },
   {
    "duration": 7,
    "start_time": "2024-12-28T20:32:24.717Z"
   },
   {
    "duration": 7,
    "start_time": "2024-12-28T20:32:24.725Z"
   },
   {
    "duration": 41,
    "start_time": "2024-12-28T20:32:24.734Z"
   },
   {
    "duration": 110,
    "start_time": "2024-12-28T20:32:24.777Z"
   },
   {
    "duration": 216,
    "start_time": "2024-12-28T20:32:24.888Z"
   },
   {
    "duration": 0,
    "start_time": "2024-12-28T20:32:25.106Z"
   },
   {
    "duration": 0,
    "start_time": "2024-12-28T20:32:25.107Z"
   },
   {
    "duration": 0,
    "start_time": "2024-12-28T20:32:25.109Z"
   },
   {
    "duration": 17,
    "start_time": "2024-12-28T20:33:37.353Z"
   },
   {
    "duration": 1320,
    "start_time": "2024-12-28T20:45:53.279Z"
   },
   {
    "duration": 26,
    "start_time": "2024-12-28T20:46:19.071Z"
   },
   {
    "duration": 28,
    "start_time": "2024-12-28T20:47:35.311Z"
   },
   {
    "duration": 2525,
    "start_time": "2024-12-28T20:48:04.069Z"
   },
   {
    "duration": 1433,
    "start_time": "2024-12-28T20:48:06.597Z"
   },
   {
    "duration": 2703,
    "start_time": "2024-12-28T20:48:08.032Z"
   },
   {
    "duration": 3,
    "start_time": "2024-12-28T20:48:10.737Z"
   },
   {
    "duration": 24,
    "start_time": "2024-12-28T20:48:10.741Z"
   },
   {
    "duration": 4,
    "start_time": "2024-12-28T20:48:10.767Z"
   },
   {
    "duration": 61,
    "start_time": "2024-12-28T20:48:10.773Z"
   },
   {
    "duration": 174,
    "start_time": "2024-12-28T20:48:10.835Z"
   },
   {
    "duration": 28,
    "start_time": "2024-12-28T20:48:11.011Z"
   },
   {
    "duration": 260,
    "start_time": "2024-12-28T20:48:11.043Z"
   },
   {
    "duration": 1027,
    "start_time": "2024-12-28T20:48:11.304Z"
   },
   {
    "duration": 185,
    "start_time": "2024-12-28T20:48:12.333Z"
   },
   {
    "duration": 14,
    "start_time": "2024-12-28T20:48:12.519Z"
   },
   {
    "duration": 156,
    "start_time": "2024-12-28T20:48:12.535Z"
   },
   {
    "duration": 49,
    "start_time": "2024-12-28T20:48:12.693Z"
   },
   {
    "duration": 32,
    "start_time": "2024-12-28T20:48:12.744Z"
   },
   {
    "duration": 27,
    "start_time": "2024-12-28T20:48:12.777Z"
   },
   {
    "duration": 28,
    "start_time": "2024-12-28T20:48:12.805Z"
   },
   {
    "duration": 408,
    "start_time": "2024-12-28T20:48:12.834Z"
   },
   {
    "duration": 3,
    "start_time": "2024-12-28T20:48:13.243Z"
   },
   {
    "duration": 112,
    "start_time": "2024-12-28T20:48:13.248Z"
   },
   {
    "duration": 94,
    "start_time": "2024-12-28T20:48:13.362Z"
   },
   {
    "duration": 166,
    "start_time": "2024-12-28T20:48:13.458Z"
   },
   {
    "duration": 227,
    "start_time": "2024-12-28T20:48:13.629Z"
   },
   {
    "duration": 36,
    "start_time": "2024-12-28T20:48:13.858Z"
   },
   {
    "duration": 3635,
    "start_time": "2024-12-28T20:48:13.896Z"
   },
   {
    "duration": 6,
    "start_time": "2024-12-28T20:48:17.532Z"
   },
   {
    "duration": 47,
    "start_time": "2024-12-28T20:48:17.541Z"
   },
   {
    "duration": 22,
    "start_time": "2024-12-28T20:48:17.630Z"
   },
   {
    "duration": 321,
    "start_time": "2024-12-28T20:48:17.654Z"
   },
   {
    "duration": 98,
    "start_time": "2024-12-28T20:48:17.976Z"
   },
   {
    "duration": 187,
    "start_time": "2024-12-28T20:48:18.076Z"
   },
   {
    "duration": 94,
    "start_time": "2024-12-28T20:48:18.264Z"
   },
   {
    "duration": 8,
    "start_time": "2024-12-28T20:48:18.360Z"
   },
   {
    "duration": 64,
    "start_time": "2024-12-28T20:48:18.370Z"
   },
   {
    "duration": 400,
    "start_time": "2024-12-28T20:48:18.436Z"
   },
   {
    "duration": 404,
    "start_time": "2024-12-28T20:48:18.837Z"
   },
   {
    "duration": 73,
    "start_time": "2024-12-28T20:48:19.243Z"
   },
   {
    "duration": 81,
    "start_time": "2024-12-28T20:48:19.329Z"
   },
   {
    "duration": 31,
    "start_time": "2024-12-28T20:48:19.411Z"
   },
   {
    "duration": 44,
    "start_time": "2024-12-28T20:48:19.443Z"
   },
   {
    "duration": 5,
    "start_time": "2024-12-28T20:48:19.489Z"
   },
   {
    "duration": 43,
    "start_time": "2024-12-28T20:48:19.496Z"
   },
   {
    "duration": 13,
    "start_time": "2024-12-28T20:48:19.540Z"
   },
   {
    "duration": 29,
    "start_time": "2024-12-28T20:48:19.554Z"
   },
   {
    "duration": 593,
    "start_time": "2024-12-28T20:48:19.584Z"
   },
   {
    "duration": 11,
    "start_time": "2024-12-28T20:48:20.179Z"
   },
   {
    "duration": 19,
    "start_time": "2024-12-28T20:48:20.191Z"
   },
   {
    "duration": 28,
    "start_time": "2024-12-28T20:48:20.229Z"
   },
   {
    "duration": 13,
    "start_time": "2024-12-28T20:48:20.259Z"
   },
   {
    "duration": 41,
    "start_time": "2024-12-28T20:48:20.274Z"
   },
   {
    "duration": 15,
    "start_time": "2024-12-28T20:48:20.316Z"
   },
   {
    "duration": 4,
    "start_time": "2024-12-28T20:48:20.332Z"
   },
   {
    "duration": 39,
    "start_time": "2024-12-28T20:48:20.337Z"
   },
   {
    "duration": 25,
    "start_time": "2024-12-28T20:48:20.377Z"
   },
   {
    "duration": 229,
    "start_time": "2024-12-28T20:48:20.403Z"
   },
   {
    "duration": 0,
    "start_time": "2024-12-28T20:48:20.634Z"
   },
   {
    "duration": 0,
    "start_time": "2024-12-28T20:48:20.635Z"
   },
   {
    "duration": 0,
    "start_time": "2024-12-28T20:48:20.636Z"
   },
   {
    "duration": 36,
    "start_time": "2024-12-28T20:48:41.669Z"
   },
   {
    "duration": 18,
    "start_time": "2024-12-28T20:50:44.360Z"
   },
   {
    "duration": 7,
    "start_time": "2024-12-28T20:51:03.906Z"
   },
   {
    "duration": 22,
    "start_time": "2024-12-28T20:51:33.480Z"
   },
   {
    "duration": 11,
    "start_time": "2024-12-28T20:52:00.917Z"
   },
   {
    "duration": 11,
    "start_time": "2024-12-28T20:52:06.542Z"
   },
   {
    "duration": 12,
    "start_time": "2024-12-28T20:52:19.319Z"
   },
   {
    "duration": 13,
    "start_time": "2024-12-28T20:52:31.555Z"
   },
   {
    "duration": 8,
    "start_time": "2024-12-28T20:52:50.654Z"
   },
   {
    "duration": 8,
    "start_time": "2024-12-28T20:54:40.325Z"
   },
   {
    "duration": 8,
    "start_time": "2024-12-28T20:54:46.184Z"
   },
   {
    "duration": 9,
    "start_time": "2024-12-28T20:56:20.401Z"
   },
   {
    "duration": 9,
    "start_time": "2024-12-28T20:57:47.180Z"
   },
   {
    "duration": 9,
    "start_time": "2024-12-28T20:58:21.866Z"
   },
   {
    "duration": 9,
    "start_time": "2024-12-28T21:02:29.976Z"
   },
   {
    "duration": 6,
    "start_time": "2024-12-28T21:03:36.483Z"
   },
   {
    "duration": 7,
    "start_time": "2024-12-28T21:05:40.731Z"
   },
   {
    "duration": 7,
    "start_time": "2024-12-28T21:06:09.434Z"
   },
   {
    "duration": 6,
    "start_time": "2024-12-28T21:07:07.677Z"
   },
   {
    "duration": 5,
    "start_time": "2024-12-28T21:07:46.744Z"
   },
   {
    "duration": 7,
    "start_time": "2024-12-28T21:08:06.757Z"
   },
   {
    "duration": 7,
    "start_time": "2024-12-28T21:08:20.925Z"
   },
   {
    "duration": 6,
    "start_time": "2024-12-28T21:08:48.335Z"
   },
   {
    "duration": 5,
    "start_time": "2024-12-28T21:09:04.833Z"
   },
   {
    "duration": 6,
    "start_time": "2024-12-28T21:09:22.235Z"
   },
   {
    "duration": 7,
    "start_time": "2024-12-28T21:09:36.852Z"
   },
   {
    "duration": 2427,
    "start_time": "2024-12-28T21:13:01.269Z"
   },
   {
    "duration": 1186,
    "start_time": "2024-12-28T21:13:03.699Z"
   },
   {
    "duration": 2948,
    "start_time": "2024-12-28T21:13:04.887Z"
   },
   {
    "duration": 4,
    "start_time": "2024-12-28T21:13:07.837Z"
   },
   {
    "duration": 40,
    "start_time": "2024-12-28T21:13:07.842Z"
   },
   {
    "duration": 15,
    "start_time": "2024-12-28T21:13:07.884Z"
   },
   {
    "duration": 39,
    "start_time": "2024-12-28T21:13:07.901Z"
   },
   {
    "duration": 79,
    "start_time": "2024-12-28T21:13:07.942Z"
   },
   {
    "duration": 26,
    "start_time": "2024-12-28T21:13:08.023Z"
   },
   {
    "duration": 242,
    "start_time": "2024-12-28T21:13:08.053Z"
   },
   {
    "duration": 965,
    "start_time": "2024-12-28T21:13:08.296Z"
   },
   {
    "duration": 178,
    "start_time": "2024-12-28T21:13:09.263Z"
   },
   {
    "duration": 10,
    "start_time": "2024-12-28T21:13:09.442Z"
   },
   {
    "duration": 110,
    "start_time": "2024-12-28T21:13:09.454Z"
   },
   {
    "duration": 48,
    "start_time": "2024-12-28T21:13:09.566Z"
   },
   {
    "duration": 33,
    "start_time": "2024-12-28T21:13:09.616Z"
   },
   {
    "duration": 26,
    "start_time": "2024-12-28T21:13:09.651Z"
   },
   {
    "duration": 10,
    "start_time": "2024-12-28T21:13:09.679Z"
   },
   {
    "duration": 412,
    "start_time": "2024-12-28T21:13:09.691Z"
   },
   {
    "duration": 3,
    "start_time": "2024-12-28T21:13:10.104Z"
   },
   {
    "duration": 105,
    "start_time": "2024-12-28T21:13:10.108Z"
   },
   {
    "duration": 81,
    "start_time": "2024-12-28T21:13:10.230Z"
   },
   {
    "duration": 151,
    "start_time": "2024-12-28T21:13:10.313Z"
   },
   {
    "duration": 227,
    "start_time": "2024-12-28T21:13:10.466Z"
   },
   {
    "duration": 41,
    "start_time": "2024-12-28T21:13:10.695Z"
   },
   {
    "duration": 3323,
    "start_time": "2024-12-28T21:13:10.737Z"
   },
   {
    "duration": 5,
    "start_time": "2024-12-28T21:13:14.063Z"
   },
   {
    "duration": 36,
    "start_time": "2024-12-28T21:13:14.071Z"
   },
   {
    "duration": 30,
    "start_time": "2024-12-28T21:13:14.109Z"
   },
   {
    "duration": 149,
    "start_time": "2024-12-28T21:13:14.141Z"
   },
   {
    "duration": 42,
    "start_time": "2024-12-28T21:13:14.292Z"
   },
   {
    "duration": 97,
    "start_time": "2024-12-28T21:13:14.336Z"
   },
   {
    "duration": 45,
    "start_time": "2024-12-28T21:13:14.435Z"
   },
   {
    "duration": 6,
    "start_time": "2024-12-28T21:13:14.481Z"
   },
   {
    "duration": 10,
    "start_time": "2024-12-28T21:13:14.488Z"
   },
   {
    "duration": 124,
    "start_time": "2024-12-28T21:13:14.499Z"
   },
   {
    "duration": 391,
    "start_time": "2024-12-28T21:13:14.630Z"
   },
   {
    "duration": 96,
    "start_time": "2024-12-28T21:13:15.023Z"
   },
   {
    "duration": 89,
    "start_time": "2024-12-28T21:13:15.120Z"
   },
   {
    "duration": 27,
    "start_time": "2024-12-28T21:13:15.211Z"
   },
   {
    "duration": 53,
    "start_time": "2024-12-28T21:13:15.240Z"
   },
   {
    "duration": 4,
    "start_time": "2024-12-28T21:13:15.294Z"
   },
   {
    "duration": 43,
    "start_time": "2024-12-28T21:13:15.300Z"
   },
   {
    "duration": 23,
    "start_time": "2024-12-28T21:13:15.344Z"
   },
   {
    "duration": 35,
    "start_time": "2024-12-28T21:13:15.368Z"
   },
   {
    "duration": 449,
    "start_time": "2024-12-28T21:13:15.405Z"
   },
   {
    "duration": 9,
    "start_time": "2024-12-28T21:13:15.856Z"
   },
   {
    "duration": 37,
    "start_time": "2024-12-28T21:13:15.867Z"
   },
   {
    "duration": 12,
    "start_time": "2024-12-28T21:13:15.906Z"
   },
   {
    "duration": 12,
    "start_time": "2024-12-28T21:13:15.920Z"
   },
   {
    "duration": 13,
    "start_time": "2024-12-28T21:13:15.934Z"
   },
   {
    "duration": 22,
    "start_time": "2024-12-28T21:13:15.949Z"
   },
   {
    "duration": 7,
    "start_time": "2024-12-28T21:13:15.973Z"
   },
   {
    "duration": 9,
    "start_time": "2024-12-28T21:13:15.981Z"
   },
   {
    "duration": 50,
    "start_time": "2024-12-28T21:13:15.992Z"
   },
   {
    "duration": 26,
    "start_time": "2024-12-28T21:13:16.043Z"
   },
   {
    "duration": 236,
    "start_time": "2024-12-28T21:13:16.070Z"
   },
   {
    "duration": 0,
    "start_time": "2024-12-28T21:13:16.308Z"
   },
   {
    "duration": 0,
    "start_time": "2024-12-28T21:13:16.309Z"
   },
   {
    "duration": 0,
    "start_time": "2024-12-28T21:13:16.310Z"
   },
   {
    "duration": 2435,
    "start_time": "2024-12-28T21:13:51.549Z"
   },
   {
    "duration": 1203,
    "start_time": "2024-12-28T21:13:53.986Z"
   },
   {
    "duration": 2029,
    "start_time": "2024-12-28T21:13:55.191Z"
   },
   {
    "duration": 9,
    "start_time": "2024-12-28T21:13:57.221Z"
   },
   {
    "duration": 16,
    "start_time": "2024-12-28T21:13:57.232Z"
   },
   {
    "duration": 18,
    "start_time": "2024-12-28T21:13:57.250Z"
   },
   {
    "duration": 33,
    "start_time": "2024-12-28T21:13:57.269Z"
   },
   {
    "duration": 75,
    "start_time": "2024-12-28T21:13:57.304Z"
   },
   {
    "duration": 28,
    "start_time": "2024-12-28T21:13:57.381Z"
   },
   {
    "duration": 252,
    "start_time": "2024-12-28T21:13:57.411Z"
   },
   {
    "duration": 989,
    "start_time": "2024-12-28T21:13:57.665Z"
   },
   {
    "duration": 179,
    "start_time": "2024-12-28T21:13:58.656Z"
   },
   {
    "duration": 10,
    "start_time": "2024-12-28T21:13:58.837Z"
   },
   {
    "duration": 215,
    "start_time": "2024-12-28T21:13:58.850Z"
   },
   {
    "duration": 46,
    "start_time": "2024-12-28T21:13:59.067Z"
   },
   {
    "duration": 38,
    "start_time": "2024-12-28T21:13:59.114Z"
   },
   {
    "duration": 27,
    "start_time": "2024-12-28T21:13:59.154Z"
   },
   {
    "duration": 10,
    "start_time": "2024-12-28T21:13:59.183Z"
   },
   {
    "duration": 335,
    "start_time": "2024-12-28T21:13:59.195Z"
   },
   {
    "duration": 3,
    "start_time": "2024-12-28T21:13:59.531Z"
   },
   {
    "duration": 106,
    "start_time": "2024-12-28T21:13:59.535Z"
   },
   {
    "duration": 90,
    "start_time": "2024-12-28T21:13:59.643Z"
   },
   {
    "duration": 156,
    "start_time": "2024-12-28T21:13:59.734Z"
   },
   {
    "duration": 239,
    "start_time": "2024-12-28T21:13:59.892Z"
   },
   {
    "duration": 33,
    "start_time": "2024-12-28T21:14:00.133Z"
   },
   {
    "duration": 3356,
    "start_time": "2024-12-28T21:14:00.168Z"
   },
   {
    "duration": 6,
    "start_time": "2024-12-28T21:14:03.529Z"
   },
   {
    "duration": 63,
    "start_time": "2024-12-28T21:14:03.537Z"
   },
   {
    "duration": 34,
    "start_time": "2024-12-28T21:14:03.602Z"
   },
   {
    "duration": 153,
    "start_time": "2024-12-28T21:14:03.638Z"
   },
   {
    "duration": 45,
    "start_time": "2024-12-28T21:14:03.792Z"
   },
   {
    "duration": 94,
    "start_time": "2024-12-28T21:14:03.838Z"
   },
   {
    "duration": 43,
    "start_time": "2024-12-28T21:14:03.934Z"
   },
   {
    "duration": 6,
    "start_time": "2024-12-28T21:14:03.978Z"
   },
   {
    "duration": 17,
    "start_time": "2024-12-28T21:14:03.986Z"
   },
   {
    "duration": 127,
    "start_time": "2024-12-28T21:14:04.005Z"
   },
   {
    "duration": 384,
    "start_time": "2024-12-28T21:14:04.133Z"
   },
   {
    "duration": 96,
    "start_time": "2024-12-28T21:14:04.519Z"
   },
   {
    "duration": 86,
    "start_time": "2024-12-28T21:14:04.617Z"
   },
   {
    "duration": 34,
    "start_time": "2024-12-28T21:14:04.705Z"
   },
   {
    "duration": 52,
    "start_time": "2024-12-28T21:14:04.743Z"
   },
   {
    "duration": 4,
    "start_time": "2024-12-28T21:14:04.797Z"
   },
   {
    "duration": 222,
    "start_time": "2024-12-28T21:14:04.803Z"
   },
   {
    "duration": 31,
    "start_time": "2024-12-28T21:14:05.026Z"
   },
   {
    "duration": 30,
    "start_time": "2024-12-28T21:14:05.059Z"
   },
   {
    "duration": 476,
    "start_time": "2024-12-28T21:14:05.090Z"
   },
   {
    "duration": 9,
    "start_time": "2024-12-28T21:14:05.567Z"
   },
   {
    "duration": 15,
    "start_time": "2024-12-28T21:14:05.578Z"
   },
   {
    "duration": 31,
    "start_time": "2024-12-28T21:14:05.595Z"
   },
   {
    "duration": 20,
    "start_time": "2024-12-28T21:14:05.628Z"
   },
   {
    "duration": 119,
    "start_time": "2024-12-28T21:14:05.650Z"
   },
   {
    "duration": 0,
    "start_time": "2024-12-28T21:14:05.770Z"
   },
   {
    "duration": 0,
    "start_time": "2024-12-28T21:14:05.771Z"
   },
   {
    "duration": 0,
    "start_time": "2024-12-28T21:14:05.773Z"
   },
   {
    "duration": 0,
    "start_time": "2024-12-28T21:14:05.774Z"
   },
   {
    "duration": 0,
    "start_time": "2024-12-28T21:14:05.775Z"
   },
   {
    "duration": 0,
    "start_time": "2024-12-28T21:14:05.776Z"
   },
   {
    "duration": 0,
    "start_time": "2024-12-28T21:14:05.777Z"
   },
   {
    "duration": 0,
    "start_time": "2024-12-28T21:14:05.778Z"
   },
   {
    "duration": 19,
    "start_time": "2024-12-28T21:19:22.429Z"
   },
   {
    "duration": 6,
    "start_time": "2024-12-28T21:19:32.476Z"
   },
   {
    "duration": 3,
    "start_time": "2024-12-28T21:19:38.914Z"
   },
   {
    "duration": 18,
    "start_time": "2024-12-28T21:19:39.505Z"
   },
   {
    "duration": 21,
    "start_time": "2024-12-28T21:19:45.772Z"
   },
   {
    "duration": 116,
    "start_time": "2024-12-28T21:19:49.971Z"
   },
   {
    "duration": 10,
    "start_time": "2024-12-28T21:24:21.327Z"
   },
   {
    "duration": 16,
    "start_time": "2024-12-28T21:25:25.324Z"
   },
   {
    "duration": 9,
    "start_time": "2024-12-28T21:26:01.504Z"
   },
   {
    "duration": 16,
    "start_time": "2024-12-28T21:26:08.268Z"
   },
   {
    "duration": 10,
    "start_time": "2024-12-28T21:26:34.094Z"
   },
   {
    "duration": 23,
    "start_time": "2024-12-28T21:26:43.044Z"
   },
   {
    "duration": 2487,
    "start_time": "2024-12-28T21:30:58.838Z"
   },
   {
    "duration": 1286,
    "start_time": "2024-12-28T21:31:01.327Z"
   },
   {
    "duration": 2146,
    "start_time": "2024-12-28T21:31:02.615Z"
   },
   {
    "duration": 3,
    "start_time": "2024-12-28T21:31:04.763Z"
   },
   {
    "duration": 94,
    "start_time": "2024-12-28T21:31:04.769Z"
   },
   {
    "duration": 7,
    "start_time": "2024-12-28T21:31:04.865Z"
   },
   {
    "duration": 30,
    "start_time": "2024-12-28T21:31:04.874Z"
   },
   {
    "duration": 186,
    "start_time": "2024-12-28T21:31:04.906Z"
   },
   {
    "duration": 97,
    "start_time": "2024-12-28T21:31:05.094Z"
   },
   {
    "duration": 270,
    "start_time": "2024-12-28T21:31:05.194Z"
   },
   {
    "duration": 1073,
    "start_time": "2024-12-28T21:31:05.467Z"
   },
   {
    "duration": 184,
    "start_time": "2024-12-28T21:31:06.543Z"
   },
   {
    "duration": 9,
    "start_time": "2024-12-28T21:31:06.729Z"
   },
   {
    "duration": 206,
    "start_time": "2024-12-28T21:31:06.741Z"
   },
   {
    "duration": 48,
    "start_time": "2024-12-28T21:31:06.948Z"
   },
   {
    "duration": 140,
    "start_time": "2024-12-28T21:31:06.997Z"
   },
   {
    "duration": 57,
    "start_time": "2024-12-28T21:31:07.139Z"
   },
   {
    "duration": 14,
    "start_time": "2024-12-28T21:31:07.198Z"
   },
   {
    "duration": 360,
    "start_time": "2024-12-28T21:31:07.214Z"
   },
   {
    "duration": 3,
    "start_time": "2024-12-28T21:31:07.576Z"
   },
   {
    "duration": 106,
    "start_time": "2024-12-28T21:31:07.581Z"
   },
   {
    "duration": 101,
    "start_time": "2024-12-28T21:31:07.689Z"
   },
   {
    "duration": 160,
    "start_time": "2024-12-28T21:31:07.792Z"
   },
   {
    "duration": 250,
    "start_time": "2024-12-28T21:31:07.953Z"
   },
   {
    "duration": 41,
    "start_time": "2024-12-28T21:31:08.205Z"
   },
   {
    "duration": 4225,
    "start_time": "2024-12-28T21:31:08.247Z"
   },
   {
    "duration": 58,
    "start_time": "2024-12-28T21:31:12.474Z"
   },
   {
    "duration": 36,
    "start_time": "2024-12-28T21:31:12.534Z"
   },
   {
    "duration": 73,
    "start_time": "2024-12-28T21:31:12.573Z"
   },
   {
    "duration": 189,
    "start_time": "2024-12-28T21:31:12.648Z"
   },
   {
    "duration": 41,
    "start_time": "2024-12-28T21:31:12.838Z"
   },
   {
    "duration": 90,
    "start_time": "2024-12-28T21:31:12.880Z"
   },
   {
    "duration": 125,
    "start_time": "2024-12-28T21:31:12.972Z"
   },
   {
    "duration": 5,
    "start_time": "2024-12-28T21:31:13.099Z"
   },
   {
    "duration": 6,
    "start_time": "2024-12-28T21:31:13.106Z"
   },
   {
    "duration": 109,
    "start_time": "2024-12-28T21:31:13.114Z"
   },
   {
    "duration": 387,
    "start_time": "2024-12-28T21:31:13.225Z"
   },
   {
    "duration": 95,
    "start_time": "2024-12-28T21:31:13.614Z"
   },
   {
    "duration": 90,
    "start_time": "2024-12-28T21:31:13.710Z"
   },
   {
    "duration": 37,
    "start_time": "2024-12-28T21:31:13.802Z"
   },
   {
    "duration": 112,
    "start_time": "2024-12-28T21:31:13.845Z"
   },
   {
    "duration": 5,
    "start_time": "2024-12-28T21:31:13.958Z"
   },
   {
    "duration": 42,
    "start_time": "2024-12-28T21:31:13.965Z"
   },
   {
    "duration": 11,
    "start_time": "2024-12-28T21:31:14.009Z"
   },
   {
    "duration": 28,
    "start_time": "2024-12-28T21:31:14.022Z"
   },
   {
    "duration": 444,
    "start_time": "2024-12-28T21:31:14.052Z"
   },
   {
    "duration": 11,
    "start_time": "2024-12-28T21:31:14.498Z"
   },
   {
    "duration": 28,
    "start_time": "2024-12-28T21:31:14.511Z"
   },
   {
    "duration": 15,
    "start_time": "2024-12-28T21:31:14.541Z"
   },
   {
    "duration": 6,
    "start_time": "2024-12-28T21:31:14.558Z"
   },
   {
    "duration": 153,
    "start_time": "2024-12-28T21:31:14.565Z"
   },
   {
    "duration": 0,
    "start_time": "2024-12-28T21:31:14.719Z"
   },
   {
    "duration": 0,
    "start_time": "2024-12-28T21:31:14.721Z"
   },
   {
    "duration": 0,
    "start_time": "2024-12-28T21:31:14.730Z"
   },
   {
    "duration": 0,
    "start_time": "2024-12-28T21:31:14.731Z"
   },
   {
    "duration": 0,
    "start_time": "2024-12-28T21:31:14.731Z"
   },
   {
    "duration": 0,
    "start_time": "2024-12-28T21:31:14.732Z"
   },
   {
    "duration": 0,
    "start_time": "2024-12-28T21:31:14.734Z"
   },
   {
    "duration": 0,
    "start_time": "2024-12-28T21:31:14.735Z"
   },
   {
    "duration": 0,
    "start_time": "2024-12-28T21:31:14.736Z"
   },
   {
    "duration": 21,
    "start_time": "2024-12-28T21:31:32.868Z"
   },
   {
    "duration": 10,
    "start_time": "2024-12-28T21:36:37.565Z"
   },
   {
    "duration": 12,
    "start_time": "2024-12-28T21:37:10.736Z"
   },
   {
    "duration": 15,
    "start_time": "2024-12-28T21:37:23.122Z"
   },
   {
    "duration": 221,
    "start_time": "2024-12-28T21:37:26.053Z"
   },
   {
    "duration": 2573,
    "start_time": "2024-12-28T21:38:16.223Z"
   },
   {
    "duration": 1193,
    "start_time": "2024-12-28T21:38:18.799Z"
   },
   {
    "duration": 2199,
    "start_time": "2024-12-28T21:38:19.994Z"
   },
   {
    "duration": 3,
    "start_time": "2024-12-28T21:38:22.194Z"
   },
   {
    "duration": 32,
    "start_time": "2024-12-28T21:38:22.199Z"
   },
   {
    "duration": 3,
    "start_time": "2024-12-28T21:38:22.232Z"
   },
   {
    "duration": 6,
    "start_time": "2024-12-28T21:38:22.237Z"
   },
   {
    "duration": 50,
    "start_time": "2024-12-28T21:38:22.244Z"
   },
   {
    "duration": 46,
    "start_time": "2024-12-28T21:38:22.296Z"
   },
   {
    "duration": 249,
    "start_time": "2024-12-28T21:38:22.343Z"
   },
   {
    "duration": 1035,
    "start_time": "2024-12-28T21:38:22.595Z"
   },
   {
    "duration": 185,
    "start_time": "2024-12-28T21:38:23.632Z"
   },
   {
    "duration": 18,
    "start_time": "2024-12-28T21:38:23.818Z"
   },
   {
    "duration": 228,
    "start_time": "2024-12-28T21:38:23.839Z"
   },
   {
    "duration": 48,
    "start_time": "2024-12-28T21:38:24.069Z"
   },
   {
    "duration": 37,
    "start_time": "2024-12-28T21:38:24.119Z"
   },
   {
    "duration": 28,
    "start_time": "2024-12-28T21:38:24.158Z"
   },
   {
    "duration": 11,
    "start_time": "2024-12-28T21:38:24.188Z"
   },
   {
    "duration": 338,
    "start_time": "2024-12-28T21:38:24.201Z"
   },
   {
    "duration": 3,
    "start_time": "2024-12-28T21:38:24.540Z"
   },
   {
    "duration": 103,
    "start_time": "2024-12-28T21:38:24.545Z"
   },
   {
    "duration": 90,
    "start_time": "2024-12-28T21:38:24.649Z"
   },
   {
    "duration": 154,
    "start_time": "2024-12-28T21:38:24.741Z"
   },
   {
    "duration": 234,
    "start_time": "2024-12-28T21:38:24.897Z"
   },
   {
    "duration": 36,
    "start_time": "2024-12-28T21:38:25.132Z"
   },
   {
    "duration": 3678,
    "start_time": "2024-12-28T21:38:25.170Z"
   },
   {
    "duration": 7,
    "start_time": "2024-12-28T21:38:28.850Z"
   },
   {
    "duration": 48,
    "start_time": "2024-12-28T21:38:28.859Z"
   },
   {
    "duration": 34,
    "start_time": "2024-12-28T21:38:28.909Z"
   },
   {
    "duration": 279,
    "start_time": "2024-12-28T21:38:28.945Z"
   },
   {
    "duration": 40,
    "start_time": "2024-12-28T21:38:29.225Z"
   },
   {
    "duration": 101,
    "start_time": "2024-12-28T21:38:29.266Z"
   },
   {
    "duration": 50,
    "start_time": "2024-12-28T21:38:29.370Z"
   },
   {
    "duration": 10,
    "start_time": "2024-12-28T21:38:29.421Z"
   },
   {
    "duration": 16,
    "start_time": "2024-12-28T21:38:29.433Z"
   },
   {
    "duration": 122,
    "start_time": "2024-12-28T21:38:29.451Z"
   },
   {
    "duration": 391,
    "start_time": "2024-12-28T21:38:29.574Z"
   },
   {
    "duration": 87,
    "start_time": "2024-12-28T21:38:29.967Z"
   },
   {
    "duration": 91,
    "start_time": "2024-12-28T21:38:30.056Z"
   },
   {
    "duration": 17,
    "start_time": "2024-12-28T21:38:30.149Z"
   },
   {
    "duration": 74,
    "start_time": "2024-12-28T21:38:30.171Z"
   },
   {
    "duration": 4,
    "start_time": "2024-12-28T21:38:30.247Z"
   },
   {
    "duration": 17,
    "start_time": "2024-12-28T21:38:30.253Z"
   },
   {
    "duration": 31,
    "start_time": "2024-12-28T21:38:30.272Z"
   },
   {
    "duration": 59,
    "start_time": "2024-12-28T21:38:30.304Z"
   },
   {
    "duration": 522,
    "start_time": "2024-12-28T21:38:30.365Z"
   },
   {
    "duration": 10,
    "start_time": "2024-12-28T21:38:30.890Z"
   },
   {
    "duration": 31,
    "start_time": "2024-12-28T21:38:30.902Z"
   },
   {
    "duration": 11,
    "start_time": "2024-12-28T21:38:30.935Z"
   },
   {
    "duration": 155,
    "start_time": "2024-12-28T21:38:30.947Z"
   },
   {
    "duration": 45,
    "start_time": "2024-12-28T21:38:31.103Z"
   },
   {
    "duration": 17,
    "start_time": "2024-12-28T21:38:31.150Z"
   },
   {
    "duration": 15,
    "start_time": "2024-12-28T21:38:31.168Z"
   },
   {
    "duration": 283,
    "start_time": "2024-12-28T21:38:31.185Z"
   },
   {
    "duration": 12,
    "start_time": "2024-12-28T21:45:51.842Z"
   },
   {
    "duration": 92,
    "start_time": "2024-12-29T06:17:32.768Z"
   },
   {
    "duration": 49,
    "start_time": "2024-12-29T07:28:58.653Z"
   },
   {
    "duration": 3531,
    "start_time": "2024-12-29T07:29:06.051Z"
   },
   {
    "duration": 1320,
    "start_time": "2024-12-29T07:29:09.585Z"
   },
   {
    "duration": 2285,
    "start_time": "2024-12-29T07:29:10.907Z"
   },
   {
    "duration": 3,
    "start_time": "2024-12-29T07:29:13.195Z"
   },
   {
    "duration": 33,
    "start_time": "2024-12-29T07:29:13.200Z"
   },
   {
    "duration": 4,
    "start_time": "2024-12-29T07:29:13.235Z"
   },
   {
    "duration": 42,
    "start_time": "2024-12-29T07:29:13.240Z"
   },
   {
    "duration": 31,
    "start_time": "2024-12-29T07:29:13.284Z"
   },
   {
    "duration": 139,
    "start_time": "2024-12-29T07:29:13.317Z"
   },
   {
    "duration": 238,
    "start_time": "2024-12-29T07:29:13.458Z"
   },
   {
    "duration": 965,
    "start_time": "2024-12-29T07:29:13.698Z"
   },
   {
    "duration": 178,
    "start_time": "2024-12-29T07:29:14.664Z"
   },
   {
    "duration": 9,
    "start_time": "2024-12-29T07:29:14.844Z"
   },
   {
    "duration": 114,
    "start_time": "2024-12-29T07:29:14.854Z"
   },
   {
    "duration": 46,
    "start_time": "2024-12-29T07:29:14.970Z"
   },
   {
    "duration": 61,
    "start_time": "2024-12-29T07:29:15.018Z"
   },
   {
    "duration": 28,
    "start_time": "2024-12-29T07:29:15.081Z"
   },
   {
    "duration": 22,
    "start_time": "2024-12-29T07:29:15.111Z"
   },
   {
    "duration": 426,
    "start_time": "2024-12-29T07:29:15.135Z"
   },
   {
    "duration": 3,
    "start_time": "2024-12-29T07:29:15.563Z"
   },
   {
    "duration": 184,
    "start_time": "2024-12-29T07:29:15.568Z"
   },
   {
    "duration": 108,
    "start_time": "2024-12-29T07:29:15.754Z"
   },
   {
    "duration": 153,
    "start_time": "2024-12-29T07:29:15.864Z"
   },
   {
    "duration": 262,
    "start_time": "2024-12-29T07:29:16.020Z"
   },
   {
    "duration": 34,
    "start_time": "2024-12-29T07:29:16.284Z"
   },
   {
    "duration": 3345,
    "start_time": "2024-12-29T07:29:16.330Z"
   },
   {
    "duration": 7,
    "start_time": "2024-12-29T07:29:19.677Z"
   },
   {
    "duration": 125,
    "start_time": "2024-12-29T07:29:19.688Z"
   },
   {
    "duration": 23,
    "start_time": "2024-12-29T07:29:19.815Z"
   },
   {
    "duration": 157,
    "start_time": "2024-12-29T07:29:19.840Z"
   },
   {
    "duration": 54,
    "start_time": "2024-12-29T07:29:19.999Z"
   },
   {
    "duration": 94,
    "start_time": "2024-12-29T07:29:20.054Z"
   },
   {
    "duration": 42,
    "start_time": "2024-12-29T07:29:20.150Z"
   },
   {
    "duration": 5,
    "start_time": "2024-12-29T07:29:20.194Z"
   },
   {
    "duration": 19,
    "start_time": "2024-12-29T07:29:20.201Z"
   },
   {
    "duration": 124,
    "start_time": "2024-12-29T07:29:20.222Z"
   },
   {
    "duration": 362,
    "start_time": "2024-12-29T07:29:20.347Z"
   },
   {
    "duration": 81,
    "start_time": "2024-12-29T07:29:20.711Z"
   },
   {
    "duration": 129,
    "start_time": "2024-12-29T07:29:20.794Z"
   },
   {
    "duration": 14,
    "start_time": "2024-12-29T07:29:20.925Z"
   },
   {
    "duration": 47,
    "start_time": "2024-12-29T07:29:20.941Z"
   },
   {
    "duration": 4,
    "start_time": "2024-12-29T07:29:20.990Z"
   },
   {
    "duration": 54,
    "start_time": "2024-12-29T07:29:20.995Z"
   },
   {
    "duration": 12,
    "start_time": "2024-12-29T07:29:21.051Z"
   },
   {
    "duration": 27,
    "start_time": "2024-12-29T07:29:21.065Z"
   },
   {
    "duration": 461,
    "start_time": "2024-12-29T07:29:21.093Z"
   },
   {
    "duration": 13,
    "start_time": "2024-12-29T07:29:21.556Z"
   },
   {
    "duration": 144,
    "start_time": "2024-12-29T07:29:21.571Z"
   },
   {
    "duration": 95,
    "start_time": "2024-12-29T07:29:21.717Z"
   },
   {
    "duration": 7,
    "start_time": "2024-12-29T07:29:21.814Z"
   },
   {
    "duration": 22,
    "start_time": "2024-12-29T07:29:21.822Z"
   },
   {
    "duration": 14,
    "start_time": "2024-12-29T07:29:21.846Z"
   },
   {
    "duration": 14,
    "start_time": "2024-12-29T07:29:21.862Z"
   },
   {
    "duration": 301,
    "start_time": "2024-12-29T07:29:21.878Z"
   },
   {
    "duration": 550,
    "start_time": "2024-12-29T07:45:28.672Z"
   },
   {
    "duration": 28,
    "start_time": "2024-12-29T07:46:00.058Z"
   },
   {
    "duration": 10,
    "start_time": "2024-12-29T07:46:28.434Z"
   },
   {
    "duration": 176,
    "start_time": "2024-12-29T07:47:01.168Z"
   },
   {
    "duration": 2248,
    "start_time": "2024-12-29T07:51:03.232Z"
   },
   {
    "duration": 840,
    "start_time": "2024-12-29T07:51:46.176Z"
   },
   {
    "duration": 26,
    "start_time": "2024-12-29T07:52:46.320Z"
   },
   {
    "duration": 17,
    "start_time": "2024-12-29T07:53:02.107Z"
   },
   {
    "duration": 408,
    "start_time": "2024-12-29T07:53:24.813Z"
   },
   {
    "duration": 153,
    "start_time": "2024-12-29T07:53:37.545Z"
   },
   {
    "duration": 1529,
    "start_time": "2024-12-29T07:54:46.583Z"
   },
   {
    "duration": 804,
    "start_time": "2024-12-29T07:55:00.637Z"
   },
   {
    "duration": 2407,
    "start_time": "2024-12-29T07:58:18.097Z"
   },
   {
    "duration": 1209,
    "start_time": "2024-12-29T07:58:20.506Z"
   },
   {
    "duration": 2834,
    "start_time": "2024-12-29T07:58:21.717Z"
   },
   {
    "duration": 3,
    "start_time": "2024-12-29T07:58:24.553Z"
   },
   {
    "duration": 21,
    "start_time": "2024-12-29T07:58:24.558Z"
   },
   {
    "duration": 50,
    "start_time": "2024-12-29T07:58:24.581Z"
   },
   {
    "duration": 10,
    "start_time": "2024-12-29T07:58:24.632Z"
   },
   {
    "duration": 27,
    "start_time": "2024-12-29T07:58:24.644Z"
   },
   {
    "duration": 80,
    "start_time": "2024-12-29T07:58:24.672Z"
   },
   {
    "duration": 299,
    "start_time": "2024-12-29T07:58:24.755Z"
   },
   {
    "duration": 944,
    "start_time": "2024-12-29T07:58:25.055Z"
   },
   {
    "duration": 199,
    "start_time": "2024-12-29T07:58:26.000Z"
   },
   {
    "duration": 10,
    "start_time": "2024-12-29T07:58:26.200Z"
   },
   {
    "duration": 112,
    "start_time": "2024-12-29T07:58:26.211Z"
   },
   {
    "duration": 46,
    "start_time": "2024-12-29T07:58:26.325Z"
   },
   {
    "duration": 24,
    "start_time": "2024-12-29T07:58:26.373Z"
   },
   {
    "duration": 52,
    "start_time": "2024-12-29T07:58:26.399Z"
   },
   {
    "duration": 10,
    "start_time": "2024-12-29T07:58:26.453Z"
   },
   {
    "duration": 351,
    "start_time": "2024-12-29T07:58:26.464Z"
   },
   {
    "duration": 2,
    "start_time": "2024-12-29T07:58:26.817Z"
   },
   {
    "duration": 111,
    "start_time": "2024-12-29T07:58:26.829Z"
   },
   {
    "duration": 89,
    "start_time": "2024-12-29T07:58:26.941Z"
   },
   {
    "duration": 153,
    "start_time": "2024-12-29T07:58:27.032Z"
   },
   {
    "duration": 229,
    "start_time": "2024-12-29T07:58:27.187Z"
   },
   {
    "duration": 34,
    "start_time": "2024-12-29T07:58:27.417Z"
   },
   {
    "duration": 3391,
    "start_time": "2024-12-29T07:58:27.452Z"
   },
   {
    "duration": 6,
    "start_time": "2024-12-29T07:58:30.844Z"
   },
   {
    "duration": 134,
    "start_time": "2024-12-29T07:58:30.853Z"
   },
   {
    "duration": 44,
    "start_time": "2024-12-29T07:58:30.988Z"
   },
   {
    "duration": 145,
    "start_time": "2024-12-29T07:58:31.034Z"
   },
   {
    "duration": 51,
    "start_time": "2024-12-29T07:58:31.180Z"
   },
   {
    "duration": 105,
    "start_time": "2024-12-29T07:58:31.232Z"
   },
   {
    "duration": 43,
    "start_time": "2024-12-29T07:58:31.338Z"
   },
   {
    "duration": 6,
    "start_time": "2024-12-29T07:58:31.383Z"
   },
   {
    "duration": 20,
    "start_time": "2024-12-29T07:58:31.391Z"
   },
   {
    "duration": 127,
    "start_time": "2024-12-29T07:58:31.413Z"
   },
   {
    "duration": 407,
    "start_time": "2024-12-29T07:58:31.542Z"
   },
   {
    "duration": 114,
    "start_time": "2024-12-29T07:58:31.951Z"
   },
   {
    "duration": 88,
    "start_time": "2024-12-29T07:58:32.067Z"
   },
   {
    "duration": 14,
    "start_time": "2024-12-29T07:58:32.157Z"
   },
   {
    "duration": 59,
    "start_time": "2024-12-29T07:58:32.172Z"
   },
   {
    "duration": 5,
    "start_time": "2024-12-29T07:58:32.232Z"
   },
   {
    "duration": 22,
    "start_time": "2024-12-29T07:58:32.238Z"
   },
   {
    "duration": 2416,
    "start_time": "2024-12-29T07:58:58.388Z"
   },
   {
    "duration": 1299,
    "start_time": "2024-12-29T07:59:00.807Z"
   },
   {
    "duration": 1964,
    "start_time": "2024-12-29T07:59:02.108Z"
   },
   {
    "duration": 2,
    "start_time": "2024-12-29T07:59:04.075Z"
   },
   {
    "duration": 31,
    "start_time": "2024-12-29T07:59:04.079Z"
   },
   {
    "duration": 4,
    "start_time": "2024-12-29T07:59:04.112Z"
   },
   {
    "duration": 9,
    "start_time": "2024-12-29T07:59:04.130Z"
   },
   {
    "duration": 51,
    "start_time": "2024-12-29T07:59:04.142Z"
   },
   {
    "duration": 28,
    "start_time": "2024-12-29T07:59:04.195Z"
   },
   {
    "duration": 251,
    "start_time": "2024-12-29T07:59:04.229Z"
   },
   {
    "duration": 979,
    "start_time": "2024-12-29T07:59:04.482Z"
   },
   {
    "duration": 174,
    "start_time": "2024-12-29T07:59:05.463Z"
   },
   {
    "duration": 9,
    "start_time": "2024-12-29T07:59:05.638Z"
   },
   {
    "duration": 109,
    "start_time": "2024-12-29T07:59:05.649Z"
   },
   {
    "duration": 47,
    "start_time": "2024-12-29T07:59:05.760Z"
   },
   {
    "duration": 41,
    "start_time": "2024-12-29T07:59:05.809Z"
   },
   {
    "duration": 30,
    "start_time": "2024-12-29T07:59:05.851Z"
   },
   {
    "duration": 103,
    "start_time": "2024-12-29T07:59:05.883Z"
   },
   {
    "duration": 361,
    "start_time": "2024-12-29T07:59:05.988Z"
   },
   {
    "duration": 3,
    "start_time": "2024-12-29T07:59:06.351Z"
   },
   {
    "duration": 101,
    "start_time": "2024-12-29T07:59:06.355Z"
   },
   {
    "duration": 95,
    "start_time": "2024-12-29T07:59:06.457Z"
   },
   {
    "duration": 147,
    "start_time": "2024-12-29T07:59:06.554Z"
   },
   {
    "duration": 222,
    "start_time": "2024-12-29T07:59:06.703Z"
   },
   {
    "duration": 35,
    "start_time": "2024-12-29T07:59:06.929Z"
   },
   {
    "duration": 3292,
    "start_time": "2024-12-29T07:59:06.966Z"
   },
   {
    "duration": 6,
    "start_time": "2024-12-29T07:59:10.260Z"
   },
   {
    "duration": 24,
    "start_time": "2024-12-29T07:59:10.270Z"
   },
   {
    "duration": 43,
    "start_time": "2024-12-29T07:59:10.296Z"
   },
   {
    "duration": 147,
    "start_time": "2024-12-29T07:59:10.341Z"
   },
   {
    "duration": 46,
    "start_time": "2024-12-29T07:59:10.489Z"
   },
   {
    "duration": 86,
    "start_time": "2024-12-29T07:59:10.536Z"
   },
   {
    "duration": 41,
    "start_time": "2024-12-29T07:59:10.630Z"
   },
   {
    "duration": 6,
    "start_time": "2024-12-29T07:59:10.673Z"
   },
   {
    "duration": 9,
    "start_time": "2024-12-29T07:59:10.680Z"
   },
   {
    "duration": 133,
    "start_time": "2024-12-29T07:59:10.691Z"
   },
   {
    "duration": 378,
    "start_time": "2024-12-29T07:59:10.829Z"
   },
   {
    "duration": 93,
    "start_time": "2024-12-29T07:59:11.209Z"
   },
   {
    "duration": 87,
    "start_time": "2024-12-29T07:59:11.304Z"
   },
   {
    "duration": 14,
    "start_time": "2024-12-29T07:59:11.392Z"
   },
   {
    "duration": 58,
    "start_time": "2024-12-29T07:59:11.408Z"
   },
   {
    "duration": 4,
    "start_time": "2024-12-29T07:59:11.468Z"
   },
   {
    "duration": 80,
    "start_time": "2024-12-29T07:59:11.473Z"
   },
   {
    "duration": 895,
    "start_time": "2024-12-29T07:59:11.555Z"
   },
   {
    "duration": 11,
    "start_time": "2024-12-29T07:59:12.452Z"
   },
   {
    "duration": 29,
    "start_time": "2024-12-29T07:59:12.464Z"
   },
   {
    "duration": 497,
    "start_time": "2024-12-29T07:59:12.495Z"
   },
   {
    "duration": 11,
    "start_time": "2024-12-29T07:59:12.994Z"
   },
   {
    "duration": 56,
    "start_time": "2024-12-29T07:59:13.007Z"
   },
   {
    "duration": 10,
    "start_time": "2024-12-29T07:59:13.064Z"
   },
   {
    "duration": 6,
    "start_time": "2024-12-29T07:59:13.076Z"
   },
   {
    "duration": 22,
    "start_time": "2024-12-29T07:59:13.083Z"
   },
   {
    "duration": 13,
    "start_time": "2024-12-29T07:59:13.107Z"
   },
   {
    "duration": 19,
    "start_time": "2024-12-29T07:59:13.121Z"
   },
   {
    "duration": 253,
    "start_time": "2024-12-29T07:59:13.141Z"
   },
   {
    "duration": 432,
    "start_time": "2024-12-29T08:00:39.278Z"
   },
   {
    "duration": 243,
    "start_time": "2024-12-29T08:01:59.045Z"
   },
   {
    "duration": 597,
    "start_time": "2024-12-29T08:02:45.301Z"
   },
   {
    "duration": 846,
    "start_time": "2024-12-29T08:02:56.921Z"
   },
   {
    "duration": 827,
    "start_time": "2024-12-29T08:03:19.820Z"
   },
   {
    "duration": 876,
    "start_time": "2024-12-29T08:03:36.067Z"
   },
   {
    "duration": 238,
    "start_time": "2024-12-29T08:03:44.284Z"
   },
   {
    "duration": 245,
    "start_time": "2024-12-29T08:03:54.011Z"
   },
   {
    "duration": 927,
    "start_time": "2024-12-29T08:03:58.812Z"
   },
   {
    "duration": 83,
    "start_time": "2024-12-29T08:07:42.606Z"
   },
   {
    "duration": 83,
    "start_time": "2024-12-29T08:07:57.464Z"
   },
   {
    "duration": 11,
    "start_time": "2024-12-29T08:09:34.748Z"
   },
   {
    "duration": 2457,
    "start_time": "2024-12-29T08:09:45.066Z"
   },
   {
    "duration": 1246,
    "start_time": "2024-12-29T08:09:47.525Z"
   },
   {
    "duration": 2041,
    "start_time": "2024-12-29T08:09:48.773Z"
   },
   {
    "duration": 3,
    "start_time": "2024-12-29T08:09:50.815Z"
   },
   {
    "duration": 71,
    "start_time": "2024-12-29T08:09:50.820Z"
   },
   {
    "duration": 116,
    "start_time": "2024-12-29T08:09:50.892Z"
   },
   {
    "duration": 11,
    "start_time": "2024-12-29T08:09:51.010Z"
   },
   {
    "duration": 49,
    "start_time": "2024-12-29T08:09:51.023Z"
   },
   {
    "duration": 28,
    "start_time": "2024-12-29T08:09:51.073Z"
   },
   {
    "duration": 263,
    "start_time": "2024-12-29T08:09:51.103Z"
   },
   {
    "duration": 979,
    "start_time": "2024-12-29T08:09:51.368Z"
   },
   {
    "duration": 182,
    "start_time": "2024-12-29T08:09:52.348Z"
   },
   {
    "duration": 10,
    "start_time": "2024-12-29T08:09:52.532Z"
   },
   {
    "duration": 110,
    "start_time": "2024-12-29T08:09:52.546Z"
   },
   {
    "duration": 47,
    "start_time": "2024-12-29T08:09:52.658Z"
   },
   {
    "duration": 38,
    "start_time": "2024-12-29T08:09:52.707Z"
   },
   {
    "duration": 28,
    "start_time": "2024-12-29T08:09:52.747Z"
   },
   {
    "duration": 22,
    "start_time": "2024-12-29T08:09:52.777Z"
   },
   {
    "duration": 321,
    "start_time": "2024-12-29T08:09:52.801Z"
   },
   {
    "duration": 7,
    "start_time": "2024-12-29T08:09:53.123Z"
   },
   {
    "duration": 107,
    "start_time": "2024-12-29T08:09:53.132Z"
   },
   {
    "duration": 95,
    "start_time": "2024-12-29T08:09:53.241Z"
   },
   {
    "duration": 146,
    "start_time": "2024-12-29T08:09:53.338Z"
   },
   {
    "duration": 225,
    "start_time": "2024-12-29T08:09:53.486Z"
   },
   {
    "duration": 43,
    "start_time": "2024-12-29T08:09:53.712Z"
   },
   {
    "duration": 4113,
    "start_time": "2024-12-29T08:09:53.756Z"
   },
   {
    "duration": 6,
    "start_time": "2024-12-29T08:09:57.871Z"
   },
   {
    "duration": 147,
    "start_time": "2024-12-29T08:09:57.879Z"
   },
   {
    "duration": 20,
    "start_time": "2024-12-29T08:09:58.028Z"
   },
   {
    "duration": 156,
    "start_time": "2024-12-29T08:09:58.050Z"
   },
   {
    "duration": 43,
    "start_time": "2024-12-29T08:09:58.208Z"
   },
   {
    "duration": 133,
    "start_time": "2024-12-29T08:09:58.253Z"
   },
   {
    "duration": 42,
    "start_time": "2024-12-29T08:09:58.388Z"
   },
   {
    "duration": 5,
    "start_time": "2024-12-29T08:09:58.432Z"
   },
   {
    "duration": 38,
    "start_time": "2024-12-29T08:09:58.439Z"
   },
   {
    "duration": 117,
    "start_time": "2024-12-29T08:09:58.479Z"
   },
   {
    "duration": 376,
    "start_time": "2024-12-29T08:09:58.598Z"
   },
   {
    "duration": 79,
    "start_time": "2024-12-29T08:09:58.975Z"
   },
   {
    "duration": 90,
    "start_time": "2024-12-29T08:09:59.056Z"
   },
   {
    "duration": 15,
    "start_time": "2024-12-29T08:09:59.148Z"
   },
   {
    "duration": 58,
    "start_time": "2024-12-29T08:09:59.168Z"
   },
   {
    "duration": 4,
    "start_time": "2024-12-29T08:09:59.230Z"
   },
   {
    "duration": 17,
    "start_time": "2024-12-29T08:09:59.235Z"
   },
   {
    "duration": 891,
    "start_time": "2024-12-29T08:09:59.254Z"
   },
   {
    "duration": 11,
    "start_time": "2024-12-29T08:10:00.146Z"
   },
   {
    "duration": 126,
    "start_time": "2024-12-29T08:10:00.158Z"
   },
   {
    "duration": 477,
    "start_time": "2024-12-29T08:10:00.285Z"
   },
   {
    "duration": 12,
    "start_time": "2024-12-29T08:10:00.764Z"
   },
   {
    "duration": 38,
    "start_time": "2024-12-29T08:10:00.777Z"
   },
   {
    "duration": 32,
    "start_time": "2024-12-29T08:10:00.817Z"
   },
   {
    "duration": 63,
    "start_time": "2024-12-29T08:10:00.851Z"
   },
   {
    "duration": 160,
    "start_time": "2024-12-29T08:10:00.916Z"
   },
   {
    "duration": 12,
    "start_time": "2024-12-29T08:10:01.078Z"
   },
   {
    "duration": 26,
    "start_time": "2024-12-29T08:10:01.092Z"
   },
   {
    "duration": 252,
    "start_time": "2024-12-29T08:10:01.120Z"
   },
   {
    "duration": 24,
    "start_time": "2024-12-29T08:10:26.278Z"
   },
   {
    "duration": 11,
    "start_time": "2024-12-29T08:10:55.721Z"
   },
   {
    "duration": 14,
    "start_time": "2024-12-29T08:11:33.556Z"
   },
   {
    "duration": 2459,
    "start_time": "2024-12-29T08:11:38.684Z"
   },
   {
    "duration": 1240,
    "start_time": "2024-12-29T08:11:41.145Z"
   },
   {
    "duration": 2157,
    "start_time": "2024-12-29T08:11:42.387Z"
   },
   {
    "duration": 2,
    "start_time": "2024-12-29T08:11:44.547Z"
   },
   {
    "duration": 14,
    "start_time": "2024-12-29T08:11:44.551Z"
   },
   {
    "duration": 3,
    "start_time": "2024-12-29T08:11:44.567Z"
   },
   {
    "duration": 6,
    "start_time": "2024-12-29T08:11:44.572Z"
   },
   {
    "duration": 61,
    "start_time": "2024-12-29T08:11:44.580Z"
   },
   {
    "duration": 27,
    "start_time": "2024-12-29T08:11:44.643Z"
   },
   {
    "duration": 258,
    "start_time": "2024-12-29T08:11:44.674Z"
   },
   {
    "duration": 957,
    "start_time": "2024-12-29T08:11:44.933Z"
   },
   {
    "duration": 196,
    "start_time": "2024-12-29T08:11:45.892Z"
   },
   {
    "duration": 9,
    "start_time": "2024-12-29T08:11:46.090Z"
   },
   {
    "duration": 110,
    "start_time": "2024-12-29T08:11:46.100Z"
   },
   {
    "duration": 50,
    "start_time": "2024-12-29T08:11:46.212Z"
   },
   {
    "duration": 24,
    "start_time": "2024-12-29T08:11:46.263Z"
   },
   {
    "duration": 74,
    "start_time": "2024-12-29T08:11:46.289Z"
   },
   {
    "duration": 11,
    "start_time": "2024-12-29T08:11:46.365Z"
   },
   {
    "duration": 323,
    "start_time": "2024-12-29T08:11:46.377Z"
   },
   {
    "duration": 3,
    "start_time": "2024-12-29T08:11:46.702Z"
   },
   {
    "duration": 94,
    "start_time": "2024-12-29T08:11:46.706Z"
   },
   {
    "duration": 97,
    "start_time": "2024-12-29T08:11:46.802Z"
   },
   {
    "duration": 155,
    "start_time": "2024-12-29T08:11:46.901Z"
   },
   {
    "duration": 235,
    "start_time": "2024-12-29T08:11:47.057Z"
   },
   {
    "duration": 44,
    "start_time": "2024-12-29T08:11:47.293Z"
   },
   {
    "duration": 3308,
    "start_time": "2024-12-29T08:11:47.339Z"
   },
   {
    "duration": 6,
    "start_time": "2024-12-29T08:11:50.648Z"
   },
   {
    "duration": 41,
    "start_time": "2024-12-29T08:11:50.657Z"
   },
   {
    "duration": 23,
    "start_time": "2024-12-29T08:11:50.700Z"
   },
   {
    "duration": 141,
    "start_time": "2024-12-29T08:11:50.729Z"
   },
   {
    "duration": 41,
    "start_time": "2024-12-29T08:11:50.871Z"
   },
   {
    "duration": 204,
    "start_time": "2024-12-29T08:11:50.913Z"
   },
   {
    "duration": 40,
    "start_time": "2024-12-29T08:11:51.119Z"
   },
   {
    "duration": 5,
    "start_time": "2024-12-29T08:11:51.161Z"
   },
   {
    "duration": 28,
    "start_time": "2024-12-29T08:11:51.168Z"
   },
   {
    "duration": 113,
    "start_time": "2024-12-29T08:11:51.198Z"
   },
   {
    "duration": 371,
    "start_time": "2024-12-29T08:11:51.312Z"
   },
   {
    "duration": 91,
    "start_time": "2024-12-29T08:11:51.685Z"
   },
   {
    "duration": 79,
    "start_time": "2024-12-29T08:11:51.778Z"
   },
   {
    "duration": 14,
    "start_time": "2024-12-29T08:11:51.859Z"
   },
   {
    "duration": 184,
    "start_time": "2024-12-29T08:11:51.875Z"
   },
   {
    "duration": 4,
    "start_time": "2024-12-29T08:11:52.061Z"
   },
   {
    "duration": 33,
    "start_time": "2024-12-29T08:11:52.067Z"
   },
   {
    "duration": 842,
    "start_time": "2024-12-29T08:11:52.102Z"
   },
   {
    "duration": 12,
    "start_time": "2024-12-29T08:11:52.945Z"
   },
   {
    "duration": 67,
    "start_time": "2024-12-29T08:11:52.958Z"
   },
   {
    "duration": 461,
    "start_time": "2024-12-29T08:11:53.026Z"
   },
   {
    "duration": 13,
    "start_time": "2024-12-29T08:11:53.489Z"
   },
   {
    "duration": 146,
    "start_time": "2024-12-29T08:11:53.504Z"
   },
   {
    "duration": 9,
    "start_time": "2024-12-29T08:11:53.652Z"
   },
   {
    "duration": 6,
    "start_time": "2024-12-29T08:11:53.663Z"
   },
   {
    "duration": 33,
    "start_time": "2024-12-29T08:11:53.671Z"
   },
   {
    "duration": 26,
    "start_time": "2024-12-29T08:11:53.705Z"
   },
   {
    "duration": 15,
    "start_time": "2024-12-29T08:11:53.733Z"
   },
   {
    "duration": 238,
    "start_time": "2024-12-29T08:11:53.750Z"
   },
   {
    "duration": 2493,
    "start_time": "2024-12-29T08:14:50.576Z"
   },
   {
    "duration": 1212,
    "start_time": "2024-12-29T08:14:53.072Z"
   },
   {
    "duration": 1980,
    "start_time": "2024-12-29T08:14:54.286Z"
   },
   {
    "duration": 3,
    "start_time": "2024-12-29T08:14:56.268Z"
   },
   {
    "duration": 20,
    "start_time": "2024-12-29T08:14:56.273Z"
   },
   {
    "duration": 5,
    "start_time": "2024-12-29T08:14:56.295Z"
   },
   {
    "duration": 30,
    "start_time": "2024-12-29T08:14:56.301Z"
   },
   {
    "duration": 52,
    "start_time": "2024-12-29T08:14:56.333Z"
   },
   {
    "duration": 45,
    "start_time": "2024-12-29T08:14:56.386Z"
   },
   {
    "duration": 229,
    "start_time": "2024-12-29T08:14:56.434Z"
   },
   {
    "duration": 926,
    "start_time": "2024-12-29T08:14:56.665Z"
   },
   {
    "duration": 169,
    "start_time": "2024-12-29T08:14:57.592Z"
   },
   {
    "duration": 9,
    "start_time": "2024-12-29T08:14:57.762Z"
   },
   {
    "duration": 110,
    "start_time": "2024-12-29T08:14:57.774Z"
   },
   {
    "duration": 56,
    "start_time": "2024-12-29T08:14:57.886Z"
   },
   {
    "duration": 40,
    "start_time": "2024-12-29T08:14:57.944Z"
   },
   {
    "duration": 26,
    "start_time": "2024-12-29T08:14:57.986Z"
   },
   {
    "duration": 19,
    "start_time": "2024-12-29T08:14:58.013Z"
   },
   {
    "duration": 296,
    "start_time": "2024-12-29T08:14:58.034Z"
   },
   {
    "duration": 4,
    "start_time": "2024-12-29T08:14:58.331Z"
   },
   {
    "duration": 100,
    "start_time": "2024-12-29T08:14:58.336Z"
   },
   {
    "duration": 97,
    "start_time": "2024-12-29T08:14:58.438Z"
   },
   {
    "duration": 148,
    "start_time": "2024-12-29T08:14:58.537Z"
   },
   {
    "duration": 234,
    "start_time": "2024-12-29T08:14:58.686Z"
   },
   {
    "duration": 40,
    "start_time": "2024-12-29T08:14:58.922Z"
   },
   {
    "duration": 3395,
    "start_time": "2024-12-29T08:14:58.964Z"
   },
   {
    "duration": 5,
    "start_time": "2024-12-29T08:15:02.361Z"
   },
   {
    "duration": 76,
    "start_time": "2024-12-29T08:15:02.369Z"
   },
   {
    "duration": 21,
    "start_time": "2024-12-29T08:15:02.447Z"
   },
   {
    "duration": 161,
    "start_time": "2024-12-29T08:15:02.470Z"
   },
   {
    "duration": 40,
    "start_time": "2024-12-29T08:15:02.633Z"
   },
   {
    "duration": 96,
    "start_time": "2024-12-29T08:15:02.675Z"
   },
   {
    "duration": 41,
    "start_time": "2024-12-29T08:15:02.772Z"
   },
   {
    "duration": 15,
    "start_time": "2024-12-29T08:15:02.815Z"
   },
   {
    "duration": 29,
    "start_time": "2024-12-29T08:15:02.831Z"
   },
   {
    "duration": 143,
    "start_time": "2024-12-29T08:15:02.862Z"
   },
   {
    "duration": 382,
    "start_time": "2024-12-29T08:15:03.007Z"
   },
   {
    "duration": 94,
    "start_time": "2024-12-29T08:15:03.391Z"
   },
   {
    "duration": 89,
    "start_time": "2024-12-29T08:15:03.487Z"
   },
   {
    "duration": 42,
    "start_time": "2024-12-29T08:15:03.578Z"
   },
   {
    "duration": 52,
    "start_time": "2024-12-29T08:15:03.622Z"
   },
   {
    "duration": 5,
    "start_time": "2024-12-29T08:15:03.676Z"
   },
   {
    "duration": 24,
    "start_time": "2024-12-29T08:15:03.683Z"
   },
   {
    "duration": 839,
    "start_time": "2024-12-29T08:15:03.709Z"
   },
   {
    "duration": 11,
    "start_time": "2024-12-29T08:15:04.549Z"
   },
   {
    "duration": 38,
    "start_time": "2024-12-29T08:15:04.562Z"
   },
   {
    "duration": 489,
    "start_time": "2024-12-29T08:15:04.602Z"
   },
   {
    "duration": 13,
    "start_time": "2024-12-29T08:15:05.092Z"
   },
   {
    "duration": 29,
    "start_time": "2024-12-29T08:15:05.107Z"
   },
   {
    "duration": 77,
    "start_time": "2024-12-29T08:15:05.138Z"
   },
   {
    "duration": 168,
    "start_time": "2024-12-29T08:15:05.217Z"
   },
   {
    "duration": 0,
    "start_time": "2024-12-29T08:15:05.387Z"
   },
   {
    "duration": 0,
    "start_time": "2024-12-29T08:15:05.388Z"
   },
   {
    "duration": 0,
    "start_time": "2024-12-29T08:15:05.389Z"
   },
   {
    "duration": 0,
    "start_time": "2024-12-29T08:15:05.390Z"
   },
   {
    "duration": 12,
    "start_time": "2024-12-29T08:15:51.511Z"
   },
   {
    "duration": 21,
    "start_time": "2024-12-29T08:16:03.562Z"
   },
   {
    "duration": 28,
    "start_time": "2024-12-29T08:16:09.134Z"
   },
   {
    "duration": 9,
    "start_time": "2024-12-29T08:20:04.909Z"
   },
   {
    "duration": 9,
    "start_time": "2024-12-29T08:20:30.463Z"
   },
   {
    "duration": 8,
    "start_time": "2024-12-29T08:20:59.415Z"
   },
   {
    "duration": 7,
    "start_time": "2024-12-29T08:21:53.427Z"
   },
   {
    "duration": 6,
    "start_time": "2024-12-29T08:22:06.160Z"
   },
   {
    "duration": 1321,
    "start_time": "2024-12-29T08:22:56.999Z"
   },
   {
    "duration": 4,
    "start_time": "2024-12-29T08:23:11.696Z"
   },
   {
    "duration": 6,
    "start_time": "2024-12-29T08:23:35.202Z"
   },
   {
    "duration": 2427,
    "start_time": "2024-12-29T08:29:00.245Z"
   },
   {
    "duration": 1234,
    "start_time": "2024-12-29T08:29:02.674Z"
   },
   {
    "duration": 2546,
    "start_time": "2024-12-29T08:29:03.910Z"
   },
   {
    "duration": 4,
    "start_time": "2024-12-29T08:29:06.458Z"
   },
   {
    "duration": 41,
    "start_time": "2024-12-29T08:29:06.463Z"
   },
   {
    "duration": 21,
    "start_time": "2024-12-29T08:29:06.505Z"
   },
   {
    "duration": 41,
    "start_time": "2024-12-29T08:29:06.527Z"
   },
   {
    "duration": 97,
    "start_time": "2024-12-29T08:29:06.570Z"
   },
   {
    "duration": 80,
    "start_time": "2024-12-29T08:29:06.669Z"
   },
   {
    "duration": 404,
    "start_time": "2024-12-29T08:29:06.752Z"
   },
   {
    "duration": 1351,
    "start_time": "2024-12-29T08:29:07.157Z"
   },
   {
    "duration": 188,
    "start_time": "2024-12-29T08:29:08.510Z"
   },
   {
    "duration": 9,
    "start_time": "2024-12-29T08:29:08.700Z"
   },
   {
    "duration": 110,
    "start_time": "2024-12-29T08:29:08.711Z"
   },
   {
    "duration": 51,
    "start_time": "2024-12-29T08:29:08.823Z"
   },
   {
    "duration": 26,
    "start_time": "2024-12-29T08:29:08.876Z"
   },
   {
    "duration": 44,
    "start_time": "2024-12-29T08:29:08.904Z"
   },
   {
    "duration": 11,
    "start_time": "2024-12-29T08:29:08.950Z"
   },
   {
    "duration": 336,
    "start_time": "2024-12-29T08:29:08.963Z"
   },
   {
    "duration": 3,
    "start_time": "2024-12-29T08:29:09.301Z"
   },
   {
    "duration": 94,
    "start_time": "2024-12-29T08:29:09.305Z"
   },
   {
    "duration": 95,
    "start_time": "2024-12-29T08:29:09.401Z"
   },
   {
    "duration": 149,
    "start_time": "2024-12-29T08:29:09.498Z"
   },
   {
    "duration": 222,
    "start_time": "2024-12-29T08:29:09.649Z"
   },
   {
    "duration": 35,
    "start_time": "2024-12-29T08:29:09.872Z"
   },
   {
    "duration": 3478,
    "start_time": "2024-12-29T08:29:09.909Z"
   },
   {
    "duration": 6,
    "start_time": "2024-12-29T08:29:13.388Z"
   },
   {
    "duration": 35,
    "start_time": "2024-12-29T08:29:13.398Z"
   },
   {
    "duration": 24,
    "start_time": "2024-12-29T08:29:13.435Z"
   },
   {
    "duration": 161,
    "start_time": "2024-12-29T08:29:13.461Z"
   },
   {
    "duration": 38,
    "start_time": "2024-12-29T08:29:13.624Z"
   },
   {
    "duration": 94,
    "start_time": "2024-12-29T08:29:13.664Z"
   },
   {
    "duration": 40,
    "start_time": "2024-12-29T08:29:13.760Z"
   },
   {
    "duration": 5,
    "start_time": "2024-12-29T08:29:13.802Z"
   },
   {
    "duration": 21,
    "start_time": "2024-12-29T08:29:13.809Z"
   },
   {
    "duration": 121,
    "start_time": "2024-12-29T08:29:13.831Z"
   },
   {
    "duration": 378,
    "start_time": "2024-12-29T08:29:13.954Z"
   },
   {
    "duration": 71,
    "start_time": "2024-12-29T08:29:14.334Z"
   },
   {
    "duration": 94,
    "start_time": "2024-12-29T08:29:14.407Z"
   },
   {
    "duration": 32,
    "start_time": "2024-12-29T08:29:14.502Z"
   },
   {
    "duration": 62,
    "start_time": "2024-12-29T08:29:14.535Z"
   },
   {
    "duration": 22,
    "start_time": "2024-12-29T08:29:14.599Z"
   },
   {
    "duration": 28,
    "start_time": "2024-12-29T08:29:14.623Z"
   },
   {
    "duration": 883,
    "start_time": "2024-12-29T08:29:14.653Z"
   },
   {
    "duration": 10,
    "start_time": "2024-12-29T08:29:15.538Z"
   },
   {
    "duration": 117,
    "start_time": "2024-12-29T08:29:15.550Z"
   },
   {
    "duration": 453,
    "start_time": "2024-12-29T08:29:15.668Z"
   },
   {
    "duration": 16,
    "start_time": "2024-12-29T08:29:16.123Z"
   },
   {
    "duration": 19,
    "start_time": "2024-12-29T08:29:16.140Z"
   },
   {
    "duration": 15,
    "start_time": "2024-12-29T08:29:16.160Z"
   },
   {
    "duration": 26,
    "start_time": "2024-12-29T08:29:16.176Z"
   },
   {
    "duration": 14,
    "start_time": "2024-12-29T08:29:16.203Z"
   },
   {
    "duration": 101,
    "start_time": "2024-12-29T08:29:16.219Z"
   },
   {
    "duration": 0,
    "start_time": "2024-12-29T08:29:16.322Z"
   },
   {
    "duration": 0,
    "start_time": "2024-12-29T08:29:16.330Z"
   },
   {
    "duration": 0,
    "start_time": "2024-12-29T08:29:16.331Z"
   },
   {
    "duration": 0,
    "start_time": "2024-12-29T08:29:16.332Z"
   },
   {
    "duration": 5,
    "start_time": "2024-12-29T08:29:48.003Z"
   },
   {
    "duration": 5,
    "start_time": "2024-12-29T08:30:00.204Z"
   },
   {
    "duration": 5,
    "start_time": "2024-12-29T08:30:46.923Z"
   },
   {
    "duration": 7,
    "start_time": "2024-12-29T08:31:01.963Z"
   },
   {
    "duration": 7,
    "start_time": "2024-12-29T08:31:39.229Z"
   },
   {
    "duration": 7,
    "start_time": "2024-12-29T08:31:50.063Z"
   },
   {
    "duration": 7,
    "start_time": "2024-12-29T08:32:21.704Z"
   },
   {
    "duration": 7,
    "start_time": "2024-12-29T08:33:02.478Z"
   },
   {
    "duration": 6,
    "start_time": "2024-12-29T08:33:27.834Z"
   },
   {
    "duration": 8,
    "start_time": "2024-12-29T08:34:07.444Z"
   },
   {
    "duration": 6,
    "start_time": "2024-12-29T08:35:31.046Z"
   },
   {
    "duration": 6,
    "start_time": "2024-12-29T08:35:48.981Z"
   },
   {
    "duration": 5,
    "start_time": "2024-12-29T08:36:00.788Z"
   },
   {
    "duration": 91,
    "start_time": "2024-12-29T08:41:25.155Z"
   },
   {
    "duration": 2469,
    "start_time": "2024-12-29T08:41:37.828Z"
   },
   {
    "duration": 1286,
    "start_time": "2024-12-29T08:41:40.300Z"
   },
   {
    "duration": 2302,
    "start_time": "2024-12-29T08:41:41.587Z"
   },
   {
    "duration": 3,
    "start_time": "2024-12-29T08:41:43.891Z"
   },
   {
    "duration": 14,
    "start_time": "2024-12-29T08:41:43.896Z"
   },
   {
    "duration": 4,
    "start_time": "2024-12-29T08:41:43.929Z"
   },
   {
    "duration": 109,
    "start_time": "2024-12-29T08:41:43.935Z"
   },
   {
    "duration": 165,
    "start_time": "2024-12-29T08:41:44.045Z"
   },
   {
    "duration": 28,
    "start_time": "2024-12-29T08:41:44.212Z"
   },
   {
    "duration": 240,
    "start_time": "2024-12-29T08:41:44.243Z"
   },
   {
    "duration": 1005,
    "start_time": "2024-12-29T08:41:44.485Z"
   },
   {
    "duration": 181,
    "start_time": "2024-12-29T08:41:45.492Z"
   },
   {
    "duration": 9,
    "start_time": "2024-12-29T08:41:45.675Z"
   },
   {
    "duration": 111,
    "start_time": "2024-12-29T08:41:45.686Z"
   },
   {
    "duration": 55,
    "start_time": "2024-12-29T08:41:45.798Z"
   },
   {
    "duration": 24,
    "start_time": "2024-12-29T08:41:45.855Z"
   },
   {
    "duration": 26,
    "start_time": "2024-12-29T08:41:45.881Z"
   },
   {
    "duration": 30,
    "start_time": "2024-12-29T08:41:45.909Z"
   },
   {
    "duration": 426,
    "start_time": "2024-12-29T08:41:45.941Z"
   },
   {
    "duration": 3,
    "start_time": "2024-12-29T08:41:46.368Z"
   },
   {
    "duration": 99,
    "start_time": "2024-12-29T08:41:46.373Z"
   },
   {
    "duration": 93,
    "start_time": "2024-12-29T08:41:46.473Z"
   },
   {
    "duration": 146,
    "start_time": "2024-12-29T08:41:46.568Z"
   },
   {
    "duration": 229,
    "start_time": "2024-12-29T08:41:46.715Z"
   },
   {
    "duration": 36,
    "start_time": "2024-12-29T08:41:46.945Z"
   },
   {
    "duration": 3361,
    "start_time": "2024-12-29T08:41:46.982Z"
   },
   {
    "duration": 6,
    "start_time": "2024-12-29T08:41:50.344Z"
   },
   {
    "duration": 25,
    "start_time": "2024-12-29T08:41:50.354Z"
   },
   {
    "duration": 21,
    "start_time": "2024-12-29T08:41:50.381Z"
   },
   {
    "duration": 168,
    "start_time": "2024-12-29T08:41:50.404Z"
   },
   {
    "duration": 41,
    "start_time": "2024-12-29T08:41:50.573Z"
   },
   {
    "duration": 95,
    "start_time": "2024-12-29T08:41:50.615Z"
   },
   {
    "duration": 54,
    "start_time": "2024-12-29T08:41:50.712Z"
   },
   {
    "duration": 15,
    "start_time": "2024-12-29T08:41:50.768Z"
   },
   {
    "duration": 18,
    "start_time": "2024-12-29T08:41:50.784Z"
   },
   {
    "duration": 126,
    "start_time": "2024-12-29T08:41:50.804Z"
   },
   {
    "duration": 376,
    "start_time": "2024-12-29T08:41:50.932Z"
   },
   {
    "duration": 95,
    "start_time": "2024-12-29T08:41:51.309Z"
   },
   {
    "duration": 89,
    "start_time": "2024-12-29T08:41:51.406Z"
   },
   {
    "duration": 33,
    "start_time": "2024-12-29T08:41:51.496Z"
   },
   {
    "duration": 40,
    "start_time": "2024-12-29T08:41:51.531Z"
   },
   {
    "duration": 5,
    "start_time": "2024-12-29T08:41:51.572Z"
   },
   {
    "duration": 99,
    "start_time": "2024-12-29T08:41:51.579Z"
   },
   {
    "duration": 876,
    "start_time": "2024-12-29T08:41:51.680Z"
   },
   {
    "duration": 12,
    "start_time": "2024-12-29T08:41:52.557Z"
   },
   {
    "duration": 10,
    "start_time": "2024-12-29T08:41:52.570Z"
   },
   {
    "duration": 529,
    "start_time": "2024-12-29T08:41:52.582Z"
   },
   {
    "duration": 19,
    "start_time": "2024-12-29T08:41:53.112Z"
   },
   {
    "duration": 84,
    "start_time": "2024-12-29T08:41:53.133Z"
   },
   {
    "duration": 8,
    "start_time": "2024-12-29T08:41:53.218Z"
   },
   {
    "duration": 11,
    "start_time": "2024-12-29T08:41:53.228Z"
   },
   {
    "duration": 7,
    "start_time": "2024-12-29T08:41:53.241Z"
   },
   {
    "duration": 23,
    "start_time": "2024-12-29T08:41:53.249Z"
   },
   {
    "duration": 12,
    "start_time": "2024-12-29T08:41:53.274Z"
   },
   {
    "duration": 12,
    "start_time": "2024-12-29T08:41:53.288Z"
   },
   {
    "duration": 288,
    "start_time": "2024-12-29T08:41:53.302Z"
   },
   {
    "duration": 2454,
    "start_time": "2024-12-29T08:48:22.610Z"
   },
   {
    "duration": 1219,
    "start_time": "2024-12-29T08:48:25.066Z"
   },
   {
    "duration": 2146,
    "start_time": "2024-12-29T08:48:26.287Z"
   },
   {
    "duration": 3,
    "start_time": "2024-12-29T08:48:28.435Z"
   },
   {
    "duration": 26,
    "start_time": "2024-12-29T08:48:28.440Z"
   },
   {
    "duration": 5,
    "start_time": "2024-12-29T08:48:28.467Z"
   },
   {
    "duration": 10,
    "start_time": "2024-12-29T08:48:28.474Z"
   },
   {
    "duration": 57,
    "start_time": "2024-12-29T08:48:28.485Z"
   },
   {
    "duration": 28,
    "start_time": "2024-12-29T08:48:28.544Z"
   },
   {
    "duration": 255,
    "start_time": "2024-12-29T08:48:28.575Z"
   },
   {
    "duration": 934,
    "start_time": "2024-12-29T08:48:28.832Z"
   },
   {
    "duration": 179,
    "start_time": "2024-12-29T08:48:29.768Z"
   },
   {
    "duration": 9,
    "start_time": "2024-12-29T08:48:29.948Z"
   },
   {
    "duration": 109,
    "start_time": "2024-12-29T08:48:29.959Z"
   },
   {
    "duration": 60,
    "start_time": "2024-12-29T08:48:30.070Z"
   },
   {
    "duration": 125,
    "start_time": "2024-12-29T08:48:30.132Z"
   },
   {
    "duration": 28,
    "start_time": "2024-12-29T08:48:30.259Z"
   },
   {
    "duration": 11,
    "start_time": "2024-12-29T08:48:30.289Z"
   },
   {
    "duration": 350,
    "start_time": "2024-12-29T08:48:30.302Z"
   },
   {
    "duration": 4,
    "start_time": "2024-12-29T08:48:30.654Z"
   },
   {
    "duration": 105,
    "start_time": "2024-12-29T08:48:30.659Z"
   },
   {
    "duration": 85,
    "start_time": "2024-12-29T08:48:30.765Z"
   },
   {
    "duration": 153,
    "start_time": "2024-12-29T08:48:30.851Z"
   },
   {
    "duration": 232,
    "start_time": "2024-12-29T08:48:31.005Z"
   },
   {
    "duration": 34,
    "start_time": "2024-12-29T08:48:31.238Z"
   },
   {
    "duration": 3497,
    "start_time": "2024-12-29T08:48:31.274Z"
   },
   {
    "duration": 58,
    "start_time": "2024-12-29T08:48:34.773Z"
   },
   {
    "duration": 24,
    "start_time": "2024-12-29T08:48:34.835Z"
   },
   {
    "duration": 25,
    "start_time": "2024-12-29T08:48:34.861Z"
   },
   {
    "duration": 164,
    "start_time": "2024-12-29T08:48:34.887Z"
   },
   {
    "duration": 40,
    "start_time": "2024-12-29T08:48:35.052Z"
   },
   {
    "duration": 162,
    "start_time": "2024-12-29T08:48:35.094Z"
   },
   {
    "duration": 41,
    "start_time": "2024-12-29T08:48:35.258Z"
   },
   {
    "duration": 49,
    "start_time": "2024-12-29T08:48:35.300Z"
   },
   {
    "duration": 46,
    "start_time": "2024-12-29T08:48:35.351Z"
   },
   {
    "duration": 138,
    "start_time": "2024-12-29T08:48:35.399Z"
   },
   {
    "duration": 375,
    "start_time": "2024-12-29T08:48:35.539Z"
   },
   {
    "duration": 100,
    "start_time": "2024-12-29T08:48:35.915Z"
   },
   {
    "duration": 113,
    "start_time": "2024-12-29T08:48:36.018Z"
   },
   {
    "duration": 90,
    "start_time": "2024-12-29T08:48:36.132Z"
   },
   {
    "duration": 50,
    "start_time": "2024-12-29T08:48:36.223Z"
   },
   {
    "duration": 4,
    "start_time": "2024-12-29T08:48:36.274Z"
   },
   {
    "duration": 11,
    "start_time": "2024-12-29T08:48:36.280Z"
   },
   {
    "duration": 852,
    "start_time": "2024-12-29T08:48:36.293Z"
   },
   {
    "duration": 11,
    "start_time": "2024-12-29T08:48:37.147Z"
   },
   {
    "duration": 79,
    "start_time": "2024-12-29T08:48:37.160Z"
   },
   {
    "duration": 454,
    "start_time": "2024-12-29T08:48:37.240Z"
   },
   {
    "duration": 12,
    "start_time": "2024-12-29T08:48:37.696Z"
   },
   {
    "duration": 74,
    "start_time": "2024-12-29T08:48:37.709Z"
   },
   {
    "duration": 6,
    "start_time": "2024-12-29T08:48:37.785Z"
   },
   {
    "duration": 8,
    "start_time": "2024-12-29T08:48:37.793Z"
   },
   {
    "duration": 13,
    "start_time": "2024-12-29T08:48:37.803Z"
   },
   {
    "duration": 109,
    "start_time": "2024-12-29T08:48:37.817Z"
   },
   {
    "duration": 0,
    "start_time": "2024-12-29T08:48:37.927Z"
   },
   {
    "duration": 0,
    "start_time": "2024-12-29T08:48:37.929Z"
   },
   {
    "duration": 0,
    "start_time": "2024-12-29T08:48:37.930Z"
   },
   {
    "duration": 23,
    "start_time": "2024-12-29T08:49:39.074Z"
   },
   {
    "duration": 26,
    "start_time": "2024-12-29T08:49:53.522Z"
   },
   {
    "duration": 18,
    "start_time": "2024-12-29T08:50:47.933Z"
   },
   {
    "duration": 4,
    "start_time": "2024-12-29T08:51:05.473Z"
   },
   {
    "duration": 9,
    "start_time": "2024-12-29T08:51:48.030Z"
   },
   {
    "duration": 11,
    "start_time": "2024-12-29T08:52:01.408Z"
   },
   {
    "duration": 10,
    "start_time": "2024-12-29T08:52:24.034Z"
   },
   {
    "duration": 8,
    "start_time": "2024-12-29T08:52:57.040Z"
   },
   {
    "duration": 11,
    "start_time": "2024-12-29T08:53:04.027Z"
   },
   {
    "duration": 16,
    "start_time": "2024-12-29T08:55:12.665Z"
   },
   {
    "duration": 14,
    "start_time": "2024-12-29T08:55:37.477Z"
   },
   {
    "duration": 17,
    "start_time": "2024-12-29T08:57:53.267Z"
   },
   {
    "duration": 16,
    "start_time": "2024-12-29T08:58:09.928Z"
   },
   {
    "duration": 16,
    "start_time": "2024-12-29T08:58:19.467Z"
   },
   {
    "duration": 17,
    "start_time": "2024-12-29T08:58:33.347Z"
   },
   {
    "duration": 10,
    "start_time": "2024-12-29T08:59:17.426Z"
   },
   {
    "duration": 22,
    "start_time": "2024-12-29T09:02:44.555Z"
   },
   {
    "duration": 16,
    "start_time": "2024-12-29T09:02:56.495Z"
   },
   {
    "duration": 4,
    "start_time": "2024-12-29T09:07:19.733Z"
   },
   {
    "duration": 10,
    "start_time": "2024-12-29T09:07:26.690Z"
   },
   {
    "duration": 5,
    "start_time": "2024-12-29T09:07:50.730Z"
   },
   {
    "duration": 10,
    "start_time": "2024-12-29T09:08:00.424Z"
   },
   {
    "duration": 11,
    "start_time": "2024-12-29T09:09:05.410Z"
   },
   {
    "duration": 540,
    "start_time": "2024-12-29T09:09:25.376Z"
   },
   {
    "duration": 396,
    "start_time": "2024-12-29T09:09:40.367Z"
   },
   {
    "duration": 370,
    "start_time": "2024-12-29T09:09:53.091Z"
   },
   {
    "duration": 426,
    "start_time": "2024-12-29T09:10:05.689Z"
   },
   {
    "duration": 453,
    "start_time": "2024-12-29T09:11:39.650Z"
   },
   {
    "duration": 164,
    "start_time": "2024-12-29T09:12:01.737Z"
   },
   {
    "duration": 401,
    "start_time": "2024-12-29T09:12:18.917Z"
   },
   {
    "duration": 3052,
    "start_time": "2024-12-29T09:16:37.204Z"
   },
   {
    "duration": 420,
    "start_time": "2024-12-29T09:16:53.389Z"
   },
   {
    "duration": 426,
    "start_time": "2024-12-29T09:18:19.414Z"
   },
   {
    "duration": 408,
    "start_time": "2024-12-29T09:18:32.942Z"
   },
   {
    "duration": 481,
    "start_time": "2024-12-29T09:18:44.252Z"
   },
   {
    "duration": 591,
    "start_time": "2024-12-29T09:19:44.519Z"
   },
   {
    "duration": 461,
    "start_time": "2024-12-29T09:20:36.990Z"
   },
   {
    "duration": 482,
    "start_time": "2024-12-29T09:20:49.353Z"
   },
   {
    "duration": 447,
    "start_time": "2024-12-29T09:21:00.386Z"
   },
   {
    "duration": 439,
    "start_time": "2024-12-29T09:21:10.468Z"
   },
   {
    "duration": 457,
    "start_time": "2024-12-29T09:21:24.462Z"
   },
   {
    "duration": 446,
    "start_time": "2024-12-29T09:22:50.180Z"
   },
   {
    "duration": 87,
    "start_time": "2024-12-29T09:37:00.852Z"
   },
   {
    "duration": 2467,
    "start_time": "2024-12-29T09:56:11.859Z"
   },
   {
    "duration": 1276,
    "start_time": "2024-12-29T09:56:14.328Z"
   },
   {
    "duration": 2802,
    "start_time": "2024-12-29T09:56:15.606Z"
   },
   {
    "duration": 3,
    "start_time": "2024-12-29T09:56:18.410Z"
   },
   {
    "duration": 151,
    "start_time": "2024-12-29T09:56:18.415Z"
   },
   {
    "duration": 3,
    "start_time": "2024-12-29T09:56:18.568Z"
   },
   {
    "duration": 22,
    "start_time": "2024-12-29T09:56:18.573Z"
   },
   {
    "duration": 35,
    "start_time": "2024-12-29T09:56:18.597Z"
   },
   {
    "duration": 29,
    "start_time": "2024-12-29T09:56:18.633Z"
   },
   {
    "duration": 240,
    "start_time": "2024-12-29T09:56:18.663Z"
   },
   {
    "duration": 983,
    "start_time": "2024-12-29T09:56:18.905Z"
   },
   {
    "duration": 180,
    "start_time": "2024-12-29T09:56:19.890Z"
   },
   {
    "duration": 8,
    "start_time": "2024-12-29T09:56:20.072Z"
   },
   {
    "duration": 123,
    "start_time": "2024-12-29T09:56:20.083Z"
   },
   {
    "duration": 55,
    "start_time": "2024-12-29T09:56:20.207Z"
   },
   {
    "duration": 25,
    "start_time": "2024-12-29T09:56:20.264Z"
   },
   {
    "duration": 40,
    "start_time": "2024-12-29T09:56:20.291Z"
   },
   {
    "duration": 10,
    "start_time": "2024-12-29T09:56:20.333Z"
   },
   {
    "duration": 303,
    "start_time": "2024-12-29T09:56:20.345Z"
   },
   {
    "duration": 2,
    "start_time": "2024-12-29T09:56:20.650Z"
   },
   {
    "duration": 111,
    "start_time": "2024-12-29T09:56:20.654Z"
   },
   {
    "duration": 94,
    "start_time": "2024-12-29T09:56:20.767Z"
   },
   {
    "duration": 156,
    "start_time": "2024-12-29T09:56:20.863Z"
   },
   {
    "duration": 234,
    "start_time": "2024-12-29T09:56:21.021Z"
   },
   {
    "duration": 34,
    "start_time": "2024-12-29T09:56:21.256Z"
   },
   {
    "duration": 3438,
    "start_time": "2024-12-29T09:56:21.292Z"
   },
   {
    "duration": 5,
    "start_time": "2024-12-29T09:56:24.732Z"
   },
   {
    "duration": 28,
    "start_time": "2024-12-29T09:56:24.739Z"
   },
   {
    "duration": 21,
    "start_time": "2024-12-29T09:56:24.769Z"
   },
   {
    "duration": 165,
    "start_time": "2024-12-29T09:56:24.792Z"
   },
   {
    "duration": 42,
    "start_time": "2024-12-29T09:56:24.959Z"
   },
   {
    "duration": 99,
    "start_time": "2024-12-29T09:56:25.003Z"
   },
   {
    "duration": 51,
    "start_time": "2024-12-29T09:56:25.104Z"
   },
   {
    "duration": 4,
    "start_time": "2024-12-29T09:56:25.157Z"
   },
   {
    "duration": 8,
    "start_time": "2024-12-29T09:56:25.163Z"
   },
   {
    "duration": 123,
    "start_time": "2024-12-29T09:56:25.172Z"
   },
   {
    "duration": 381,
    "start_time": "2024-12-29T09:56:25.297Z"
   },
   {
    "duration": 95,
    "start_time": "2024-12-29T09:56:25.680Z"
   },
   {
    "duration": 88,
    "start_time": "2024-12-29T09:56:25.776Z"
   },
   {
    "duration": 15,
    "start_time": "2024-12-29T09:56:25.865Z"
   },
   {
    "duration": 126,
    "start_time": "2024-12-29T09:56:25.884Z"
   },
   {
    "duration": 8,
    "start_time": "2024-12-29T09:56:26.013Z"
   },
   {
    "duration": 44,
    "start_time": "2024-12-29T09:56:26.024Z"
   },
   {
    "duration": 875,
    "start_time": "2024-12-29T09:56:26.070Z"
   },
   {
    "duration": 12,
    "start_time": "2024-12-29T09:56:26.946Z"
   },
   {
    "duration": 10,
    "start_time": "2024-12-29T09:56:26.960Z"
   },
   {
    "duration": 508,
    "start_time": "2024-12-29T09:56:26.972Z"
   },
   {
    "duration": 12,
    "start_time": "2024-12-29T09:56:27.481Z"
   },
   {
    "duration": 88,
    "start_time": "2024-12-29T09:56:27.495Z"
   },
   {
    "duration": 9,
    "start_time": "2024-12-29T09:56:27.585Z"
   },
   {
    "duration": 6,
    "start_time": "2024-12-29T09:56:27.595Z"
   },
   {
    "duration": 6,
    "start_time": "2024-12-29T09:56:27.602Z"
   },
   {
    "duration": 15,
    "start_time": "2024-12-29T09:56:27.610Z"
   },
   {
    "duration": 16,
    "start_time": "2024-12-29T09:56:27.627Z"
   },
   {
    "duration": 10,
    "start_time": "2024-12-29T09:56:27.645Z"
   },
   {
    "duration": 20,
    "start_time": "2024-12-29T09:56:27.657Z"
   },
   {
    "duration": 529,
    "start_time": "2024-12-29T09:56:27.678Z"
   },
   {
    "duration": 114,
    "start_time": "2024-12-29T09:56:28.208Z"
   },
   {
    "duration": 0,
    "start_time": "2024-12-29T09:56:28.324Z"
   },
   {
    "duration": 0,
    "start_time": "2024-12-29T09:56:28.330Z"
   },
   {
    "duration": 12,
    "start_time": "2024-12-29T09:57:04.750Z"
   },
   {
    "duration": 27,
    "start_time": "2024-12-29T10:02:11.261Z"
   },
   {
    "duration": 1403,
    "start_time": "2024-12-29T10:03:36.381Z"
   },
   {
    "duration": 9,
    "start_time": "2024-12-29T10:03:47.791Z"
   },
   {
    "duration": 13,
    "start_time": "2024-12-29T10:03:57.498Z"
   },
   {
    "duration": 23,
    "start_time": "2024-12-29T10:05:42.137Z"
   },
   {
    "duration": 24,
    "start_time": "2024-12-29T10:06:21.271Z"
   },
   {
    "duration": 19,
    "start_time": "2024-12-29T10:06:30.154Z"
   },
   {
    "duration": 13,
    "start_time": "2024-12-29T10:06:38.827Z"
   },
   {
    "duration": 10,
    "start_time": "2024-12-29T10:07:21.391Z"
   },
   {
    "duration": 24,
    "start_time": "2024-12-29T10:07:35.523Z"
   },
   {
    "duration": 24,
    "start_time": "2024-12-29T10:07:50.669Z"
   },
   {
    "duration": 13,
    "start_time": "2024-12-29T10:08:00.458Z"
   },
   {
    "duration": 10,
    "start_time": "2024-12-29T10:08:33.958Z"
   },
   {
    "duration": 19,
    "start_time": "2024-12-29T10:08:35.363Z"
   },
   {
    "duration": 9,
    "start_time": "2024-12-29T10:09:12.866Z"
   },
   {
    "duration": 14,
    "start_time": "2024-12-29T10:09:21.910Z"
   },
   {
    "duration": 13,
    "start_time": "2024-12-29T10:11:28.489Z"
   },
   {
    "duration": 12,
    "start_time": "2024-12-29T10:11:56.098Z"
   },
   {
    "duration": 10,
    "start_time": "2024-12-29T10:12:15.881Z"
   },
   {
    "duration": 279,
    "start_time": "2024-12-29T10:13:33.288Z"
   },
   {
    "duration": 12,
    "start_time": "2024-12-29T10:14:25.392Z"
   },
   {
    "duration": 12,
    "start_time": "2024-12-29T10:14:36.730Z"
   },
   {
    "duration": 222,
    "start_time": "2024-12-29T10:14:41.063Z"
   },
   {
    "duration": 13,
    "start_time": "2024-12-29T10:16:08.382Z"
   },
   {
    "duration": 12,
    "start_time": "2024-12-29T10:16:21.925Z"
   },
   {
    "duration": 271,
    "start_time": "2024-12-29T10:16:22.632Z"
   },
   {
    "duration": 12,
    "start_time": "2024-12-29T10:16:41.575Z"
   },
   {
    "duration": 272,
    "start_time": "2024-12-29T10:16:50.602Z"
   },
   {
    "duration": 17,
    "start_time": "2024-12-29T10:19:49.473Z"
   },
   {
    "duration": 12,
    "start_time": "2024-12-29T10:19:57.570Z"
   },
   {
    "duration": 13,
    "start_time": "2024-12-29T10:21:25.542Z"
   },
   {
    "duration": 250,
    "start_time": "2024-12-29T10:21:30.344Z"
   },
   {
    "duration": 2406,
    "start_time": "2024-12-29T10:29:38.667Z"
   },
   {
    "duration": 1273,
    "start_time": "2024-12-29T10:29:41.075Z"
   },
   {
    "duration": 2286,
    "start_time": "2024-12-29T10:29:42.350Z"
   },
   {
    "duration": 3,
    "start_time": "2024-12-29T10:29:44.638Z"
   },
   {
    "duration": 73,
    "start_time": "2024-12-29T10:29:44.642Z"
   },
   {
    "duration": 4,
    "start_time": "2024-12-29T10:29:44.716Z"
   },
   {
    "duration": 12,
    "start_time": "2024-12-29T10:29:44.721Z"
   },
   {
    "duration": 48,
    "start_time": "2024-12-29T10:29:44.735Z"
   },
   {
    "duration": 27,
    "start_time": "2024-12-29T10:29:44.785Z"
   },
   {
    "duration": 253,
    "start_time": "2024-12-29T10:29:44.829Z"
   },
   {
    "duration": 997,
    "start_time": "2024-12-29T10:29:45.084Z"
   },
   {
    "duration": 188,
    "start_time": "2024-12-29T10:29:46.083Z"
   },
   {
    "duration": 9,
    "start_time": "2024-12-29T10:29:46.272Z"
   },
   {
    "duration": 107,
    "start_time": "2024-12-29T10:29:46.282Z"
   },
   {
    "duration": 49,
    "start_time": "2024-12-29T10:29:46.391Z"
   },
   {
    "duration": 26,
    "start_time": "2024-12-29T10:29:46.442Z"
   },
   {
    "duration": 159,
    "start_time": "2024-12-29T10:29:46.469Z"
   },
   {
    "duration": 82,
    "start_time": "2024-12-29T10:29:46.630Z"
   },
   {
    "duration": 324,
    "start_time": "2024-12-29T10:29:46.713Z"
   },
   {
    "duration": 4,
    "start_time": "2024-12-29T10:29:47.038Z"
   },
   {
    "duration": 107,
    "start_time": "2024-12-29T10:29:47.043Z"
   },
   {
    "duration": 107,
    "start_time": "2024-12-29T10:29:47.152Z"
   },
   {
    "duration": 156,
    "start_time": "2024-12-29T10:29:47.261Z"
   },
   {
    "duration": 234,
    "start_time": "2024-12-29T10:29:47.419Z"
   },
   {
    "duration": 32,
    "start_time": "2024-12-29T10:29:47.655Z"
   },
   {
    "duration": 3429,
    "start_time": "2024-12-29T10:29:47.689Z"
   },
   {
    "duration": 14,
    "start_time": "2024-12-29T10:29:51.120Z"
   },
   {
    "duration": 40,
    "start_time": "2024-12-29T10:29:51.138Z"
   },
   {
    "duration": 21,
    "start_time": "2024-12-29T10:29:51.179Z"
   },
   {
    "duration": 147,
    "start_time": "2024-12-29T10:29:51.202Z"
   },
   {
    "duration": 43,
    "start_time": "2024-12-29T10:29:51.350Z"
   },
   {
    "duration": 159,
    "start_time": "2024-12-29T10:29:51.394Z"
   },
   {
    "duration": 43,
    "start_time": "2024-12-29T10:29:51.555Z"
   },
   {
    "duration": 5,
    "start_time": "2024-12-29T10:29:51.600Z"
   },
   {
    "duration": 133,
    "start_time": "2024-12-29T10:29:51.607Z"
   },
   {
    "duration": 121,
    "start_time": "2024-12-29T10:29:51.742Z"
   },
   {
    "duration": 417,
    "start_time": "2024-12-29T10:29:51.865Z"
   },
   {
    "duration": 87,
    "start_time": "2024-12-29T10:29:52.284Z"
   },
   {
    "duration": 86,
    "start_time": "2024-12-29T10:29:52.373Z"
   },
   {
    "duration": 15,
    "start_time": "2024-12-29T10:29:52.460Z"
   },
   {
    "duration": 62,
    "start_time": "2024-12-29T10:29:52.477Z"
   },
   {
    "duration": 84,
    "start_time": "2024-12-29T10:29:52.541Z"
   },
   {
    "duration": 102,
    "start_time": "2024-12-29T10:29:52.627Z"
   },
   {
    "duration": 835,
    "start_time": "2024-12-29T10:29:52.731Z"
   },
   {
    "duration": 10,
    "start_time": "2024-12-29T10:29:53.568Z"
   },
   {
    "duration": 36,
    "start_time": "2024-12-29T10:29:53.579Z"
   },
   {
    "duration": 468,
    "start_time": "2024-12-29T10:29:53.616Z"
   },
   {
    "duration": 12,
    "start_time": "2024-12-29T10:29:54.086Z"
   },
   {
    "duration": 16,
    "start_time": "2024-12-29T10:29:54.100Z"
   },
   {
    "duration": 6,
    "start_time": "2024-12-29T10:29:54.131Z"
   },
   {
    "duration": 6,
    "start_time": "2024-12-29T10:29:54.139Z"
   },
   {
    "duration": 9,
    "start_time": "2024-12-29T10:29:54.146Z"
   },
   {
    "duration": 17,
    "start_time": "2024-12-29T10:29:54.157Z"
   },
   {
    "duration": 16,
    "start_time": "2024-12-29T10:29:54.176Z"
   },
   {
    "duration": 46,
    "start_time": "2024-12-29T10:29:54.193Z"
   },
   {
    "duration": 22,
    "start_time": "2024-12-29T10:29:54.240Z"
   },
   {
    "duration": 546,
    "start_time": "2024-12-29T10:29:54.263Z"
   },
   {
    "duration": 21,
    "start_time": "2024-12-29T10:29:54.810Z"
   },
   {
    "duration": 11,
    "start_time": "2024-12-29T10:29:54.833Z"
   },
   {
    "duration": 13,
    "start_time": "2024-12-29T10:29:54.845Z"
   },
   {
    "duration": 124,
    "start_time": "2024-12-29T10:29:54.860Z"
   },
   {
    "duration": 0,
    "start_time": "2024-12-29T10:29:54.985Z"
   },
   {
    "duration": 75,
    "start_time": "2024-12-29T10:30:20.512Z"
   },
   {
    "duration": 2480,
    "start_time": "2024-12-29T13:11:39.124Z"
   },
   {
    "duration": 1842,
    "start_time": "2024-12-29T13:11:41.606Z"
   },
   {
    "duration": 2161,
    "start_time": "2024-12-29T13:11:43.449Z"
   },
   {
    "duration": 3,
    "start_time": "2024-12-29T13:11:45.612Z"
   },
   {
    "duration": 19,
    "start_time": "2024-12-29T13:11:45.617Z"
   },
   {
    "duration": 3,
    "start_time": "2024-12-29T13:11:45.638Z"
   },
   {
    "duration": 13,
    "start_time": "2024-12-29T13:11:45.642Z"
   },
   {
    "duration": 57,
    "start_time": "2024-12-29T13:11:45.656Z"
   },
   {
    "duration": 28,
    "start_time": "2024-12-29T13:11:45.730Z"
   },
   {
    "duration": 232,
    "start_time": "2024-12-29T13:11:45.759Z"
   },
   {
    "duration": 981,
    "start_time": "2024-12-29T13:11:45.993Z"
   },
   {
    "duration": 189,
    "start_time": "2024-12-29T13:11:46.975Z"
   },
   {
    "duration": 10,
    "start_time": "2024-12-29T13:11:47.166Z"
   },
   {
    "duration": 111,
    "start_time": "2024-12-29T13:11:47.179Z"
   },
   {
    "duration": 54,
    "start_time": "2024-12-29T13:11:47.292Z"
   },
   {
    "duration": 101,
    "start_time": "2024-12-29T13:11:47.348Z"
   },
   {
    "duration": 25,
    "start_time": "2024-12-29T13:11:47.451Z"
   },
   {
    "duration": 9,
    "start_time": "2024-12-29T13:11:47.478Z"
   },
   {
    "duration": 324,
    "start_time": "2024-12-29T13:11:47.488Z"
   },
   {
    "duration": 17,
    "start_time": "2024-12-29T13:11:47.814Z"
   },
   {
    "duration": 97,
    "start_time": "2024-12-29T13:11:47.833Z"
   },
   {
    "duration": 81,
    "start_time": "2024-12-29T13:11:47.932Z"
   },
   {
    "duration": 151,
    "start_time": "2024-12-29T13:11:48.015Z"
   },
   {
    "duration": 227,
    "start_time": "2024-12-29T13:11:48.168Z"
   },
   {
    "duration": 42,
    "start_time": "2024-12-29T13:11:48.398Z"
   },
   {
    "duration": 3519,
    "start_time": "2024-12-29T13:11:48.441Z"
   },
   {
    "duration": 6,
    "start_time": "2024-12-29T13:11:51.964Z"
   },
   {
    "duration": 26,
    "start_time": "2024-12-29T13:11:51.973Z"
   },
   {
    "duration": 40,
    "start_time": "2024-12-29T13:11:52.000Z"
   },
   {
    "duration": 168,
    "start_time": "2024-12-29T13:11:52.042Z"
   },
   {
    "duration": 45,
    "start_time": "2024-12-29T13:11:52.211Z"
   },
   {
    "duration": 94,
    "start_time": "2024-12-29T13:11:52.258Z"
   },
   {
    "duration": 42,
    "start_time": "2024-12-29T13:11:52.353Z"
   },
   {
    "duration": 46,
    "start_time": "2024-12-29T13:11:52.397Z"
   },
   {
    "duration": 14,
    "start_time": "2024-12-29T13:11:52.445Z"
   },
   {
    "duration": 119,
    "start_time": "2024-12-29T13:11:52.460Z"
   },
   {
    "duration": 376,
    "start_time": "2024-12-29T13:11:52.581Z"
   },
   {
    "duration": 81,
    "start_time": "2024-12-29T13:11:52.959Z"
   },
   {
    "duration": 92,
    "start_time": "2024-12-29T13:11:53.042Z"
   },
   {
    "duration": 13,
    "start_time": "2024-12-29T13:11:53.136Z"
   },
   {
    "duration": 38,
    "start_time": "2024-12-29T13:11:53.153Z"
   },
   {
    "duration": 3,
    "start_time": "2024-12-29T13:11:53.193Z"
   },
   {
    "duration": 38,
    "start_time": "2024-12-29T13:11:53.198Z"
   },
   {
    "duration": 919,
    "start_time": "2024-12-29T13:11:53.237Z"
   },
   {
    "duration": 11,
    "start_time": "2024-12-29T13:11:54.157Z"
   },
   {
    "duration": 17,
    "start_time": "2024-12-29T13:11:54.170Z"
   },
   {
    "duration": 496,
    "start_time": "2024-12-29T13:11:54.188Z"
   },
   {
    "duration": 12,
    "start_time": "2024-12-29T13:11:54.685Z"
   },
   {
    "duration": 86,
    "start_time": "2024-12-29T13:11:54.699Z"
   },
   {
    "duration": 9,
    "start_time": "2024-12-29T13:11:54.787Z"
   },
   {
    "duration": 6,
    "start_time": "2024-12-29T13:11:54.797Z"
   },
   {
    "duration": 8,
    "start_time": "2024-12-29T13:11:54.804Z"
   },
   {
    "duration": 17,
    "start_time": "2024-12-29T13:11:54.814Z"
   },
   {
    "duration": 17,
    "start_time": "2024-12-29T13:11:54.833Z"
   },
   {
    "duration": 11,
    "start_time": "2024-12-29T13:11:54.851Z"
   },
   {
    "duration": 27,
    "start_time": "2024-12-29T13:11:54.863Z"
   },
   {
    "duration": 525,
    "start_time": "2024-12-29T13:11:54.892Z"
   },
   {
    "duration": 17,
    "start_time": "2024-12-29T13:11:55.419Z"
   },
   {
    "duration": 10,
    "start_time": "2024-12-29T13:11:55.437Z"
   },
   {
    "duration": 32,
    "start_time": "2024-12-29T13:11:55.449Z"
   },
   {
    "duration": 27,
    "start_time": "2024-12-29T13:11:55.484Z"
   },
   {
    "duration": 242,
    "start_time": "2024-12-29T13:11:57.940Z"
   }
  ],
  "colab": {
   "provenance": []
  },
  "kernelspec": {
   "display_name": "Python 3 (ipykernel)",
   "language": "python",
   "name": "python3"
  },
  "language_info": {
   "codemirror_mode": {
    "name": "ipython",
    "version": 3
   },
   "file_extension": ".py",
   "mimetype": "text/x-python",
   "name": "python",
   "nbconvert_exporter": "python",
   "pygments_lexer": "ipython3",
   "version": "3.12.4"
  },
  "toc": {
   "base_numbering": 1,
   "nav_menu": {},
   "number_sections": true,
   "sideBar": true,
   "skip_h1_title": true,
   "title_cell": "Table of Contents",
   "title_sidebar": "Contents",
   "toc_cell": false,
   "toc_position": {
    "height": "calc(100% - 180px)",
    "left": "10px",
    "top": "150px",
    "width": "221.76px"
   },
   "toc_section_display": true,
   "toc_window_display": true
  }
 },
 "nbformat": 4,
 "nbformat_minor": 4
}
